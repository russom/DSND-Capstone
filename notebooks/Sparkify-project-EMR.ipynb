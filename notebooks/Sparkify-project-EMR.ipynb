{
 "cells": [
  {
   "cell_type": "markdown",
   "id": "bff80fb5",
   "metadata": {},
   "source": [
    "# Sparkify Project - EMR Mode\n",
    "\n",
    "This notebook contains code for the Capstopne project prepared for the Udacity Data Science Nanodegree.  \n",
    "The scope of the project is to use Spark to analyse data coming from a fictious music streaming service (\"Sparkify\") in order to predict when a user is going to \"churn\" i.e. cancel from the service. This prediction would allow preventive actions (like, for example, promotion offers or bespoke recommendations).\n",
    "\n",
    "In order to complete the project, the students were provided with a reduced dataset (128MB) that is used here for an analysis that can be conducted using Spark in local mode on a single machine, and with a full dataset  of ~12GB.  \n",
    "This wersion of the notebook is intended to work on the latter, being deployed on a Spark cluster on EMR.\n",
    "\n",
    "## Table of Contents\n",
    "\n",
    "1. [Load libraries ad start Spark session](#Load-Libraries)<br>\n",
    "2. [Load and Clean Dataset](#Load-and-Clean-Dataset)<br>\n",
    "3. [Exploratory Data Analysis](#Exploratory-Data-Analysis)<br>\n",
    "    3.1. [Time Spent/Number of Songs](#Time-Songs)<br>\n",
    "    3.2. [Add a Friend/Thumbs Up/Down](#Friends-Thumbs)<br>\n",
    "    3.3. [Submit an Upgrade/Downgrade request](#Upgrade-Downgrade)<br>\n",
    "    3.4. [Roll Advert](#Roll-Advert)<br>\n",
    "    3.5. [Demographics](#Demographics)<br>\n",
    "    \n"
   ]
  },
  {
   "cell_type": "markdown",
   "id": "98465665",
   "metadata": {},
   "source": [
    "## <a class=\"anchor\" id=\"Load-Libraries\">1. Load libraries</a>"
   ]
  },
  {
   "cell_type": "code",
   "execution_count": 1,
   "id": "438d691d",
   "metadata": {},
   "outputs": [
    {
     "data": {
      "application/vnd.jupyter.widget-view+json": {
       "model_id": "dcdc45219426487ca8672f5eff54354c",
       "version_major": 2,
       "version_minor": 0
      },
      "text/plain": [
       "VBox()"
      ]
     },
     "metadata": {},
     "output_type": "display_data"
    },
    {
     "name": "stdout",
     "output_type": "stream",
     "text": [
      "Starting Spark application\n"
     ]
    },
    {
     "data": {
      "text/html": [
       "<table>\n",
       "<tr><th>ID</th><th>YARN Application ID</th><th>Kind</th><th>State</th><th>Spark UI</th><th>Driver log</th><th>Current session?</th></tr><tr><td>1</td><td>application_1624545307399_0002</td><td>pyspark</td><td>idle</td><td><a target=\"_blank\" href=\"http://ip-172-31-20-60.eu-west-3.compute.internal:20888/proxy/application_1624545307399_0002/\" class=\"emr-proxy-link\" emr-resource=\"j-J6IPD22QEYY2\n",
       "\" application-id=\"application_1624545307399_0002\">Link</a></td><td><a target=\"_blank\" href=\"http://ip-172-31-28-146.eu-west-3.compute.internal:8042/node/containerlogs/container_1624545307399_0002_01_000001/livy\" >Link</a></td><td>✔</td></tr></table>"
      ],
      "text/plain": [
       "<IPython.core.display.HTML object>"
      ]
     },
     "metadata": {},
     "output_type": "display_data"
    },
    {
     "data": {
      "application/vnd.jupyter.widget-view+json": {
       "model_id": "",
       "version_major": 2,
       "version_minor": 0
      },
      "text/plain": [
       "FloatProgress(value=0.0, bar_style='info', description='Progress:', layout=Layout(height='25px', width='50%'),…"
      ]
     },
     "metadata": {},
     "output_type": "display_data"
    },
    {
     "name": "stdout",
     "output_type": "stream",
     "text": [
      "SparkSession available as 'spark'.\n"
     ]
    },
    {
     "data": {
      "application/vnd.jupyter.widget-view+json": {
       "model_id": "",
       "version_major": 2,
       "version_minor": 0
      },
      "text/plain": [
       "FloatProgress(value=0.0, bar_style='info', description='Progress:', layout=Layout(height='25px', width='50%'),…"
      ]
     },
     "metadata": {},
     "output_type": "display_data"
    }
   ],
   "source": [
    "from pyspark.sql import Window\n",
    "from pyspark.sql import functions as F\n",
    "from pyspark.sql.types import IntegerType, FloatType\n",
    "\n",
    "from pyspark.ml import Pipeline\n",
    "from pyspark.ml.classification import LogisticRegression\n",
    "from pyspark.ml.evaluation import MulticlassClassificationEvaluator\n",
    "from pyspark.ml.feature import CountVectorizer, IDF, Normalizer, PCA, RegexTokenizer, StandardScaler, StopWordsRemover, StringIndexer, VectorAssembler\n",
    "from pyspark.ml.regression import LinearRegression\n",
    "from pyspark.ml.tuning import CrossValidator, ParamGridBuilder\n",
    "\n",
    "import re\n",
    "import numpy as np\n",
    "import math\n",
    "import string\n",
    "\n",
    "from datetime import datetime"
   ]
  },
  {
   "cell_type": "code",
   "execution_count": 2,
   "id": "4592351c",
   "metadata": {},
   "outputs": [
    {
     "data": {
      "application/vnd.jupyter.widget-view+json": {
       "model_id": "6f34bc8e59d74fc9813e776b93659951",
       "version_major": 2,
       "version_minor": 0
      },
      "text/plain": [
       "VBox()"
      ]
     },
     "metadata": {},
     "output_type": "display_data"
    },
    {
     "data": {
      "application/vnd.jupyter.widget-view+json": {
       "model_id": "",
       "version_major": 2,
       "version_minor": 0
      },
      "text/plain": [
       "FloatProgress(value=0.0, bar_style='info', description='Progress:', layout=Layout(height='25px', width='50%'),…"
      ]
     },
     "metadata": {},
     "output_type": "display_data"
    },
    {
     "name": "stdout",
     "output_type": "stream",
     "text": [
      "Collecting matplotlib\n",
      "  Using cached https://files.pythonhosted.org/packages/24/33/5568d443ba438d95d4db635dd69958056f087e57e1026bee56f959d53f9d/matplotlib-3.4.2-cp37-cp37m-manylinux1_x86_64.whl\n",
      "Requirement already satisfied: numpy>=1.16 in /usr/local/lib64/python3.7/site-packages (from matplotlib)\n",
      "Collecting pyparsing>=2.2.1 (from matplotlib)\n",
      "  Using cached https://files.pythonhosted.org/packages/8a/bb/488841f56197b13700afd5658fc279a2025a39e22449b7cf29864669b15d/pyparsing-2.4.7-py2.py3-none-any.whl\n",
      "Collecting python-dateutil>=2.7 (from matplotlib)\n",
      "  Using cached https://files.pythonhosted.org/packages/d4/70/d60450c3dd48ef87586924207ae8907090de0b306af2bce5d134d78615cb/python_dateutil-2.8.1-py2.py3-none-any.whl\n",
      "Collecting pillow>=6.2.0 (from matplotlib)\n",
      "  Using cached https://files.pythonhosted.org/packages/33/34/542152297dcc6c47a9dcb0685eac6d652d878ed3cea83bf2b23cb988e857/Pillow-8.2.0-cp37-cp37m-manylinux1_x86_64.whl\n",
      "Collecting cycler>=0.10 (from matplotlib)\n",
      "  Using cached https://files.pythonhosted.org/packages/f7/d2/e07d3ebb2bd7af696440ce7e754c59dd546ffe1bbe732c8ab68b9c834e61/cycler-0.10.0-py2.py3-none-any.whl\n",
      "Collecting kiwisolver>=1.0.1 (from matplotlib)\n",
      "  Using cached https://files.pythonhosted.org/packages/d2/46/231de802ade4225b76b96cffe419cf3ce52bbe92e3b092cf12db7d11c207/kiwisolver-1.3.1-cp37-cp37m-manylinux1_x86_64.whl\n",
      "Requirement already satisfied: six>=1.5 in /usr/local/lib/python3.7/site-packages (from python-dateutil>=2.7->matplotlib)\n",
      "Installing collected packages: pyparsing, python-dateutil, pillow, cycler, kiwisolver, matplotlib\n",
      "Successfully installed cycler-0.10.0 kiwisolver-1.3.1 matplotlib-3.4.2 pillow-8.2.0 pyparsing-2.4.7 python-dateutil-2.8.1"
     ]
    }
   ],
   "source": [
    "# Install matplotlib from given PyPI repository\n",
    "# Ref.: https://aws.amazon.com/blogs/big-data/install-python-libraries-on-a-running-cluster-with-emr-notebooks/\n",
    "sc.install_pypi_package(\"matplotlib\", \"https://pypi.org/simple\") "
   ]
  },
  {
   "cell_type": "code",
   "execution_count": 3,
   "id": "141cb9ed",
   "metadata": {},
   "outputs": [
    {
     "data": {
      "application/vnd.jupyter.widget-view+json": {
       "model_id": "00f2568be17f413ea08b904bf92227f4",
       "version_major": 2,
       "version_minor": 0
      },
      "text/plain": [
       "VBox()"
      ]
     },
     "metadata": {},
     "output_type": "display_data"
    },
    {
     "data": {
      "application/vnd.jupyter.widget-view+json": {
       "model_id": "",
       "version_major": 2,
       "version_minor": 0
      },
      "text/plain": [
       "FloatProgress(value=0.0, bar_style='info', description='Progress:', layout=Layout(height='25px', width='50%'),…"
      ]
     },
     "metadata": {},
     "output_type": "display_data"
    }
   ],
   "source": [
    "# Uncomment to check installation\n",
    "# sc.list_packages()"
   ]
  },
  {
   "cell_type": "code",
   "execution_count": 4,
   "id": "95131ce4",
   "metadata": {},
   "outputs": [
    {
     "data": {
      "application/vnd.jupyter.widget-view+json": {
       "model_id": "43a7a9cbeeb44b23ae0ecf38afad0d54",
       "version_major": 2,
       "version_minor": 0
      },
      "text/plain": [
       "VBox()"
      ]
     },
     "metadata": {},
     "output_type": "display_data"
    },
    {
     "data": {
      "application/vnd.jupyter.widget-view+json": {
       "model_id": "",
       "version_major": 2,
       "version_minor": 0
      },
      "text/plain": [
       "FloatProgress(value=0.0, bar_style='info', description='Progress:', layout=Layout(height='25px', width='50%'),…"
      ]
     },
     "metadata": {},
     "output_type": "display_data"
    }
   ],
   "source": [
    "# Import pyplot\n",
    "from matplotlib import pyplot as plt"
   ]
  },
  {
   "cell_type": "markdown",
   "id": "5d33933d",
   "metadata": {},
   "source": [
    "## <a class=\"anchor\" id=\"Load-and-Clean-Dataset\">2. Load and Clean Dataset</a>"
   ]
  },
  {
   "cell_type": "code",
   "execution_count": 5,
   "id": "f7a4cce6",
   "metadata": {},
   "outputs": [
    {
     "data": {
      "application/vnd.jupyter.widget-view+json": {
       "model_id": "7afd2e5128cc47168a406c4be0310e86",
       "version_major": 2,
       "version_minor": 0
      },
      "text/plain": [
       "VBox()"
      ]
     },
     "metadata": {},
     "output_type": "display_data"
    },
    {
     "data": {
      "application/vnd.jupyter.widget-view+json": {
       "model_id": "",
       "version_major": 2,
       "version_minor": 0
      },
      "text/plain": [
       "FloatProgress(value=0.0, bar_style='info', description='Progress:', layout=Layout(height='25px', width='50%'),…"
      ]
     },
     "metadata": {},
     "output_type": "display_data"
    },
    {
     "name": "stdout",
     "output_type": "stream",
     "text": [
      "DataFrame[artist: string, auth: string, firstName: string, gender: string, itemInSession: bigint, lastName: string, length: double, level: string, location: string, method: string, page: string, registration: bigint, sessionId: bigint, song: string, status: bigint, ts: bigint, userAgent: string, userId: string]"
     ]
    }
   ],
   "source": [
    "# Load & Persist data\n",
    "# Full dataset\n",
    "path =\"s3n://udacity-dsnd/sparkify/sparkify_event_data.json\"\n",
    "df_user_log = spark.read.json(path)\n",
    "df_user_log.persist()"
   ]
  },
  {
   "cell_type": "code",
   "execution_count": 6,
   "id": "081789b2",
   "metadata": {},
   "outputs": [
    {
     "data": {
      "application/vnd.jupyter.widget-view+json": {
       "model_id": "5248612219ad45ecb3229015b5e3c3e5",
       "version_major": 2,
       "version_minor": 0
      },
      "text/plain": [
       "VBox()"
      ]
     },
     "metadata": {},
     "output_type": "display_data"
    },
    {
     "data": {
      "application/vnd.jupyter.widget-view+json": {
       "model_id": "",
       "version_major": 2,
       "version_minor": 0
      },
      "text/plain": [
       "FloatProgress(value=0.0, bar_style='info', description='Progress:', layout=Layout(height='25px', width='50%'),…"
      ]
     },
     "metadata": {},
     "output_type": "display_data"
    },
    {
     "name": "stdout",
     "output_type": "stream",
     "text": [
      "root\n",
      " |-- artist: string (nullable = true)\n",
      " |-- auth: string (nullable = true)\n",
      " |-- firstName: string (nullable = true)\n",
      " |-- gender: string (nullable = true)\n",
      " |-- itemInSession: long (nullable = true)\n",
      " |-- lastName: string (nullable = true)\n",
      " |-- length: double (nullable = true)\n",
      " |-- level: string (nullable = true)\n",
      " |-- location: string (nullable = true)\n",
      " |-- method: string (nullable = true)\n",
      " |-- page: string (nullable = true)\n",
      " |-- registration: long (nullable = true)\n",
      " |-- sessionId: long (nullable = true)\n",
      " |-- song: string (nullable = true)\n",
      " |-- status: long (nullable = true)\n",
      " |-- ts: long (nullable = true)\n",
      " |-- userAgent: string (nullable = true)\n",
      " |-- userId: string (nullable = true)"
     ]
    }
   ],
   "source": [
    "# Check schema\n",
    "df_user_log.printSchema()"
   ]
  },
  {
   "cell_type": "code",
   "execution_count": 7,
   "id": "d3f8cfc7",
   "metadata": {},
   "outputs": [
    {
     "data": {
      "application/vnd.jupyter.widget-view+json": {
       "model_id": "4cc3bf290162467d9224ab4e102aa272",
       "version_major": 2,
       "version_minor": 0
      },
      "text/plain": [
       "VBox()"
      ]
     },
     "metadata": {},
     "output_type": "display_data"
    },
    {
     "data": {
      "application/vnd.jupyter.widget-view+json": {
       "model_id": "",
       "version_major": 2,
       "version_minor": 0
      },
      "text/plain": [
       "FloatProgress(value=0.0, bar_style='info', description='Progress:', layout=Layout(height='25px', width='50%'),…"
      ]
     },
     "metadata": {},
     "output_type": "display_data"
    },
    {
     "name": "stdout",
     "output_type": "stream",
     "text": [
      "Row(artist='Popol Vuh', auth='Logged In', firstName='Shlok', gender='M', itemInSession=278, lastName='Johnson', length=524.32934, level='paid', location='Dallas-Fort Worth-Arlington, TX', method='PUT', page='NextSong', registration=1533734541000, sessionId=22683, song='Ich mache einen Spiegel - Dream Part 4', status=200, ts=1538352001000, userAgent='\"Mozilla/5.0 (Windows NT 6.1; WOW64) AppleWebKit/537.36 (KHTML, like Gecko) Chrome/36.0.1985.143 Safari/537.36\"', userId='1749042')"
     ]
    }
   ],
   "source": [
    "# Show the first row\n",
    "df_user_log.head()"
   ]
  },
  {
   "cell_type": "code",
   "execution_count": 8,
   "id": "98cf9a76",
   "metadata": {},
   "outputs": [
    {
     "data": {
      "application/vnd.jupyter.widget-view+json": {
       "model_id": "bf8f145113f9450b9cac515a2cfb440b",
       "version_major": 2,
       "version_minor": 0
      },
      "text/plain": [
       "VBox()"
      ]
     },
     "metadata": {},
     "output_type": "display_data"
    },
    {
     "data": {
      "application/vnd.jupyter.widget-view+json": {
       "model_id": "",
       "version_major": 2,
       "version_minor": 0
      },
      "text/plain": [
       "FloatProgress(value=0.0, bar_style='info', description='Progress:', layout=Layout(height='25px', width='50%'),…"
      ]
     },
     "metadata": {},
     "output_type": "display_data"
    },
    {
     "name": "stdout",
     "output_type": "stream",
     "text": [
      "Number of rows in the dataset:  26259199 ; Number of columns:  18"
     ]
    }
   ],
   "source": [
    "# Check num of rows, columns\n",
    "print('Number of rows in the dataset: ', df_user_log.count(), '; Number of columns: ', len(df_user_log.columns))"
   ]
  },
  {
   "cell_type": "markdown",
   "id": "4b3d19f6",
   "metadata": {},
   "source": [
    "To clean the dataset, we can delete eventual `NaN` in the `userId` and `sessionId` field, and take care of the cases of missing users also:"
   ]
  },
  {
   "cell_type": "code",
   "execution_count": 9,
   "id": "edacc76d",
   "metadata": {},
   "outputs": [
    {
     "data": {
      "application/vnd.jupyter.widget-view+json": {
       "model_id": "feb9079cff7f47b998b752373eb68a80",
       "version_major": 2,
       "version_minor": 0
      },
      "text/plain": [
       "VBox()"
      ]
     },
     "metadata": {},
     "output_type": "display_data"
    },
    {
     "data": {
      "application/vnd.jupyter.widget-view+json": {
       "model_id": "",
       "version_major": 2,
       "version_minor": 0
      },
      "text/plain": [
       "FloatProgress(value=0.0, bar_style='info', description='Progress:', layout=Layout(height='25px', width='50%'),…"
      ]
     },
     "metadata": {},
     "output_type": "display_data"
    }
   ],
   "source": [
    "# Drop NaN\n",
    "df_user_log_valid = df_user_log.dropna(how = \"any\", subset = [\"userId\", \"sessionId\"])\n",
    "# Drop empty users\n",
    "df_user_log_valid = df_user_log_valid.filter(df_user_log_valid[\"userId\"] != \"\")"
   ]
  },
  {
   "cell_type": "code",
   "execution_count": 10,
   "id": "246e1bbd",
   "metadata": {},
   "outputs": [
    {
     "data": {
      "application/vnd.jupyter.widget-view+json": {
       "model_id": "5ae13a75905b46108d21c83e07f93a14",
       "version_major": 2,
       "version_minor": 0
      },
      "text/plain": [
       "VBox()"
      ]
     },
     "metadata": {},
     "output_type": "display_data"
    },
    {
     "data": {
      "application/vnd.jupyter.widget-view+json": {
       "model_id": "",
       "version_major": 2,
       "version_minor": 0
      },
      "text/plain": [
       "FloatProgress(value=0.0, bar_style='info', description='Progress:', layout=Layout(height='25px', width='50%'),…"
      ]
     },
     "metadata": {},
     "output_type": "display_data"
    },
    {
     "name": "stdout",
     "output_type": "stream",
     "text": [
      "Num. of rows in the valid dataset:  26259199"
     ]
    }
   ],
   "source": [
    "# Check num of rows remaining\n",
    "print('Num. of rows in the valid dataset: ', df_user_log_valid.count())"
   ]
  },
  {
   "cell_type": "markdown",
   "id": "e96755d3",
   "metadata": {},
   "source": [
    "## <a class=\"anchor\" id=\"Exploratory-Data-Analysis\">3. Exploratory Data Analysis</a>\n",
    "\n",
    "In this phase we'll mainly look at the data and try to get familiar with it, to see what kind of trends or interesting information might be available afterwards to work on feature engineering."
   ]
  },
  {
   "cell_type": "markdown",
   "id": "64872515",
   "metadata": {},
   "source": [
    "A cell that seems to provide quite a bit of useful information is `page`, that documents the various pages visited by the users:"
   ]
  },
  {
   "cell_type": "code",
   "execution_count": 11,
   "id": "47ce161f",
   "metadata": {},
   "outputs": [
    {
     "data": {
      "application/vnd.jupyter.widget-view+json": {
       "model_id": "422cb91829d340bbaa5b5429c6fef600",
       "version_major": 2,
       "version_minor": 0
      },
      "text/plain": [
       "VBox()"
      ]
     },
     "metadata": {},
     "output_type": "display_data"
    },
    {
     "data": {
      "application/vnd.jupyter.widget-view+json": {
       "model_id": "",
       "version_major": 2,
       "version_minor": 0
      },
      "text/plain": [
       "FloatProgress(value=0.0, bar_style='info', description='Progress:', layout=Layout(height='25px', width='50%'),…"
      ]
     },
     "metadata": {},
     "output_type": "display_data"
    },
    {
     "name": "stdout",
     "output_type": "stream",
     "text": [
      "+--------------------+\n",
      "|                page|\n",
      "+--------------------+\n",
      "|               About|\n",
      "|          Add Friend|\n",
      "|     Add to Playlist|\n",
      "|              Cancel|\n",
      "|Cancellation Conf...|\n",
      "|           Downgrade|\n",
      "|               Error|\n",
      "|                Help|\n",
      "|                Home|\n",
      "|               Login|\n",
      "|              Logout|\n",
      "|            NextSong|\n",
      "|            Register|\n",
      "|         Roll Advert|\n",
      "|       Save Settings|\n",
      "|            Settings|\n",
      "|    Submit Downgrade|\n",
      "| Submit Registration|\n",
      "|      Submit Upgrade|\n",
      "|         Thumbs Down|\n",
      "+--------------------+\n",
      "only showing top 20 rows"
     ]
    }
   ],
   "source": [
    "# Check available pages\n",
    "df_user_log.select(\"page\").dropDuplicates().sort(\"page\").show()"
   ]
  },
  {
   "cell_type": "markdown",
   "id": "1838af4c",
   "metadata": {},
   "source": [
    "Based on the type of information available in this column, we can define new variables identifying, for example, an actual churn (looking at when the users visits `Cancellation Confirmation`) or an Upgrade/Downgrade, but also events like the user giving a Thumbs Up or adding friends, or seeing a Rolling Advert.  \n",
    "We can also recontruct the time spent by the users with the system, making reference to the `registration` and `ts` columns."
   ]
  },
  {
   "cell_type": "code",
   "execution_count": 12,
   "id": "189fa124",
   "metadata": {},
   "outputs": [
    {
     "data": {
      "application/vnd.jupyter.widget-view+json": {
       "model_id": "cb700d81ee5e4c739cf33d14d75b1175",
       "version_major": 2,
       "version_minor": 0
      },
      "text/plain": [
       "VBox()"
      ]
     },
     "metadata": {},
     "output_type": "display_data"
    },
    {
     "data": {
      "application/vnd.jupyter.widget-view+json": {
       "model_id": "",
       "version_major": 2,
       "version_minor": 0
      },
      "text/plain": [
       "FloatProgress(value=0.0, bar_style='info', description='Progress:', layout=Layout(height='25px', width='50%'),…"
      ]
     },
     "metadata": {},
     "output_type": "display_data"
    }
   ],
   "source": [
    "# Defining a churn variable based on the Cancellation Confirmation page\n",
    "cancellation = F.udf(lambda x: 1 if x == \"Cancellation Confirmation\" else 0, IntegerType())  \n",
    "df_user_log_valid = df_user_log_valid.withColumn(\"churn\", cancellation(\"page\"))"
   ]
  },
  {
   "cell_type": "code",
   "execution_count": 13,
   "id": "18fc0b16",
   "metadata": {},
   "outputs": [
    {
     "data": {
      "application/vnd.jupyter.widget-view+json": {
       "model_id": "b7c17323e2af4cf1b1eaa608b5bd088b",
       "version_major": 2,
       "version_minor": 0
      },
      "text/plain": [
       "VBox()"
      ]
     },
     "metadata": {},
     "output_type": "display_data"
    },
    {
     "data": {
      "application/vnd.jupyter.widget-view+json": {
       "model_id": "",
       "version_major": 2,
       "version_minor": 0
      },
      "text/plain": [
       "FloatProgress(value=0.0, bar_style='info', description='Progress:', layout=Layout(height='25px', width='50%'),…"
      ]
     },
     "metadata": {},
     "output_type": "display_data"
    }
   ],
   "source": [
    "# Defining a sub_dwg variable based on the Submit Downgrade page\n",
    "submit_dwg = F.udf(lambda x: 1 if x == \"Submit Downgrade\" else 0, IntegerType())\n",
    "df_user_log_valid = df_user_log_valid.withColumn(\"sub_dwg\", submit_dwg(\"page\"))"
   ]
  },
  {
   "cell_type": "code",
   "execution_count": 14,
   "id": "93e4bea6",
   "metadata": {},
   "outputs": [
    {
     "data": {
      "application/vnd.jupyter.widget-view+json": {
       "model_id": "dd099365e44d4cd79fd21f08e28b3626",
       "version_major": 2,
       "version_minor": 0
      },
      "text/plain": [
       "VBox()"
      ]
     },
     "metadata": {},
     "output_type": "display_data"
    },
    {
     "data": {
      "application/vnd.jupyter.widget-view+json": {
       "model_id": "",
       "version_major": 2,
       "version_minor": 0
      },
      "text/plain": [
       "FloatProgress(value=0.0, bar_style='info', description='Progress:', layout=Layout(height='25px', width='50%'),…"
      ]
     },
     "metadata": {},
     "output_type": "display_data"
    }
   ],
   "source": [
    "# Defining a sub_upg variable based on the Submit Upgrade page\n",
    "submit_dwg = F.udf(lambda x: 1 if x == \"Submit Upgrade\" else 0, IntegerType())\n",
    "df_user_log_valid = df_user_log_valid.withColumn(\"sub_upg\", submit_dwg(\"page\"))"
   ]
  },
  {
   "cell_type": "code",
   "execution_count": 15,
   "id": "94dab4f9",
   "metadata": {},
   "outputs": [
    {
     "data": {
      "application/vnd.jupyter.widget-view+json": {
       "model_id": "948577cb673f45aab73329e73f165c82",
       "version_major": 2,
       "version_minor": 0
      },
      "text/plain": [
       "VBox()"
      ]
     },
     "metadata": {},
     "output_type": "display_data"
    },
    {
     "data": {
      "application/vnd.jupyter.widget-view+json": {
       "model_id": "",
       "version_major": 2,
       "version_minor": 0
      },
      "text/plain": [
       "FloatProgress(value=0.0, bar_style='info', description='Progress:', layout=Layout(height='25px', width='50%'),…"
      ]
     },
     "metadata": {},
     "output_type": "display_data"
    }
   ],
   "source": [
    "# Getting UNIX time from miliseconds to seconds\n",
    "df_user_log_valid = df_user_log_valid.withColumn(\"ts\", df_user_log_valid.ts/1000)                        \n",
    "df_user_log_valid = df_user_log_valid.withColumn(\"registration\", df_user_log_valid.registration/1000)"
   ]
  },
  {
   "cell_type": "code",
   "execution_count": 16,
   "id": "0ba8f6ec",
   "metadata": {},
   "outputs": [
    {
     "data": {
      "application/vnd.jupyter.widget-view+json": {
       "model_id": "8ffdc256816341529698a45b8e1f9413",
       "version_major": 2,
       "version_minor": 0
      },
      "text/plain": [
       "VBox()"
      ]
     },
     "metadata": {},
     "output_type": "display_data"
    },
    {
     "data": {
      "application/vnd.jupyter.widget-view+json": {
       "model_id": "",
       "version_major": 2,
       "version_minor": 0
      },
      "text/plain": [
       "FloatProgress(value=0.0, bar_style='info', description='Progress:', layout=Layout(height='25px', width='50%'),…"
      ]
     },
     "metadata": {},
     "output_type": "display_data"
    }
   ],
   "source": [
    "# Defining a first_ts/last_ts variable showing the timestamp of the first/last entry \n",
    "# (Can be used to filter with time, will be used to calculate total duration of the permanence)\n",
    "window = Window.partitionBy(\"userId\")\n",
    "df_user_log_valid = df_user_log_valid.withColumn(\"first_ts\", F.min(\"ts\").over(window))\n",
    "df_user_log_valid = df_user_log_valid.withColumn(\"last_ts\", F.max(\"ts\").over(window))"
   ]
  },
  {
   "cell_type": "code",
   "execution_count": 17,
   "id": "c94ca9d0",
   "metadata": {},
   "outputs": [
    {
     "data": {
      "application/vnd.jupyter.widget-view+json": {
       "model_id": "7abcb9955499444aa5ac1e530ef6d089",
       "version_major": 2,
       "version_minor": 0
      },
      "text/plain": [
       "VBox()"
      ]
     },
     "metadata": {},
     "output_type": "display_data"
    },
    {
     "data": {
      "application/vnd.jupyter.widget-view+json": {
       "model_id": "",
       "version_major": 2,
       "version_minor": 0
      },
      "text/plain": [
       "FloatProgress(value=0.0, bar_style='info', description='Progress:', layout=Layout(height='25px', width='50%'),…"
      ]
     },
     "metadata": {},
     "output_type": "display_data"
    }
   ],
   "source": [
    "# Defining a perm_days variable showing the (rounded) number of days a user has spent with the service so far\n",
    "df_user_log_valid = df_user_log_valid.withColumn(\"perm_days\", \\\n",
    "                                                 F.round((df_user_log_valid.last_ts - df_user_log_valid.registration)\\\n",
    "                                                 /(3600*24)))"
   ]
  },
  {
   "cell_type": "code",
   "execution_count": 18,
   "id": "ffe99ac5",
   "metadata": {},
   "outputs": [
    {
     "data": {
      "application/vnd.jupyter.widget-view+json": {
       "model_id": "8e803030d4cd4f828f559cfffe0d8e9d",
       "version_major": 2,
       "version_minor": 0
      },
      "text/plain": [
       "VBox()"
      ]
     },
     "metadata": {},
     "output_type": "display_data"
    },
    {
     "data": {
      "application/vnd.jupyter.widget-view+json": {
       "model_id": "",
       "version_major": 2,
       "version_minor": 0
      },
      "text/plain": [
       "FloatProgress(value=0.0, bar_style='info', description='Progress:', layout=Layout(height='25px', width='50%'),…"
      ]
     },
     "metadata": {},
     "output_type": "display_data"
    }
   ],
   "source": [
    "# Defining a data_days variable showing the (rounded) number of days of data available for a user\n",
    "df_user_log_valid = df_user_log_valid.withColumn(\"data_days\", \\\n",
    "                                                 F.round((df_user_log_valid.last_ts - df_user_log_valid.first_ts)\\\n",
    "                                                 /(3600*24)))"
   ]
  },
  {
   "cell_type": "code",
   "execution_count": 19,
   "id": "e09c1829",
   "metadata": {},
   "outputs": [
    {
     "data": {
      "application/vnd.jupyter.widget-view+json": {
       "model_id": "bc9c62dae426429e9cb0c2296e7673a3",
       "version_major": 2,
       "version_minor": 0
      },
      "text/plain": [
       "VBox()"
      ]
     },
     "metadata": {},
     "output_type": "display_data"
    },
    {
     "data": {
      "application/vnd.jupyter.widget-view+json": {
       "model_id": "",
       "version_major": 2,
       "version_minor": 0
      },
      "text/plain": [
       "FloatProgress(value=0.0, bar_style='info', description='Progress:', layout=Layout(height='25px', width='50%'),…"
      ]
     },
     "metadata": {},
     "output_type": "display_data"
    }
   ],
   "source": [
    "# Defining a roll_adv variable based on the Roll Advert page\n",
    "roll_adv = F.udf(lambda x: 1 if x == \"Roll Advert\" else 0, IntegerType())  \n",
    "df_user_log_valid = df_user_log_valid.withColumn(\"roll_adv\", roll_adv(\"page\"))"
   ]
  },
  {
   "cell_type": "code",
   "execution_count": 20,
   "id": "ff91367c",
   "metadata": {},
   "outputs": [
    {
     "data": {
      "application/vnd.jupyter.widget-view+json": {
       "model_id": "27e4a40a19fe49bbb1e727f8e52c6373",
       "version_major": 2,
       "version_minor": 0
      },
      "text/plain": [
       "VBox()"
      ]
     },
     "metadata": {},
     "output_type": "display_data"
    },
    {
     "data": {
      "application/vnd.jupyter.widget-view+json": {
       "model_id": "",
       "version_major": 2,
       "version_minor": 0
      },
      "text/plain": [
       "FloatProgress(value=0.0, bar_style='info', description='Progress:', layout=Layout(height='25px', width='50%'),…"
      ]
     },
     "metadata": {},
     "output_type": "display_data"
    }
   ],
   "source": [
    "# Defining a total_rolled_advert variable showing the total of the rolled advert events\n",
    "# (We reuse the window defined previously, grouping by users)\n",
    "df_user_log_valid= df_user_log_valid.withColumn(\"total_roll_adv\", F.sum(\"roll_adv\").over(window))"
   ]
  },
  {
   "cell_type": "code",
   "execution_count": 21,
   "id": "ed83f352",
   "metadata": {},
   "outputs": [
    {
     "data": {
      "application/vnd.jupyter.widget-view+json": {
       "model_id": "99b3abe80fb34fbc8d9302ed8f5e42fa",
       "version_major": 2,
       "version_minor": 0
      },
      "text/plain": [
       "VBox()"
      ]
     },
     "metadata": {},
     "output_type": "display_data"
    },
    {
     "data": {
      "application/vnd.jupyter.widget-view+json": {
       "model_id": "",
       "version_major": 2,
       "version_minor": 0
      },
      "text/plain": [
       "FloatProgress(value=0.0, bar_style='info', description='Progress:', layout=Layout(height='25px', width='50%'),…"
      ]
     },
     "metadata": {},
     "output_type": "display_data"
    }
   ],
   "source": [
    "# Defining an add_friend variable based on the Add Friend page\n",
    "add_friend = F.udf(lambda x: 1 if x == \"Add Friend\" else 0, IntegerType())  \n",
    "df_user_log_valid = df_user_log_valid.withColumn(\"add_friend\", add_friend(\"page\"))"
   ]
  },
  {
   "cell_type": "code",
   "execution_count": 22,
   "id": "b29573b7",
   "metadata": {},
   "outputs": [
    {
     "data": {
      "application/vnd.jupyter.widget-view+json": {
       "model_id": "082f9927c4a44a189f1697f8b538bdca",
       "version_major": 2,
       "version_minor": 0
      },
      "text/plain": [
       "VBox()"
      ]
     },
     "metadata": {},
     "output_type": "display_data"
    },
    {
     "data": {
      "application/vnd.jupyter.widget-view+json": {
       "model_id": "",
       "version_major": 2,
       "version_minor": 0
      },
      "text/plain": [
       "FloatProgress(value=0.0, bar_style='info', description='Progress:', layout=Layout(height='25px', width='50%'),…"
      ]
     },
     "metadata": {},
     "output_type": "display_data"
    }
   ],
   "source": [
    "# Defining a total_add_friend variable showing the total of the friends added\n",
    "# (We reuse the window defined previously, grouping by users)\n",
    "df_user_log_valid= df_user_log_valid.withColumn(\"total_add_friend\", F.sum(\"add_friend\").over(window))"
   ]
  },
  {
   "cell_type": "code",
   "execution_count": 23,
   "id": "74479583",
   "metadata": {},
   "outputs": [
    {
     "data": {
      "application/vnd.jupyter.widget-view+json": {
       "model_id": "688fdd0e3e074b44acf146f6f5893b75",
       "version_major": 2,
       "version_minor": 0
      },
      "text/plain": [
       "VBox()"
      ]
     },
     "metadata": {},
     "output_type": "display_data"
    },
    {
     "data": {
      "application/vnd.jupyter.widget-view+json": {
       "model_id": "",
       "version_major": 2,
       "version_minor": 0
      },
      "text/plain": [
       "FloatProgress(value=0.0, bar_style='info', description='Progress:', layout=Layout(height='25px', width='50%'),…"
      ]
     },
     "metadata": {},
     "output_type": "display_data"
    }
   ],
   "source": [
    "# Defining a thumbs_up variable based on the Thumbs Up page\n",
    "thumbs_up = F.udf(lambda x: 1 if x == \"Thumbs Up\" else 0, IntegerType())  \n",
    "df_user_log_valid = df_user_log_valid.withColumn(\"thumbs_up\", thumbs_up(\"page\"))"
   ]
  },
  {
   "cell_type": "code",
   "execution_count": 24,
   "id": "0e890243",
   "metadata": {},
   "outputs": [
    {
     "data": {
      "application/vnd.jupyter.widget-view+json": {
       "model_id": "470179e05e914ec89db4b8cfe20d0e6c",
       "version_major": 2,
       "version_minor": 0
      },
      "text/plain": [
       "VBox()"
      ]
     },
     "metadata": {},
     "output_type": "display_data"
    },
    {
     "data": {
      "application/vnd.jupyter.widget-view+json": {
       "model_id": "",
       "version_major": 2,
       "version_minor": 0
      },
      "text/plain": [
       "FloatProgress(value=0.0, bar_style='info', description='Progress:', layout=Layout(height='25px', width='50%'),…"
      ]
     },
     "metadata": {},
     "output_type": "display_data"
    }
   ],
   "source": [
    "# Defining a total_thumbs_up variable showing the total of the Thumbs Up given\n",
    "# (We reuse the window defined previously, grouping by users)\n",
    "df_user_log_valid= df_user_log_valid.withColumn(\"total_thumbs_up\", F.sum(\"thumbs_up\").over(window))"
   ]
  },
  {
   "cell_type": "code",
   "execution_count": 25,
   "id": "584d0197",
   "metadata": {},
   "outputs": [
    {
     "data": {
      "application/vnd.jupyter.widget-view+json": {
       "model_id": "38443169591541ea8b1e537fa110b7d4",
       "version_major": 2,
       "version_minor": 0
      },
      "text/plain": [
       "VBox()"
      ]
     },
     "metadata": {},
     "output_type": "display_data"
    },
    {
     "data": {
      "application/vnd.jupyter.widget-view+json": {
       "model_id": "",
       "version_major": 2,
       "version_minor": 0
      },
      "text/plain": [
       "FloatProgress(value=0.0, bar_style='info', description='Progress:', layout=Layout(height='25px', width='50%'),…"
      ]
     },
     "metadata": {},
     "output_type": "display_data"
    }
   ],
   "source": [
    "# Defining a thumbs_dwm variable based on the Thumbs Down page\n",
    "thumbs_dwn = F.udf(lambda x: 1 if x == \"Thumbs Down\" else 0, IntegerType())  \n",
    "df_user_log_valid = df_user_log_valid.withColumn(\"thumbs_dwn\", thumbs_dwn(\"page\"))"
   ]
  },
  {
   "cell_type": "code",
   "execution_count": 26,
   "id": "40e626da",
   "metadata": {},
   "outputs": [
    {
     "data": {
      "application/vnd.jupyter.widget-view+json": {
       "model_id": "63d3ee6c6c7e410d810a2729994bc6c1",
       "version_major": 2,
       "version_minor": 0
      },
      "text/plain": [
       "VBox()"
      ]
     },
     "metadata": {},
     "output_type": "display_data"
    },
    {
     "data": {
      "application/vnd.jupyter.widget-view+json": {
       "model_id": "",
       "version_major": 2,
       "version_minor": 0
      },
      "text/plain": [
       "FloatProgress(value=0.0, bar_style='info', description='Progress:', layout=Layout(height='25px', width='50%'),…"
      ]
     },
     "metadata": {},
     "output_type": "display_data"
    }
   ],
   "source": [
    "# Defining a total_thumbs_dwn variable showing the total of the Thumbs Down given\n",
    "# (We reuse the window defined previously, grouping by users)\n",
    "df_user_log_valid= df_user_log_valid.withColumn(\"total_thumbs_dwn\", F.sum(\"thumbs_dwn\").over(window))"
   ]
  },
  {
   "cell_type": "code",
   "execution_count": 27,
   "id": "3216f269",
   "metadata": {},
   "outputs": [
    {
     "data": {
      "application/vnd.jupyter.widget-view+json": {
       "model_id": "fa6f5ef740134ae8905de60e379ae276",
       "version_major": 2,
       "version_minor": 0
      },
      "text/plain": [
       "VBox()"
      ]
     },
     "metadata": {},
     "output_type": "display_data"
    },
    {
     "data": {
      "application/vnd.jupyter.widget-view+json": {
       "model_id": "",
       "version_major": 2,
       "version_minor": 0
      },
      "text/plain": [
       "FloatProgress(value=0.0, bar_style='info', description='Progress:', layout=Layout(height='25px', width='50%'),…"
      ]
     },
     "metadata": {},
     "output_type": "display_data"
    },
    {
     "name": "stdout",
     "output_type": "stream",
     "text": [
      "Row(artist='Linkin Park', auth='Logged In', firstName='Nathan', gender='M', itemInSession=0, lastName='King', length=233.1424, level='paid', location='Lima, OH', method='PUT', page='NextSong', registration=1538251620.0, sessionId=10054, song='Hands Held High (Album Version)', status=200, ts=1539703092.0, userAgent='\"Mozilla/5.0 (Windows NT 5.1) AppleWebKit/537.36 (KHTML, like Gecko) Chrome/36.0.1985.143 Safari/537.36\"', userId='1001393', churn=0, sub_dwg=0, sub_upg=0, first_ts=1538365753.0, last_ts=1543425515.0, perm_days=60.0, data_days=59.0, roll_adv=0, total_roll_adv=0, add_friend=0, total_add_friend=11, thumbs_up=0, total_thumbs_up=43, thumbs_dwn=0, total_thumbs_dwn=6)"
     ]
    }
   ],
   "source": [
    "# Check columns\n",
    "df_user_log_valid.head()"
   ]
  },
  {
   "cell_type": "markdown",
   "id": "a0df39f2",
   "metadata": {},
   "source": [
    "To gain significance, we can focus the analysis on users that have at least some history with the system, for example at least a week of data"
   ]
  },
  {
   "cell_type": "code",
   "execution_count": 28,
   "id": "ad526df8",
   "metadata": {},
   "outputs": [
    {
     "data": {
      "application/vnd.jupyter.widget-view+json": {
       "model_id": "9af48b07f5db4215ab11452a4b29ab71",
       "version_major": 2,
       "version_minor": 0
      },
      "text/plain": [
       "VBox()"
      ]
     },
     "metadata": {},
     "output_type": "display_data"
    },
    {
     "data": {
      "application/vnd.jupyter.widget-view+json": {
       "model_id": "",
       "version_major": 2,
       "version_minor": 0
      },
      "text/plain": [
       "FloatProgress(value=0.0, bar_style='info', description='Progress:', layout=Layout(height='25px', width='50%'),…"
      ]
     },
     "metadata": {},
     "output_type": "display_data"
    }
   ],
   "source": [
    "# We can remove from the dataframe users that have less than a week of data\n",
    "df_user_log_valid = df_user_log_valid.filter(df_user_log_valid.data_days >= 7)       "
   ]
  },
  {
   "cell_type": "code",
   "execution_count": 29,
   "id": "c20ecb96",
   "metadata": {},
   "outputs": [
    {
     "data": {
      "application/vnd.jupyter.widget-view+json": {
       "model_id": "9e53ef6f7a734b719341466db2101161",
       "version_major": 2,
       "version_minor": 0
      },
      "text/plain": [
       "VBox()"
      ]
     },
     "metadata": {},
     "output_type": "display_data"
    },
    {
     "data": {
      "application/vnd.jupyter.widget-view+json": {
       "model_id": "",
       "version_major": 2,
       "version_minor": 0
      },
      "text/plain": [
       "FloatProgress(value=0.0, bar_style='info', description='Progress:', layout=Layout(height='25px', width='50%'),…"
      ]
     },
     "metadata": {},
     "output_type": "display_data"
    },
    {
     "name": "stdout",
     "output_type": "stream",
     "text": [
      "Num. of rows in the filtered dataset:  25989727"
     ]
    }
   ],
   "source": [
    "# Check num of rows remaining\n",
    "print('Num. of rows in the filtered dataset: ', df_user_log_valid.count())"
   ]
  },
  {
   "cell_type": "markdown",
   "id": "cc5c876b",
   "metadata": {},
   "source": [
    "We can build now two datasets, one with the users that left vs. the other with the users that are staying:"
   ]
  },
  {
   "cell_type": "code",
   "execution_count": 30,
   "id": "f803551a",
   "metadata": {},
   "outputs": [
    {
     "data": {
      "application/vnd.jupyter.widget-view+json": {
       "model_id": "8bb3386c835d45519b820f3f48668389",
       "version_major": 2,
       "version_minor": 0
      },
      "text/plain": [
       "VBox()"
      ]
     },
     "metadata": {},
     "output_type": "display_data"
    },
    {
     "data": {
      "application/vnd.jupyter.widget-view+json": {
       "model_id": "",
       "version_major": 2,
       "version_minor": 0
      },
      "text/plain": [
       "FloatProgress(value=0.0, bar_style='info', description='Progress:', layout=Layout(height='25px', width='50%'),…"
      ]
     },
     "metadata": {},
     "output_type": "display_data"
    }
   ],
   "source": [
    "# Create a list of users that cancelled vs. users that stayed\n",
    "users_cancelled = df_user_log_valid.select([\"userId\"]).where(df_user_log_valid.churn == 1).dropDuplicates().collect()\n",
    "users_staying = df_user_log_valid.select([\"userId\"]).where(df_user_log_valid.churn == 0).dropDuplicates().collect()"
   ]
  },
  {
   "cell_type": "code",
   "execution_count": 31,
   "id": "4013e214",
   "metadata": {},
   "outputs": [
    {
     "data": {
      "application/vnd.jupyter.widget-view+json": {
       "model_id": "bbb3faa430ba4710a2b9613635930b95",
       "version_major": 2,
       "version_minor": 0
      },
      "text/plain": [
       "VBox()"
      ]
     },
     "metadata": {},
     "output_type": "display_data"
    },
    {
     "data": {
      "application/vnd.jupyter.widget-view+json": {
       "model_id": "",
       "version_major": 2,
       "version_minor": 0
      },
      "text/plain": [
       "FloatProgress(value=0.0, bar_style='info', description='Progress:', layout=Layout(height='25px', width='50%'),…"
      ]
     },
     "metadata": {},
     "output_type": "display_data"
    },
    {
     "name": "stdout",
     "output_type": "stream",
     "text": [
      "Num. of users that left:  3971 ; Num. of users that are staying:  20304"
     ]
    }
   ],
   "source": [
    "# Check num of users in both datasets\n",
    "print('Num. of users that left: ', len(users_cancelled), \\\n",
    "      '; Num. of users that are staying: ', len(users_staying))"
   ]
  },
  {
   "cell_type": "code",
   "execution_count": 32,
   "id": "5734e2e6",
   "metadata": {},
   "outputs": [
    {
     "data": {
      "application/vnd.jupyter.widget-view+json": {
       "model_id": "719007b554794b24ac4b2fcf27bb3305",
       "version_major": 2,
       "version_minor": 0
      },
      "text/plain": [
       "VBox()"
      ]
     },
     "metadata": {},
     "output_type": "display_data"
    },
    {
     "data": {
      "application/vnd.jupyter.widget-view+json": {
       "model_id": "",
       "version_major": 2,
       "version_minor": 0
      },
      "text/plain": [
       "FloatProgress(value=0.0, bar_style='info', description='Progress:', layout=Layout(height='25px', width='50%'),…"
      ]
     },
     "metadata": {},
     "output_type": "display_data"
    }
   ],
   "source": [
    "# Select a subset of the dataframe with the users that left\n",
    "users_cancelled_list = [us_c[0] for us_c in users_cancelled]\n",
    "df_user_log_cancelled = df_user_log_valid.filter(df_user_log_valid.userId.isin(users_cancelled_list))"
   ]
  },
  {
   "cell_type": "code",
   "execution_count": 33,
   "id": "e03e4aa9",
   "metadata": {},
   "outputs": [
    {
     "data": {
      "application/vnd.jupyter.widget-view+json": {
       "model_id": "5a1f8882c8394e4f9116c038a90b9e55",
       "version_major": 2,
       "version_minor": 0
      },
      "text/plain": [
       "VBox()"
      ]
     },
     "metadata": {},
     "output_type": "display_data"
    },
    {
     "data": {
      "application/vnd.jupyter.widget-view+json": {
       "model_id": "",
       "version_major": 2,
       "version_minor": 0
      },
      "text/plain": [
       "FloatProgress(value=0.0, bar_style='info', description='Progress:', layout=Layout(height='25px', width='50%'),…"
      ]
     },
     "metadata": {},
     "output_type": "display_data"
    }
   ],
   "source": [
    "# Select a subset of the dataframe with the users that stayed\n",
    "users_staying_list = [us_s[0] for us_s in users_staying]\n",
    "df_user_log_staying = df_user_log_valid.filter(df_user_log_valid.userId.isin(users_staying_list))"
   ]
  },
  {
   "cell_type": "code",
   "execution_count": 34,
   "id": "aaa47623",
   "metadata": {},
   "outputs": [
    {
     "data": {
      "application/vnd.jupyter.widget-view+json": {
       "model_id": "12c658fc6f3345ae823a084461322b95",
       "version_major": 2,
       "version_minor": 0
      },
      "text/plain": [
       "VBox()"
      ]
     },
     "metadata": {},
     "output_type": "display_data"
    },
    {
     "data": {
      "application/vnd.jupyter.widget-view+json": {
       "model_id": "",
       "version_major": 2,
       "version_minor": 0
      },
      "text/plain": [
       "FloatProgress(value=0.0, bar_style='info', description='Progress:', layout=Layout(height='25px', width='50%'),…"
      ]
     },
     "metadata": {},
     "output_type": "display_data"
    },
    {
     "name": "stdout",
     "output_type": "stream",
     "text": [
      "Num. of rows in the dataset of users that cancelled:  5192153\n",
      "Num. of rows in the dataset of users that are staying:  25989727"
     ]
    }
   ],
   "source": [
    "# Check the size of the datasets\n",
    "print('Num. of rows in the dataset of users that cancelled: ', df_user_log_cancelled.count())\n",
    "print('Num. of rows in the dataset of users that are staying: ', df_user_log_staying.count())"
   ]
  },
  {
   "cell_type": "markdown",
   "id": "0d29dcdc",
   "metadata": {},
   "source": [
    "We can further refine, building datasets focusing on the last week of activity for the users, so to see wether or not there's a change for the users that churn as they approach the moment they would leave:"
   ]
  },
  {
   "cell_type": "code",
   "execution_count": 35,
   "id": "67bbf18a",
   "metadata": {},
   "outputs": [
    {
     "data": {
      "application/vnd.jupyter.widget-view+json": {
       "model_id": "a31f2dfa578e4f419e9622519286f670",
       "version_major": 2,
       "version_minor": 0
      },
      "text/plain": [
       "VBox()"
      ]
     },
     "metadata": {},
     "output_type": "display_data"
    },
    {
     "data": {
      "application/vnd.jupyter.widget-view+json": {
       "model_id": "",
       "version_major": 2,
       "version_minor": 0
      },
      "text/plain": [
       "FloatProgress(value=0.0, bar_style='info', description='Progress:', layout=Layout(height='25px', width='50%'),…"
      ]
     },
     "metadata": {},
     "output_type": "display_data"
    }
   ],
   "source": [
    "# Select last week of users that cancelled\n",
    "df_user_log_cancelled_lweek = df_user_log_cancelled.filter((df_user_log_cancelled.last_ts - df_user_log_valid.ts) < \\\n",
    "                                                      (3600*24*7))"
   ]
  },
  {
   "cell_type": "code",
   "execution_count": 36,
   "id": "367cf69f",
   "metadata": {},
   "outputs": [
    {
     "data": {
      "application/vnd.jupyter.widget-view+json": {
       "model_id": "620f0a36054444cab8e1edfd1aeca599",
       "version_major": 2,
       "version_minor": 0
      },
      "text/plain": [
       "VBox()"
      ]
     },
     "metadata": {},
     "output_type": "display_data"
    },
    {
     "data": {
      "application/vnd.jupyter.widget-view+json": {
       "model_id": "",
       "version_major": 2,
       "version_minor": 0
      },
      "text/plain": [
       "FloatProgress(value=0.0, bar_style='info', description='Progress:', layout=Layout(height='25px', width='50%'),…"
      ]
     },
     "metadata": {},
     "output_type": "display_data"
    }
   ],
   "source": [
    "# Select last week of users that stay\n",
    "df_user_log_staying_lweek = df_user_log_staying.filter((df_user_log_staying.last_ts - df_user_log_valid.ts) < \\\n",
    "                                                      (3600*24*7))"
   ]
  },
  {
   "cell_type": "code",
   "execution_count": 37,
   "id": "99ac0e06",
   "metadata": {},
   "outputs": [
    {
     "data": {
      "application/vnd.jupyter.widget-view+json": {
       "model_id": "4e5f6c2b334044e3b8964aa49a00471a",
       "version_major": 2,
       "version_minor": 0
      },
      "text/plain": [
       "VBox()"
      ]
     },
     "metadata": {},
     "output_type": "display_data"
    },
    {
     "data": {
      "application/vnd.jupyter.widget-view+json": {
       "model_id": "",
       "version_major": 2,
       "version_minor": 0
      },
      "text/plain": [
       "FloatProgress(value=0.0, bar_style='info', description='Progress:', layout=Layout(height='25px', width='50%'),…"
      ]
     },
     "metadata": {},
     "output_type": "display_data"
    },
    {
     "name": "stdout",
     "output_type": "stream",
     "text": [
      "Num. of rows in the dataset of users that cancelled - last week data:  1488643\n",
      "Num. of rows in the dataset of users that are staying - last week data:  5230636"
     ]
    }
   ],
   "source": [
    "# Check the size of the datasets\n",
    "print('Num. of rows in the dataset of users that cancelled - last week data: ', df_user_log_cancelled_lweek.count())\n",
    "print('Num. of rows in the dataset of users that are staying - last week data: ', df_user_log_staying_lweek.count())"
   ]
  },
  {
   "cell_type": "code",
   "execution_count": 38,
   "id": "0d1015fe",
   "metadata": {},
   "outputs": [
    {
     "data": {
      "application/vnd.jupyter.widget-view+json": {
       "model_id": "301961c721fe47738899e24b44a78227",
       "version_major": 2,
       "version_minor": 0
      },
      "text/plain": [
       "VBox()"
      ]
     },
     "metadata": {},
     "output_type": "display_data"
    },
    {
     "data": {
      "application/vnd.jupyter.widget-view+json": {
       "model_id": "",
       "version_major": 2,
       "version_minor": 0
      },
      "text/plain": [
       "FloatProgress(value=0.0, bar_style='info', description='Progress:', layout=Layout(height='25px', width='50%'),…"
      ]
     },
     "metadata": {},
     "output_type": "display_data"
    }
   ],
   "source": [
    "# Create a list of users that cancelled vs. users that stayed in the last week\n",
    "users_cancelled_lweek = df_user_log_cancelled_lweek.select([\"userId\"]).dropDuplicates().collect()\n",
    "users_staying_lweek = df_user_log_staying_lweek.select([\"userId\"]).dropDuplicates().collect()"
   ]
  },
  {
   "cell_type": "code",
   "execution_count": 39,
   "id": "e516f741",
   "metadata": {},
   "outputs": [
    {
     "data": {
      "application/vnd.jupyter.widget-view+json": {
       "model_id": "c40aff4b9caf4836a72fef9546004a8d",
       "version_major": 2,
       "version_minor": 0
      },
      "text/plain": [
       "VBox()"
      ]
     },
     "metadata": {},
     "output_type": "display_data"
    },
    {
     "data": {
      "application/vnd.jupyter.widget-view+json": {
       "model_id": "",
       "version_major": 2,
       "version_minor": 0
      },
      "text/plain": [
       "FloatProgress(value=0.0, bar_style='info', description='Progress:', layout=Layout(height='25px', width='50%'),…"
      ]
     },
     "metadata": {},
     "output_type": "display_data"
    },
    {
     "name": "stdout",
     "output_type": "stream",
     "text": [
      "Num. of users that left - last week data:  3971 ; Num. of users that are staying - last week data:  20304"
     ]
    }
   ],
   "source": [
    "# Check num of users in both datasets\n",
    "print('Num. of users that left - last week data: ', len(users_cancelled_lweek), \\\n",
    "      '; Num. of users that are staying - last week data: ', len(users_staying_lweek))"
   ]
  },
  {
   "cell_type": "markdown",
   "id": "e2005ebe",
   "metadata": {},
   "source": [
    "### <a class=\"anchor\" id=\"Time-Songs\">3.1. Time spent/Number of Songs</a>\n",
    "\n",
    "As a first step, we can look at the amount of time spent with the service and at the number of songs listened in a day, comparing the users that cancelled and those that are staying, both looking at the whole dataset and at the last week only."
   ]
  },
  {
   "cell_type": "code",
   "execution_count": 40,
   "id": "022a8e0f",
   "metadata": {},
   "outputs": [
    {
     "data": {
      "application/vnd.jupyter.widget-view+json": {
       "model_id": "0b54db659a3945cc9d76881fb10297b0",
       "version_major": 2,
       "version_minor": 0
      },
      "text/plain": [
       "VBox()"
      ]
     },
     "metadata": {},
     "output_type": "display_data"
    },
    {
     "data": {
      "application/vnd.jupyter.widget-view+json": {
       "model_id": "",
       "version_major": 2,
       "version_minor": 0
      },
      "text/plain": [
       "FloatProgress(value=0.0, bar_style='info', description='Progress:', layout=Layout(height='25px', width='50%'),…"
      ]
     },
     "metadata": {},
     "output_type": "display_data"
    }
   ],
   "source": [
    "# Select, for every user that cancelled, the number of songs, the time they spent with the service and the time\n",
    "# window of tha analysis\n",
    "song_time_canc = df_user_log_cancelled.\\\n",
    "                filter(df_user_log_cancelled[\"song\"] != \"\").\\\n",
    "                groupBy(\"userId\").\\\n",
    "                agg(F.max(\"perm_days\"), F.max(\"data_days\"), F.countDistinct(\"song\")).\\\n",
    "                collect()"
   ]
  },
  {
   "cell_type": "code",
   "execution_count": 41,
   "id": "bdf84229",
   "metadata": {},
   "outputs": [
    {
     "data": {
      "application/vnd.jupyter.widget-view+json": {
       "model_id": "6d710161b1b4434b9656d33670c20e3e",
       "version_major": 2,
       "version_minor": 0
      },
      "text/plain": [
       "VBox()"
      ]
     },
     "metadata": {},
     "output_type": "display_data"
    },
    {
     "data": {
      "application/vnd.jupyter.widget-view+json": {
       "model_id": "",
       "version_major": 2,
       "version_minor": 0
      },
      "text/plain": [
       "FloatProgress(value=0.0, bar_style='info', description='Progress:', layout=Layout(height='25px', width='50%'),…"
      ]
     },
     "metadata": {},
     "output_type": "display_data"
    }
   ],
   "source": [
    "# Get the time \n",
    "delta_time_cancelled = [song_time[1] for song_time in song_time_canc]\n",
    "# Get the number of songs listened per day day (on average)\n",
    "num_songs_cancelled = [song_time[3]/song_time[2] for song_time in song_time_canc]"
   ]
  },
  {
   "cell_type": "code",
   "execution_count": 42,
   "id": "b0af75e4",
   "metadata": {},
   "outputs": [
    {
     "data": {
      "application/vnd.jupyter.widget-view+json": {
       "model_id": "7c34c2e297344bc4a6f1173687b83336",
       "version_major": 2,
       "version_minor": 0
      },
      "text/plain": [
       "VBox()"
      ]
     },
     "metadata": {},
     "output_type": "display_data"
    },
    {
     "data": {
      "application/vnd.jupyter.widget-view+json": {
       "model_id": "",
       "version_major": 2,
       "version_minor": 0
      },
      "text/plain": [
       "FloatProgress(value=0.0, bar_style='info', description='Progress:', layout=Layout(height='25px', width='50%'),…"
      ]
     },
     "metadata": {},
     "output_type": "display_data"
    }
   ],
   "source": [
    "# Select, for every user that stays, the number of songs, the time they spent with the service and the time\n",
    "# window of tha analysis\n",
    "song_time_stay = df_user_log_staying.\\\n",
    "                filter(df_user_log_staying[\"song\"] != \"\").\\\n",
    "                groupBy(\"userId\").\\\n",
    "                agg(F.max(\"perm_days\"), F.max(\"data_days\"), F.countDistinct(\"song\")).\\\n",
    "                collect()"
   ]
  },
  {
   "cell_type": "code",
   "execution_count": 43,
   "id": "dd4b34ce",
   "metadata": {},
   "outputs": [
    {
     "data": {
      "application/vnd.jupyter.widget-view+json": {
       "model_id": "82f53b2fcf43410c97545d8905ee6de8",
       "version_major": 2,
       "version_minor": 0
      },
      "text/plain": [
       "VBox()"
      ]
     },
     "metadata": {},
     "output_type": "display_data"
    },
    {
     "data": {
      "application/vnd.jupyter.widget-view+json": {
       "model_id": "",
       "version_major": 2,
       "version_minor": 0
      },
      "text/plain": [
       "FloatProgress(value=0.0, bar_style='info', description='Progress:', layout=Layout(height='25px', width='50%'),…"
      ]
     },
     "metadata": {},
     "output_type": "display_data"
    }
   ],
   "source": [
    "# Get the time\n",
    "delta_time_staying = [song_time[1] for song_time in song_time_stay]\n",
    "# Get the number of songs listened per day day (on average)\n",
    "num_songs_staying = [song_time[3]/song_time[2] for song_time in song_time_stay]"
   ]
  },
  {
   "cell_type": "code",
   "execution_count": 44,
   "id": "dd4be846",
   "metadata": {},
   "outputs": [
    {
     "data": {
      "application/vnd.jupyter.widget-view+json": {
       "model_id": "02dfb72162664ce8942824e28482d31d",
       "version_major": 2,
       "version_minor": 0
      },
      "text/plain": [
       "VBox()"
      ]
     },
     "metadata": {},
     "output_type": "display_data"
    },
    {
     "data": {
      "application/vnd.jupyter.widget-view+json": {
       "model_id": "",
       "version_major": 2,
       "version_minor": 0
      },
      "text/plain": [
       "FloatProgress(value=0.0, bar_style='info', description='Progress:', layout=Layout(height='25px', width='50%'),…"
      ]
     },
     "metadata": {},
     "output_type": "display_data"
    },
    {
     "data": {
      "image/png": "[encoded data removed]",
      "text/plain": [
       "<IPython.core.display.Image object>"
      ]
     },
     "metadata": {},
     "output_type": "display_data"
    }
   ],
   "source": [
    "# Plot histogram for time\n",
    "fig, (ax1, ax2) = plt.subplots(1, 2)\n",
    "\n",
    "fig.suptitle('Distribution of time spent by users ', fontsize=12, fontweight='bold')\n",
    "fig.set_figheight(7) \n",
    "fig.set_figwidth(15)\n",
    "\n",
    "ax1.hist(delta_time_cancelled, bins=50)\n",
    "ax1.set_xlabel('# of days spent with the service', fontsize=11)\n",
    "ax1.set_ylabel('# of users', fontsize=11)\n",
    "ax1.set_title('Cancelling Users', fontsize=11,fontweight='bold')\n",
    "\n",
    "ax2.hist(delta_time_staying, bins=50)\n",
    "ax2.set_xlabel('# of days spent with the service', fontsize=11)\n",
    "ax2.set_ylabel('# of users', fontsize=11)\n",
    "ax2.set_title('Staying Users', fontsize=11,fontweight='bold');\n",
    "\n",
    "%matplot plt"
   ]
  },
  {
   "cell_type": "code",
   "execution_count": 45,
   "id": "194eafe9",
   "metadata": {},
   "outputs": [
    {
     "data": {
      "application/vnd.jupyter.widget-view+json": {
       "model_id": "bbad2341fcf140caaec6edebfe9890d1",
       "version_major": 2,
       "version_minor": 0
      },
      "text/plain": [
       "VBox()"
      ]
     },
     "metadata": {},
     "output_type": "display_data"
    },
    {
     "data": {
      "application/vnd.jupyter.widget-view+json": {
       "model_id": "",
       "version_major": 2,
       "version_minor": 0
      },
      "text/plain": [
       "FloatProgress(value=0.0, bar_style='info', description='Progress:', layout=Layout(height='25px', width='50%'),…"
      ]
     },
     "metadata": {},
     "output_type": "display_data"
    },
    {
     "data": {
      "image/png": "[encoded data removed]",
      "text/plain": [
       "<IPython.core.display.Image object>"
      ]
     },
     "metadata": {},
     "output_type": "display_data"
    }
   ],
   "source": [
    "# Plot histogram for songs\n",
    "fig, (ax1, ax2) = plt.subplots(1, 2)\n",
    "\n",
    "fig.suptitle('Distribution of songs listened/day by users', fontsize=12, fontweight='bold')\n",
    "fig.set_figheight(7) \n",
    "fig.set_figwidth(15)\n",
    "\n",
    "ax1.hist(num_songs_cancelled, bins=50)\n",
    "ax1.set_xlabel('# of songs/day', fontsize=11)\n",
    "ax1.set_ylabel('# of users', fontsize=11)\n",
    "ax1.set_title('Cancelling Users', fontsize=11,fontweight='bold')\n",
    "\n",
    "ax2.hist(num_songs_staying, bins=50)\n",
    "ax2.set_xlabel('# of songs/day', fontsize=11)\n",
    "ax2.set_ylabel('# of users', fontsize=11)\n",
    "ax2.set_title('Staying Users', fontsize=11,fontweight='bold');\n",
    "\n",
    "%matplot plt"
   ]
  },
  {
   "cell_type": "code",
   "execution_count": 46,
   "id": "d8320145",
   "metadata": {},
   "outputs": [
    {
     "data": {
      "application/vnd.jupyter.widget-view+json": {
       "model_id": "279934ed39df46cabc03fa5299615e5c",
       "version_major": 2,
       "version_minor": 0
      },
      "text/plain": [
       "VBox()"
      ]
     },
     "metadata": {},
     "output_type": "display_data"
    },
    {
     "data": {
      "application/vnd.jupyter.widget-view+json": {
       "model_id": "",
       "version_major": 2,
       "version_minor": 0
      },
      "text/plain": [
       "FloatProgress(value=0.0, bar_style='info', description='Progress:', layout=Layout(height='25px', width='50%'),…"
      ]
     },
     "metadata": {},
     "output_type": "display_data"
    },
    {
     "name": "stdout",
     "output_type": "stream",
     "text": [
      "---------------------------------------------------\n",
      "Songs per day statistics for users that cancelled:\n",
      "Mean =  33.40 ; Std. Dev. =  26.71\n",
      "---------------------------------------------------\n",
      "Songs per day statistics for users that stay:\n",
      "Mean =  20.21 ; Std. Dev. =  19.17\n",
      "---------------------------------------------------"
     ]
    }
   ],
   "source": [
    "# Look at the statistics\n",
    "stats_song_canc = spark.createDataFrame(num_songs_cancelled, FloatType()).describe().collect()\n",
    "stats_song_stay = spark.createDataFrame(num_songs_staying, FloatType()).describe().collect()\n",
    "\n",
    "print('---------------------------------------------------')\n",
    "print('Songs per day statistics for users that cancelled:')\n",
    "print('Mean = ', '{:.2f}'.format(float(stats_song_canc[1][1])), \\\n",
    "      '; Std. Dev. = ',  '{:.2f}'.format(float(stats_song_canc[2][1])))\n",
    "print('---------------------------------------------------')\n",
    "print('Songs per day statistics for users that stay:')\n",
    "print('Mean = ', '{:.2f}'.format(float(stats_song_stay[1][1])), \\\n",
    "      '; Std. Dev. = ',  '{:.2f}'.format(float(stats_song_stay[2][1])))\n",
    "print('---------------------------------------------------')"
   ]
  },
  {
   "cell_type": "markdown",
   "id": "643cdf3d",
   "metadata": {},
   "source": [
    "We can see if anything changes in the last week of permanence:"
   ]
  },
  {
   "cell_type": "code",
   "execution_count": 47,
   "id": "93972b18",
   "metadata": {},
   "outputs": [
    {
     "data": {
      "application/vnd.jupyter.widget-view+json": {
       "model_id": "738cfb02506d42e6b63ce56a71565d31",
       "version_major": 2,
       "version_minor": 0
      },
      "text/plain": [
       "VBox()"
      ]
     },
     "metadata": {},
     "output_type": "display_data"
    },
    {
     "data": {
      "application/vnd.jupyter.widget-view+json": {
       "model_id": "",
       "version_major": 2,
       "version_minor": 0
      },
      "text/plain": [
       "FloatProgress(value=0.0, bar_style='info', description='Progress:', layout=Layout(height='25px', width='50%'),…"
      ]
     },
     "metadata": {},
     "output_type": "display_data"
    }
   ],
   "source": [
    "# Select, for every user that cancelled, the number of songs they listened in the last week\n",
    "song_time_canc_lweek = df_user_log_cancelled_lweek.\\\n",
    "                filter(df_user_log_cancelled_lweek[\"song\"] != \"\").\\\n",
    "                groupBy(\"userId\").\\\n",
    "                agg(F.countDistinct(\"song\")).\\\n",
    "                collect()"
   ]
  },
  {
   "cell_type": "code",
   "execution_count": 48,
   "id": "5afa3e8e",
   "metadata": {},
   "outputs": [
    {
     "data": {
      "application/vnd.jupyter.widget-view+json": {
       "model_id": "424b890da57045ff805797d00a579e24",
       "version_major": 2,
       "version_minor": 0
      },
      "text/plain": [
       "VBox()"
      ]
     },
     "metadata": {},
     "output_type": "display_data"
    },
    {
     "data": {
      "application/vnd.jupyter.widget-view+json": {
       "model_id": "",
       "version_major": 2,
       "version_minor": 0
      },
      "text/plain": [
       "FloatProgress(value=0.0, bar_style='info', description='Progress:', layout=Layout(height='25px', width='50%'),…"
      ]
     },
     "metadata": {},
     "output_type": "display_data"
    }
   ],
   "source": [
    "# Get the number of songs listened per day (on average)\n",
    "num_songs_cancelled_lweek = [song_time[1]/7 for song_time in song_time_canc_lweek]"
   ]
  },
  {
   "cell_type": "code",
   "execution_count": 49,
   "id": "5fe1ae73",
   "metadata": {},
   "outputs": [
    {
     "data": {
      "application/vnd.jupyter.widget-view+json": {
       "model_id": "8d450fe2fd0f48598829e2d1f8721ebf",
       "version_major": 2,
       "version_minor": 0
      },
      "text/plain": [
       "VBox()"
      ]
     },
     "metadata": {},
     "output_type": "display_data"
    },
    {
     "data": {
      "application/vnd.jupyter.widget-view+json": {
       "model_id": "",
       "version_major": 2,
       "version_minor": 0
      },
      "text/plain": [
       "FloatProgress(value=0.0, bar_style='info', description='Progress:', layout=Layout(height='25px', width='50%'),…"
      ]
     },
     "metadata": {},
     "output_type": "display_data"
    }
   ],
   "source": [
    "# Select, for every user that stays, the number of songs they listened in the last week\n",
    "song_time_stay_lweek = df_user_log_staying_lweek.\\\n",
    "                filter(df_user_log_staying_lweek[\"song\"] != \"\").\\\n",
    "                groupBy(\"userId\").\\\n",
    "                agg(F.countDistinct(\"song\")).\\\n",
    "                collect()"
   ]
  },
  {
   "cell_type": "code",
   "execution_count": 50,
   "id": "9f268309",
   "metadata": {},
   "outputs": [
    {
     "data": {
      "application/vnd.jupyter.widget-view+json": {
       "model_id": "39f7cc004129449a9480d633d71ce5f9",
       "version_major": 2,
       "version_minor": 0
      },
      "text/plain": [
       "VBox()"
      ]
     },
     "metadata": {},
     "output_type": "display_data"
    },
    {
     "data": {
      "application/vnd.jupyter.widget-view+json": {
       "model_id": "",
       "version_major": 2,
       "version_minor": 0
      },
      "text/plain": [
       "FloatProgress(value=0.0, bar_style='info', description='Progress:', layout=Layout(height='25px', width='50%'),…"
      ]
     },
     "metadata": {},
     "output_type": "display_data"
    }
   ],
   "source": [
    "# Get the number of songs listened per day (on average)\n",
    "num_songs_staying_lweek = [song_time[1]/7 for song_time in song_time_stay_lweek]"
   ]
  },
  {
   "cell_type": "code",
   "execution_count": 51,
   "id": "464338a0",
   "metadata": {},
   "outputs": [
    {
     "data": {
      "application/vnd.jupyter.widget-view+json": {
       "model_id": "b34a79f4aa25468ead4c8edd225ca1fb",
       "version_major": 2,
       "version_minor": 0
      },
      "text/plain": [
       "VBox()"
      ]
     },
     "metadata": {},
     "output_type": "display_data"
    },
    {
     "data": {
      "application/vnd.jupyter.widget-view+json": {
       "model_id": "",
       "version_major": 2,
       "version_minor": 0
      },
      "text/plain": [
       "FloatProgress(value=0.0, bar_style='info', description='Progress:', layout=Layout(height='25px', width='50%'),…"
      ]
     },
     "metadata": {},
     "output_type": "display_data"
    },
    {
     "data": {
      "image/png": "[encoded data removed]",
      "text/plain": [
       "<IPython.core.display.Image object>"
      ]
     },
     "metadata": {},
     "output_type": "display_data"
    }
   ],
   "source": [
    "# Plot histogram for songs\n",
    "fig, (ax1, ax2) = plt.subplots(1, 2)\n",
    "\n",
    "fig.suptitle('Distribution of songs listened/day by users in the last week', fontsize=12, fontweight='bold')\n",
    "fig.set_figheight(7) \n",
    "fig.set_figwidth(15)\n",
    "\n",
    "ax1.hist(num_songs_cancelled_lweek, bins=50)\n",
    "ax1.set_xlabel('# of songs/day', fontsize=11)\n",
    "ax1.set_ylabel('# of users', fontsize=11)\n",
    "ax1.set_title('Cancelling Users', fontsize=11,fontweight='bold')\n",
    "\n",
    "ax2.hist(num_songs_staying_lweek, bins=50)\n",
    "ax2.set_xlabel('# of songs/day', fontsize=11)\n",
    "ax2.set_ylabel('# of users', fontsize=11)\n",
    "ax2.set_title('Staying Users', fontsize=11,fontweight='bold');\n",
    "\n",
    "%matplot plt"
   ]
  },
  {
   "cell_type": "code",
   "execution_count": 52,
   "id": "69066e70",
   "metadata": {},
   "outputs": [
    {
     "data": {
      "application/vnd.jupyter.widget-view+json": {
       "model_id": "518b630756854b97a0165b80bbf3d521",
       "version_major": 2,
       "version_minor": 0
      },
      "text/plain": [
       "VBox()"
      ]
     },
     "metadata": {},
     "output_type": "display_data"
    },
    {
     "data": {
      "application/vnd.jupyter.widget-view+json": {
       "model_id": "",
       "version_major": 2,
       "version_minor": 0
      },
      "text/plain": [
       "FloatProgress(value=0.0, bar_style='info', description='Progress:', layout=Layout(height='25px', width='50%'),…"
      ]
     },
     "metadata": {},
     "output_type": "display_data"
    },
    {
     "name": "stdout",
     "output_type": "stream",
     "text": [
      "--------------------------------------------------------------\n",
      "Songs per day statistics for users that cancelled - last week:\n",
      "Mean =  41.80 ; Std. Dev. =  36.71\n",
      "--------------------------------------------------------------\n",
      "Songs per day statistics for users that stay - last week:\n",
      "Mean =  28.86 ; Std. Dev. =  29.95\n",
      "--------------------------------------------------------------"
     ]
    }
   ],
   "source": [
    "# Look at the statistics\n",
    "stats_song_canc_lweek = spark.createDataFrame(num_songs_cancelled_lweek, FloatType()).describe().collect()\n",
    "stats_song_stay_lweek = spark.createDataFrame(num_songs_staying_lweek, FloatType()).describe().collect()\n",
    "\n",
    "print('--------------------------------------------------------------')\n",
    "print('Songs per day statistics for users that cancelled - last week:')\n",
    "print('Mean = ', '{:.2f}'.format(float(stats_song_canc_lweek[1][1])), \\\n",
    "      '; Std. Dev. = ',  '{:.2f}'.format(float(stats_song_canc_lweek[2][1])))\n",
    "print('--------------------------------------------------------------')\n",
    "print('Songs per day statistics for users that stay - last week:')\n",
    "print('Mean = ', '{:.2f}'.format(float(stats_song_stay_lweek[1][1])), \\\n",
    "      '; Std. Dev. = ',  '{:.2f}'.format(float(stats_song_stay_lweek[2][1])))\n",
    "print('--------------------------------------------------------------')"
   ]
  },
  {
   "cell_type": "markdown",
   "id": "984c10ea",
   "metadata": {},
   "source": [
    "### <a class=\"anchor\" id=\"Friends-Thumbs\">3.2. Add a Friend/Thumbs Up/Down</a>\n",
    "\n",
    "As another area of interest, we could look into how do the users interact with the service, inviting friends or expressing preferences on songs."
   ]
  },
  {
   "cell_type": "markdown",
   "id": "100338ff",
   "metadata": {},
   "source": [
    "#### 3.2.1. Add a friend"
   ]
  },
  {
   "cell_type": "code",
   "execution_count": 53,
   "id": "de38ce76",
   "metadata": {},
   "outputs": [
    {
     "data": {
      "application/vnd.jupyter.widget-view+json": {
       "model_id": "d5d87ba5152d4213beef53e1953894f7",
       "version_major": 2,
       "version_minor": 0
      },
      "text/plain": [
       "VBox()"
      ]
     },
     "metadata": {},
     "output_type": "display_data"
    },
    {
     "data": {
      "application/vnd.jupyter.widget-view+json": {
       "model_id": "",
       "version_major": 2,
       "version_minor": 0
      },
      "text/plain": [
       "FloatProgress(value=0.0, bar_style='info', description='Progress:', layout=Layout(height='25px', width='50%'),…"
      ]
     },
     "metadata": {},
     "output_type": "display_data"
    }
   ],
   "source": [
    "# Select, for every user that cancelled, the number of added friends and the time window of the analysis\n",
    "added_friend_canc = df_user_log_cancelled.\\\n",
    "                groupBy(\"userId\").\\\n",
    "                agg(F.max(\"data_days\"), F.max(\"total_add_friend\")).collect()"
   ]
  },
  {
   "cell_type": "code",
   "execution_count": 54,
   "id": "39354fd6",
   "metadata": {},
   "outputs": [
    {
     "data": {
      "application/vnd.jupyter.widget-view+json": {
       "model_id": "d8d2d359ae484cf6b6aa87ab14b582f7",
       "version_major": 2,
       "version_minor": 0
      },
      "text/plain": [
       "VBox()"
      ]
     },
     "metadata": {},
     "output_type": "display_data"
    },
    {
     "data": {
      "application/vnd.jupyter.widget-view+json": {
       "model_id": "",
       "version_major": 2,
       "version_minor": 0
      },
      "text/plain": [
       "FloatProgress(value=0.0, bar_style='info', description='Progress:', layout=Layout(height='25px', width='50%'),…"
      ]
     },
     "metadata": {},
     "output_type": "display_data"
    }
   ],
   "source": [
    "# Get the number of friends added per day, on average\n",
    "added_friend_day_canc = [added_friend[2]/added_friend[1] for added_friend in added_friend_canc]"
   ]
  },
  {
   "cell_type": "code",
   "execution_count": 55,
   "id": "6a30c9c7",
   "metadata": {},
   "outputs": [
    {
     "data": {
      "application/vnd.jupyter.widget-view+json": {
       "model_id": "e794111d712145bebbf34c7fddb3f114",
       "version_major": 2,
       "version_minor": 0
      },
      "text/plain": [
       "VBox()"
      ]
     },
     "metadata": {},
     "output_type": "display_data"
    },
    {
     "data": {
      "application/vnd.jupyter.widget-view+json": {
       "model_id": "",
       "version_major": 2,
       "version_minor": 0
      },
      "text/plain": [
       "FloatProgress(value=0.0, bar_style='info', description='Progress:', layout=Layout(height='25px', width='50%'),…"
      ]
     },
     "metadata": {},
     "output_type": "display_data"
    }
   ],
   "source": [
    "# Select, for every user that is staying, the number of added friends and the time window of the analysis\n",
    "added_friend_stay = df_user_log_staying.\\\n",
    "                groupBy(\"userId\").\\\n",
    "                agg(F.max(\"data_days\"), F.max(\"total_add_friend\")).collect()"
   ]
  },
  {
   "cell_type": "code",
   "execution_count": 56,
   "id": "829df7fb",
   "metadata": {},
   "outputs": [
    {
     "data": {
      "application/vnd.jupyter.widget-view+json": {
       "model_id": "66fdf80fd7c342809f81a3f4f74d5581",
       "version_major": 2,
       "version_minor": 0
      },
      "text/plain": [
       "VBox()"
      ]
     },
     "metadata": {},
     "output_type": "display_data"
    },
    {
     "data": {
      "application/vnd.jupyter.widget-view+json": {
       "model_id": "",
       "version_major": 2,
       "version_minor": 0
      },
      "text/plain": [
       "FloatProgress(value=0.0, bar_style='info', description='Progress:', layout=Layout(height='25px', width='50%'),…"
      ]
     },
     "metadata": {},
     "output_type": "display_data"
    }
   ],
   "source": [
    "# Get the number of friends added per day, on average\n",
    "added_friend_day_stay = [added_friend[2]/added_friend[1] for added_friend in added_friend_stay]"
   ]
  },
  {
   "cell_type": "code",
   "execution_count": 57,
   "id": "bbd00444",
   "metadata": {},
   "outputs": [
    {
     "data": {
      "application/vnd.jupyter.widget-view+json": {
       "model_id": "98403fb6414040ae8797226a58f26b6c",
       "version_major": 2,
       "version_minor": 0
      },
      "text/plain": [
       "VBox()"
      ]
     },
     "metadata": {},
     "output_type": "display_data"
    },
    {
     "data": {
      "application/vnd.jupyter.widget-view+json": {
       "model_id": "",
       "version_major": 2,
       "version_minor": 0
      },
      "text/plain": [
       "FloatProgress(value=0.0, bar_style='info', description='Progress:', layout=Layout(height='25px', width='50%'),…"
      ]
     },
     "metadata": {},
     "output_type": "display_data"
    },
    {
     "data": {
      "image/png": "[encoded data removed]",
      "text/plain": [
       "<IPython.core.display.Image object>"
      ]
     },
     "metadata": {},
     "output_type": "display_data"
    }
   ],
   "source": [
    "# Plot histogram for added friends\n",
    "fig, (ax1, ax2) = plt.subplots(1, 2)\n",
    "\n",
    "fig.suptitle('Distribution of added friends/day by users', fontsize=12, fontweight='bold')\n",
    "fig.set_figheight(7) \n",
    "fig.set_figwidth(15)\n",
    "\n",
    "ax1.hist(added_friend_day_canc, bins=100)\n",
    "ax1.set_xlabel('# of added friends/day', fontsize=11)\n",
    "ax1.set_ylabel('# of users', fontsize=11)\n",
    "ax1.set_title('Cancelling Users', fontsize=11,fontweight='bold')\n",
    "\n",
    "ax2.hist(added_friend_day_stay, bins=100)\n",
    "ax2.set_xlabel('# of added friends/day', fontsize=11)\n",
    "ax2.set_ylabel('# of users', fontsize=11)\n",
    "ax2.set_title('Staying Users', fontsize=11,fontweight='bold');\n",
    "\n",
    "%matplot plt"
   ]
  },
  {
   "cell_type": "code",
   "execution_count": 58,
   "id": "22a9da37",
   "metadata": {},
   "outputs": [
    {
     "data": {
      "application/vnd.jupyter.widget-view+json": {
       "model_id": "8e40daaf09c24c6dbfd936b0786e0dd6",
       "version_major": 2,
       "version_minor": 0
      },
      "text/plain": [
       "VBox()"
      ]
     },
     "metadata": {},
     "output_type": "display_data"
    },
    {
     "data": {
      "application/vnd.jupyter.widget-view+json": {
       "model_id": "",
       "version_major": 2,
       "version_minor": 0
      },
      "text/plain": [
       "FloatProgress(value=0.0, bar_style='info', description='Progress:', layout=Layout(height='25px', width='50%'),…"
      ]
     },
     "metadata": {},
     "output_type": "display_data"
    },
    {
     "name": "stdout",
     "output_type": "stream",
     "text": [
      "---------------------------------------------------------\n",
      "Added friend per day statistics for users that cancelled:\n",
      "Mean =  0.68 ; Std. Dev. =  0.61\n",
      "---------------------------------------------------------\n",
      "Added friend per day statistics for users that stay:\n",
      "Mean =  0.41 ; Std. Dev. =  0.44\n",
      "---------------------------------------------------------"
     ]
    }
   ],
   "source": [
    "# Look at the statistics\n",
    "stats_added_friend_canc = spark.createDataFrame(added_friend_day_canc, FloatType()).describe().collect()\n",
    "stats_added_friend_stay = spark.createDataFrame(added_friend_day_stay, FloatType()).describe().collect()\n",
    "\n",
    "print('---------------------------------------------------------')\n",
    "print('Added friend per day statistics for users that cancelled:')\n",
    "print('Mean = ', '{:.2f}'.format(float(stats_added_friend_canc[1][1])), \\\n",
    "      '; Std. Dev. = ',  '{:.2f}'.format(float(stats_added_friend_canc[2][1])))\n",
    "print('---------------------------------------------------------')\n",
    "print('Added friend per day statistics for users that stay:')\n",
    "print('Mean = ', '{:.2f}'.format(float(stats_added_friend_stay[1][1])), \\\n",
    "      '; Std. Dev. = ',  '{:.2f}'.format(float(stats_added_friend_stay[2][1])))\n",
    "print('---------------------------------------------------------')"
   ]
  },
  {
   "cell_type": "markdown",
   "id": "f2dc648a",
   "metadata": {},
   "source": [
    "We can check if anything changes during last week:"
   ]
  },
  {
   "cell_type": "code",
   "execution_count": 59,
   "id": "43c34c1a",
   "metadata": {},
   "outputs": [
    {
     "data": {
      "application/vnd.jupyter.widget-view+json": {
       "model_id": "58b78c8998e84fa096e6b9ebbc4af55a",
       "version_major": 2,
       "version_minor": 0
      },
      "text/plain": [
       "VBox()"
      ]
     },
     "metadata": {},
     "output_type": "display_data"
    },
    {
     "data": {
      "application/vnd.jupyter.widget-view+json": {
       "model_id": "",
       "version_major": 2,
       "version_minor": 0
      },
      "text/plain": [
       "FloatProgress(value=0.0, bar_style='info', description='Progress:', layout=Layout(height='25px', width='50%'),…"
      ]
     },
     "metadata": {},
     "output_type": "display_data"
    }
   ],
   "source": [
    "# Select, for every user that cancelled, the number of added friends in the last week\n",
    "added_friend_canc_lweek = df_user_log_cancelled_lweek.\\\n",
    "                groupBy(\"userId\").\\\n",
    "                agg(F.sum(\"add_friend\")).collect()"
   ]
  },
  {
   "cell_type": "code",
   "execution_count": 60,
   "id": "01740b36",
   "metadata": {},
   "outputs": [
    {
     "data": {
      "application/vnd.jupyter.widget-view+json": {
       "model_id": "ee6902ecc55c490280570e964cb1351e",
       "version_major": 2,
       "version_minor": 0
      },
      "text/plain": [
       "VBox()"
      ]
     },
     "metadata": {},
     "output_type": "display_data"
    },
    {
     "data": {
      "application/vnd.jupyter.widget-view+json": {
       "model_id": "",
       "version_major": 2,
       "version_minor": 0
      },
      "text/plain": [
       "FloatProgress(value=0.0, bar_style='info', description='Progress:', layout=Layout(height='25px', width='50%'),…"
      ]
     },
     "metadata": {},
     "output_type": "display_data"
    }
   ],
   "source": [
    "# Get the number of friends added per day, on average\n",
    "added_friend_day_canc_lweek = [added_friend[1]/7 for added_friend in added_friend_canc_lweek]"
   ]
  },
  {
   "cell_type": "code",
   "execution_count": 61,
   "id": "74592175",
   "metadata": {},
   "outputs": [
    {
     "data": {
      "application/vnd.jupyter.widget-view+json": {
       "model_id": "caf87d25c0444a1fb34f35c2bf4d5b28",
       "version_major": 2,
       "version_minor": 0
      },
      "text/plain": [
       "VBox()"
      ]
     },
     "metadata": {},
     "output_type": "display_data"
    },
    {
     "data": {
      "application/vnd.jupyter.widget-view+json": {
       "model_id": "",
       "version_major": 2,
       "version_minor": 0
      },
      "text/plain": [
       "FloatProgress(value=0.0, bar_style='info', description='Progress:', layout=Layout(height='25px', width='50%'),…"
      ]
     },
     "metadata": {},
     "output_type": "display_data"
    }
   ],
   "source": [
    "# Select, for every user that is staying, the number of added friends in the last week\n",
    "added_friend_stay_lweek = df_user_log_staying_lweek.\\\n",
    "                groupBy(\"userId\").\\\n",
    "                agg(F.sum(\"add_friend\")).collect()"
   ]
  },
  {
   "cell_type": "code",
   "execution_count": 62,
   "id": "246b2be6",
   "metadata": {},
   "outputs": [
    {
     "data": {
      "application/vnd.jupyter.widget-view+json": {
       "model_id": "e64554620f434f78b88e76977cf9dff6",
       "version_major": 2,
       "version_minor": 0
      },
      "text/plain": [
       "VBox()"
      ]
     },
     "metadata": {},
     "output_type": "display_data"
    },
    {
     "data": {
      "application/vnd.jupyter.widget-view+json": {
       "model_id": "",
       "version_major": 2,
       "version_minor": 0
      },
      "text/plain": [
       "FloatProgress(value=0.0, bar_style='info', description='Progress:', layout=Layout(height='25px', width='50%'),…"
      ]
     },
     "metadata": {},
     "output_type": "display_data"
    }
   ],
   "source": [
    "# Get the number of friends added per day, on average\n",
    "added_friend_day_stay_lweek = [added_friend[1]/7 for added_friend in added_friend_stay_lweek]"
   ]
  },
  {
   "cell_type": "code",
   "execution_count": 63,
   "id": "8098610e",
   "metadata": {},
   "outputs": [
    {
     "data": {
      "application/vnd.jupyter.widget-view+json": {
       "model_id": "e1e11c9c864d40b29299108eb429ddd5",
       "version_major": 2,
       "version_minor": 0
      },
      "text/plain": [
       "VBox()"
      ]
     },
     "metadata": {},
     "output_type": "display_data"
    },
    {
     "data": {
      "application/vnd.jupyter.widget-view+json": {
       "model_id": "",
       "version_major": 2,
       "version_minor": 0
      },
      "text/plain": [
       "FloatProgress(value=0.0, bar_style='info', description='Progress:', layout=Layout(height='25px', width='50%'),…"
      ]
     },
     "metadata": {},
     "output_type": "display_data"
    },
    {
     "data": {
      "image/png": "[encoded data removed]",
      "text/plain": [
       "<IPython.core.display.Image object>"
      ]
     },
     "metadata": {},
     "output_type": "display_data"
    }
   ],
   "source": [
    "# Plot histogram for added friends\n",
    "fig, (ax1, ax2) = plt.subplots(1, 2)\n",
    "\n",
    "fig.suptitle('Distribution of added friends/day by users in the last week', fontsize=12, fontweight='bold')\n",
    "fig.set_figheight(7) \n",
    "fig.set_figwidth(15)\n",
    "\n",
    "ax1.hist(added_friend_day_canc_lweek, bins=100)\n",
    "ax1.set_xlabel('# of added friends/day', fontsize=11)\n",
    "ax1.set_ylabel('# of users', fontsize=11)\n",
    "ax1.set_title('Cancelling Users', fontsize=11,fontweight='bold')\n",
    "\n",
    "ax2.hist(added_friend_day_stay_lweek, bins=100)\n",
    "ax2.set_xlabel('# of added friends/day', fontsize=11)\n",
    "ax2.set_ylabel('# of users', fontsize=11)\n",
    "ax2.set_title('Staying Users', fontsize=11,fontweight='bold');\n",
    "\n",
    "%matplot plt"
   ]
  },
  {
   "cell_type": "code",
   "execution_count": 64,
   "id": "53cb0bcf",
   "metadata": {},
   "outputs": [
    {
     "data": {
      "application/vnd.jupyter.widget-view+json": {
       "model_id": "133e4c146b11478bb8af9c57bb8e004a",
       "version_major": 2,
       "version_minor": 0
      },
      "text/plain": [
       "VBox()"
      ]
     },
     "metadata": {},
     "output_type": "display_data"
    },
    {
     "data": {
      "application/vnd.jupyter.widget-view+json": {
       "model_id": "",
       "version_major": 2,
       "version_minor": 0
      },
      "text/plain": [
       "FloatProgress(value=0.0, bar_style='info', description='Progress:', layout=Layout(height='25px', width='50%'),…"
      ]
     },
     "metadata": {},
     "output_type": "display_data"
    },
    {
     "name": "stdout",
     "output_type": "stream",
     "text": [
      "---------------------------------------------------------------------\n",
      "Added friend per day statistics for users that cancelled - last week:\n",
      "Mean =  0.78 ; Std. Dev. =  0.83\n",
      "---------------------------------------------------------------------\n",
      "Added friend per day statistics for users that stay - last week:\n",
      "Mean =  0.54 ; Std. Dev. =  0.67\n",
      "---------------------------------------------------------------------"
     ]
    }
   ],
   "source": [
    "# Look at the statistics\n",
    "stats_added_friend_canc_lweek = spark.createDataFrame(added_friend_day_canc_lweek, FloatType()).describe().collect()\n",
    "stats_added_friend_stay_lweek = spark.createDataFrame(added_friend_day_stay_lweek, FloatType()).describe().collect()\n",
    "\n",
    "print('---------------------------------------------------------------------')\n",
    "print('Added friend per day statistics for users that cancelled - last week:')\n",
    "print('Mean = ', '{:.2f}'.format(float(stats_added_friend_canc_lweek[1][1])), \\\n",
    "      '; Std. Dev. = ',  '{:.2f}'.format(float(stats_added_friend_canc_lweek[2][1])))\n",
    "print('---------------------------------------------------------------------')\n",
    "print('Added friend per day statistics for users that stay - last week:')\n",
    "print('Mean = ', '{:.2f}'.format(float(stats_added_friend_stay_lweek[1][1])), \\\n",
    "      '; Std. Dev. = ',  '{:.2f}'.format(float(stats_added_friend_stay_lweek[2][1])))\n",
    "print('---------------------------------------------------------------------')"
   ]
  },
  {
   "cell_type": "markdown",
   "id": "f3768475",
   "metadata": {},
   "source": [
    "#### 3.2.2. Thumbs up"
   ]
  },
  {
   "cell_type": "code",
   "execution_count": 65,
   "id": "2dbae273",
   "metadata": {},
   "outputs": [
    {
     "data": {
      "application/vnd.jupyter.widget-view+json": {
       "model_id": "474a609d1ed24873882ce04c9b696769",
       "version_major": 2,
       "version_minor": 0
      },
      "text/plain": [
       "VBox()"
      ]
     },
     "metadata": {},
     "output_type": "display_data"
    },
    {
     "data": {
      "application/vnd.jupyter.widget-view+json": {
       "model_id": "",
       "version_major": 2,
       "version_minor": 0
      },
      "text/plain": [
       "FloatProgress(value=0.0, bar_style='info', description='Progress:', layout=Layout(height='25px', width='50%'),…"
      ]
     },
     "metadata": {},
     "output_type": "display_data"
    }
   ],
   "source": [
    "# Select, for every user that cancelled, the number of thumbs up given and the time window of the analysis\n",
    "thumbs_up_canc = df_user_log_cancelled.\\\n",
    "                groupBy(\"userId\").\\\n",
    "                agg(F.max(\"data_days\"), F.max(\"total_thumbs_up\")).collect()"
   ]
  },
  {
   "cell_type": "code",
   "execution_count": 66,
   "id": "190a77e7",
   "metadata": {},
   "outputs": [
    {
     "data": {
      "application/vnd.jupyter.widget-view+json": {
       "model_id": "76b0e9ef1ea24bdb9f462bafa231031f",
       "version_major": 2,
       "version_minor": 0
      },
      "text/plain": [
       "VBox()"
      ]
     },
     "metadata": {},
     "output_type": "display_data"
    },
    {
     "data": {
      "application/vnd.jupyter.widget-view+json": {
       "model_id": "",
       "version_major": 2,
       "version_minor": 0
      },
      "text/plain": [
       "FloatProgress(value=0.0, bar_style='info', description='Progress:', layout=Layout(height='25px', width='50%'),…"
      ]
     },
     "metadata": {},
     "output_type": "display_data"
    }
   ],
   "source": [
    "# Get the number of thumbs up given, on average\n",
    "thumbs_up_day_canc = [thumbs_given[2]/thumbs_given[1] for thumbs_given in thumbs_up_canc]"
   ]
  },
  {
   "cell_type": "code",
   "execution_count": 67,
   "id": "8deb4275",
   "metadata": {},
   "outputs": [
    {
     "data": {
      "application/vnd.jupyter.widget-view+json": {
       "model_id": "a02ff8ceed15492fb1426c4f77767a58",
       "version_major": 2,
       "version_minor": 0
      },
      "text/plain": [
       "VBox()"
      ]
     },
     "metadata": {},
     "output_type": "display_data"
    },
    {
     "data": {
      "application/vnd.jupyter.widget-view+json": {
       "model_id": "",
       "version_major": 2,
       "version_minor": 0
      },
      "text/plain": [
       "FloatProgress(value=0.0, bar_style='info', description='Progress:', layout=Layout(height='25px', width='50%'),…"
      ]
     },
     "metadata": {},
     "output_type": "display_data"
    }
   ],
   "source": [
    "# Select, for every user that is staying, the number of thumbs up given and the time window of the analysis\n",
    "thumbs_up_stay = df_user_log_staying.\\\n",
    "                groupBy(\"userId\").\\\n",
    "                agg(F.max(\"data_days\"), F.max(\"total_thumbs_up\")).collect()"
   ]
  },
  {
   "cell_type": "code",
   "execution_count": 68,
   "id": "67dd7baf",
   "metadata": {},
   "outputs": [
    {
     "data": {
      "application/vnd.jupyter.widget-view+json": {
       "model_id": "d2363147ea26420c8fa0fbb84bc7b837",
       "version_major": 2,
       "version_minor": 0
      },
      "text/plain": [
       "VBox()"
      ]
     },
     "metadata": {},
     "output_type": "display_data"
    },
    {
     "data": {
      "application/vnd.jupyter.widget-view+json": {
       "model_id": "",
       "version_major": 2,
       "version_minor": 0
      },
      "text/plain": [
       "FloatProgress(value=0.0, bar_style='info', description='Progress:', layout=Layout(height='25px', width='50%'),…"
      ]
     },
     "metadata": {},
     "output_type": "display_data"
    }
   ],
   "source": [
    "# Get the number of thumbs up given, on average\n",
    "thumbs_up_day_stay = [thumbs_given[2]/thumbs_given[1] for thumbs_given in thumbs_up_stay]"
   ]
  },
  {
   "cell_type": "code",
   "execution_count": 69,
   "id": "ace73fe9",
   "metadata": {},
   "outputs": [
    {
     "data": {
      "application/vnd.jupyter.widget-view+json": {
       "model_id": "b791b9f447824373bff95071b4f70bec",
       "version_major": 2,
       "version_minor": 0
      },
      "text/plain": [
       "VBox()"
      ]
     },
     "metadata": {},
     "output_type": "display_data"
    },
    {
     "data": {
      "application/vnd.jupyter.widget-view+json": {
       "model_id": "",
       "version_major": 2,
       "version_minor": 0
      },
      "text/plain": [
       "FloatProgress(value=0.0, bar_style='info', description='Progress:', layout=Layout(height='25px', width='50%'),…"
      ]
     },
     "metadata": {},
     "output_type": "display_data"
    },
    {
     "data": {
      "image/png": "[encoded data removed]",
      "text/plain": [
       "<IPython.core.display.Image object>"
      ]
     },
     "metadata": {},
     "output_type": "display_data"
    }
   ],
   "source": [
    "# Plot histogram for thumbs up\n",
    "fig, (ax1, ax2) = plt.subplots(1, 2)\n",
    "\n",
    "fig.suptitle('Distribution of thumbs up given/day by users', fontsize=12, fontweight='bold')\n",
    "fig.set_figheight(7) \n",
    "fig.set_figwidth(15)\n",
    "\n",
    "ax1.hist(thumbs_up_day_canc, bins=100)\n",
    "ax1.set_xlabel('# of thumbs up given/day', fontsize=11)\n",
    "ax1.set_ylabel('# of users', fontsize=11)\n",
    "ax1.set_title('Cancelling Users', fontsize=11,fontweight='bold')\n",
    "\n",
    "ax2.hist(thumbs_up_day_stay, bins=100)\n",
    "ax2.set_xlabel('# of thumbs up given/day', fontsize=11)\n",
    "ax2.set_ylabel('# of users', fontsize=11)\n",
    "ax2.set_title('Staying Users', fontsize=11,fontweight='bold');\n",
    "\n",
    "%matplot plt"
   ]
  },
  {
   "cell_type": "code",
   "execution_count": 70,
   "id": "4484f190",
   "metadata": {},
   "outputs": [
    {
     "data": {
      "application/vnd.jupyter.widget-view+json": {
       "model_id": "5ea291a37fea49e98e5f121a48386b5d",
       "version_major": 2,
       "version_minor": 0
      },
      "text/plain": [
       "VBox()"
      ]
     },
     "metadata": {},
     "output_type": "display_data"
    },
    {
     "data": {
      "application/vnd.jupyter.widget-view+json": {
       "model_id": "",
       "version_major": 2,
       "version_minor": 0
      },
      "text/plain": [
       "FloatProgress(value=0.0, bar_style='info', description='Progress:', layout=Layout(height='25px', width='50%'),…"
      ]
     },
     "metadata": {},
     "output_type": "display_data"
    },
    {
     "name": "stdout",
     "output_type": "stream",
     "text": [
      "------------------------------------------------------------\n",
      "Thumbs up given per day statistics for users that cancelled:\n",
      "Mean =  1.88 ; Std. Dev. =  1.71\n",
      "------------------------------------------------------------\n",
      "Thumbs up given per day statistics for users that stay:\n",
      "Mean =  1.23 ; Std. Dev. =  1.30\n",
      "------------------------------------------------------------"
     ]
    }
   ],
   "source": [
    "# Look at the statistics\n",
    "stats_thumbs_up_canc = spark.createDataFrame(thumbs_up_day_canc, FloatType()).describe().collect()\n",
    "stats_thumbs_up_stay = spark.createDataFrame(thumbs_up_day_stay, FloatType()).describe().collect()\n",
    "\n",
    "print('------------------------------------------------------------')\n",
    "print('Thumbs up given per day statistics for users that cancelled:')\n",
    "print('Mean = ', '{:.2f}'.format(float(stats_thumbs_up_canc[1][1])), \\\n",
    "      '; Std. Dev. = ',  '{:.2f}'.format(float(stats_thumbs_up_canc[2][1])))\n",
    "print('------------------------------------------------------------')\n",
    "print('Thumbs up given per day statistics for users that stay:')\n",
    "print('Mean = ', '{:.2f}'.format(float(stats_thumbs_up_stay[1][1])), \\\n",
    "      '; Std. Dev. = ',  '{:.2f}'.format(float(stats_thumbs_up_stay[2][1])))\n",
    "print('------------------------------------------------------------')"
   ]
  },
  {
   "cell_type": "markdown",
   "id": "af22a047",
   "metadata": {},
   "source": [
    "We can check if anything changes during last week:"
   ]
  },
  {
   "cell_type": "code",
   "execution_count": 71,
   "id": "74c77eb0",
   "metadata": {},
   "outputs": [
    {
     "data": {
      "application/vnd.jupyter.widget-view+json": {
       "model_id": "7be298abc8ba496dadf67ddc984b2a74",
       "version_major": 2,
       "version_minor": 0
      },
      "text/plain": [
       "VBox()"
      ]
     },
     "metadata": {},
     "output_type": "display_data"
    },
    {
     "data": {
      "application/vnd.jupyter.widget-view+json": {
       "model_id": "",
       "version_major": 2,
       "version_minor": 0
      },
      "text/plain": [
       "FloatProgress(value=0.0, bar_style='info', description='Progress:', layout=Layout(height='25px', width='50%'),…"
      ]
     },
     "metadata": {},
     "output_type": "display_data"
    }
   ],
   "source": [
    "# Select, for every user that cancelled, the number of thumbs up given in the last week\n",
    "thumbs_up_canc_lweek = df_user_log_cancelled_lweek.\\\n",
    "                groupBy(\"userId\").\\\n",
    "                agg(F.sum(\"thumbs_up\")).collect()"
   ]
  },
  {
   "cell_type": "code",
   "execution_count": 72,
   "id": "fe8204a4",
   "metadata": {},
   "outputs": [
    {
     "data": {
      "application/vnd.jupyter.widget-view+json": {
       "model_id": "a9de84bb180e4424ab57aa02f3d7c3e0",
       "version_major": 2,
       "version_minor": 0
      },
      "text/plain": [
       "VBox()"
      ]
     },
     "metadata": {},
     "output_type": "display_data"
    },
    {
     "data": {
      "application/vnd.jupyter.widget-view+json": {
       "model_id": "",
       "version_major": 2,
       "version_minor": 0
      },
      "text/plain": [
       "FloatProgress(value=0.0, bar_style='info', description='Progress:', layout=Layout(height='25px', width='50%'),…"
      ]
     },
     "metadata": {},
     "output_type": "display_data"
    }
   ],
   "source": [
    "# Get the number of thumbs up given per day, on average\n",
    "thumbs_up_day_canc_lweek = [thumbs_given[1]/7 for thumbs_given in thumbs_up_canc_lweek]"
   ]
  },
  {
   "cell_type": "code",
   "execution_count": 73,
   "id": "8c430926",
   "metadata": {},
   "outputs": [
    {
     "data": {
      "application/vnd.jupyter.widget-view+json": {
       "model_id": "9898bfd60b154ecd952383c47f85cb72",
       "version_major": 2,
       "version_minor": 0
      },
      "text/plain": [
       "VBox()"
      ]
     },
     "metadata": {},
     "output_type": "display_data"
    },
    {
     "data": {
      "application/vnd.jupyter.widget-view+json": {
       "model_id": "",
       "version_major": 2,
       "version_minor": 0
      },
      "text/plain": [
       "FloatProgress(value=0.0, bar_style='info', description='Progress:', layout=Layout(height='25px', width='50%'),…"
      ]
     },
     "metadata": {},
     "output_type": "display_data"
    }
   ],
   "source": [
    "# Select, for every user that is staying, the number of thumbs up given in the last week\n",
    "thumbs_up_stay_lweek = df_user_log_staying_lweek.\\\n",
    "                groupBy(\"userId\").\\\n",
    "                agg(F.sum(\"thumbs_up\")).collect()"
   ]
  },
  {
   "cell_type": "code",
   "execution_count": 74,
   "id": "381a6f48",
   "metadata": {},
   "outputs": [
    {
     "data": {
      "application/vnd.jupyter.widget-view+json": {
       "model_id": "255648f4727143d68df5ddd9bce8daf6",
       "version_major": 2,
       "version_minor": 0
      },
      "text/plain": [
       "VBox()"
      ]
     },
     "metadata": {},
     "output_type": "display_data"
    },
    {
     "data": {
      "application/vnd.jupyter.widget-view+json": {
       "model_id": "",
       "version_major": 2,
       "version_minor": 0
      },
      "text/plain": [
       "FloatProgress(value=0.0, bar_style='info', description='Progress:', layout=Layout(height='25px', width='50%'),…"
      ]
     },
     "metadata": {},
     "output_type": "display_data"
    }
   ],
   "source": [
    "# Get the number of thumbs up given per day, on average\n",
    "thumbs_up_day_stay_lweek = [thumbs_given[1]/7 for thumbs_given in thumbs_up_stay_lweek]"
   ]
  },
  {
   "cell_type": "code",
   "execution_count": 75,
   "id": "b52f9869",
   "metadata": {},
   "outputs": [
    {
     "data": {
      "application/vnd.jupyter.widget-view+json": {
       "model_id": "2dcde7bf4fcc4b89810653150f850357",
       "version_major": 2,
       "version_minor": 0
      },
      "text/plain": [
       "VBox()"
      ]
     },
     "metadata": {},
     "output_type": "display_data"
    },
    {
     "data": {
      "application/vnd.jupyter.widget-view+json": {
       "model_id": "",
       "version_major": 2,
       "version_minor": 0
      },
      "text/plain": [
       "FloatProgress(value=0.0, bar_style='info', description='Progress:', layout=Layout(height='25px', width='50%'),…"
      ]
     },
     "metadata": {},
     "output_type": "display_data"
    },
    {
     "data": {
      "image/png": "[encoded data removed]",
      "text/plain": [
       "<IPython.core.display.Image object>"
      ]
     },
     "metadata": {},
     "output_type": "display_data"
    }
   ],
   "source": [
    "# Plot histogram for thumbs up\n",
    "fig, (ax1, ax2) = plt.subplots(1, 2)\n",
    "\n",
    "fig.suptitle('Distribution of thumbs up given/day by users in the last week', fontsize=12, fontweight='bold')\n",
    "fig.set_figheight(7) \n",
    "fig.set_figwidth(15)\n",
    "\n",
    "ax1.hist(thumbs_up_day_canc_lweek, bins=100)\n",
    "ax1.set_xlabel('# of thumbs up given/day', fontsize=11)\n",
    "ax1.set_ylabel('# of users', fontsize=11)\n",
    "ax1.set_title('Cancelling Users', fontsize=11,fontweight='bold')\n",
    "\n",
    "ax2.hist(thumbs_up_day_stay_lweek, bins=100)\n",
    "ax2.set_xlabel('# of thumbs up given/day', fontsize=11)\n",
    "ax2.set_ylabel('# of users', fontsize=11)\n",
    "ax2.set_title('Staying Users', fontsize=11,fontweight='bold');\n",
    "\n",
    "%matplot plt"
   ]
  },
  {
   "cell_type": "code",
   "execution_count": 76,
   "id": "01bf4813",
   "metadata": {},
   "outputs": [
    {
     "data": {
      "application/vnd.jupyter.widget-view+json": {
       "model_id": "415344e6527b4d2e9d9b045fc3eb18c8",
       "version_major": 2,
       "version_minor": 0
      },
      "text/plain": [
       "VBox()"
      ]
     },
     "metadata": {},
     "output_type": "display_data"
    },
    {
     "data": {
      "application/vnd.jupyter.widget-view+json": {
       "model_id": "",
       "version_major": 2,
       "version_minor": 0
      },
      "text/plain": [
       "FloatProgress(value=0.0, bar_style='info', description='Progress:', layout=Layout(height='25px', width='50%'),…"
      ]
     },
     "metadata": {},
     "output_type": "display_data"
    },
    {
     "name": "stdout",
     "output_type": "stream",
     "text": [
      "------------------------------------------------------------------------\n",
      "Thumbs up given per day statistics for users that cancelled - last week:\n",
      "Mean =  2.21 ; Std. Dev. =  2.16\n",
      "------------------------------------------------------------------------\n",
      "Thumbs up given per day statistics for users that stay - last week:\n",
      "Mean =  1.62 ; Std. Dev. =  1.83\n",
      "------------------------------------------------------------------------"
     ]
    }
   ],
   "source": [
    "# Look at the statistics\n",
    "stats_thumbs_up_canc_lweek = spark.createDataFrame(thumbs_up_day_canc_lweek, FloatType()).describe().collect()\n",
    "stats_thumbs_up_stay_lweek = spark.createDataFrame(thumbs_up_day_stay_lweek, FloatType()).describe().collect()\n",
    "\n",
    "print('------------------------------------------------------------------------')\n",
    "print('Thumbs up given per day statistics for users that cancelled - last week:')\n",
    "print('Mean = ', '{:.2f}'.format(float(stats_thumbs_up_canc_lweek[1][1])), \\\n",
    "      '; Std. Dev. = ',  '{:.2f}'.format(float(stats_thumbs_up_canc_lweek[2][1])))\n",
    "print('------------------------------------------------------------------------')\n",
    "print('Thumbs up given per day statistics for users that stay - last week:')\n",
    "print('Mean = ', '{:.2f}'.format(float(stats_thumbs_up_stay_lweek[1][1])), \\\n",
    "      '; Std. Dev. = ',  '{:.2f}'.format(float(stats_thumbs_up_stay_lweek[2][1])))\n",
    "print('------------------------------------------------------------------------')"
   ]
  },
  {
   "cell_type": "markdown",
   "id": "7c9def00",
   "metadata": {},
   "source": [
    "#### 3.2.3. Thumbs down"
   ]
  },
  {
   "cell_type": "code",
   "execution_count": 77,
   "id": "6c7f54c7",
   "metadata": {},
   "outputs": [
    {
     "data": {
      "application/vnd.jupyter.widget-view+json": {
       "model_id": "6203ea0f926d421f923655616f7c9dbb",
       "version_major": 2,
       "version_minor": 0
      },
      "text/plain": [
       "VBox()"
      ]
     },
     "metadata": {},
     "output_type": "display_data"
    },
    {
     "data": {
      "application/vnd.jupyter.widget-view+json": {
       "model_id": "",
       "version_major": 2,
       "version_minor": 0
      },
      "text/plain": [
       "FloatProgress(value=0.0, bar_style='info', description='Progress:', layout=Layout(height='25px', width='50%'),…"
      ]
     },
     "metadata": {},
     "output_type": "display_data"
    }
   ],
   "source": [
    "# Select, for every user that cancelled, the number of thumbs down given and the time window of the analysis\n",
    "thumbs_dwn_canc = df_user_log_cancelled.\\\n",
    "                groupBy(\"userId\").\\\n",
    "                agg(F.max(\"data_days\"), F.max(\"total_thumbs_dwn\")).collect()"
   ]
  },
  {
   "cell_type": "code",
   "execution_count": 78,
   "id": "7b912788",
   "metadata": {},
   "outputs": [
    {
     "data": {
      "application/vnd.jupyter.widget-view+json": {
       "model_id": "542b9b4f629c4b35a7683bbc0a7985d0",
       "version_major": 2,
       "version_minor": 0
      },
      "text/plain": [
       "VBox()"
      ]
     },
     "metadata": {},
     "output_type": "display_data"
    },
    {
     "data": {
      "application/vnd.jupyter.widget-view+json": {
       "model_id": "",
       "version_major": 2,
       "version_minor": 0
      },
      "text/plain": [
       "FloatProgress(value=0.0, bar_style='info', description='Progress:', layout=Layout(height='25px', width='50%'),…"
      ]
     },
     "metadata": {},
     "output_type": "display_data"
    }
   ],
   "source": [
    "# Get the number of thumbs down given, on average\n",
    "thumbs_dwn_day_canc = [thumbs_given[2]/thumbs_given[1] for thumbs_given in thumbs_dwn_canc]"
   ]
  },
  {
   "cell_type": "code",
   "execution_count": 79,
   "id": "0f52c9f2",
   "metadata": {},
   "outputs": [
    {
     "data": {
      "application/vnd.jupyter.widget-view+json": {
       "model_id": "1377ad532b9e478c9776a034033f315f",
       "version_major": 2,
       "version_minor": 0
      },
      "text/plain": [
       "VBox()"
      ]
     },
     "metadata": {},
     "output_type": "display_data"
    },
    {
     "data": {
      "application/vnd.jupyter.widget-view+json": {
       "model_id": "",
       "version_major": 2,
       "version_minor": 0
      },
      "text/plain": [
       "FloatProgress(value=0.0, bar_style='info', description='Progress:', layout=Layout(height='25px', width='50%'),…"
      ]
     },
     "metadata": {},
     "output_type": "display_data"
    }
   ],
   "source": [
    "# Select, for every user that is staying, the number of thumbs down given and the time window of the analysis\n",
    "thumbs_dwn_stay = df_user_log_staying.\\\n",
    "                groupBy(\"userId\").\\\n",
    "                agg(F.max(\"data_days\"), F.max(\"total_thumbs_dwn\")).collect()"
   ]
  },
  {
   "cell_type": "code",
   "execution_count": 80,
   "id": "41eab5de",
   "metadata": {},
   "outputs": [
    {
     "data": {
      "application/vnd.jupyter.widget-view+json": {
       "model_id": "836454cde4644d61bd3fba75e3f0310f",
       "version_major": 2,
       "version_minor": 0
      },
      "text/plain": [
       "VBox()"
      ]
     },
     "metadata": {},
     "output_type": "display_data"
    },
    {
     "data": {
      "application/vnd.jupyter.widget-view+json": {
       "model_id": "",
       "version_major": 2,
       "version_minor": 0
      },
      "text/plain": [
       "FloatProgress(value=0.0, bar_style='info', description='Progress:', layout=Layout(height='25px', width='50%'),…"
      ]
     },
     "metadata": {},
     "output_type": "display_data"
    }
   ],
   "source": [
    "# Get the number of thumbs down given, on average\n",
    "thumbs_dwn_day_stay = [thumbs_given[2]/thumbs_given[1] for thumbs_given in thumbs_dwn_stay]"
   ]
  },
  {
   "cell_type": "code",
   "execution_count": 81,
   "id": "bf850580",
   "metadata": {},
   "outputs": [
    {
     "data": {
      "application/vnd.jupyter.widget-view+json": {
       "model_id": "16540b55a65c48f49bffb72cf87fe676",
       "version_major": 2,
       "version_minor": 0
      },
      "text/plain": [
       "VBox()"
      ]
     },
     "metadata": {},
     "output_type": "display_data"
    },
    {
     "data": {
      "application/vnd.jupyter.widget-view+json": {
       "model_id": "",
       "version_major": 2,
       "version_minor": 0
      },
      "text/plain": [
       "FloatProgress(value=0.0, bar_style='info', description='Progress:', layout=Layout(height='25px', width='50%'),…"
      ]
     },
     "metadata": {},
     "output_type": "display_data"
    },
    {
     "data": {
      "image/png": "[encoded data removed]",
      "text/plain": [
       "<IPython.core.display.Image object>"
      ]
     },
     "metadata": {},
     "output_type": "display_data"
    }
   ],
   "source": [
    "# Plot histogram for thumbs down\n",
    "fig, (ax1, ax2) = plt.subplots(1, 2)\n",
    "\n",
    "fig.suptitle('Distribution of thumbs down given/day by users', fontsize=12, fontweight='bold')\n",
    "fig.set_figheight(7) \n",
    "fig.set_figwidth(15)\n",
    "\n",
    "ax1.hist(thumbs_dwn_day_canc, bins=100)\n",
    "ax1.set_xlabel('# of thumbs down given/day', fontsize=11)\n",
    "ax1.set_ylabel('# of users', fontsize=11)\n",
    "ax1.set_title('Cancelling Users', fontsize=11,fontweight='bold')\n",
    "\n",
    "ax2.hist(thumbs_dwn_day_stay, bins=100)\n",
    "ax2.set_xlabel('# of thumbs down given/day', fontsize=11)\n",
    "ax2.set_ylabel('# of users', fontsize=11)\n",
    "ax2.set_title('Staying Users', fontsize=11,fontweight='bold');\n",
    "\n",
    "%matplot plt"
   ]
  },
  {
   "cell_type": "code",
   "execution_count": 82,
   "id": "6b59d1bc",
   "metadata": {},
   "outputs": [
    {
     "data": {
      "application/vnd.jupyter.widget-view+json": {
       "model_id": "e0e9f1798d5042e2929754bd16785620",
       "version_major": 2,
       "version_minor": 0
      },
      "text/plain": [
       "VBox()"
      ]
     },
     "metadata": {},
     "output_type": "display_data"
    },
    {
     "data": {
      "application/vnd.jupyter.widget-view+json": {
       "model_id": "",
       "version_major": 2,
       "version_minor": 0
      },
      "text/plain": [
       "FloatProgress(value=0.0, bar_style='info', description='Progress:', layout=Layout(height='25px', width='50%'),…"
      ]
     },
     "metadata": {},
     "output_type": "display_data"
    },
    {
     "name": "stdout",
     "output_type": "stream",
     "text": [
      "--------------------------------------------------------------\n",
      "Thumbs down given per day statistics for users that cancelled:\n",
      "Mean =  0.48 ; Std. Dev. =  0.43\n",
      "--------------------------------------------------------------\n",
      "Thumbs down per day statistics for users that stay:\n",
      "Mean =  0.27 ; Std. Dev. =  0.29\n",
      "--------------------------------------------------------------"
     ]
    }
   ],
   "source": [
    "# Look at the statistics\n",
    "stats_thumbs_dwn_canc = spark.createDataFrame(thumbs_dwn_day_canc, FloatType()).describe().collect()\n",
    "stats_thumbs_dwn_stay = spark.createDataFrame(thumbs_dwn_day_stay, FloatType()).describe().collect()\n",
    "\n",
    "print('--------------------------------------------------------------')\n",
    "print('Thumbs down given per day statistics for users that cancelled:')\n",
    "print('Mean = ', '{:.2f}'.format(float(stats_thumbs_dwn_canc[1][1])), \\\n",
    "      '; Std. Dev. = ',  '{:.2f}'.format(float(stats_thumbs_dwn_canc[2][1])))\n",
    "print('--------------------------------------------------------------')\n",
    "print('Thumbs down per day statistics for users that stay:')\n",
    "print('Mean = ', '{:.2f}'.format(float(stats_thumbs_dwn_stay[1][1])), \\\n",
    "      '; Std. Dev. = ',  '{:.2f}'.format(float(stats_thumbs_dwn_stay[2][1])))\n",
    "print('--------------------------------------------------------------')"
   ]
  },
  {
   "cell_type": "markdown",
   "id": "d53f2645",
   "metadata": {},
   "source": [
    "We can check if anything changes during last week:"
   ]
  },
  {
   "cell_type": "code",
   "execution_count": 83,
   "id": "611538ed",
   "metadata": {},
   "outputs": [
    {
     "data": {
      "application/vnd.jupyter.widget-view+json": {
       "model_id": "2b13695bf99541cba8552566a337af3f",
       "version_major": 2,
       "version_minor": 0
      },
      "text/plain": [
       "VBox()"
      ]
     },
     "metadata": {},
     "output_type": "display_data"
    },
    {
     "data": {
      "application/vnd.jupyter.widget-view+json": {
       "model_id": "",
       "version_major": 2,
       "version_minor": 0
      },
      "text/plain": [
       "FloatProgress(value=0.0, bar_style='info', description='Progress:', layout=Layout(height='25px', width='50%'),…"
      ]
     },
     "metadata": {},
     "output_type": "display_data"
    }
   ],
   "source": [
    "# Select, for every user that cancelled, the number of thumbs down given in the last week\n",
    "thumbs_dwn_canc_lweek = df_user_log_cancelled_lweek.\\\n",
    "                groupBy(\"userId\").\\\n",
    "                agg(F.sum(\"thumbs_dwn\")).collect()"
   ]
  },
  {
   "cell_type": "code",
   "execution_count": 84,
   "id": "03d4f4bb",
   "metadata": {},
   "outputs": [
    {
     "data": {
      "application/vnd.jupyter.widget-view+json": {
       "model_id": "e5f749ae701e4bf9bd4df12ac7d5ca6c",
       "version_major": 2,
       "version_minor": 0
      },
      "text/plain": [
       "VBox()"
      ]
     },
     "metadata": {},
     "output_type": "display_data"
    },
    {
     "data": {
      "application/vnd.jupyter.widget-view+json": {
       "model_id": "",
       "version_major": 2,
       "version_minor": 0
      },
      "text/plain": [
       "FloatProgress(value=0.0, bar_style='info', description='Progress:', layout=Layout(height='25px', width='50%'),…"
      ]
     },
     "metadata": {},
     "output_type": "display_data"
    }
   ],
   "source": [
    "# Get the number of thumbs down given per day, on average\n",
    "thumbs_dwn_day_canc_lweek = [thumbs_given[1]/7 for thumbs_given in thumbs_dwn_canc_lweek]"
   ]
  },
  {
   "cell_type": "code",
   "execution_count": 85,
   "id": "f8638f56",
   "metadata": {},
   "outputs": [
    {
     "data": {
      "application/vnd.jupyter.widget-view+json": {
       "model_id": "85468d97330941f4aa0529f297d4aabf",
       "version_major": 2,
       "version_minor": 0
      },
      "text/plain": [
       "VBox()"
      ]
     },
     "metadata": {},
     "output_type": "display_data"
    },
    {
     "data": {
      "application/vnd.jupyter.widget-view+json": {
       "model_id": "",
       "version_major": 2,
       "version_minor": 0
      },
      "text/plain": [
       "FloatProgress(value=0.0, bar_style='info', description='Progress:', layout=Layout(height='25px', width='50%'),…"
      ]
     },
     "metadata": {},
     "output_type": "display_data"
    }
   ],
   "source": [
    "# Select, for every user that is staying, the number of thumbs down given in the last week\n",
    "thumbs_dwn_stay_lweek = df_user_log_staying_lweek.\\\n",
    "                groupBy(\"userId\").\\\n",
    "                agg(F.sum(\"thumbs_dwn\")).collect()"
   ]
  },
  {
   "cell_type": "code",
   "execution_count": 86,
   "id": "11779397",
   "metadata": {},
   "outputs": [
    {
     "data": {
      "application/vnd.jupyter.widget-view+json": {
       "model_id": "d59f251766534de3a3878739b6a076b7",
       "version_major": 2,
       "version_minor": 0
      },
      "text/plain": [
       "VBox()"
      ]
     },
     "metadata": {},
     "output_type": "display_data"
    },
    {
     "data": {
      "application/vnd.jupyter.widget-view+json": {
       "model_id": "",
       "version_major": 2,
       "version_minor": 0
      },
      "text/plain": [
       "FloatProgress(value=0.0, bar_style='info', description='Progress:', layout=Layout(height='25px', width='50%'),…"
      ]
     },
     "metadata": {},
     "output_type": "display_data"
    }
   ],
   "source": [
    "# Get the number of thumbs down given per day, on average\n",
    "thumbs_dwn_day_stay_lweek = [thumbs_given[1]/7 for thumbs_given in thumbs_dwn_stay_lweek]"
   ]
  },
  {
   "cell_type": "code",
   "execution_count": 87,
   "id": "b22cc7ea",
   "metadata": {},
   "outputs": [
    {
     "data": {
      "application/vnd.jupyter.widget-view+json": {
       "model_id": "d3a01eac7e3f49f2849d00a3a24e42b5",
       "version_major": 2,
       "version_minor": 0
      },
      "text/plain": [
       "VBox()"
      ]
     },
     "metadata": {},
     "output_type": "display_data"
    },
    {
     "data": {
      "application/vnd.jupyter.widget-view+json": {
       "model_id": "",
       "version_major": 2,
       "version_minor": 0
      },
      "text/plain": [
       "FloatProgress(value=0.0, bar_style='info', description='Progress:', layout=Layout(height='25px', width='50%'),…"
      ]
     },
     "metadata": {},
     "output_type": "display_data"
    },
    {
     "data": {
      "image/png": "[encoded data removed]",
      "text/plain": [
       "<IPython.core.display.Image object>"
      ]
     },
     "metadata": {},
     "output_type": "display_data"
    }
   ],
   "source": [
    "# Plot histogram for thumbs down\n",
    "fig, (ax1, ax2) = plt.subplots(1, 2)\n",
    "\n",
    "fig.suptitle('Distribution of thumbs down given/day by users in the last week', fontsize=12, fontweight='bold')\n",
    "fig.set_figheight(7) \n",
    "fig.set_figwidth(15)\n",
    "\n",
    "ax1.hist(thumbs_dwn_day_canc_lweek, bins=100)\n",
    "ax1.set_xlabel('# of thumbs down given/day', fontsize=11)\n",
    "ax1.set_ylabel('# of users', fontsize=11)\n",
    "ax1.set_title('Cancelling Users', fontsize=11,fontweight='bold')\n",
    "\n",
    "ax2.hist(thumbs_dwn_day_stay_lweek, bins=100)\n",
    "ax2.set_xlabel('# of thumbs down given/day', fontsize=11)\n",
    "ax2.set_ylabel('# of users', fontsize=11)\n",
    "ax2.set_title('Staying Users', fontsize=11,fontweight='bold');\n",
    "\n",
    "%matplot plt"
   ]
  },
  {
   "cell_type": "code",
   "execution_count": 88,
   "id": "bddb9621",
   "metadata": {},
   "outputs": [
    {
     "data": {
      "application/vnd.jupyter.widget-view+json": {
       "model_id": "909904066049463da3d0418584230d89",
       "version_major": 2,
       "version_minor": 0
      },
      "text/plain": [
       "VBox()"
      ]
     },
     "metadata": {},
     "output_type": "display_data"
    },
    {
     "data": {
      "application/vnd.jupyter.widget-view+json": {
       "model_id": "",
       "version_major": 2,
       "version_minor": 0
      },
      "text/plain": [
       "FloatProgress(value=0.0, bar_style='info', description='Progress:', layout=Layout(height='25px', width='50%'),…"
      ]
     },
     "metadata": {},
     "output_type": "display_data"
    },
    {
     "name": "stdout",
     "output_type": "stream",
     "text": [
      "--------------------------------------------------------------------------\n",
      "Thumbs down given per day statistics for users that cancelled - last week:\n",
      "Mean =  0.56 ; Std. Dev. =  0.56\n",
      "--------------------------------------------------------------------------\n",
      "Thumbs down given per day statistics for users that stay - last week:\n",
      "Mean =  0.35 ; Std. Dev. =  0.44\n",
      "--------------------------------------------------------------------------"
     ]
    }
   ],
   "source": [
    "# Look at the statistics\n",
    "stats_thumbs_dwn_canc_lweek = spark.createDataFrame(thumbs_dwn_day_canc_lweek, FloatType()).describe().collect()\n",
    "stats_thumbs_dwn_stay_lweek = spark.createDataFrame(thumbs_dwn_day_stay_lweek, FloatType()).describe().collect()\n",
    "\n",
    "print('--------------------------------------------------------------------------')\n",
    "print('Thumbs down given per day statistics for users that cancelled - last week:')\n",
    "print('Mean = ', '{:.2f}'.format(float(stats_thumbs_dwn_canc_lweek[1][1])), \\\n",
    "      '; Std. Dev. = ',  '{:.2f}'.format(float(stats_thumbs_dwn_canc_lweek[2][1])))\n",
    "print('--------------------------------------------------------------------------')\n",
    "print('Thumbs down given per day statistics for users that stay - last week:')\n",
    "print('Mean = ', '{:.2f}'.format(float(stats_thumbs_dwn_stay_lweek[1][1])), \\\n",
    "      '; Std. Dev. = ',  '{:.2f}'.format(float(stats_thumbs_dwn_stay_lweek[2][1])))\n",
    "print('--------------------------------------------------------------------------')"
   ]
  },
  {
   "cell_type": "markdown",
   "id": "4c7f7f35",
   "metadata": {},
   "source": [
    "### <a class=\"anchor\" id=\"Upgrade-Downgrade\">3.3. Submit an Upgrade/Downgrade request</a>"
   ]
  },
  {
   "cell_type": "markdown",
   "id": "c83571e2",
   "metadata": {},
   "source": [
    "We can also take a look at how many upgrade/downgrade request can be found in the various datasets, and compare that to the number of users."
   ]
  },
  {
   "cell_type": "code",
   "execution_count": 89,
   "id": "f3d9e086",
   "metadata": {},
   "outputs": [
    {
     "data": {
      "application/vnd.jupyter.widget-view+json": {
       "model_id": "7ef6c4a0e209416ab9091937e678b795",
       "version_major": 2,
       "version_minor": 0
      },
      "text/plain": [
       "VBox()"
      ]
     },
     "metadata": {},
     "output_type": "display_data"
    },
    {
     "data": {
      "application/vnd.jupyter.widget-view+json": {
       "model_id": "",
       "version_major": 2,
       "version_minor": 0
      },
      "text/plain": [
       "FloatProgress(value=0.0, bar_style='info', description='Progress:', layout=Layout(height='25px', width='50%'),…"
      ]
     },
     "metadata": {},
     "output_type": "display_data"
    }
   ],
   "source": [
    "# Calculate number of downgrades/upgrades requests for the users that cancelled\n",
    "downgrade_canc = df_user_log_cancelled.select(F.sum(\"sub_dwg\")).collect()\n",
    "upgrade_canc = df_user_log_cancelled.select(F.sum(\"sub_upg\")).collect()"
   ]
  },
  {
   "cell_type": "code",
   "execution_count": 90,
   "id": "5ba14be5",
   "metadata": {},
   "outputs": [
    {
     "data": {
      "application/vnd.jupyter.widget-view+json": {
       "model_id": "4fa2bdaa0a364b44b952834f34e45f28",
       "version_major": 2,
       "version_minor": 0
      },
      "text/plain": [
       "VBox()"
      ]
     },
     "metadata": {},
     "output_type": "display_data"
    },
    {
     "data": {
      "application/vnd.jupyter.widget-view+json": {
       "model_id": "",
       "version_major": 2,
       "version_minor": 0
      },
      "text/plain": [
       "FloatProgress(value=0.0, bar_style='info', description='Progress:', layout=Layout(height='25px', width='50%'),…"
      ]
     },
     "metadata": {},
     "output_type": "display_data"
    }
   ],
   "source": [
    "# Calculate number of downgrades/upgrades requests for the users that are staying\n",
    "downgrade_stay = df_user_log_staying.select(F.sum(\"sub_dwg\")).collect()\n",
    "upgrade_stay = df_user_log_staying.select(F.sum(\"sub_upg\")).collect()"
   ]
  },
  {
   "cell_type": "code",
   "execution_count": 91,
   "id": "41583ea3",
   "metadata": {},
   "outputs": [
    {
     "data": {
      "application/vnd.jupyter.widget-view+json": {
       "model_id": "b1569ea6f1fe44bf8a2fb1103594ce4c",
       "version_major": 2,
       "version_minor": 0
      },
      "text/plain": [
       "VBox()"
      ]
     },
     "metadata": {},
     "output_type": "display_data"
    },
    {
     "data": {
      "application/vnd.jupyter.widget-view+json": {
       "model_id": "",
       "version_major": 2,
       "version_minor": 0
      },
      "text/plain": [
       "FloatProgress(value=0.0, bar_style='info', description='Progress:', layout=Layout(height='25px', width='50%'),…"
      ]
     },
     "metadata": {},
     "output_type": "display_data"
    },
    {
     "name": "stdout",
     "output_type": "stream",
     "text": [
      "-------------------------------------------------------------\n",
      "Downgrades/Upgrades requests/number of users that cancelled:\n",
      "Absolute Downgrades =  1441\n",
      "Absolute Upgrades =  3438\n",
      "Downgrades/Num. of Users =  0.36\n",
      "Upgrades/Num. of Users =  0.87\n",
      "-------------------------------------------------------------\n",
      "Downgrades/Upgrades requests/number of users that stay:\n",
      "Absolute Downgrades =  6408\n",
      "Absolute Upgrades =  14797\n",
      "Downgrades/Num. of Users =  0.32\n",
      "Upgrades/Num. of Users =  0.73\n",
      "-------------------------------------------------------------"
     ]
    }
   ],
   "source": [
    "# Look at the values and the proportions\n",
    "print('-------------------------------------------------------------')\n",
    "print('Downgrades/Upgrades requests/number of users that cancelled:')\n",
    "print('Absolute Downgrades = ', downgrade_canc[0][0])\n",
    "print('Absolute Upgrades = ', upgrade_canc[0][0])\n",
    "print('Downgrades/Num. of Users = ', '{:.2f}'.format(downgrade_canc[0][0]/len(users_cancelled)))\n",
    "print('Upgrades/Num. of Users = ', '{:.2f}'.format(upgrade_canc[0][0]/len(users_cancelled)))\n",
    "print('-------------------------------------------------------------')\n",
    "print('Downgrades/Upgrades requests/number of users that stay:')\n",
    "print('Absolute Downgrades = ', downgrade_stay[0][0])\n",
    "print('Absolute Upgrades = ', upgrade_stay[0][0])\n",
    "print('Downgrades/Num. of Users = ', '{:.2f}'.format(downgrade_stay[0][0]/len(users_staying)))\n",
    "print('Upgrades/Num. of Users = ', '{:.2f}'.format(upgrade_stay[0][0]/len(users_staying)))\n",
    "print('-------------------------------------------------------------')"
   ]
  },
  {
   "cell_type": "markdown",
   "id": "7db4fb98",
   "metadata": {},
   "source": [
    "Let's take a look at the last week:"
   ]
  },
  {
   "cell_type": "code",
   "execution_count": 92,
   "id": "6b36feae",
   "metadata": {},
   "outputs": [
    {
     "data": {
      "application/vnd.jupyter.widget-view+json": {
       "model_id": "5064d10b424e4eb18dbe23f799c6730e",
       "version_major": 2,
       "version_minor": 0
      },
      "text/plain": [
       "VBox()"
      ]
     },
     "metadata": {},
     "output_type": "display_data"
    },
    {
     "data": {
      "application/vnd.jupyter.widget-view+json": {
       "model_id": "",
       "version_major": 2,
       "version_minor": 0
      },
      "text/plain": [
       "FloatProgress(value=0.0, bar_style='info', description='Progress:', layout=Layout(height='25px', width='50%'),…"
      ]
     },
     "metadata": {},
     "output_type": "display_data"
    }
   ],
   "source": [
    "# Calculate number of downgrades/upgrades requests for the users that cancelled - last week of data\n",
    "downgrade_canc_lweek = df_user_log_cancelled_lweek.select(F.sum(\"sub_dwg\")).collect()\n",
    "upgrade_canc_lweek = df_user_log_cancelled_lweek.select(F.sum(\"sub_upg\")).collect()"
   ]
  },
  {
   "cell_type": "code",
   "execution_count": 95,
   "id": "adb891aa",
   "metadata": {},
   "outputs": [
    {
     "data": {
      "application/vnd.jupyter.widget-view+json": {
       "model_id": "3b689bc4e92b4eceac4b69371ed52f7d",
       "version_major": 2,
       "version_minor": 0
      },
      "text/plain": [
       "VBox()"
      ]
     },
     "metadata": {},
     "output_type": "display_data"
    },
    {
     "data": {
      "application/vnd.jupyter.widget-view+json": {
       "model_id": "",
       "version_major": 2,
       "version_minor": 0
      },
      "text/plain": [
       "FloatProgress(value=0.0, bar_style='info', description='Progress:', layout=Layout(height='25px', width='50%'),…"
      ]
     },
     "metadata": {},
     "output_type": "display_data"
    }
   ],
   "source": [
    "# Calculate number of downgrades/upgrades requests for the users that are staying - last week of data\n",
    "downgrade_stay_lweek = df_user_log_staying_lweek.select(F.sum(\"sub_dwg\")).collect()\n",
    "upgrade_stay_lweek = df_user_log_staying_lweek.select(F.sum(\"sub_upg\")).collect()"
   ]
  },
  {
   "cell_type": "code",
   "execution_count": 96,
   "id": "efc30be8",
   "metadata": {},
   "outputs": [
    {
     "data": {
      "application/vnd.jupyter.widget-view+json": {
       "model_id": "56c55141c9894fff93ee56dcf9c75f72",
       "version_major": 2,
       "version_minor": 0
      },
      "text/plain": [
       "VBox()"
      ]
     },
     "metadata": {},
     "output_type": "display_data"
    },
    {
     "data": {
      "application/vnd.jupyter.widget-view+json": {
       "model_id": "",
       "version_major": 2,
       "version_minor": 0
      },
      "text/plain": [
       "FloatProgress(value=0.0, bar_style='info', description='Progress:', layout=Layout(height='25px', width='50%'),…"
      ]
     },
     "metadata": {},
     "output_type": "display_data"
    },
    {
     "name": "stdout",
     "output_type": "stream",
     "text": [
      "-----------------------------------------------------------------------------\n",
      "Downgrades/Upgrades requests for users that cancelled - last week data:\n",
      "Absolute Downgrades =  357\n",
      "Absolute Upgrades =  846\n",
      "Downgrades/Num. of Users =  0.09\n",
      "Upgrade/Num. of Users =  0.21\n",
      "-----------------------------------------------------------------------------\n",
      "Downgrades/Upgrades requests/number of users that stay - last week data:\n",
      "Absolute Downgrades =  1319\n",
      "Absolute Upgrades =  2378\n",
      "Downgrades/Num. of Users =  0.06\n",
      "Upgrade/Num. of Users =  0.12\n",
      "-----------------------------------------------------------------------------"
     ]
    }
   ],
   "source": [
    "# Look at the values and the proportions\n",
    "print('-----------------------------------------------------------------------------')\n",
    "print('Downgrades/Upgrades requests for users that cancelled - last week data:')\n",
    "print('Absolute Downgrades = ', downgrade_canc_lweek[0][0])\n",
    "print('Absolute Upgrades = ', upgrade_canc_lweek[0][0])\n",
    "print('Downgrades/Num. of Users = ', '{:.2f}'.format(downgrade_canc_lweek[0][0]/len(users_cancelled_lweek)))\n",
    "print('Upgrade/Num. of Users = ', '{:.2f}'.format(upgrade_canc_lweek[0][0]/len(users_cancelled_lweek)))\n",
    "print('-----------------------------------------------------------------------------')\n",
    "print('Downgrades/Upgrades requests/number of users that stay - last week data:')\n",
    "print('Absolute Downgrades = ', downgrade_stay_lweek[0][0])\n",
    "print('Absolute Upgrades = ', upgrade_stay_lweek[0][0])\n",
    "print('Downgrades/Num. of Users = ', '{:.2f}'.format(downgrade_stay_lweek[0][0]/len(users_staying_lweek)))\n",
    "print('Upgrade/Num. of Users = ', '{:.2f}'.format(upgrade_stay_lweek[0][0]/len(users_staying_lweek)))\n",
    "print('-----------------------------------------------------------------------------')"
   ]
  },
  {
   "cell_type": "markdown",
   "id": "eaeeb116",
   "metadata": {},
   "source": [
    "### <a class=\"anchor\" id=\"Roll-Advert\">3.4. Roll Advert</a>"
   ]
  },
  {
   "cell_type": "code",
   "execution_count": 97,
   "id": "fcfb959b",
   "metadata": {},
   "outputs": [
    {
     "data": {
      "application/vnd.jupyter.widget-view+json": {
       "model_id": "46d1e1e4968e41c18aa6d87870088fa7",
       "version_major": 2,
       "version_minor": 0
      },
      "text/plain": [
       "VBox()"
      ]
     },
     "metadata": {},
     "output_type": "display_data"
    },
    {
     "data": {
      "application/vnd.jupyter.widget-view+json": {
       "model_id": "",
       "version_major": 2,
       "version_minor": 0
      },
      "text/plain": [
       "FloatProgress(value=0.0, bar_style='info', description='Progress:', layout=Layout(height='25px', width='50%'),…"
      ]
     },
     "metadata": {},
     "output_type": "display_data"
    }
   ],
   "source": [
    "# Select, for every user that cancelled, the number of rolled adverts and the time window of the analysis\n",
    "rolled_advert_canc = df_user_log_cancelled.\\\n",
    "                groupBy(\"userId\").\\\n",
    "                agg(F.max(\"data_days\"), F.max(\"total_roll_adv\")).collect()"
   ]
  },
  {
   "cell_type": "code",
   "execution_count": 98,
   "id": "6c30d037",
   "metadata": {},
   "outputs": [
    {
     "data": {
      "application/vnd.jupyter.widget-view+json": {
       "model_id": "6c392017d4024a5ab5bd01eff6385584",
       "version_major": 2,
       "version_minor": 0
      },
      "text/plain": [
       "VBox()"
      ]
     },
     "metadata": {},
     "output_type": "display_data"
    },
    {
     "data": {
      "application/vnd.jupyter.widget-view+json": {
       "model_id": "",
       "version_major": 2,
       "version_minor": 0
      },
      "text/plain": [
       "FloatProgress(value=0.0, bar_style='info', description='Progress:', layout=Layout(height='25px', width='50%'),…"
      ]
     },
     "metadata": {},
     "output_type": "display_data"
    }
   ],
   "source": [
    "# Get the rolled advert per day, on average\n",
    "rolled_advert_day_canc = [rolled_advert[2]/rolled_advert[1] for rolled_advert in rolled_advert_canc]"
   ]
  },
  {
   "cell_type": "code",
   "execution_count": 99,
   "id": "b172ec3e",
   "metadata": {},
   "outputs": [
    {
     "data": {
      "application/vnd.jupyter.widget-view+json": {
       "model_id": "b7a14c13088f41fabe180615a91973b9",
       "version_major": 2,
       "version_minor": 0
      },
      "text/plain": [
       "VBox()"
      ]
     },
     "metadata": {},
     "output_type": "display_data"
    },
    {
     "data": {
      "application/vnd.jupyter.widget-view+json": {
       "model_id": "",
       "version_major": 2,
       "version_minor": 0
      },
      "text/plain": [
       "FloatProgress(value=0.0, bar_style='info', description='Progress:', layout=Layout(height='25px', width='50%'),…"
      ]
     },
     "metadata": {},
     "output_type": "display_data"
    }
   ],
   "source": [
    "# Select, for every user that is staying, the number of rolled adverts and the time they spent with the service\n",
    "rolled_advert_stay = df_user_log_staying.\\\n",
    "                groupBy(\"userId\").\\\n",
    "                agg(F.max(\"data_days\"), F.max(\"total_roll_adv\")).collect()"
   ]
  },
  {
   "cell_type": "code",
   "execution_count": 100,
   "id": "b0762985",
   "metadata": {},
   "outputs": [
    {
     "data": {
      "application/vnd.jupyter.widget-view+json": {
       "model_id": "2b86eb45472f4d6b9490d9ef2dc18cc4",
       "version_major": 2,
       "version_minor": 0
      },
      "text/plain": [
       "VBox()"
      ]
     },
     "metadata": {},
     "output_type": "display_data"
    },
    {
     "data": {
      "application/vnd.jupyter.widget-view+json": {
       "model_id": "",
       "version_major": 2,
       "version_minor": 0
      },
      "text/plain": [
       "FloatProgress(value=0.0, bar_style='info', description='Progress:', layout=Layout(height='25px', width='50%'),…"
      ]
     },
     "metadata": {},
     "output_type": "display_data"
    }
   ],
   "source": [
    "# Get the rolled advert per day, on average\n",
    "rolled_advert_day_stay = [rolled_advert[2]/rolled_advert[1] for rolled_advert in rolled_advert_stay]"
   ]
  },
  {
   "cell_type": "code",
   "execution_count": 101,
   "id": "658484f4",
   "metadata": {},
   "outputs": [
    {
     "data": {
      "application/vnd.jupyter.widget-view+json": {
       "model_id": "5fe8c533282c47f0a596d82d44526085",
       "version_major": 2,
       "version_minor": 0
      },
      "text/plain": [
       "VBox()"
      ]
     },
     "metadata": {},
     "output_type": "display_data"
    },
    {
     "data": {
      "application/vnd.jupyter.widget-view+json": {
       "model_id": "",
       "version_major": 2,
       "version_minor": 0
      },
      "text/plain": [
       "FloatProgress(value=0.0, bar_style='info', description='Progress:', layout=Layout(height='25px', width='50%'),…"
      ]
     },
     "metadata": {},
     "output_type": "display_data"
    },
    {
     "data": {
      "image/png": "[encoded data removed]",
      "text/plain": [
       "<IPython.core.display.Image object>"
      ]
     },
     "metadata": {},
     "output_type": "display_data"
    }
   ],
   "source": [
    "# Plot histogram for rolled advert\n",
    "fig, (ax1, ax2) = plt.subplots(1, 2)\n",
    "\n",
    "fig.suptitle('Distribution of rolled adverts/day by users', fontsize=12, fontweight='bold')\n",
    "fig.set_figheight(7) \n",
    "fig.set_figwidth(15)\n",
    "\n",
    "ax1.hist(rolled_advert_day_canc, bins=100)\n",
    "ax1.set_xlabel('# of rolled adverts/day', fontsize=11)\n",
    "ax1.set_ylabel('# of users', fontsize=11)\n",
    "ax1.set_title('Cancelling Users', fontsize=11,fontweight='bold')\n",
    "\n",
    "ax2.hist(rolled_advert_day_stay, bins=100)\n",
    "ax2.set_xlabel('# of rolled adverts/day', fontsize=11)\n",
    "ax2.set_ylabel('# of users', fontsize=11)\n",
    "ax2.set_title('Staying Users', fontsize=11,fontweight='bold');\n",
    "\n",
    "%matplot plt"
   ]
  },
  {
   "cell_type": "code",
   "execution_count": 102,
   "id": "e813839a",
   "metadata": {},
   "outputs": [
    {
     "data": {
      "application/vnd.jupyter.widget-view+json": {
       "model_id": "347fb9191a5e46aab644fc64596d2b7c",
       "version_major": 2,
       "version_minor": 0
      },
      "text/plain": [
       "VBox()"
      ]
     },
     "metadata": {},
     "output_type": "display_data"
    },
    {
     "data": {
      "application/vnd.jupyter.widget-view+json": {
       "model_id": "",
       "version_major": 2,
       "version_minor": 0
      },
      "text/plain": [
       "FloatProgress(value=0.0, bar_style='info', description='Progress:', layout=Layout(height='25px', width='50%'),…"
      ]
     },
     "metadata": {},
     "output_type": "display_data"
    },
    {
     "name": "stdout",
     "output_type": "stream",
     "text": [
      "----------------------------------------------------------\n",
      "Rolled adverts per day statistics for users that cancelled:\n",
      "Mean =  0.92 ; Std. Dev. =  1.13\n",
      "----------------------------------------------------------\n",
      "Rolled adverts per day statistics for users that stay:\n",
      "Mean =  0.46 ; Std. Dev. =  0.64\n",
      "----------------------------------------------------------"
     ]
    }
   ],
   "source": [
    "# Look at the statistics\n",
    "stats_rolled_advert_day_canc = spark.createDataFrame(rolled_advert_day_canc, FloatType()).describe().collect()\n",
    "stats_rolled_advert_day_stay = spark.createDataFrame(rolled_advert_day_stay, FloatType()).describe().collect()\n",
    "\n",
    "print('----------------------------------------------------------')\n",
    "print('Rolled adverts per day statistics for users that cancelled:')\n",
    "print('Mean = ', '{:.2f}'.format(float(stats_rolled_advert_day_canc[1][1])), \\\n",
    "      '; Std. Dev. = ',  '{:.2f}'.format(float(stats_rolled_advert_day_canc[2][1])))\n",
    "print('----------------------------------------------------------')\n",
    "print('Rolled adverts per day statistics for users that stay:')\n",
    "print('Mean = ', '{:.2f}'.format(float(stats_rolled_advert_day_stay[1][1])), \\\n",
    "      '; Std. Dev. = ',  '{:.2f}'.format(float(stats_rolled_advert_day_stay[2][1])))\n",
    "print('----------------------------------------------------------')"
   ]
  },
  {
   "cell_type": "markdown",
   "id": "421b4349",
   "metadata": {},
   "source": [
    "Here too, we can take a look at what happens focusing on the last week of data:"
   ]
  },
  {
   "cell_type": "code",
   "execution_count": 103,
   "id": "657eecec",
   "metadata": {},
   "outputs": [
    {
     "data": {
      "application/vnd.jupyter.widget-view+json": {
       "model_id": "e25b800a11ef4d4ebc7c314fd7b97036",
       "version_major": 2,
       "version_minor": 0
      },
      "text/plain": [
       "VBox()"
      ]
     },
     "metadata": {},
     "output_type": "display_data"
    },
    {
     "data": {
      "application/vnd.jupyter.widget-view+json": {
       "model_id": "",
       "version_major": 2,
       "version_minor": 0
      },
      "text/plain": [
       "FloatProgress(value=0.0, bar_style='info', description='Progress:', layout=Layout(height='25px', width='50%'),…"
      ]
     },
     "metadata": {},
     "output_type": "display_data"
    }
   ],
   "source": [
    "# Select, for every user that cancelled, the number of rolled adverts in the last week of data\n",
    "rolled_advert_canc_lweek = df_user_log_cancelled_lweek.\\\n",
    "                groupBy(\"userId\").\\\n",
    "                agg(F.sum(\"roll_adv\")).collect()"
   ]
  },
  {
   "cell_type": "code",
   "execution_count": 104,
   "id": "91691ae9",
   "metadata": {},
   "outputs": [
    {
     "data": {
      "application/vnd.jupyter.widget-view+json": {
       "model_id": "e7400a4c235f499bac9ec19084fec0d0",
       "version_major": 2,
       "version_minor": 0
      },
      "text/plain": [
       "VBox()"
      ]
     },
     "metadata": {},
     "output_type": "display_data"
    },
    {
     "data": {
      "application/vnd.jupyter.widget-view+json": {
       "model_id": "",
       "version_major": 2,
       "version_minor": 0
      },
      "text/plain": [
       "FloatProgress(value=0.0, bar_style='info', description='Progress:', layout=Layout(height='25px', width='50%'),…"
      ]
     },
     "metadata": {},
     "output_type": "display_data"
    }
   ],
   "source": [
    "# Get the rolled advert per day, on average\n",
    "rolled_advert_day_canc_lweek = [rolled_advert[1]/7 for rolled_advert in rolled_advert_canc_lweek]"
   ]
  },
  {
   "cell_type": "code",
   "execution_count": 105,
   "id": "c6066223",
   "metadata": {},
   "outputs": [
    {
     "data": {
      "application/vnd.jupyter.widget-view+json": {
       "model_id": "dd7060c5a7244a0db426bcfbd5dd3f62",
       "version_major": 2,
       "version_minor": 0
      },
      "text/plain": [
       "VBox()"
      ]
     },
     "metadata": {},
     "output_type": "display_data"
    },
    {
     "data": {
      "application/vnd.jupyter.widget-view+json": {
       "model_id": "",
       "version_major": 2,
       "version_minor": 0
      },
      "text/plain": [
       "FloatProgress(value=0.0, bar_style='info', description='Progress:', layout=Layout(height='25px', width='50%'),…"
      ]
     },
     "metadata": {},
     "output_type": "display_data"
    }
   ],
   "source": [
    "# Select, for every user that is staying, the number of rolled adverts in the last week of data\n",
    "rolled_advert_stay_lweek = df_user_log_staying_lweek.\\\n",
    "                groupBy(\"userId\").\\\n",
    "                agg(F.sum(\"roll_adv\")).collect()"
   ]
  },
  {
   "cell_type": "code",
   "execution_count": 106,
   "id": "f25a76d8",
   "metadata": {},
   "outputs": [
    {
     "data": {
      "application/vnd.jupyter.widget-view+json": {
       "model_id": "8ef646e1aeec43eda41e4afcbf76f39e",
       "version_major": 2,
       "version_minor": 0
      },
      "text/plain": [
       "VBox()"
      ]
     },
     "metadata": {},
     "output_type": "display_data"
    },
    {
     "data": {
      "application/vnd.jupyter.widget-view+json": {
       "model_id": "",
       "version_major": 2,
       "version_minor": 0
      },
      "text/plain": [
       "FloatProgress(value=0.0, bar_style='info', description='Progress:', layout=Layout(height='25px', width='50%'),…"
      ]
     },
     "metadata": {},
     "output_type": "display_data"
    }
   ],
   "source": [
    "# Get the rolled advert per day, on average\n",
    "rolled_advert_day_stay_lweek = [rolled_advert[1]/7 for rolled_advert in rolled_advert_stay_lweek]"
   ]
  },
  {
   "cell_type": "code",
   "execution_count": 107,
   "id": "34b8138b",
   "metadata": {},
   "outputs": [
    {
     "data": {
      "application/vnd.jupyter.widget-view+json": {
       "model_id": "dcb61a51f43b4bfd8943ae076fcb5654",
       "version_major": 2,
       "version_minor": 0
      },
      "text/plain": [
       "VBox()"
      ]
     },
     "metadata": {},
     "output_type": "display_data"
    },
    {
     "data": {
      "application/vnd.jupyter.widget-view+json": {
       "model_id": "",
       "version_major": 2,
       "version_minor": 0
      },
      "text/plain": [
       "FloatProgress(value=0.0, bar_style='info', description='Progress:', layout=Layout(height='25px', width='50%'),…"
      ]
     },
     "metadata": {},
     "output_type": "display_data"
    },
    {
     "data": {
      "image/png": "[encoded data removed]",
      "text/plain": [
       "<IPython.core.display.Image object>"
      ]
     },
     "metadata": {},
     "output_type": "display_data"
    }
   ],
   "source": [
    "# Plot histogram for rolled advert\n",
    "fig, (ax1, ax2) = plt.subplots(1, 2)\n",
    "\n",
    "fig.suptitle('Distribution of rolled adverts/day by users in the last week', fontsize=12, fontweight='bold')\n",
    "fig.set_figheight(7) \n",
    "fig.set_figwidth(15)\n",
    "\n",
    "ax1.hist(rolled_advert_day_canc_lweek, bins=100)\n",
    "ax1.set_xlabel('# of rolled adverts/day', fontsize=11)\n",
    "ax1.set_ylabel('# of users', fontsize=11)\n",
    "ax1.set_title('Cancelling Users', fontsize=11,fontweight='bold')\n",
    "\n",
    "ax2.hist(rolled_advert_day_stay_lweek, bins=100)\n",
    "ax2.set_xlabel('# of rolled adverts/day', fontsize=11)\n",
    "ax2.set_ylabel('# of users', fontsize=11)\n",
    "ax2.set_title('Staying Users', fontsize=11,fontweight='bold');\n",
    "\n",
    "%matplot plt"
   ]
  },
  {
   "cell_type": "code",
   "execution_count": 108,
   "id": "cb15ee7f",
   "metadata": {},
   "outputs": [
    {
     "data": {
      "application/vnd.jupyter.widget-view+json": {
       "model_id": "b4981a418f9f4a35a21e1ec4514f3496",
       "version_major": 2,
       "version_minor": 0
      },
      "text/plain": [
       "VBox()"
      ]
     },
     "metadata": {},
     "output_type": "display_data"
    },
    {
     "data": {
      "application/vnd.jupyter.widget-view+json": {
       "model_id": "",
       "version_major": 2,
       "version_minor": 0
      },
      "text/plain": [
       "FloatProgress(value=0.0, bar_style='info', description='Progress:', layout=Layout(height='25px', width='50%'),…"
      ]
     },
     "metadata": {},
     "output_type": "display_data"
    },
    {
     "name": "stdout",
     "output_type": "stream",
     "text": [
      "-----------------------------------------------------------------------\n",
      "Rolled adverts per day statistics for users that cancelled - last week:\n",
      "Mean =  0.79 ; Std. Dev. =  1.33\n",
      "-----------------------------------------------------------------------\n",
      "Rolled adverts per day statistics for users that stay - last week:\n",
      "Mean =  0.46 ; Std. Dev. =  0.86\n",
      "-----------------------------------------------------------------------"
     ]
    }
   ],
   "source": [
    "# Look at the statistics\n",
    "stats_rolled_advert_day_canc_lweek = spark.createDataFrame(rolled_advert_day_canc_lweek, FloatType()).describe().collect()\n",
    "stats_rolled_advert_day_stay_lweek = spark.createDataFrame(rolled_advert_day_stay_lweek, FloatType()).describe().collect()\n",
    "\n",
    "print('-----------------------------------------------------------------------')\n",
    "print('Rolled adverts per day statistics for users that cancelled - last week:')\n",
    "print('Mean = ', '{:.2f}'.format(float(stats_rolled_advert_day_canc_lweek[1][1])), \\\n",
    "      '; Std. Dev. = ',  '{:.2f}'.format(float(stats_rolled_advert_day_canc_lweek[2][1])))\n",
    "print('-----------------------------------------------------------------------')\n",
    "print('Rolled adverts per day statistics for users that stay - last week:')\n",
    "print('Mean = ', '{:.2f}'.format(float(stats_rolled_advert_day_stay_lweek[1][1])), \\\n",
    "      '; Std. Dev. = ',  '{:.2f}'.format(float(stats_rolled_advert_day_stay_lweek[2][1])))\n",
    "print('-----------------------------------------------------------------------')"
   ]
  },
  {
   "cell_type": "markdown",
   "id": "c26ee541",
   "metadata": {},
   "source": [
    "### <a class=\"anchor\" id=\"Demographics\">3.5. Demographics</a>"
   ]
  },
  {
   "cell_type": "markdown",
   "id": "fca8b4ec",
   "metadata": {},
   "source": [
    "As a final look at the data, we can explore the demographics of the users, in terms of gender or location:"
   ]
  },
  {
   "cell_type": "code",
   "execution_count": 109,
   "id": "d6e61561",
   "metadata": {},
   "outputs": [
    {
     "data": {
      "application/vnd.jupyter.widget-view+json": {
       "model_id": "48705a251443445f857f9502e7b005b2",
       "version_major": 2,
       "version_minor": 0
      },
      "text/plain": [
       "VBox()"
      ]
     },
     "metadata": {},
     "output_type": "display_data"
    },
    {
     "data": {
      "application/vnd.jupyter.widget-view+json": {
       "model_id": "",
       "version_major": 2,
       "version_minor": 0
      },
      "text/plain": [
       "FloatProgress(value=0.0, bar_style='info', description='Progress:', layout=Layout(height='25px', width='50%'),…"
      ]
     },
     "metadata": {},
     "output_type": "display_data"
    }
   ],
   "source": [
    "# Parse the cancelled users to collect their gender\n",
    "canc_user_gender = df_user_log_cancelled.\\\n",
    "                groupBy(\"userId\").\\\n",
    "                agg(F.first(\"gender\", True)).collect()\n",
    "\n",
    "# Convert to list\n",
    "canc_user_gender_list = [canc_user[1] for canc_user in canc_user_gender]\n",
    "\n",
    "# Count males/females\n",
    "num_canc_male_users = sum([user == 'M' for user in canc_user_gender_list])\n",
    "num_canc_female_users = sum([user == 'F' for user in canc_user_gender_list])"
   ]
  },
  {
   "cell_type": "code",
   "execution_count": 110,
   "id": "a183b0d7",
   "metadata": {},
   "outputs": [
    {
     "data": {
      "application/vnd.jupyter.widget-view+json": {
       "model_id": "caf79c705e9840058b58d86a4f43e9eb",
       "version_major": 2,
       "version_minor": 0
      },
      "text/plain": [
       "VBox()"
      ]
     },
     "metadata": {},
     "output_type": "display_data"
    },
    {
     "data": {
      "application/vnd.jupyter.widget-view+json": {
       "model_id": "",
       "version_major": 2,
       "version_minor": 0
      },
      "text/plain": [
       "FloatProgress(value=0.0, bar_style='info', description='Progress:', layout=Layout(height='25px', width='50%'),…"
      ]
     },
     "metadata": {},
     "output_type": "display_data"
    }
   ],
   "source": [
    "# Parse the staying users to collect their gender\n",
    "staying_user_gender = df_user_log_staying.\\\n",
    "                groupBy(\"userId\").\\\n",
    "                agg(F.first(\"gender\", True)).collect()\n",
    "\n",
    "# Convert to list\n",
    "staying_user_gender_list = [canc_user[1] for canc_user in staying_user_gender]\n",
    "\n",
    "# Count males/females\n",
    "num_staying_male_users = sum([user == 'M' for user in staying_user_gender_list])\n",
    "num_staying_female_users = sum([user == 'F' for user in staying_user_gender_list])"
   ]
  },
  {
   "cell_type": "code",
   "execution_count": 111,
   "id": "94e817f3",
   "metadata": {},
   "outputs": [
    {
     "data": {
      "application/vnd.jupyter.widget-view+json": {
       "model_id": "e1a16f4cb72d4bc088ea526805f43f76",
       "version_major": 2,
       "version_minor": 0
      },
      "text/plain": [
       "VBox()"
      ]
     },
     "metadata": {},
     "output_type": "display_data"
    },
    {
     "data": {
      "application/vnd.jupyter.widget-view+json": {
       "model_id": "",
       "version_major": 2,
       "version_minor": 0
      },
      "text/plain": [
       "FloatProgress(value=0.0, bar_style='info', description='Progress:', layout=Layout(height='25px', width='50%'),…"
      ]
     },
     "metadata": {},
     "output_type": "display_data"
    },
    {
     "name": "stdout",
     "output_type": "stream",
     "text": [
      "-----------------------------------------------------------------------------\n",
      "Gender distribution for users that cancelled:\n",
      "Number of male users =  2123\n",
      "Number of female users =  1848\n",
      "Number of male users/Total Users =  0.53\n",
      "Number of female users/Total Users =  0.47\n",
      "-----------------------------------------------------------------------------\n",
      "Gender distribution for users that stay:\n",
      "Number of male users =  10641\n",
      "Number of female users =  9662\n",
      "Number of male users/Total Users =  0.52\n",
      "Number of female users/Total Users =  0.48\n",
      "-----------------------------------------------------------------------------"
     ]
    }
   ],
   "source": [
    "# Look at the values and the proportions\n",
    "print('-----------------------------------------------------------------------------')\n",
    "print('Gender distribution for users that cancelled:')\n",
    "print('Number of male users = ', num_canc_male_users)\n",
    "print('Number of female users = ', num_canc_female_users)\n",
    "print('Number of male users/Total Users = ', '{:.2f}'.format(num_canc_male_users/len(users_cancelled)))\n",
    "print('Number of female users/Total Users = ', '{:.2f}'.format(num_canc_female_users/len(users_cancelled_lweek)))\n",
    "print('-----------------------------------------------------------------------------')\n",
    "print('Gender distribution for users that stay:')\n",
    "print('Number of male users = ', num_staying_male_users)\n",
    "print('Number of female users = ', num_staying_female_users)\n",
    "print('Number of male users/Total Users = ', '{:.2f}'.format(num_staying_male_users/len(users_staying)))\n",
    "print('Number of female users/Total Users = ', '{:.2f}'.format(num_staying_female_users/len(users_staying)))\n",
    "print('-----------------------------------------------------------------------------')"
   ]
  },
  {
   "cell_type": "code",
   "execution_count": 118,
   "id": "7a990bd4",
   "metadata": {},
   "outputs": [
    {
     "data": {
      "application/vnd.jupyter.widget-view+json": {
       "model_id": "e70720e3f6a14986a7070b87d57ec94a",
       "version_major": 2,
       "version_minor": 0
      },
      "text/plain": [
       "VBox()"
      ]
     },
     "metadata": {},
     "output_type": "display_data"
    },
    {
     "data": {
      "application/vnd.jupyter.widget-view+json": {
       "model_id": "",
       "version_major": 2,
       "version_minor": 0
      },
      "text/plain": [
       "FloatProgress(value=0.0, bar_style='info', description='Progress:', layout=Layout(height='25px', width='50%'),…"
      ]
     },
     "metadata": {},
     "output_type": "display_data"
    }
   ],
   "source": [
    "# Parse the cancelled users to collect their location\n",
    "canc_user_location = df_user_log_cancelled.\\\n",
    "                filter(df_user_log_cancelled[\"location\"] != \"\").\\\n",
    "                groupBy(\"userId\").\\\n",
    "                agg(F.first(\"location\", True)).collect()\n",
    "\n",
    "# Get the state only\n",
    "canc_user_state = [user_loc[1].split(', ')[1] for user_loc in canc_user_location]"
   ]
  },
  {
   "cell_type": "code",
   "execution_count": 117,
   "id": "2aae642a",
   "metadata": {},
   "outputs": [
    {
     "data": {
      "application/vnd.jupyter.widget-view+json": {
       "model_id": "3154d10adcff4e5490e78803cc30ba8e",
       "version_major": 2,
       "version_minor": 0
      },
      "text/plain": [
       "VBox()"
      ]
     },
     "metadata": {},
     "output_type": "display_data"
    },
    {
     "data": {
      "application/vnd.jupyter.widget-view+json": {
       "model_id": "",
       "version_major": 2,
       "version_minor": 0
      },
      "text/plain": [
       "FloatProgress(value=0.0, bar_style='info', description='Progress:', layout=Layout(height='25px', width='50%'),…"
      ]
     },
     "metadata": {},
     "output_type": "display_data"
    }
   ],
   "source": [
    "# Parse the staying users to collect their location\n",
    "staying_user_location = df_user_log_staying.\\\n",
    "                filter(df_user_log_staying[\"location\"] != \"\").\\\n",
    "                groupBy(\"userId\").\\\n",
    "                agg(F.first(\"location\")).collect()\n",
    "\n",
    "# Get the state only\n",
    "staying_user_state = [user_loc[1].split(', ')[1] for user_loc in staying_user_location]"
   ]
  },
  {
   "cell_type": "code",
   "execution_count": 119,
   "id": "b73e1ee8",
   "metadata": {},
   "outputs": [
    {
     "data": {
      "application/vnd.jupyter.widget-view+json": {
       "model_id": "4bdd221cc93d4ca5a08b297c8ff11985",
       "version_major": 2,
       "version_minor": 0
      },
      "text/plain": [
       "VBox()"
      ]
     },
     "metadata": {},
     "output_type": "display_data"
    },
    {
     "data": {
      "application/vnd.jupyter.widget-view+json": {
       "model_id": "",
       "version_major": 2,
       "version_minor": 0
      },
      "text/plain": [
       "FloatProgress(value=0.0, bar_style='info', description='Progress:', layout=Layout(height='25px', width='50%'),…"
      ]
     },
     "metadata": {},
     "output_type": "display_data"
    },
    {
     "data": {
      "image/png": "[encoded data removed]",
      "text/plain": [
       "<IPython.core.display.Image object>"
      ]
     },
     "metadata": {},
     "output_type": "display_data"
    }
   ],
   "source": [
    "# Plot histogram for state location (1/2)\n",
    "fig, ax = plt.subplots(1, 1)\n",
    "\n",
    "fig.suptitle('Distribution of states for cancelling users', fontsize=12, fontweight='bold')\n",
    "fig.set_figheight(7) \n",
    "fig.set_figwidth(15)\n",
    "\n",
    "ax.hist(canc_user_state)\n",
    "ax.set_xlabel('States', fontsize=11)\n",
    "ax.set_ylabel('# of users', fontsize=11)\n",
    "# plt.set_title('Cancelling Users', fontsize=11,fontweight='bold')\n",
    "ax.tick_params(labelrotation = 90)\n",
    "ax.grid()\n",
    "\n",
    "%matplot plt"
   ]
  },
  {
   "cell_type": "code",
   "execution_count": 120,
   "id": "b3b9a505",
   "metadata": {},
   "outputs": [
    {
     "data": {
      "application/vnd.jupyter.widget-view+json": {
       "model_id": "64db23d8818b49a9b1d93cca7b782f5c",
       "version_major": 2,
       "version_minor": 0
      },
      "text/plain": [
       "VBox()"
      ]
     },
     "metadata": {},
     "output_type": "display_data"
    },
    {
     "data": {
      "application/vnd.jupyter.widget-view+json": {
       "model_id": "",
       "version_major": 2,
       "version_minor": 0
      },
      "text/plain": [
       "FloatProgress(value=0.0, bar_style='info', description='Progress:', layout=Layout(height='25px', width='50%'),…"
      ]
     },
     "metadata": {},
     "output_type": "display_data"
    },
    {
     "data": {
      "image/png": "[encoded data removed]",
      "text/plain": [
       "<IPython.core.display.Image object>"
      ]
     },
     "metadata": {},
     "output_type": "display_data"
    }
   ],
   "source": [
    "# Plot histogram for state location (2/2)\n",
    "fig, ax = plt.subplots(1, 1)\n",
    "\n",
    "fig.suptitle('Distribution of states for staying users', fontsize=12, fontweight='bold')\n",
    "fig.set_figheight(7) \n",
    "fig.set_figwidth(15)\n",
    "\n",
    "ax.hist(staying_user_state)\n",
    "ax.set_ylabel('# of users', fontsize=11)\n",
    "ax.tick_params(labelrotation = 90)\n",
    "ax.set_xlabel('States', fontsize=11)\n",
    "ax.grid()\n",
    "\n",
    "%matplot plt"
   ]
  },
  {
   "cell_type": "code",
   "execution_count": null,
   "id": "db365c7b",
   "metadata": {},
   "outputs": [],
   "source": []
  }
 ],
 "metadata": {
  "kernelspec": {
   "display_name": "PySpark",
   "language": "",
   "name": "pysparkkernel"
  },
  "language_info": {
   "codemirror_mode": {
    "name": "python",
    "version": 3
   },
   "mimetype": "text/x-python",
   "name": "pyspark",
   "pygments_lexer": "python3"
  }
 },
 "nbformat": 4,
 "nbformat_minor": 5
}
