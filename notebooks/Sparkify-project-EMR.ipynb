{
 "cells": [
  {
   "cell_type": "markdown",
   "id": "7a0ecbd1",
   "metadata": {},
   "source": [
    "# Sparkify Project Notebook\n",
    "\n",
    "This notebook is prepared for the Sparkify Capstone project needed to complete the Udacity Data Science Nanodegree.\n",
    "\n",
    "It is intended to be dpeloyed on an Amazon EMR cluster and make use of the full dataset available (12GB)."
   ]
  },
  {
   "cell_type": "markdown",
   "id": "0f56f2a7",
   "metadata": {},
   "source": [
    "## 1. Import libraries"
   ]
  },
  {
   "cell_type": "code",
   "execution_count": 1,
   "id": "bc2f50fc",
   "metadata": {},
   "outputs": [
    {
     "data": {
      "application/vnd.jupyter.widget-view+json": {
       "model_id": "8b84bd802f50428c8abc992f7a2d756e",
       "version_major": 2,
       "version_minor": 0
      },
      "text/plain": [
       "VBox()"
      ]
     },
     "metadata": {},
     "output_type": "display_data"
    },
    {
     "name": "stdout",
     "output_type": "stream",
     "text": [
      "Starting Spark application\n"
     ]
    },
    {
     "data": {
      "text/html": [
       "<table>\n",
       "<tr><th>ID</th><th>YARN Application ID</th><th>Kind</th><th>State</th><th>Spark UI</th><th>Driver log</th><th>Current session?</th></tr><tr><td>0</td><td>application_1624363049263_0001</td><td>pyspark</td><td>idle</td><td><a target=\"_blank\" href=\"http://ip-172-31-26-92.eu-west-3.compute.internal:20888/proxy/application_1624363049263_0001/\" class=\"emr-proxy-link\" emr-resource=\"j-2PB3MGZD3B1O7\n",
       "\" application-id=\"application_1624363049263_0001\">Link</a></td><td><a target=\"_blank\" href=\"http://ip-172-31-23-55.eu-west-3.compute.internal:8042/node/containerlogs/container_1624363049263_0001_01_000001/livy\" >Link</a></td><td>✔</td></tr></table>"
      ],
      "text/plain": [
       "<IPython.core.display.HTML object>"
      ]
     },
     "metadata": {},
     "output_type": "display_data"
    },
    {
     "data": {
      "application/vnd.jupyter.widget-view+json": {
       "model_id": "",
       "version_major": 2,
       "version_minor": 0
      },
      "text/plain": [
       "FloatProgress(value=0.0, bar_style='info', description='Progress:', layout=Layout(height='25px', width='50%'),…"
      ]
     },
     "metadata": {},
     "output_type": "display_data"
    },
    {
     "name": "stdout",
     "output_type": "stream",
     "text": [
      "SparkSession available as 'spark'.\n"
     ]
    },
    {
     "data": {
      "application/vnd.jupyter.widget-view+json": {
       "model_id": "",
       "version_major": 2,
       "version_minor": 0
      },
      "text/plain": [
       "FloatProgress(value=0.0, bar_style='info', description='Progress:', layout=Layout(height='25px', width='50%'),…"
      ]
     },
     "metadata": {},
     "output_type": "display_data"
    }
   ],
   "source": [
    "from pyspark.sql.functions import udf, min, max, countDistinct\n",
    "from pyspark.sql.functions import sum as Ssum\n",
    "from pyspark.sql.types import IntegerType, FloatType\n",
    "\n",
    "from pyspark.ml import Pipeline\n",
    "from pyspark.ml.classification import LogisticRegression\n",
    "from pyspark.ml.evaluation import MulticlassClassificationEvaluator\n",
    "from pyspark.ml.feature import CountVectorizer, IDF, Normalizer, PCA, RegexTokenizer, StandardScaler, StopWordsRemover, StringIndexer, VectorAssembler\n",
    "from pyspark.ml.regression import LinearRegression\n",
    "from pyspark.ml.tuning import CrossValidator, ParamGridBuilder\n",
    "\n",
    "import re\n",
    "\n",
    "from datetime import datetime"
   ]
  },
  {
   "cell_type": "code",
   "execution_count": 2,
   "id": "583c62c2",
   "metadata": {},
   "outputs": [
    {
     "data": {
      "application/vnd.jupyter.widget-view+json": {
       "model_id": "9480e6a64ee24c6295413749a26ee3c5",
       "version_major": 2,
       "version_minor": 0
      },
      "text/plain": [
       "VBox()"
      ]
     },
     "metadata": {},
     "output_type": "display_data"
    },
    {
     "data": {
      "application/vnd.jupyter.widget-view+json": {
       "model_id": "",
       "version_major": 2,
       "version_minor": 0
      },
      "text/plain": [
       "FloatProgress(value=0.0, bar_style='info', description='Progress:', layout=Layout(height='25px', width='50%'),…"
      ]
     },
     "metadata": {},
     "output_type": "display_data"
    },
    {
     "name": "stdout",
     "output_type": "stream",
     "text": [
      "Collecting matplotlib\n",
      "  Downloading https://files.pythonhosted.org/packages/24/33/5568d443ba438d95d4db635dd69958056f087e57e1026bee56f959d53f9d/matplotlib-3.4.2-cp37-cp37m-manylinux1_x86_64.whl (10.3MB)\n",
      "Requirement already satisfied: numpy>=1.16 in /usr/local/lib64/python3.7/site-packages (from matplotlib)\n",
      "Collecting pyparsing>=2.2.1 (from matplotlib)\n",
      "  Downloading https://files.pythonhosted.org/packages/8a/bb/488841f56197b13700afd5658fc279a2025a39e22449b7cf29864669b15d/pyparsing-2.4.7-py2.py3-none-any.whl (67kB)\n",
      "Collecting python-dateutil>=2.7 (from matplotlib)\n",
      "  Downloading https://files.pythonhosted.org/packages/d4/70/d60450c3dd48ef87586924207ae8907090de0b306af2bce5d134d78615cb/python_dateutil-2.8.1-py2.py3-none-any.whl (227kB)\n",
      "Collecting pillow>=6.2.0 (from matplotlib)\n",
      "  Downloading https://files.pythonhosted.org/packages/33/34/542152297dcc6c47a9dcb0685eac6d652d878ed3cea83bf2b23cb988e857/Pillow-8.2.0-cp37-cp37m-manylinux1_x86_64.whl (3.0MB)\n",
      "Collecting cycler>=0.10 (from matplotlib)\n",
      "  Downloading https://files.pythonhosted.org/packages/f7/d2/e07d3ebb2bd7af696440ce7e754c59dd546ffe1bbe732c8ab68b9c834e61/cycler-0.10.0-py2.py3-none-any.whl\n",
      "Collecting kiwisolver>=1.0.1 (from matplotlib)\n",
      "  Downloading https://files.pythonhosted.org/packages/d2/46/231de802ade4225b76b96cffe419cf3ce52bbe92e3b092cf12db7d11c207/kiwisolver-1.3.1-cp37-cp37m-manylinux1_x86_64.whl (1.1MB)\n",
      "Requirement already satisfied: six>=1.5 in /usr/local/lib/python3.7/site-packages (from python-dateutil>=2.7->matplotlib)\n",
      "Installing collected packages: pyparsing, python-dateutil, pillow, cycler, kiwisolver, matplotlib\n",
      "Successfully installed cycler-0.10.0 kiwisolver-1.3.1 matplotlib-3.4.2 pillow-8.2.0 pyparsing-2.4.7 python-dateutil-2.8.1"
     ]
    }
   ],
   "source": [
    "#Install matplotlib from given PyPI repository\n",
    "sc.install_pypi_package(\"matplotlib\", \"https://pypi.org/simple\") "
   ]
  },
  {
   "cell_type": "code",
   "execution_count": 3,
   "id": "22fc2629",
   "metadata": {},
   "outputs": [
    {
     "data": {
      "application/vnd.jupyter.widget-view+json": {
       "model_id": "8eae01a4fd4448f98a86d5a0ca166229",
       "version_major": 2,
       "version_minor": 0
      },
      "text/plain": [
       "VBox()"
      ]
     },
     "metadata": {},
     "output_type": "display_data"
    },
    {
     "data": {
      "application/vnd.jupyter.widget-view+json": {
       "model_id": "",
       "version_major": 2,
       "version_minor": 0
      },
      "text/plain": [
       "FloatProgress(value=0.0, bar_style='info', description='Progress:', layout=Layout(height='25px', width='50%'),…"
      ]
     },
     "metadata": {},
     "output_type": "display_data"
    },
    {
     "name": "stdout",
     "output_type": "stream",
     "text": [
      "Package                    Version  \n",
      "-------------------------- ---------\n",
      "beautifulsoup4             4.9.3    \n",
      "boto                       2.49.0   \n",
      "click                      7.1.2    \n",
      "cycler                     0.10.0   \n",
      "jmespath                   0.10.0   \n",
      "joblib                     1.0.1    \n",
      "kiwisolver                 1.3.1    \n",
      "lxml                       4.6.2    \n",
      "matplotlib                 3.4.2    \n",
      "mysqlclient                1.4.2    \n",
      "nltk                       3.5      \n",
      "nose                       1.3.4    \n",
      "numpy                      1.16.5   \n",
      "Pillow                     8.2.0    \n",
      "pip                        9.0.1    \n",
      "py-dateutil                2.2      \n",
      "pyparsing                  2.4.7    \n",
      "python-dateutil            2.8.1    \n",
      "python37-sagemaker-pyspark 1.4.1    \n",
      "pytz                       2021.1   \n",
      "PyYAML                     5.4.1    \n",
      "regex                      2021.3.17\n",
      "setuptools                 28.8.0   \n",
      "six                        1.13.0   \n",
      "tqdm                       4.59.0   \n",
      "wheel                      0.29.0   \n",
      "windmill                   1.6"
     ]
    }
   ],
   "source": [
    "# Check installation\n",
    "sc.list_packages()"
   ]
  },
  {
   "cell_type": "code",
   "execution_count": 4,
   "id": "4c01e4c3",
   "metadata": {},
   "outputs": [
    {
     "data": {
      "application/vnd.jupyter.widget-view+json": {
       "model_id": "e5b7226ef73c450bb3bfe2198503b90a",
       "version_major": 2,
       "version_minor": 0
      },
      "text/plain": [
       "VBox()"
      ]
     },
     "metadata": {},
     "output_type": "display_data"
    },
    {
     "data": {
      "application/vnd.jupyter.widget-view+json": {
       "model_id": "",
       "version_major": 2,
       "version_minor": 0
      },
      "text/plain": [
       "FloatProgress(value=0.0, bar_style='info', description='Progress:', layout=Layout(height='25px', width='50%'),…"
      ]
     },
     "metadata": {},
     "output_type": "display_data"
    }
   ],
   "source": [
    "# Import\n",
    "from matplotlib import pyplot as plt"
   ]
  },
  {
   "cell_type": "markdown",
   "id": "ad6256da",
   "metadata": {},
   "source": [
    "## 2. Load and Clean Dataset"
   ]
  },
  {
   "cell_type": "code",
   "execution_count": 19,
   "id": "741b3449",
   "metadata": {},
   "outputs": [
    {
     "data": {
      "application/vnd.jupyter.widget-view+json": {
       "model_id": "f44c0f8f59d545cdb2f82b4cf72d7f6b",
       "version_major": 2,
       "version_minor": 0
      },
      "text/plain": [
       "VBox()"
      ]
     },
     "metadata": {},
     "output_type": "display_data"
    },
    {
     "data": {
      "application/vnd.jupyter.widget-view+json": {
       "model_id": "",
       "version_major": 2,
       "version_minor": 0
      },
      "text/plain": [
       "FloatProgress(value=0.0, bar_style='info', description='Progress:', layout=Layout(height='25px', width='50%'),…"
      ]
     },
     "metadata": {},
     "output_type": "display_data"
    }
   ],
   "source": [
    "# Define path\n",
    "# Mini dataset\n",
    "# path = \"s3n://udacity-dsnd/sparkify/mini_sparkify_event_data.json\"\n",
    "# Full dataset\n",
    "path =\"s3n://udacity-dsnd/sparkify/sparkify_event_data.json\""
   ]
  },
  {
   "cell_type": "code",
   "execution_count": 20,
   "id": "7d798da8",
   "metadata": {},
   "outputs": [
    {
     "data": {
      "application/vnd.jupyter.widget-view+json": {
       "model_id": "2a3f0f4cbf91464f861f4a996cd2f68e",
       "version_major": 2,
       "version_minor": 0
      },
      "text/plain": [
       "VBox()"
      ]
     },
     "metadata": {},
     "output_type": "display_data"
    },
    {
     "data": {
      "application/vnd.jupyter.widget-view+json": {
       "model_id": "",
       "version_major": 2,
       "version_minor": 0
      },
      "text/plain": [
       "FloatProgress(value=0.0, bar_style='info', description='Progress:', layout=Layout(height='25px', width='50%'),…"
      ]
     },
     "metadata": {},
     "output_type": "display_data"
    },
    {
     "name": "stdout",
     "output_type": "stream",
     "text": [
      "DataFrame[artist: string, auth: string, firstName: string, gender: string, itemInSession: bigint, lastName: string, length: double, level: string, location: string, method: string, page: string, registration: bigint, sessionId: bigint, song: string, status: bigint, ts: bigint, userAgent: string, userId: string]"
     ]
    }
   ],
   "source": [
    "# Load & Persist data\n",
    "df_user_log = spark.read.json(path)\n",
    "df_user_log.persist()"
   ]
  },
  {
   "cell_type": "code",
   "execution_count": 21,
   "id": "5c7f1d22",
   "metadata": {},
   "outputs": [
    {
     "data": {
      "application/vnd.jupyter.widget-view+json": {
       "model_id": "6f7288f8a3c941f1a90b7061d2874a33",
       "version_major": 2,
       "version_minor": 0
      },
      "text/plain": [
       "VBox()"
      ]
     },
     "metadata": {},
     "output_type": "display_data"
    },
    {
     "data": {
      "application/vnd.jupyter.widget-view+json": {
       "model_id": "",
       "version_major": 2,
       "version_minor": 0
      },
      "text/plain": [
       "FloatProgress(value=0.0, bar_style='info', description='Progress:', layout=Layout(height='25px', width='50%'),…"
      ]
     },
     "metadata": {},
     "output_type": "display_data"
    },
    {
     "name": "stdout",
     "output_type": "stream",
     "text": [
      "root\n",
      " |-- artist: string (nullable = true)\n",
      " |-- auth: string (nullable = true)\n",
      " |-- firstName: string (nullable = true)\n",
      " |-- gender: string (nullable = true)\n",
      " |-- itemInSession: long (nullable = true)\n",
      " |-- lastName: string (nullable = true)\n",
      " |-- length: double (nullable = true)\n",
      " |-- level: string (nullable = true)\n",
      " |-- location: string (nullable = true)\n",
      " |-- method: string (nullable = true)\n",
      " |-- page: string (nullable = true)\n",
      " |-- registration: long (nullable = true)\n",
      " |-- sessionId: long (nullable = true)\n",
      " |-- song: string (nullable = true)\n",
      " |-- status: long (nullable = true)\n",
      " |-- ts: long (nullable = true)\n",
      " |-- userAgent: string (nullable = true)\n",
      " |-- userId: string (nullable = true)"
     ]
    }
   ],
   "source": [
    "# Check schema\n",
    "df_user_log.printSchema()"
   ]
  },
  {
   "cell_type": "code",
   "execution_count": 22,
   "id": "78bb9dad",
   "metadata": {},
   "outputs": [
    {
     "data": {
      "application/vnd.jupyter.widget-view+json": {
       "model_id": "dd1f6269b1894d839899973a767eaa9b",
       "version_major": 2,
       "version_minor": 0
      },
      "text/plain": [
       "VBox()"
      ]
     },
     "metadata": {},
     "output_type": "display_data"
    },
    {
     "data": {
      "application/vnd.jupyter.widget-view+json": {
       "model_id": "",
       "version_major": 2,
       "version_minor": 0
      },
      "text/plain": [
       "FloatProgress(value=0.0, bar_style='info', description='Progress:', layout=Layout(height='25px', width='50%'),…"
      ]
     },
     "metadata": {},
     "output_type": "display_data"
    },
    {
     "name": "stdout",
     "output_type": "stream",
     "text": [
      "Row(artist='Popol Vuh', auth='Logged In', firstName='Shlok', gender='M', itemInSession=278, lastName='Johnson', length=524.32934, level='paid', location='Dallas-Fort Worth-Arlington, TX', method='PUT', page='NextSong', registration=1533734541000, sessionId=22683, song='Ich mache einen Spiegel - Dream Part 4', status=200, ts=1538352001000, userAgent='\"Mozilla/5.0 (Windows NT 6.1; WOW64) AppleWebKit/537.36 (KHTML, like Gecko) Chrome/36.0.1985.143 Safari/537.36\"', userId='1749042')"
     ]
    }
   ],
   "source": [
    "# Show the first row\n",
    "df_user_log.head()"
   ]
  },
  {
   "cell_type": "code",
   "execution_count": 23,
   "id": "171292e1",
   "metadata": {},
   "outputs": [
    {
     "data": {
      "application/vnd.jupyter.widget-view+json": {
       "model_id": "8c1c150948b54249864865a4ec4a5105",
       "version_major": 2,
       "version_minor": 0
      },
      "text/plain": [
       "VBox()"
      ]
     },
     "metadata": {},
     "output_type": "display_data"
    },
    {
     "data": {
      "application/vnd.jupyter.widget-view+json": {
       "model_id": "",
       "version_major": 2,
       "version_minor": 0
      },
      "text/plain": [
       "FloatProgress(value=0.0, bar_style='info', description='Progress:', layout=Layout(height='25px', width='50%'),…"
      ]
     },
     "metadata": {},
     "output_type": "display_data"
    },
    {
     "name": "stdout",
     "output_type": "stream",
     "text": [
      "Number of rows:  26259199 ; Number of columns:  18"
     ]
    }
   ],
   "source": [
    "# Check num of rows, columns\n",
    "print('Number of rows: ', df_user_log.count(), '; Number of columns: ', len(df_user_log.columns))"
   ]
  },
  {
   "cell_type": "markdown",
   "id": "699eb5db",
   "metadata": {},
   "source": [
    "We can eliminate `NaN` in `userId` or `sessionId`, and take care of the cases of empty users too: "
   ]
  },
  {
   "cell_type": "code",
   "execution_count": 24,
   "id": "9456ee4d",
   "metadata": {},
   "outputs": [
    {
     "data": {
      "application/vnd.jupyter.widget-view+json": {
       "model_id": "dc3412a9037f47fe88c7c8c90c983ffb",
       "version_major": 2,
       "version_minor": 0
      },
      "text/plain": [
       "VBox()"
      ]
     },
     "metadata": {},
     "output_type": "display_data"
    },
    {
     "data": {
      "application/vnd.jupyter.widget-view+json": {
       "model_id": "",
       "version_major": 2,
       "version_minor": 0
      },
      "text/plain": [
       "FloatProgress(value=0.0, bar_style='info', description='Progress:', layout=Layout(height='25px', width='50%'),…"
      ]
     },
     "metadata": {},
     "output_type": "display_data"
    }
   ],
   "source": [
    "# Drop NaN\n",
    "df_user_log_valid = df_user_log.dropna(how = \"any\", subset = [\"userId\", \"sessionId\"])\n",
    "# Drop empty users\n",
    "df_user_log_valid = df_user_log_valid.filter(df_user_log_valid[\"userId\"] != \"\")"
   ]
  },
  {
   "cell_type": "code",
   "execution_count": 25,
   "id": "bbb63c60",
   "metadata": {},
   "outputs": [
    {
     "data": {
      "application/vnd.jupyter.widget-view+json": {
       "model_id": "8ce5b7ffc000448d9e7e50647c721626",
       "version_major": 2,
       "version_minor": 0
      },
      "text/plain": [
       "VBox()"
      ]
     },
     "metadata": {},
     "output_type": "display_data"
    },
    {
     "data": {
      "application/vnd.jupyter.widget-view+json": {
       "model_id": "",
       "version_major": 2,
       "version_minor": 0
      },
      "text/plain": [
       "FloatProgress(value=0.0, bar_style='info', description='Progress:', layout=Layout(height='25px', width='50%'),…"
      ]
     },
     "metadata": {},
     "output_type": "display_data"
    },
    {
     "name": "stdout",
     "output_type": "stream",
     "text": [
      "Number of rows:  26259199 ; Number of columns:  18"
     ]
    }
   ],
   "source": [
    "# Check updated num of rows, columns\n",
    "print('Number of rows: ', df_user_log_valid.count(), '; Number of columns: ', len(df_user_log_valid.columns))"
   ]
  },
  {
   "cell_type": "markdown",
   "id": "abb3aa76",
   "metadata": {},
   "source": [
    "## 3. Define Churn variable"
   ]
  },
  {
   "cell_type": "code",
   "execution_count": 26,
   "id": "c297e5f8",
   "metadata": {},
   "outputs": [
    {
     "data": {
      "application/vnd.jupyter.widget-view+json": {
       "model_id": "7c7c8110450144f39b5baebe86e5164b",
       "version_major": 2,
       "version_minor": 0
      },
      "text/plain": [
       "VBox()"
      ]
     },
     "metadata": {},
     "output_type": "display_data"
    },
    {
     "data": {
      "application/vnd.jupyter.widget-view+json": {
       "model_id": "",
       "version_major": 2,
       "version_minor": 0
      },
      "text/plain": [
       "FloatProgress(value=0.0, bar_style='info', description='Progress:', layout=Layout(height='25px', width='50%'),…"
      ]
     },
     "metadata": {},
     "output_type": "display_data"
    },
    {
     "name": "stdout",
     "output_type": "stream",
     "text": [
      "+--------------------+\n",
      "|                page|\n",
      "+--------------------+\n",
      "|               About|\n",
      "|          Add Friend|\n",
      "|     Add to Playlist|\n",
      "|              Cancel|\n",
      "|Cancellation Conf...|\n",
      "|           Downgrade|\n",
      "|               Error|\n",
      "|                Help|\n",
      "|                Home|\n",
      "|               Login|\n",
      "|              Logout|\n",
      "|            NextSong|\n",
      "|            Register|\n",
      "|         Roll Advert|\n",
      "|       Save Settings|\n",
      "|            Settings|\n",
      "|    Submit Downgrade|\n",
      "| Submit Registration|\n",
      "|      Submit Upgrade|\n",
      "|         Thumbs Down|\n",
      "+--------------------+\n",
      "only showing top 20 rows"
     ]
    }
   ],
   "source": [
    "# Check available pages\n",
    "df_user_log.select(\"page\").dropDuplicates().sort(\"page\").show()"
   ]
  },
  {
   "cell_type": "code",
   "execution_count": 27,
   "id": "cfa382d2",
   "metadata": {},
   "outputs": [
    {
     "data": {
      "application/vnd.jupyter.widget-view+json": {
       "model_id": "9f7f3b8475fa4c119a4812b1ea14ec7f",
       "version_major": 2,
       "version_minor": 0
      },
      "text/plain": [
       "VBox()"
      ]
     },
     "metadata": {},
     "output_type": "display_data"
    },
    {
     "data": {
      "application/vnd.jupyter.widget-view+json": {
       "model_id": "",
       "version_major": 2,
       "version_minor": 0
      },
      "text/plain": [
       "FloatProgress(value=0.0, bar_style='info', description='Progress:', layout=Layout(height='25px', width='50%'),…"
      ]
     },
     "metadata": {},
     "output_type": "display_data"
    }
   ],
   "source": [
    "# Defining a churn variable based on the Cancellation Confirmation page\n",
    "cancellation = udf(lambda x: 1 if x == \"Cancellation Confirmation\" else 0, IntegerType())  \n",
    "df_user_log_valid = df_user_log_valid.withColumn(\"churn\", cancellation(\"page\"))"
   ]
  },
  {
   "cell_type": "code",
   "execution_count": 28,
   "id": "5542bea7",
   "metadata": {},
   "outputs": [
    {
     "data": {
      "application/vnd.jupyter.widget-view+json": {
       "model_id": "1b9b825e557c4788ad9c1d299bf026a0",
       "version_major": 2,
       "version_minor": 0
      },
      "text/plain": [
       "VBox()"
      ]
     },
     "metadata": {},
     "output_type": "display_data"
    },
    {
     "data": {
      "application/vnd.jupyter.widget-view+json": {
       "model_id": "",
       "version_major": 2,
       "version_minor": 0
      },
      "text/plain": [
       "FloatProgress(value=0.0, bar_style='info', description='Progress:', layout=Layout(height='25px', width='50%'),…"
      ]
     },
     "metadata": {},
     "output_type": "display_data"
    },
    {
     "name": "stdout",
     "output_type": "stream",
     "text": [
      "Row(artist='Popol Vuh', auth='Logged In', firstName='Shlok', gender='M', itemInSession=278, lastName='Johnson', length=524.32934, level='paid', location='Dallas-Fort Worth-Arlington, TX', method='PUT', page='NextSong', registration=1533734541000, sessionId=22683, song='Ich mache einen Spiegel - Dream Part 4', status=200, ts=1538352001000, userAgent='\"Mozilla/5.0 (Windows NT 6.1; WOW64) AppleWebKit/537.36 (KHTML, like Gecko) Chrome/36.0.1985.143 Safari/537.36\"', userId='1749042', churn=0)"
     ]
    }
   ],
   "source": [
    "# show columns\n",
    "df_user_log_valid.head()"
   ]
  },
  {
   "cell_type": "code",
   "execution_count": 29,
   "id": "91663acc",
   "metadata": {},
   "outputs": [
    {
     "data": {
      "application/vnd.jupyter.widget-view+json": {
       "model_id": "8f6d8dcd0a2242c4a8495849de4b4706",
       "version_major": 2,
       "version_minor": 0
      },
      "text/plain": [
       "VBox()"
      ]
     },
     "metadata": {},
     "output_type": "display_data"
    },
    {
     "data": {
      "application/vnd.jupyter.widget-view+json": {
       "model_id": "",
       "version_major": 2,
       "version_minor": 0
      },
      "text/plain": [
       "FloatProgress(value=0.0, bar_style='info', description='Progress:', layout=Layout(height='25px', width='50%'),…"
      ]
     },
     "metadata": {},
     "output_type": "display_data"
    }
   ],
   "source": [
    "# Create a list of users that cancelled vs. users that stayed\n",
    "users_cancelled = df_user_log_valid.select([\"userId\"]).where(df_user_log_valid.churn == 1).dropDuplicates().collect()\n",
    "users_staying = df_user_log_valid.select([\"userId\"]).where(df_user_log_valid.churn == 0).dropDuplicates().collect()"
   ]
  },
  {
   "cell_type": "code",
   "execution_count": 30,
   "id": "a2324d1f",
   "metadata": {},
   "outputs": [
    {
     "data": {
      "application/vnd.jupyter.widget-view+json": {
       "model_id": "26e83ddadfbe4770b05becca4d31db92",
       "version_major": 2,
       "version_minor": 0
      },
      "text/plain": [
       "VBox()"
      ]
     },
     "metadata": {},
     "output_type": "display_data"
    },
    {
     "data": {
      "application/vnd.jupyter.widget-view+json": {
       "model_id": "",
       "version_major": 2,
       "version_minor": 0
      },
      "text/plain": [
       "FloatProgress(value=0.0, bar_style='info', description='Progress:', layout=Layout(height='25px', width='50%'),…"
      ]
     },
     "metadata": {},
     "output_type": "display_data"
    },
    {
     "name": "stdout",
     "output_type": "stream",
     "text": [
      "Num. of users that cancelled:  5003 ; Num. of users staying:  22278"
     ]
    }
   ],
   "source": [
    "print('Num. of users that cancelled: ', len(users_cancelled), '; Num. of users staying: ', len(users_staying))"
   ]
  },
  {
   "cell_type": "code",
   "execution_count": 31,
   "id": "46654888",
   "metadata": {},
   "outputs": [
    {
     "data": {
      "application/vnd.jupyter.widget-view+json": {
       "model_id": "138beb7468a0452ab5db1014ed848072",
       "version_major": 2,
       "version_minor": 0
      },
      "text/plain": [
       "VBox()"
      ]
     },
     "metadata": {},
     "output_type": "display_data"
    },
    {
     "data": {
      "application/vnd.jupyter.widget-view+json": {
       "model_id": "",
       "version_major": 2,
       "version_minor": 0
      },
      "text/plain": [
       "FloatProgress(value=0.0, bar_style='info', description='Progress:', layout=Layout(height='25px', width='50%'),…"
      ]
     },
     "metadata": {},
     "output_type": "display_data"
    }
   ],
   "source": [
    "# Select a subset of the dataframe with the users that left\n",
    "users_cancelled_list = [us_c[0] for us_c in users_cancelled]\n",
    "df_user_log_cancelled = df_user_log_valid.filter(df_user_log_valid.userId.isin(users_cancelled_list))"
   ]
  },
  {
   "cell_type": "code",
   "execution_count": 32,
   "id": "71054c64",
   "metadata": {},
   "outputs": [
    {
     "data": {
      "application/vnd.jupyter.widget-view+json": {
       "model_id": "e5efa103de5c400aa5b3d74d0796b101",
       "version_major": 2,
       "version_minor": 0
      },
      "text/plain": [
       "VBox()"
      ]
     },
     "metadata": {},
     "output_type": "display_data"
    },
    {
     "data": {
      "application/vnd.jupyter.widget-view+json": {
       "model_id": "",
       "version_major": 2,
       "version_minor": 0
      },
      "text/plain": [
       "FloatProgress(value=0.0, bar_style='info', description='Progress:', layout=Layout(height='25px', width='50%'),…"
      ]
     },
     "metadata": {},
     "output_type": "display_data"
    }
   ],
   "source": [
    "# Select a subset of the dataframe with the users that are staying\n",
    "users_staying_list = [us_s[0] for us_s in users_staying]\n",
    "df_user_log_staying = df_user_log_valid.filter(df_user_log_valid.userId.isin(users_staying_list))"
   ]
  },
  {
   "cell_type": "code",
   "execution_count": 33,
   "id": "f33173b6",
   "metadata": {},
   "outputs": [
    {
     "data": {
      "application/vnd.jupyter.widget-view+json": {
       "model_id": "93cbe45c1c3948cda0057b11159faeda",
       "version_major": 2,
       "version_minor": 0
      },
      "text/plain": [
       "VBox()"
      ]
     },
     "metadata": {},
     "output_type": "display_data"
    },
    {
     "data": {
      "application/vnd.jupyter.widget-view+json": {
       "model_id": "",
       "version_major": 2,
       "version_minor": 0
      },
      "text/plain": [
       "FloatProgress(value=0.0, bar_style='info', description='Progress:', layout=Layout(height='25px', width='50%'),…"
      ]
     },
     "metadata": {},
     "output_type": "display_data"
    },
    {
     "name": "stdout",
     "output_type": "stream",
     "text": [
      "# of Rows of the dataframe of users that cancelled:  5382467\n",
      "# of Rows of the dataframe of users that are staying:  26259199"
     ]
    }
   ],
   "source": [
    "# Check dta frames sizes\n",
    "print('# of Rows of the dataframe of users that cancelled: ', df_user_log_cancelled.count())\n",
    "print('# of Rows of the dataframe of users that are staying: ', df_user_log_staying.count())"
   ]
  },
  {
   "cell_type": "markdown",
   "id": "cb7cbca2",
   "metadata": {},
   "source": [
    "## 4. Data exploration"
   ]
  },
  {
   "cell_type": "markdown",
   "id": "3144e248",
   "metadata": {},
   "source": [
    "### 4.1. Number of days spent, Number of songs per day"
   ]
  },
  {
   "cell_type": "markdown",
   "id": "b3fe1c90",
   "metadata": {},
   "source": [
    "Let's take a look at the time spent with the service, and the number of songs listened per day.  \n",
    "\n",
    "For each user, we'll calculate the number of days based on the first and last timestamp, and then divide the number of songs for the number of days."
   ]
  },
  {
   "cell_type": "markdown",
   "id": "ca4f3882",
   "metadata": {},
   "source": [
    "**Cancelling Users**"
   ]
  },
  {
   "cell_type": "code",
   "execution_count": 34,
   "id": "a51cbb3f",
   "metadata": {},
   "outputs": [
    {
     "data": {
      "application/vnd.jupyter.widget-view+json": {
       "model_id": "d90c58dc65cf42478e28fa43a7d6dfe9",
       "version_major": 2,
       "version_minor": 0
      },
      "text/plain": [
       "VBox()"
      ]
     },
     "metadata": {},
     "output_type": "display_data"
    },
    {
     "data": {
      "application/vnd.jupyter.widget-view+json": {
       "model_id": "",
       "version_major": 2,
       "version_minor": 0
      },
      "text/plain": [
       "FloatProgress(value=0.0, bar_style='info', description='Progress:', layout=Layout(height='25px', width='50%'),…"
      ]
     },
     "metadata": {},
     "output_type": "display_data"
    }
   ],
   "source": [
    "# Select, for every user that cancelled, the number of songs and the time span they spent with the service\n",
    "song_time_canc = df_user_log_cancelled.\\\n",
    "                filter(df_user_log_cancelled[\"song\"] != \"\").\\\n",
    "                groupBy(\"userId\").\\\n",
    "                agg(min(\"ts\"), max(\"ts\"), countDistinct(\"song\")).\\\n",
    "                collect()"
   ]
  },
  {
   "cell_type": "code",
   "execution_count": 35,
   "id": "c24c16a6",
   "metadata": {},
   "outputs": [
    {
     "data": {
      "application/vnd.jupyter.widget-view+json": {
       "model_id": "9636133d64064fa48ac721f148acd4a7",
       "version_major": 2,
       "version_minor": 0
      },
      "text/plain": [
       "VBox()"
      ]
     },
     "metadata": {},
     "output_type": "display_data"
    },
    {
     "data": {
      "application/vnd.jupyter.widget-view+json": {
       "model_id": "",
       "version_major": 2,
       "version_minor": 0
      },
      "text/plain": [
       "FloatProgress(value=0.0, bar_style='info', description='Progress:', layout=Layout(height='25px', width='50%'),…"
      ]
     },
     "metadata": {},
     "output_type": "display_data"
    }
   ],
   "source": [
    "# Get the time difference\n",
    "delta_time_cancelled = [(song_time[2]/1000 - song_time[1]/1000)/(3600*24) for song_time in song_time_canc]\n",
    "# Get the number of songs listened per day day (on average)\n",
    "# NOTE: the if clause is needed for the cases in which a user has listened to just one song before leaving, and so \n",
    "# there would be only one timestamp associated with the event\n",
    "num_songs_cancelled = [song_time[3]/((song_time[2]/1000 - song_time[1]/1000)/(3600*24)) \\\n",
    "                       if ((song_time[2]/1000 - song_time[1]/1000)/(3600*24)) \\\n",
    "                       else 1.0 for song_time in song_time_canc]"
   ]
  },
  {
   "cell_type": "markdown",
   "id": "b81e9da4",
   "metadata": {},
   "source": [
    "**Users Staying**"
   ]
  },
  {
   "cell_type": "code",
   "execution_count": 36,
   "id": "11d001af",
   "metadata": {},
   "outputs": [
    {
     "data": {
      "application/vnd.jupyter.widget-view+json": {
       "model_id": "8330d2a24e3c4e64b7cad03f72e0c163",
       "version_major": 2,
       "version_minor": 0
      },
      "text/plain": [
       "VBox()"
      ]
     },
     "metadata": {},
     "output_type": "display_data"
    },
    {
     "data": {
      "application/vnd.jupyter.widget-view+json": {
       "model_id": "",
       "version_major": 2,
       "version_minor": 0
      },
      "text/plain": [
       "FloatProgress(value=0.0, bar_style='info', description='Progress:', layout=Layout(height='25px', width='50%'),…"
      ]
     },
     "metadata": {},
     "output_type": "display_data"
    }
   ],
   "source": [
    "# Select, for every user that stays, the number of songs and the time span they spent with the service\n",
    "song_time_stay = df_user_log_staying.\\\n",
    "                filter(df_user_log_staying[\"song\"] != \"\").\\\n",
    "                groupBy(\"userId\").\\\n",
    "                agg(min(\"ts\"), max(\"ts\"), countDistinct(\"song\")).\\\n",
    "                collect()"
   ]
  },
  {
   "cell_type": "code",
   "execution_count": 37,
   "id": "06ca356d",
   "metadata": {},
   "outputs": [
    {
     "data": {
      "application/vnd.jupyter.widget-view+json": {
       "model_id": "9cfd9c559b1e40e6ba7d6605b2d2f860",
       "version_major": 2,
       "version_minor": 0
      },
      "text/plain": [
       "VBox()"
      ]
     },
     "metadata": {},
     "output_type": "display_data"
    },
    {
     "data": {
      "application/vnd.jupyter.widget-view+json": {
       "model_id": "",
       "version_major": 2,
       "version_minor": 0
      },
      "text/plain": [
       "FloatProgress(value=0.0, bar_style='info', description='Progress:', layout=Layout(height='25px', width='50%'),…"
      ]
     },
     "metadata": {},
     "output_type": "display_data"
    }
   ],
   "source": [
    "# Get the time difference\n",
    "delta_time_staying = [(song_time[2]/1000 - song_time[1]/1000)/(3600*24) for song_time in song_time_stay]\n",
    "# Get the number of songs listened per day day (on average)\n",
    "# NOTE: the if clause is needed for the cases in which a user has listened to just one song before leaving, and so \n",
    "# there would be only one timestamp associated with the event\n",
    "num_songs_staying = [song_time[3]/((song_time[2]/1000 - song_time[1]/1000)/(3600*24)) \\\n",
    "                       if ((song_time[2]/1000 - song_time[1]/1000)/(3600*24)) \\\n",
    "                       else 1.0 for song_time in song_time_stay]"
   ]
  },
  {
   "cell_type": "markdown",
   "id": "bbcd9dca",
   "metadata": {},
   "source": [
    "**Plots/Statistics**"
   ]
  },
  {
   "cell_type": "code",
   "execution_count": 38,
   "id": "794e00de",
   "metadata": {},
   "outputs": [
    {
     "data": {
      "application/vnd.jupyter.widget-view+json": {
       "model_id": "727d133727b94e30be3aa2c31503391e",
       "version_major": 2,
       "version_minor": 0
      },
      "text/plain": [
       "VBox()"
      ]
     },
     "metadata": {},
     "output_type": "display_data"
    },
    {
     "data": {
      "application/vnd.jupyter.widget-view+json": {
       "model_id": "",
       "version_major": 2,
       "version_minor": 0
      },
      "text/plain": [
       "FloatProgress(value=0.0, bar_style='info', description='Progress:', layout=Layout(height='25px', width='50%'),…"
      ]
     },
     "metadata": {},
     "output_type": "display_data"
    },
    {
     "data": {
      "image/png": "[encoded data removed]",
      "text/plain": [
       "<IPython.core.display.Image object>"
      ]
     },
     "metadata": {},
     "output_type": "display_data"
    }
   ],
   "source": [
    "fig, (ax1, ax2) = plt.subplots(1, 2)\n",
    "\n",
    "fig.suptitle('Distribution of time spent by users ', fontsize=12, fontweight='bold')\n",
    "fig.set_figheight(7) \n",
    "fig.set_figwidth(15)\n",
    "\n",
    "ax1.hist(delta_time_cancelled, bins=50)\n",
    "ax1.set_xlabel('# of days spent with the service', fontsize=11)\n",
    "ax1.set_ylabel('# of users', fontsize=11)\n",
    "ax1.set_title('Cancelling Users', fontsize=11,fontweight='bold')\n",
    "\n",
    "ax2.hist(delta_time_staying, bins=50)\n",
    "ax2.set_xlabel('# of days spent with the service', fontsize=11)\n",
    "ax2.set_ylabel('# of users', fontsize=11)\n",
    "ax2.set_title('Staying Users', fontsize=11,fontweight='bold');\n",
    "\n",
    "%matplot plt"
   ]
  },
  {
   "cell_type": "code",
   "execution_count": 39,
   "id": "19ef3310",
   "metadata": {},
   "outputs": [
    {
     "data": {
      "application/vnd.jupyter.widget-view+json": {
       "model_id": "f6d93332e53843e79125cef93a0710ce",
       "version_major": 2,
       "version_minor": 0
      },
      "text/plain": [
       "VBox()"
      ]
     },
     "metadata": {},
     "output_type": "display_data"
    },
    {
     "data": {
      "application/vnd.jupyter.widget-view+json": {
       "model_id": "",
       "version_major": 2,
       "version_minor": 0
      },
      "text/plain": [
       "FloatProgress(value=0.0, bar_style='info', description='Progress:', layout=Layout(height='25px', width='50%'),…"
      ]
     },
     "metadata": {},
     "output_type": "display_data"
    },
    {
     "name": "stdout",
     "output_type": "stream",
     "text": [
      "Statistics for time spent with the service for users that cancelled:\n",
      "+-------+------------------+\n",
      "|summary|             value|\n",
      "+-------+------------------+\n",
      "|  count|              5002|\n",
      "|   mean|24.236902227921572|\n",
      "| stddev|17.690378886277752|\n",
      "|    min|               0.0|\n",
      "|    max|          60.82044|\n",
      "+-------+------------------+"
     ]
    }
   ],
   "source": [
    "# Look at the statistics\n",
    "print('Statistics for time spent with the service for users that cancelled:')\n",
    "spark.createDataFrame(delta_time_cancelled, FloatType()).describe().show()"
   ]
  },
  {
   "cell_type": "code",
   "execution_count": 40,
   "id": "d02f8bc5",
   "metadata": {},
   "outputs": [
    {
     "data": {
      "application/vnd.jupyter.widget-view+json": {
       "model_id": "afd4ae0eed02429c972aba93b3237ac6",
       "version_major": 2,
       "version_minor": 0
      },
      "text/plain": [
       "VBox()"
      ]
     },
     "metadata": {},
     "output_type": "display_data"
    },
    {
     "data": {
      "application/vnd.jupyter.widget-view+json": {
       "model_id": "",
       "version_major": 2,
       "version_minor": 0
      },
      "text/plain": [
       "FloatProgress(value=0.0, bar_style='info', description='Progress:', layout=Layout(height='25px', width='50%'),…"
      ]
     },
     "metadata": {},
     "output_type": "display_data"
    },
    {
     "name": "stdout",
     "output_type": "stream",
     "text": [
      "Statistics for time spent with the service for users that are staying:\n",
      "+-------+------------------+\n",
      "|summary|             value|\n",
      "+-------+------------------+\n",
      "|  count|             22261|\n",
      "|   mean|40.675792643424835|\n",
      "| stddev|  18.9854762798364|\n",
      "|    min|               0.0|\n",
      "|    max|         60.999504|\n",
      "+-------+------------------+"
     ]
    }
   ],
   "source": [
    "# Look at the statistics\n",
    "print('Statistics for time spent with the service for users that are staying:')\n",
    "spark.createDataFrame(delta_time_staying, FloatType()).describe().show()"
   ]
  },
  {
   "cell_type": "code",
   "execution_count": 41,
   "id": "8a68c91b",
   "metadata": {},
   "outputs": [
    {
     "data": {
      "application/vnd.jupyter.widget-view+json": {
       "model_id": "a711bd0957094a738e49222a33d895cc",
       "version_major": 2,
       "version_minor": 0
      },
      "text/plain": [
       "VBox()"
      ]
     },
     "metadata": {},
     "output_type": "display_data"
    },
    {
     "data": {
      "application/vnd.jupyter.widget-view+json": {
       "model_id": "",
       "version_major": 2,
       "version_minor": 0
      },
      "text/plain": [
       "FloatProgress(value=0.0, bar_style='info', description='Progress:', layout=Layout(height='25px', width='50%'),…"
      ]
     },
     "metadata": {},
     "output_type": "display_data"
    },
    {
     "data": {
      "image/png": "[encoded data removed]",
      "text/plain": [
       "<IPython.core.display.Image object>"
      ]
     },
     "metadata": {},
     "output_type": "display_data"
    }
   ],
   "source": [
    "# Plot histogram for songs\n",
    "fig, (ax1, ax2) = plt.subplots(1, 2)\n",
    "\n",
    "fig.suptitle('Distribution of songs listened/day by users', fontsize=12, fontweight='bold')\n",
    "fig.set_figheight(7) \n",
    "fig.set_figwidth(15)\n",
    "\n",
    "ax1.hist(num_songs_cancelled, bins=50)\n",
    "ax1.set_xlabel('# of songs/day', fontsize=11)\n",
    "ax1.set_ylabel('# of users', fontsize=11)\n",
    "ax1.set_title('Cancelling Users', fontsize=11,fontweight='bold')\n",
    "\n",
    "ax2.hist(num_songs_staying, bins=50)\n",
    "ax2.set_xlabel('# of songs/day', fontsize=11)\n",
    "ax2.set_ylabel('# of users', fontsize=11)\n",
    "ax2.set_title('Staying Users', fontsize=11,fontweight='bold');\n",
    "\n",
    "%matplot plt"
   ]
  },
  {
   "cell_type": "code",
   "execution_count": 42,
   "id": "4e5d5ab6",
   "metadata": {},
   "outputs": [
    {
     "data": {
      "application/vnd.jupyter.widget-view+json": {
       "model_id": "333f438d92414eff8e4115c4c4c1b378",
       "version_major": 2,
       "version_minor": 0
      },
      "text/plain": [
       "VBox()"
      ]
     },
     "metadata": {},
     "output_type": "display_data"
    },
    {
     "data": {
      "application/vnd.jupyter.widget-view+json": {
       "model_id": "",
       "version_major": 2,
       "version_minor": 0
      },
      "text/plain": [
       "FloatProgress(value=0.0, bar_style='info', description='Progress:', layout=Layout(height='25px', width='50%'),…"
      ]
     },
     "metadata": {},
     "output_type": "display_data"
    },
    {
     "name": "stdout",
     "output_type": "stream",
     "text": [
      "Statistics for songs/day for users that cancelled:\n",
      "+-------+------------------+\n",
      "|summary|             value|\n",
      "+-------+------------------+\n",
      "|  count|              5002|\n",
      "|   mean| 67.22089404627377|\n",
      "| stddev|101.09707031180494|\n",
      "|    min|         0.2437962|\n",
      "|    max|         1452.1008|\n",
      "+-------+------------------+"
     ]
    }
   ],
   "source": [
    "# Look at the statistics\n",
    "print('Statistics for songs/day for users that cancelled:')\n",
    "spark.createDataFrame(num_songs_cancelled, FloatType()).describe().show()"
   ]
  },
  {
   "cell_type": "code",
   "execution_count": 43,
   "id": "14a13349",
   "metadata": {},
   "outputs": [
    {
     "data": {
      "application/vnd.jupyter.widget-view+json": {
       "model_id": "a1e2529d7d07457e9b8000e5b6b2262c",
       "version_major": 2,
       "version_minor": 0
      },
      "text/plain": [
       "VBox()"
      ]
     },
     "metadata": {},
     "output_type": "display_data"
    },
    {
     "data": {
      "application/vnd.jupyter.widget-view+json": {
       "model_id": "",
       "version_major": 2,
       "version_minor": 0
      },
      "text/plain": [
       "FloatProgress(value=0.0, bar_style='info', description='Progress:', layout=Layout(height='25px', width='50%'),…"
      ]
     },
     "metadata": {},
     "output_type": "display_data"
    },
    {
     "name": "stdout",
     "output_type": "stream",
     "text": [
      "Statistics for songs/day for users that stay:\n",
      "+-------+-----------------+\n",
      "|summary|            value|\n",
      "+-------+-----------------+\n",
      "|  count|            22261|\n",
      "|   mean|40.91689135214914|\n",
      "| stddev| 85.3892471170439|\n",
      "|    min|      0.103192024|\n",
      "|    max|        1452.1008|\n",
      "+-------+-----------------+"
     ]
    }
   ],
   "source": [
    "# Look at the statistics\n",
    "print('Statistics for songs/day for users that stay:')\n",
    "spark.createDataFrame(num_songs_staying, FloatType()).describe().show()"
   ]
  },
  {
   "cell_type": "code",
   "execution_count": 44,
   "id": "054cc7f7",
   "metadata": {},
   "outputs": [
    {
     "data": {
      "application/vnd.jupyter.widget-view+json": {
       "model_id": "a1e6e77a7da8414eaade08a42f962d3c",
       "version_major": 2,
       "version_minor": 0
      },
      "text/plain": [
       "VBox()"
      ]
     },
     "metadata": {},
     "output_type": "display_data"
    },
    {
     "data": {
      "application/vnd.jupyter.widget-view+json": {
       "model_id": "",
       "version_major": 2,
       "version_minor": 0
      },
      "text/plain": [
       "FloatProgress(value=0.0, bar_style='info', description='Progress:', layout=Layout(height='25px', width='50%'),…"
      ]
     },
     "metadata": {},
     "output_type": "display_data"
    },
    {
     "name": "stdout",
     "output_type": "stream",
     "text": [
      "[0.2437961995601654, 664.6153564453125, 1452.100830078125]"
     ]
    }
   ],
   "source": [
    "spark.createDataFrame(num_songs_cancelled, FloatType()).approxQuantile(\"value\", [0.25, 0.5, 0.75], 0.25)"
   ]
  },
  {
   "cell_type": "code",
   "execution_count": 45,
   "id": "c377297b",
   "metadata": {},
   "outputs": [
    {
     "data": {
      "application/vnd.jupyter.widget-view+json": {
       "model_id": "bc4d7df83bba405687a978c50f8e87fc",
       "version_major": 2,
       "version_minor": 0
      },
      "text/plain": [
       "VBox()"
      ]
     },
     "metadata": {},
     "output_type": "display_data"
    },
    {
     "data": {
      "application/vnd.jupyter.widget-view+json": {
       "model_id": "",
       "version_major": 2,
       "version_minor": 0
      },
      "text/plain": [
       "FloatProgress(value=0.0, bar_style='info', description='Progress:', layout=Layout(height='25px', width='50%'),…"
      ]
     },
     "metadata": {},
     "output_type": "display_data"
    },
    {
     "name": "stdout",
     "output_type": "stream",
     "text": [
      "[0.10319202393293381, 807.4766235351562, 1452.100830078125]"
     ]
    }
   ],
   "source": [
    "spark.createDataFrame(num_songs_staying, FloatType()).approxQuantile(\"value\", [0.25, 0.5, 0.75], 0.25)"
   ]
  },
  {
   "cell_type": "markdown",
   "id": "c77b5714",
   "metadata": {},
   "source": [
    "### 4.2. Roll Advert/Add Friend"
   ]
  },
  {
   "cell_type": "markdown",
   "id": "e6f19772",
   "metadata": {},
   "source": [
    "Other maybe useful pages are thoe marked as `Roll Advert` or `Add Friend`"
   ]
  },
  {
   "cell_type": "code",
   "execution_count": 46,
   "id": "fa9ea013",
   "metadata": {},
   "outputs": [
    {
     "data": {
      "application/vnd.jupyter.widget-view+json": {
       "model_id": "698bb2265470437aadfc6b7cf89f37c9",
       "version_major": 2,
       "version_minor": 0
      },
      "text/plain": [
       "VBox()"
      ]
     },
     "metadata": {},
     "output_type": "display_data"
    },
    {
     "data": {
      "application/vnd.jupyter.widget-view+json": {
       "model_id": "",
       "version_major": 2,
       "version_minor": 0
      },
      "text/plain": [
       "FloatProgress(value=0.0, bar_style='info', description='Progress:', layout=Layout(height='25px', width='50%'),…"
      ]
     },
     "metadata": {},
     "output_type": "display_data"
    }
   ],
   "source": [
    "# Defining a roll_adv variable based on the Roll Advert page\n",
    "roll_adv = udf(lambda x: 1 if x == \"Roll Advert\" else 0, IntegerType())  \n",
    "\n",
    "df_user_log_cancelled = df_user_log_cancelled.withColumn(\"roll_adv\", roll_adv(\"page\"))\n",
    "df_user_log_staying = df_user_log_staying.withColumn(\"roll_adv\", roll_adv(\"page\"))"
   ]
  },
  {
   "cell_type": "code",
   "execution_count": 47,
   "id": "2fde22cf",
   "metadata": {},
   "outputs": [
    {
     "data": {
      "application/vnd.jupyter.widget-view+json": {
       "model_id": "7cb2bee99b0c47bfb762d00702aba146",
       "version_major": 2,
       "version_minor": 0
      },
      "text/plain": [
       "VBox()"
      ]
     },
     "metadata": {},
     "output_type": "display_data"
    },
    {
     "data": {
      "application/vnd.jupyter.widget-view+json": {
       "model_id": "",
       "version_major": 2,
       "version_minor": 0
      },
      "text/plain": [
       "FloatProgress(value=0.0, bar_style='info', description='Progress:', layout=Layout(height='25px', width='50%'),…"
      ]
     },
     "metadata": {},
     "output_type": "display_data"
    }
   ],
   "source": [
    "# Defining an add_friend variable based on the Add Friend page\n",
    "add_friend = udf(lambda x: 1 if x == \"Add Friend\" else 0, IntegerType())  \n",
    "\n",
    "df_user_log_cancelled = df_user_log_cancelled.withColumn(\"add_friend\", add_friend(\"page\"))\n",
    "df_user_log_staying = df_user_log_staying.withColumn(\"add_friend\", add_friend(\"page\"))"
   ]
  },
  {
   "cell_type": "code",
   "execution_count": 48,
   "id": "7a6cc25b",
   "metadata": {},
   "outputs": [
    {
     "data": {
      "application/vnd.jupyter.widget-view+json": {
       "model_id": "598d033b06bc401885895a5e669133f0",
       "version_major": 2,
       "version_minor": 0
      },
      "text/plain": [
       "VBox()"
      ]
     },
     "metadata": {},
     "output_type": "display_data"
    },
    {
     "data": {
      "application/vnd.jupyter.widget-view+json": {
       "model_id": "",
       "version_major": 2,
       "version_minor": 0
      },
      "text/plain": [
       "FloatProgress(value=0.0, bar_style='info', description='Progress:', layout=Layout(height='25px', width='50%'),…"
      ]
     },
     "metadata": {},
     "output_type": "display_data"
    },
    {
     "name": "stdout",
     "output_type": "stream",
     "text": [
      "Row(artist='Popol Vuh', auth='Logged In', firstName='Shlok', gender='M', itemInSession=278, lastName='Johnson', length=524.32934, level='paid', location='Dallas-Fort Worth-Arlington, TX', method='PUT', page='NextSong', registration=1533734541000, sessionId=22683, song='Ich mache einen Spiegel - Dream Part 4', status=200, ts=1538352001000, userAgent='\"Mozilla/5.0 (Windows NT 6.1; WOW64) AppleWebKit/537.36 (KHTML, like Gecko) Chrome/36.0.1985.143 Safari/537.36\"', userId='1749042', churn=0, roll_adv=0, add_friend=0)"
     ]
    }
   ],
   "source": [
    "# Check columns - cancelled\n",
    "df_user_log_cancelled.head()"
   ]
  },
  {
   "cell_type": "code",
   "execution_count": 49,
   "id": "0ca91ccd",
   "metadata": {},
   "outputs": [
    {
     "data": {
      "application/vnd.jupyter.widget-view+json": {
       "model_id": "38b0a68fe25a44abbc5f80a248e19c94",
       "version_major": 2,
       "version_minor": 0
      },
      "text/plain": [
       "VBox()"
      ]
     },
     "metadata": {},
     "output_type": "display_data"
    },
    {
     "data": {
      "application/vnd.jupyter.widget-view+json": {
       "model_id": "",
       "version_major": 2,
       "version_minor": 0
      },
      "text/plain": [
       "FloatProgress(value=0.0, bar_style='info', description='Progress:', layout=Layout(height='25px', width='50%'),…"
      ]
     },
     "metadata": {},
     "output_type": "display_data"
    },
    {
     "name": "stdout",
     "output_type": "stream",
     "text": [
      "Row(artist='Popol Vuh', auth='Logged In', firstName='Shlok', gender='M', itemInSession=278, lastName='Johnson', length=524.32934, level='paid', location='Dallas-Fort Worth-Arlington, TX', method='PUT', page='NextSong', registration=1533734541000, sessionId=22683, song='Ich mache einen Spiegel - Dream Part 4', status=200, ts=1538352001000, userAgent='\"Mozilla/5.0 (Windows NT 6.1; WOW64) AppleWebKit/537.36 (KHTML, like Gecko) Chrome/36.0.1985.143 Safari/537.36\"', userId='1749042', churn=0, roll_adv=0, add_friend=0)"
     ]
    }
   ],
   "source": [
    "# Check columns - staying\n",
    "df_user_log_staying.head()"
   ]
  },
  {
   "cell_type": "markdown",
   "id": "4026103e",
   "metadata": {},
   "source": [
    "**Cancelling Users**"
   ]
  },
  {
   "cell_type": "code",
   "execution_count": 66,
   "id": "0ad93f70",
   "metadata": {},
   "outputs": [
    {
     "data": {
      "application/vnd.jupyter.widget-view+json": {
       "model_id": "f821d3f479dd49fd8c413b279693aec3",
       "version_major": 2,
       "version_minor": 0
      },
      "text/plain": [
       "VBox()"
      ]
     },
     "metadata": {},
     "output_type": "display_data"
    },
    {
     "data": {
      "application/vnd.jupyter.widget-view+json": {
       "model_id": "",
       "version_major": 2,
       "version_minor": 0
      },
      "text/plain": [
       "FloatProgress(value=0.0, bar_style='info', description='Progress:', layout=Layout(height='25px', width='50%'),…"
      ]
     },
     "metadata": {},
     "output_type": "display_data"
    }
   ],
   "source": [
    "# Parse the df of cancelled users to get the total number of added friend/user\n",
    "added_friend_canc = df_user_log_cancelled.\\\n",
    "                groupBy(\"userId\").\\\n",
    "                agg(min(\"ts\"), max(\"ts\"), Ssum(\"add_friend\")).collect()"
   ]
  },
  {
   "cell_type": "code",
   "execution_count": 67,
   "id": "a0513770",
   "metadata": {},
   "outputs": [
    {
     "data": {
      "application/vnd.jupyter.widget-view+json": {
       "model_id": "ea3f038ba77c41fcb397ede5b5061e8d",
       "version_major": 2,
       "version_minor": 0
      },
      "text/plain": [
       "VBox()"
      ]
     },
     "metadata": {},
     "output_type": "display_data"
    },
    {
     "data": {
      "application/vnd.jupyter.widget-view+json": {
       "model_id": "",
       "version_major": 2,
       "version_minor": 0
      },
      "text/plain": [
       "FloatProgress(value=0.0, bar_style='info', description='Progress:', layout=Layout(height='25px', width='50%'),…"
      ]
     },
     "metadata": {},
     "output_type": "display_data"
    }
   ],
   "source": [
    "# Calculate the number of added friends per day\n",
    "# NOTE: the if clause is needed for the cases in which a user has listened to just one song before leaving, and so \n",
    "# there would be only one timestamp associated with the event\n",
    "added_friend_event_canc = [added_friend[3]/((added_friend[2]/1000 - added_friend[1]/1000)/(3600*24)) \\\n",
    "                           if ((added_friend[2]/1000 - added_friend[1]/1000)/(3600*24)) \\\n",
    "                           else 1.0 for added_friend in added_friend_canc]"
   ]
  },
  {
   "cell_type": "code",
   "execution_count": 68,
   "id": "b00288bc",
   "metadata": {},
   "outputs": [
    {
     "data": {
      "application/vnd.jupyter.widget-view+json": {
       "model_id": "88f0e29425c2432eb3565ea8471abae7",
       "version_major": 2,
       "version_minor": 0
      },
      "text/plain": [
       "VBox()"
      ]
     },
     "metadata": {},
     "output_type": "display_data"
    },
    {
     "data": {
      "application/vnd.jupyter.widget-view+json": {
       "model_id": "",
       "version_major": 2,
       "version_minor": 0
      },
      "text/plain": [
       "FloatProgress(value=0.0, bar_style='info', description='Progress:', layout=Layout(height='25px', width='50%'),…"
      ]
     },
     "metadata": {},
     "output_type": "display_data"
    }
   ],
   "source": [
    "# Parse the df of cancelled users to get the total number of advert rolled/user\n",
    "rolled_advert_canc = df_user_log_cancelled.\\\n",
    "                groupBy(\"userId\").\\\n",
    "                agg(min(\"ts\"), max(\"ts\"), Ssum(\"roll_adv\")).collect()"
   ]
  },
  {
   "cell_type": "code",
   "execution_count": 69,
   "id": "596f96c2",
   "metadata": {},
   "outputs": [
    {
     "data": {
      "application/vnd.jupyter.widget-view+json": {
       "model_id": "61c2669c84cd45b4a81d2b0d2a353b5e",
       "version_major": 2,
       "version_minor": 0
      },
      "text/plain": [
       "VBox()"
      ]
     },
     "metadata": {},
     "output_type": "display_data"
    },
    {
     "data": {
      "application/vnd.jupyter.widget-view+json": {
       "model_id": "",
       "version_major": 2,
       "version_minor": 0
      },
      "text/plain": [
       "FloatProgress(value=0.0, bar_style='info', description='Progress:', layout=Layout(height='25px', width='50%'),…"
      ]
     },
     "metadata": {},
     "output_type": "display_data"
    }
   ],
   "source": [
    "# Calculate the number of rolled adverts per day\n",
    "# NOTE: the if clause is needed for the cases in which a user has listened to just one song before leaving, and so \n",
    "# there would be only one timestamp associated with the event\n",
    "rolled_advert_event_canc = [rolled_adv[3]/((rolled_adv[2]/1000 - rolled_adv[1]/1000)/(3600*24)) \\\n",
    "                           if ((rolled_adv[2]/1000 - rolled_adv[1]/1000)/(3600*24)) \\\n",
    "                           else 1.0 for rolled_adv in rolled_advert_canc]"
   ]
  },
  {
   "cell_type": "markdown",
   "id": "78315d51",
   "metadata": {},
   "source": [
    "**Staying Users**"
   ]
  },
  {
   "cell_type": "code",
   "execution_count": 70,
   "id": "6c57f2e8",
   "metadata": {},
   "outputs": [
    {
     "data": {
      "application/vnd.jupyter.widget-view+json": {
       "model_id": "5d841f87704f4e14b1c7cd514279bd09",
       "version_major": 2,
       "version_minor": 0
      },
      "text/plain": [
       "VBox()"
      ]
     },
     "metadata": {},
     "output_type": "display_data"
    },
    {
     "data": {
      "application/vnd.jupyter.widget-view+json": {
       "model_id": "",
       "version_major": 2,
       "version_minor": 0
      },
      "text/plain": [
       "FloatProgress(value=0.0, bar_style='info', description='Progress:', layout=Layout(height='25px', width='50%'),…"
      ]
     },
     "metadata": {},
     "output_type": "display_data"
    }
   ],
   "source": [
    "# Parse the df of staying users to get the total number of added friend/user\n",
    "added_friend_stay = df_user_log_staying.\\\n",
    "                groupBy(\"userId\").\\\n",
    "                agg(min(\"ts\"), max(\"ts\"), Ssum(\"add_friend\")).collect()"
   ]
  },
  {
   "cell_type": "code",
   "execution_count": 71,
   "id": "13e78f7a",
   "metadata": {},
   "outputs": [
    {
     "data": {
      "application/vnd.jupyter.widget-view+json": {
       "model_id": "eb47fb429af042689ce2bd7282cacf3b",
       "version_major": 2,
       "version_minor": 0
      },
      "text/plain": [
       "VBox()"
      ]
     },
     "metadata": {},
     "output_type": "display_data"
    },
    {
     "data": {
      "application/vnd.jupyter.widget-view+json": {
       "model_id": "",
       "version_major": 2,
       "version_minor": 0
      },
      "text/plain": [
       "FloatProgress(value=0.0, bar_style='info', description='Progress:', layout=Layout(height='25px', width='50%'),…"
      ]
     },
     "metadata": {},
     "output_type": "display_data"
    }
   ],
   "source": [
    "# Calculate the number of added friends per day\n",
    "# NOTE: the if clause is needed for the cases in which a user has listened to just one song before leaving, and so \n",
    "# there would be only one timestamp associated with the event\n",
    "added_friend_event_stay = [added_friend[3]/((added_friend[2]/1000 - added_friend[1]/1000)/(3600*24)) \\\n",
    "                           if ((added_friend[2]/1000 - added_friend[1]/1000)/(3600*24)) \\\n",
    "                           else 1.0 for added_friend in added_friend_stay]"
   ]
  },
  {
   "cell_type": "code",
   "execution_count": 72,
   "id": "2dc48346",
   "metadata": {},
   "outputs": [
    {
     "data": {
      "application/vnd.jupyter.widget-view+json": {
       "model_id": "ac4205a4135f4b1db9b400f42ea610ec",
       "version_major": 2,
       "version_minor": 0
      },
      "text/plain": [
       "VBox()"
      ]
     },
     "metadata": {},
     "output_type": "display_data"
    },
    {
     "data": {
      "application/vnd.jupyter.widget-view+json": {
       "model_id": "",
       "version_major": 2,
       "version_minor": 0
      },
      "text/plain": [
       "FloatProgress(value=0.0, bar_style='info', description='Progress:', layout=Layout(height='25px', width='50%'),…"
      ]
     },
     "metadata": {},
     "output_type": "display_data"
    }
   ],
   "source": [
    "# Parse the df of staying users to get the total number of advert rolled/user\n",
    "rolled_advert_stay = df_user_log_staying.\\\n",
    "                groupBy(\"userId\").\\\n",
    "                agg(min(\"ts\"), max(\"ts\"), Ssum(\"roll_adv\")).collect()"
   ]
  },
  {
   "cell_type": "code",
   "execution_count": 73,
   "id": "ff655592",
   "metadata": {},
   "outputs": [
    {
     "data": {
      "application/vnd.jupyter.widget-view+json": {
       "model_id": "e5bd5b92be7d41f09180b857fa352597",
       "version_major": 2,
       "version_minor": 0
      },
      "text/plain": [
       "VBox()"
      ]
     },
     "metadata": {},
     "output_type": "display_data"
    },
    {
     "data": {
      "application/vnd.jupyter.widget-view+json": {
       "model_id": "",
       "version_major": 2,
       "version_minor": 0
      },
      "text/plain": [
       "FloatProgress(value=0.0, bar_style='info', description='Progress:', layout=Layout(height='25px', width='50%'),…"
      ]
     },
     "metadata": {},
     "output_type": "display_data"
    }
   ],
   "source": [
    "# Calculate the number of rolled adverts per day\n",
    "# NOTE: the if clause is needed for the cases in which a user has listened to just one song before leaving, and so \n",
    "# there would be only one timestamp associated with the event\n",
    "rolled_advert_event_stay = [rolled_adv[3]/((rolled_adv[2]/1000 - rolled_adv[1]/1000)/(3600*24)) \\\n",
    "                           if ((rolled_adv[2]/1000 - rolled_adv[1]/1000)/(3600*24)) \\\n",
    "                           else 1.0 for rolled_adv in rolled_advert_stay]"
   ]
  },
  {
   "cell_type": "markdown",
   "id": "618b38bc",
   "metadata": {},
   "source": [
    "**Plots/Statistics**"
   ]
  },
  {
   "cell_type": "code",
   "execution_count": 74,
   "id": "f2c70613",
   "metadata": {},
   "outputs": [
    {
     "data": {
      "application/vnd.jupyter.widget-view+json": {
       "model_id": "19c77338130541e68cccca41a5bd0e88",
       "version_major": 2,
       "version_minor": 0
      },
      "text/plain": [
       "VBox()"
      ]
     },
     "metadata": {},
     "output_type": "display_data"
    },
    {
     "data": {
      "application/vnd.jupyter.widget-view+json": {
       "model_id": "",
       "version_major": 2,
       "version_minor": 0
      },
      "text/plain": [
       "FloatProgress(value=0.0, bar_style='info', description='Progress:', layout=Layout(height='25px', width='50%'),…"
      ]
     },
     "metadata": {},
     "output_type": "display_data"
    },
    {
     "data": {
      "image/png": "[encoded data removed]",
      "text/plain": [
       "<IPython.core.display.Image object>"
      ]
     },
     "metadata": {},
     "output_type": "display_data"
    }
   ],
   "source": [
    "# Plot histogram for added friends\n",
    "fig, (ax1, ax2) = plt.subplots(1, 2)\n",
    "\n",
    "fig.suptitle('Distribution of added friends/day by users', fontsize=12, fontweight='bold')\n",
    "fig.set_figheight(7) \n",
    "fig.set_figwidth(15)\n",
    "\n",
    "ax1.hist(added_friend_event_canc, bins=100)\n",
    "ax1.set_xlabel('# of added friends/day', fontsize=11)\n",
    "ax1.set_ylabel('# of users', fontsize=11)\n",
    "ax1.set_title('Cancelling Users', fontsize=11,fontweight='bold')\n",
    "\n",
    "ax2.hist(added_friend_event_stay, bins=100)\n",
    "ax2.set_xlabel('# of added friends/day', fontsize=11)\n",
    "ax2.set_ylabel('# of users', fontsize=11)\n",
    "ax2.set_title('Staying Users', fontsize=11,fontweight='bold');\n",
    "\n",
    "%matplot plt"
   ]
  },
  {
   "cell_type": "code",
   "execution_count": 75,
   "id": "49ca5b94",
   "metadata": {},
   "outputs": [
    {
     "data": {
      "application/vnd.jupyter.widget-view+json": {
       "model_id": "c91548e0ba474ec5888b90fbcf879c7a",
       "version_major": 2,
       "version_minor": 0
      },
      "text/plain": [
       "VBox()"
      ]
     },
     "metadata": {},
     "output_type": "display_data"
    },
    {
     "data": {
      "application/vnd.jupyter.widget-view+json": {
       "model_id": "",
       "version_major": 2,
       "version_minor": 0
      },
      "text/plain": [
       "FloatProgress(value=0.0, bar_style='info', description='Progress:', layout=Layout(height='25px', width='50%'),…"
      ]
     },
     "metadata": {},
     "output_type": "display_data"
    },
    {
     "name": "stdout",
     "output_type": "stream",
     "text": [
      "Statistics for added friend/day for users that cancelled:\n",
      "+-------+------------------+\n",
      "|summary|             value|\n",
      "+-------+------------------+\n",
      "|  count|              5003|\n",
      "|   mean|1.2849585002665367|\n",
      "| stddev| 4.684417942761355|\n",
      "|    min|               0.0|\n",
      "|    max|         165.51724|\n",
      "+-------+------------------+"
     ]
    }
   ],
   "source": [
    "# Look at the statistics\n",
    "print('Statistics for added friend/day for users that cancelled:')\n",
    "spark.createDataFrame(added_friend_event_canc, FloatType()).describe().show()"
   ]
  },
  {
   "cell_type": "code",
   "execution_count": 76,
   "id": "48c93276",
   "metadata": {},
   "outputs": [
    {
     "data": {
      "application/vnd.jupyter.widget-view+json": {
       "model_id": "a4c958ecf8994ba2a9df3857abd66bfb",
       "version_major": 2,
       "version_minor": 0
      },
      "text/plain": [
       "VBox()"
      ]
     },
     "metadata": {},
     "output_type": "display_data"
    },
    {
     "data": {
      "application/vnd.jupyter.widget-view+json": {
       "model_id": "",
       "version_major": 2,
       "version_minor": 0
      },
      "text/plain": [
       "FloatProgress(value=0.0, bar_style='info', description='Progress:', layout=Layout(height='25px', width='50%'),…"
      ]
     },
     "metadata": {},
     "output_type": "display_data"
    },
    {
     "name": "stdout",
     "output_type": "stream",
     "text": [
      "Statistics for added friend/day for users that stay:\n",
      "+-------+------------------+\n",
      "|summary|             value|\n",
      "+-------+------------------+\n",
      "|  count|             22278|\n",
      "|   mean|0.9894135130330384|\n",
      "| stddev| 31.56827156102051|\n",
      "|    min|               0.0|\n",
      "|    max|         4670.2705|\n",
      "+-------+------------------+"
     ]
    }
   ],
   "source": [
    "# Look at the statistics\n",
    "print('Statistics for added friend/day for users that stay:')\n",
    "spark.createDataFrame(added_friend_event_stay, FloatType()).describe().show()"
   ]
  },
  {
   "cell_type": "code",
   "execution_count": 77,
   "id": "9a01fd34",
   "metadata": {},
   "outputs": [
    {
     "data": {
      "application/vnd.jupyter.widget-view+json": {
       "model_id": "5cac077e932a4c7290a103ebbfc5c039",
       "version_major": 2,
       "version_minor": 0
      },
      "text/plain": [
       "VBox()"
      ]
     },
     "metadata": {},
     "output_type": "display_data"
    },
    {
     "data": {
      "application/vnd.jupyter.widget-view+json": {
       "model_id": "",
       "version_major": 2,
       "version_minor": 0
      },
      "text/plain": [
       "FloatProgress(value=0.0, bar_style='info', description='Progress:', layout=Layout(height='25px', width='50%'),…"
      ]
     },
     "metadata": {},
     "output_type": "display_data"
    },
    {
     "data": {
      "image/png": "[encoded data removed]",
      "text/plain": [
       "<IPython.core.display.Image object>"
      ]
     },
     "metadata": {},
     "output_type": "display_data"
    }
   ],
   "source": [
    "# Plot histogram for rolled advert\n",
    "fig, (ax1, ax2) = plt.subplots(1, 2)\n",
    "\n",
    "fig.suptitle('Distribution of rolled advert event', fontsize=12, fontweight='bold')\n",
    "fig.set_figheight(7) \n",
    "fig.set_figwidth(15)\n",
    "\n",
    "ax1.hist(rolled_advert_event_canc, bins=100)\n",
    "ax1.set_xlabel('# of rolled adverts/day', fontsize=11)\n",
    "ax1.set_ylabel('# of users', fontsize=11)\n",
    "ax1.set_title('Cancelling Users', fontsize=11,fontweight='bold')\n",
    "\n",
    "ax2.hist(rolled_advert_event_stay, bins=100)\n",
    "ax2.set_xlabel('# of rolled adverts/day', fontsize=11)\n",
    "ax2.set_ylabel('# of users', fontsize=11)\n",
    "ax2.set_title('Staying Users', fontsize=11,fontweight='bold');\n",
    "\n",
    "%matplot plt"
   ]
  },
  {
   "cell_type": "code",
   "execution_count": 78,
   "id": "a59bb522",
   "metadata": {},
   "outputs": [
    {
     "data": {
      "application/vnd.jupyter.widget-view+json": {
       "model_id": "de387bdfb7ae4cd592614ecab4f679e8",
       "version_major": 2,
       "version_minor": 0
      },
      "text/plain": [
       "VBox()"
      ]
     },
     "metadata": {},
     "output_type": "display_data"
    },
    {
     "data": {
      "application/vnd.jupyter.widget-view+json": {
       "model_id": "",
       "version_major": 2,
       "version_minor": 0
      },
      "text/plain": [
       "FloatProgress(value=0.0, bar_style='info', description='Progress:', layout=Layout(height='25px', width='50%'),…"
      ]
     },
     "metadata": {},
     "output_type": "display_data"
    },
    {
     "name": "stdout",
     "output_type": "stream",
     "text": [
      "Statistics for rolled advert/day for users that cancelled:\n",
      "+-------+-----------------+\n",
      "|summary|            value|\n",
      "+-------+-----------------+\n",
      "|  count|             5003|\n",
      "|   mean|6.281575371243779|\n",
      "| stddev|78.25946934848248|\n",
      "|    min|              0.0|\n",
      "|    max|        4547.3687|\n",
      "+-------+-----------------+"
     ]
    }
   ],
   "source": [
    "# Look at the statistics\n",
    "print('Statistics for rolled advert/day for users that cancelled:')\n",
    "spark.createDataFrame(rolled_advert_event_canc, FloatType()).describe().show()"
   ]
  },
  {
   "cell_type": "code",
   "execution_count": 79,
   "id": "f674141a",
   "metadata": {},
   "outputs": [
    {
     "data": {
      "application/vnd.jupyter.widget-view+json": {
       "model_id": "73e318d052a5442a8db95f590365aa96",
       "version_major": 2,
       "version_minor": 0
      },
      "text/plain": [
       "VBox()"
      ]
     },
     "metadata": {},
     "output_type": "display_data"
    },
    {
     "data": {
      "application/vnd.jupyter.widget-view+json": {
       "model_id": "",
       "version_major": 2,
       "version_minor": 0
      },
      "text/plain": [
       "FloatProgress(value=0.0, bar_style='info', description='Progress:', layout=Layout(height='25px', width='50%'),…"
      ]
     },
     "metadata": {},
     "output_type": "display_data"
    },
    {
     "name": "stdout",
     "output_type": "stream",
     "text": [
      "Statistics for rolled advert/day for users that stay:\n",
      "+-------+-----------------+\n",
      "|summary|            value|\n",
      "+-------+-----------------+\n",
      "|  count|            22278|\n",
      "|   mean|2.769251988135614|\n",
      "| stddev|50.51804649704249|\n",
      "|    min|              0.0|\n",
      "|    max|           4800.0|\n",
      "+-------+-----------------+"
     ]
    }
   ],
   "source": [
    "# Look at the statistics\n",
    "print('Statistics for rolled advert/day for users that stay:')\n",
    "spark.createDataFrame(rolled_advert_event_stay, FloatType()).describe().show()"
   ]
  },
  {
   "cell_type": "markdown",
   "id": "eca19c6d",
   "metadata": {},
   "source": [
    "### 4.3. Downgrade Plan"
   ]
  },
  {
   "cell_type": "markdown",
   "id": "8c67511d",
   "metadata": {},
   "source": [
    "Another option could be to check how many downgrades of a plan (from paid to free) were actually submitted for the two families of users."
   ]
  },
  {
   "cell_type": "code",
   "execution_count": 82,
   "id": "3ba0a554",
   "metadata": {},
   "outputs": [
    {
     "data": {
      "application/vnd.jupyter.widget-view+json": {
       "model_id": "6811ddf91bbe4d1ab65eebfe6d4ecb7e",
       "version_major": 2,
       "version_minor": 0
      },
      "text/plain": [
       "VBox()"
      ]
     },
     "metadata": {},
     "output_type": "display_data"
    },
    {
     "data": {
      "application/vnd.jupyter.widget-view+json": {
       "model_id": "",
       "version_major": 2,
       "version_minor": 0
      },
      "text/plain": [
       "FloatProgress(value=0.0, bar_style='info', description='Progress:', layout=Layout(height='25px', width='50%'),…"
      ]
     },
     "metadata": {},
     "output_type": "display_data"
    },
    {
     "name": "stdout",
     "output_type": "stream",
     "text": [
      "+-----+\n",
      "|level|\n",
      "+-----+\n",
      "| free|\n",
      "| paid|\n",
      "+-----+"
     ]
    }
   ],
   "source": [
    "# Check available levels\n",
    "df_user_log.select(\"level\").dropDuplicates().sort(\"level\").show()"
   ]
  },
  {
   "cell_type": "code",
   "execution_count": 85,
   "id": "5bdd54e8",
   "metadata": {},
   "outputs": [
    {
     "data": {
      "application/vnd.jupyter.widget-view+json": {
       "model_id": "aeef93df947b464295922f235c2206f4",
       "version_major": 2,
       "version_minor": 0
      },
      "text/plain": [
       "VBox()"
      ]
     },
     "metadata": {},
     "output_type": "display_data"
    },
    {
     "data": {
      "application/vnd.jupyter.widget-view+json": {
       "model_id": "",
       "version_major": 2,
       "version_minor": 0
      },
      "text/plain": [
       "FloatProgress(value=0.0, bar_style='info', description='Progress:', layout=Layout(height='25px', width='50%'),…"
      ]
     },
     "metadata": {},
     "output_type": "display_data"
    }
   ],
   "source": [
    "# Defining a sub_dwg variable based on the Submit Downgrade page\n",
    "sub_dwg = udf(lambda x: 1 if x == \"Submit Downgrade\" else 0, IntegerType())  \n",
    "\n",
    "df_user_log_cancelled = df_user_log_cancelled.withColumn(\"sub_dwg\", sub_dwg(\"page\"))\n",
    "df_user_log_staying = df_user_log_staying.withColumn(\"sub_dwg\", sub_dwg(\"page\"))"
   ]
  },
  {
   "cell_type": "code",
   "execution_count": 86,
   "id": "f0e8dcbe",
   "metadata": {},
   "outputs": [
    {
     "data": {
      "application/vnd.jupyter.widget-view+json": {
       "model_id": "33b789fc93804bc69de6cd8b8f624c26",
       "version_major": 2,
       "version_minor": 0
      },
      "text/plain": [
       "VBox()"
      ]
     },
     "metadata": {},
     "output_type": "display_data"
    },
    {
     "data": {
      "application/vnd.jupyter.widget-view+json": {
       "model_id": "",
       "version_major": 2,
       "version_minor": 0
      },
      "text/plain": [
       "FloatProgress(value=0.0, bar_style='info', description='Progress:', layout=Layout(height='25px', width='50%'),…"
      ]
     },
     "metadata": {},
     "output_type": "display_data"
    }
   ],
   "source": [
    "# Defining a pay_plan variable based on the Level page\n",
    "pay_plan = udf(lambda x: 1 if x == \"paid\" else 0, IntegerType())  \n",
    "\n",
    "df_user_log_cancelled = df_user_log_cancelled.withColumn(\"pay_plan\", pay_plan(\"level\"))\n",
    "df_user_log_staying = df_user_log_staying.withColumn(\"pay_plan\", pay_plan(\"level\"))"
   ]
  },
  {
   "cell_type": "code",
   "execution_count": 87,
   "id": "9cb20d4f",
   "metadata": {},
   "outputs": [
    {
     "data": {
      "application/vnd.jupyter.widget-view+json": {
       "model_id": "de4ff47488fc49c7a07fa7dcf0080803",
       "version_major": 2,
       "version_minor": 0
      },
      "text/plain": [
       "VBox()"
      ]
     },
     "metadata": {},
     "output_type": "display_data"
    },
    {
     "data": {
      "application/vnd.jupyter.widget-view+json": {
       "model_id": "",
       "version_major": 2,
       "version_minor": 0
      },
      "text/plain": [
       "FloatProgress(value=0.0, bar_style='info', description='Progress:', layout=Layout(height='25px', width='50%'),…"
      ]
     },
     "metadata": {},
     "output_type": "display_data"
    },
    {
     "name": "stdout",
     "output_type": "stream",
     "text": [
      "Row(artist='Popol Vuh', auth='Logged In', firstName='Shlok', gender='M', itemInSession=278, lastName='Johnson', length=524.32934, level='paid', location='Dallas-Fort Worth-Arlington, TX', method='PUT', page='NextSong', registration=1533734541000, sessionId=22683, song='Ich mache einen Spiegel - Dream Part 4', status=200, ts=1538352001000, userAgent='\"Mozilla/5.0 (Windows NT 6.1; WOW64) AppleWebKit/537.36 (KHTML, like Gecko) Chrome/36.0.1985.143 Safari/537.36\"', userId='1749042', churn=0, roll_adv=0, add_friend=0, sub_dwg=0, pay_plan=1)"
     ]
    }
   ],
   "source": [
    "# Check columns - cancelled\n",
    "df_user_log_cancelled.head()"
   ]
  },
  {
   "cell_type": "code",
   "execution_count": 88,
   "id": "8b333f9c",
   "metadata": {},
   "outputs": [
    {
     "data": {
      "application/vnd.jupyter.widget-view+json": {
       "model_id": "bf8d4b78ab5e4a349913260a8003fd20",
       "version_major": 2,
       "version_minor": 0
      },
      "text/plain": [
       "VBox()"
      ]
     },
     "metadata": {},
     "output_type": "display_data"
    },
    {
     "data": {
      "application/vnd.jupyter.widget-view+json": {
       "model_id": "",
       "version_major": 2,
       "version_minor": 0
      },
      "text/plain": [
       "FloatProgress(value=0.0, bar_style='info', description='Progress:', layout=Layout(height='25px', width='50%'),…"
      ]
     },
     "metadata": {},
     "output_type": "display_data"
    },
    {
     "name": "stdout",
     "output_type": "stream",
     "text": [
      "Row(artist='Popol Vuh', auth='Logged In', firstName='Shlok', gender='M', itemInSession=278, lastName='Johnson', length=524.32934, level='paid', location='Dallas-Fort Worth-Arlington, TX', method='PUT', page='NextSong', registration=1533734541000, sessionId=22683, song='Ich mache einen Spiegel - Dream Part 4', status=200, ts=1538352001000, userAgent='\"Mozilla/5.0 (Windows NT 6.1; WOW64) AppleWebKit/537.36 (KHTML, like Gecko) Chrome/36.0.1985.143 Safari/537.36\"', userId='1749042', churn=0, roll_adv=0, add_friend=0, sub_dwg=0, pay_plan=1)"
     ]
    }
   ],
   "source": [
    "# Check columns - staying\n",
    "df_user_log_staying.head()"
   ]
  },
  {
   "cell_type": "markdown",
   "id": "53959cfe",
   "metadata": {},
   "source": [
    "**Cancelled Users**"
   ]
  },
  {
   "cell_type": "code",
   "execution_count": 89,
   "id": "b75e7577",
   "metadata": {},
   "outputs": [
    {
     "data": {
      "application/vnd.jupyter.widget-view+json": {
       "model_id": "4befa6337b3b4e4b809fa8127de8a9ae",
       "version_major": 2,
       "version_minor": 0
      },
      "text/plain": [
       "VBox()"
      ]
     },
     "metadata": {},
     "output_type": "display_data"
    },
    {
     "data": {
      "application/vnd.jupyter.widget-view+json": {
       "model_id": "",
       "version_major": 2,
       "version_minor": 0
      },
      "text/plain": [
       "FloatProgress(value=0.0, bar_style='info', description='Progress:', layout=Layout(height='25px', width='50%'),…"
      ]
     },
     "metadata": {},
     "output_type": "display_data"
    }
   ],
   "source": [
    "# Sum the total number of downgrading actions\n",
    "downgrade_canc = df_user_log_cancelled.select(Ssum(\"sub_dwg\")).collect()"
   ]
  },
  {
   "cell_type": "code",
   "execution_count": 91,
   "id": "66a4ce88",
   "metadata": {},
   "outputs": [
    {
     "data": {
      "application/vnd.jupyter.widget-view+json": {
       "model_id": "98c7b83a3aad4d08a56d28f277056b13",
       "version_major": 2,
       "version_minor": 0
      },
      "text/plain": [
       "VBox()"
      ]
     },
     "metadata": {},
     "output_type": "display_data"
    },
    {
     "data": {
      "application/vnd.jupyter.widget-view+json": {
       "model_id": "",
       "version_major": 2,
       "version_minor": 0
      },
      "text/plain": [
       "FloatProgress(value=0.0, bar_style='info', description='Progress:', layout=Layout(height='25px', width='50%'),…"
      ]
     },
     "metadata": {},
     "output_type": "display_data"
    }
   ],
   "source": [
    "# Parse df to collect all the cases in which the plan was/is paid\n",
    "pay_plan_canc = df_user_log_cancelled.\\\n",
    "                groupBy(\"userId\").\\\n",
    "                agg(max(\"pay_plan\")).collect()\n",
    "\n",
    "# Convert to list\n",
    "pay_plan_canc_list = [pay_plan_status[1] for pay_plan_status in pay_plan_canc]"
   ]
  },
  {
   "cell_type": "markdown",
   "id": "85cbe809",
   "metadata": {},
   "source": [
    "**Staying Users**"
   ]
  },
  {
   "cell_type": "code",
   "execution_count": 92,
   "id": "c39a2b90",
   "metadata": {},
   "outputs": [
    {
     "data": {
      "application/vnd.jupyter.widget-view+json": {
       "model_id": "87f286b5e9054273819a0b840bbb2e6b",
       "version_major": 2,
       "version_minor": 0
      },
      "text/plain": [
       "VBox()"
      ]
     },
     "metadata": {},
     "output_type": "display_data"
    },
    {
     "data": {
      "application/vnd.jupyter.widget-view+json": {
       "model_id": "",
       "version_major": 2,
       "version_minor": 0
      },
      "text/plain": [
       "FloatProgress(value=0.0, bar_style='info', description='Progress:', layout=Layout(height='25px', width='50%'),…"
      ]
     },
     "metadata": {},
     "output_type": "display_data"
    }
   ],
   "source": [
    "# Sum the total number of downgrading actions\n",
    "downgrade_stay = df_user_log_staying.select(Ssum(\"sub_dwg\")).collect()"
   ]
  },
  {
   "cell_type": "code",
   "execution_count": 93,
   "id": "0799d99d",
   "metadata": {},
   "outputs": [
    {
     "data": {
      "application/vnd.jupyter.widget-view+json": {
       "model_id": "2a81c9f03e1d427da921c53e825d2998",
       "version_major": 2,
       "version_minor": 0
      },
      "text/plain": [
       "VBox()"
      ]
     },
     "metadata": {},
     "output_type": "display_data"
    },
    {
     "data": {
      "application/vnd.jupyter.widget-view+json": {
       "model_id": "",
       "version_major": 2,
       "version_minor": 0
      },
      "text/plain": [
       "FloatProgress(value=0.0, bar_style='info', description='Progress:', layout=Layout(height='25px', width='50%'),…"
      ]
     },
     "metadata": {},
     "output_type": "display_data"
    }
   ],
   "source": [
    "# Parse df to collect all the cases in which the plan was/is paid\n",
    "pay_plan_stay = df_user_log_staying.\\\n",
    "                groupBy(\"userId\").\\\n",
    "                agg(max(\"pay_plan\")).collect()\n",
    "\n",
    "# Convert to list\n",
    "pay_plan_stay_list = [pay_plan_status[1] for pay_plan_status in pay_plan_stay]"
   ]
  },
  {
   "cell_type": "markdown",
   "id": "94fcd2eb",
   "metadata": {},
   "source": [
    "**Statistics**"
   ]
  },
  {
   "cell_type": "code",
   "execution_count": 100,
   "id": "b3d02caa",
   "metadata": {},
   "outputs": [
    {
     "data": {
      "application/vnd.jupyter.widget-view+json": {
       "model_id": "73624e66b1284ba8bf332c747846b942",
       "version_major": 2,
       "version_minor": 0
      },
      "text/plain": [
       "VBox()"
      ]
     },
     "metadata": {},
     "output_type": "display_data"
    },
    {
     "data": {
      "application/vnd.jupyter.widget-view+json": {
       "model_id": "",
       "version_major": 2,
       "version_minor": 0
      },
      "text/plain": [
       "FloatProgress(value=0.0, bar_style='info', description='Progress:', layout=Layout(height='25px', width='50%'),…"
      ]
     },
     "metadata": {},
     "output_type": "display_data"
    },
    {
     "name": "stdout",
     "output_type": "stream",
     "text": [
      "Percentage of downgrades from paid to free (cancelled users):  38.6  %\n",
      "Percentage of downgrades from paid to free (staying users):  40.1  %"
     ]
    }
   ],
   "source": [
    "print('Percentage of downgrades from paid to free (cancelled users): ', \\\n",
    "      '{:.1f}'.format(downgrade_canc[0][0]/sum(pay_plan_canc_list) * 100),' %')\n",
    "\n",
    "print('Percentage of downgrades from paid to free (staying users): ', \\\n",
    "      '{:.1f}'.format(downgrade_stay[0][0]/sum(pay_plan_stay_list) * 100),' %')"
   ]
  },
  {
   "cell_type": "code",
   "execution_count": null,
   "id": "6310c356",
   "metadata": {},
   "outputs": [],
   "source": []
  }
 ],
 "metadata": {
  "kernelspec": {
   "display_name": "PySpark",
   "language": "",
   "name": "pysparkkernel"
  },
  "language_info": {
   "codemirror_mode": {
    "name": "python",
    "version": 3
   },
   "mimetype": "text/x-python",
   "name": "pyspark",
   "pygments_lexer": "python3"
  }
 },
 "nbformat": 4,
 "nbformat_minor": 5
}
