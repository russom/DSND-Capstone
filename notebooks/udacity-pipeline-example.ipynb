{
 "cells": [
  {
   "cell_type": "markdown",
   "id": "250fb2c4",
   "metadata": {},
   "source": [
    "Load libraries"
   ]
  },
  {
   "cell_type": "code",
   "execution_count": 1,
   "id": "b5e6cb10",
   "metadata": {},
   "outputs": [
    {
     "data": {
      "application/vnd.jupyter.widget-view+json": {
       "model_id": "53e2f17e723d4e7ba05764d6ff52520b",
       "version_major": 2,
       "version_minor": 0
      },
      "text/plain": [
       "VBox()"
      ]
     },
     "metadata": {},
     "output_type": "display_data"
    },
    {
     "name": "stdout",
     "output_type": "stream",
     "text": [
      "Starting Spark application\n"
     ]
    },
    {
     "data": {
      "text/html": [
       "<table>\n",
       "<tr><th>ID</th><th>YARN Application ID</th><th>Kind</th><th>State</th><th>Spark UI</th><th>Driver log</th><th>Current session?</th></tr><tr><td>1</td><td>application_1623841700318_0002</td><td>pyspark</td><td>idle</td><td><a target=\"_blank\" href=\"http://ip-172-31-29-65.eu-west-3.compute.internal:20888/proxy/application_1623841700318_0002/\" class=\"emr-proxy-link\" emr-resource=\"j-1TFNOS9VBFCHR\n",
       "\" application-id=\"application_1623841700318_0002\">Link</a></td><td><a target=\"_blank\" href=\"http://ip-172-31-16-251.eu-west-3.compute.internal:8042/node/containerlogs/container_1623841700318_0002_01_000001/livy\" >Link</a></td><td>✔</td></tr></table>"
      ],
      "text/plain": [
       "<IPython.core.display.HTML object>"
      ]
     },
     "metadata": {},
     "output_type": "display_data"
    },
    {
     "data": {
      "application/vnd.jupyter.widget-view+json": {
       "model_id": "",
       "version_major": 2,
       "version_minor": 0
      },
      "text/plain": [
       "FloatProgress(value=0.0, bar_style='info', description='Progress:', layout=Layout(height='25px', width='50%'),…"
      ]
     },
     "metadata": {},
     "output_type": "display_data"
    },
    {
     "name": "stdout",
     "output_type": "stream",
     "text": [
      "SparkSession available as 'spark'.\n"
     ]
    },
    {
     "data": {
      "application/vnd.jupyter.widget-view+json": {
       "model_id": "",
       "version_major": 2,
       "version_minor": 0
      },
      "text/plain": [
       "FloatProgress(value=0.0, bar_style='info', description='Progress:', layout=Layout(height='25px', width='50%'),…"
      ]
     },
     "metadata": {},
     "output_type": "display_data"
    }
   ],
   "source": [
    "from pyspark.ml.feature import RegexTokenizer, CountVectorizer, IDF, StringIndexer, PCA, VectorAssembler\n",
    "from pyspark.ml.regression import LinearRegression\n",
    "from pyspark.ml.classification import LogisticRegression\n",
    "from pyspark.ml import Pipeline\n",
    "\n",
    "from pyspark.sql.functions import udf, avg, col\n",
    "from pyspark.sql.types import IntegerType\n",
    "\n",
    "import re"
   ]
  },
  {
   "cell_type": "markdown",
   "id": "87223f85",
   "metadata": {},
   "source": [
    "Load and persist data"
   ]
  },
  {
   "cell_type": "code",
   "execution_count": 2,
   "id": "653fb133",
   "metadata": {},
   "outputs": [
    {
     "data": {
      "application/vnd.jupyter.widget-view+json": {
       "model_id": "d3fc224911394e1ca44022f7993470c8",
       "version_major": 2,
       "version_minor": 0
      },
      "text/plain": [
       "VBox()"
      ]
     },
     "metadata": {},
     "output_type": "display_data"
    },
    {
     "data": {
      "application/vnd.jupyter.widget-view+json": {
       "model_id": "",
       "version_major": 2,
       "version_minor": 0
      },
      "text/plain": [
       "FloatProgress(value=0.0, bar_style='info', description='Progress:', layout=Layout(height='25px', width='50%'),…"
      ]
     },
     "metadata": {},
     "output_type": "display_data"
    }
   ],
   "source": [
    "stack_overflow_data = \"s3n://sparkify-mr/data/Train_onetag_small.json\""
   ]
  },
  {
   "cell_type": "code",
   "execution_count": 3,
   "id": "fdc6eab6",
   "metadata": {},
   "outputs": [
    {
     "data": {
      "application/vnd.jupyter.widget-view+json": {
       "model_id": "a32aaeb842f8421ead77c04178e37856",
       "version_major": 2,
       "version_minor": 0
      },
      "text/plain": [
       "VBox()"
      ]
     },
     "metadata": {},
     "output_type": "display_data"
    },
    {
     "data": {
      "application/vnd.jupyter.widget-view+json": {
       "model_id": "",
       "version_major": 2,
       "version_minor": 0
      },
      "text/plain": [
       "FloatProgress(value=0.0, bar_style='info', description='Progress:', layout=Layout(height='25px', width='50%'),…"
      ]
     },
     "metadata": {},
     "output_type": "display_data"
    },
    {
     "name": "stdout",
     "output_type": "stream",
     "text": [
      "DataFrame[Body: string, Id: bigint, Tags: string, Title: string, oneTag: string]"
     ]
    }
   ],
   "source": [
    "df2 = spark.read.json(stack_overflow_data)\n",
    "df2.persist()"
   ]
  },
  {
   "cell_type": "markdown",
   "id": "ea39c773",
   "metadata": {},
   "source": [
    "Define pipeline"
   ]
  },
  {
   "cell_type": "code",
   "execution_count": 4,
   "id": "879e750c",
   "metadata": {},
   "outputs": [
    {
     "data": {
      "application/vnd.jupyter.widget-view+json": {
       "model_id": "3fecdecb517d4c5b9d0c841c8f760f01",
       "version_major": 2,
       "version_minor": 0
      },
      "text/plain": [
       "VBox()"
      ]
     },
     "metadata": {},
     "output_type": "display_data"
    },
    {
     "data": {
      "application/vnd.jupyter.widget-view+json": {
       "model_id": "",
       "version_major": 2,
       "version_minor": 0
      },
      "text/plain": [
       "FloatProgress(value=0.0, bar_style='info', description='Progress:', layout=Layout(height='25px', width='50%'),…"
      ]
     },
     "metadata": {},
     "output_type": "display_data"
    }
   ],
   "source": [
    "# The next three create the features\n",
    "# Tokenizer\n",
    "regexTokenizer = RegexTokenizer(inputCol=\"Body\", outputCol=\"words\", pattern=\"\\\\W\")\n",
    "# Vectorizer\n",
    "cv = CountVectorizer(inputCol=\"words\", outputCol=\"TF\", vocabSize=10000)\n",
    "# IDF Transformer\n",
    "idf = IDF(inputCol=\"TF\", outputCol=\"features\")\n",
    "\n",
    "# This creates the label\n",
    "# Indexer\n",
    "indexer = StringIndexer(inputCol=\"oneTag\", outputCol=\"label\")\n",
    "\n",
    "# Logistic regression model\n",
    "lr =  LogisticRegression(maxIter=10, regParam=0.0, elasticNetParam=0)\n",
    "\n",
    "# Set the pipeline\n",
    "# Note, the first three HAVE to be in that order, indexer could have been elsewhere\n",
    "pipeline = Pipeline(stages=[regexTokenizer, cv, idf, indexer, lr])"
   ]
  },
  {
   "cell_type": "code",
   "execution_count": 5,
   "id": "19eb63b0",
   "metadata": {},
   "outputs": [
    {
     "data": {
      "application/vnd.jupyter.widget-view+json": {
       "model_id": "3475de994a274ce3abfb6279baaada53",
       "version_major": 2,
       "version_minor": 0
      },
      "text/plain": [
       "VBox()"
      ]
     },
     "metadata": {},
     "output_type": "display_data"
    },
    {
     "data": {
      "application/vnd.jupyter.widget-view+json": {
       "model_id": "",
       "version_major": 2,
       "version_minor": 0
      },
      "text/plain": [
       "FloatProgress(value=0.0, bar_style='info', description='Progress:', layout=Layout(height='25px', width='50%'),…"
      ]
     },
     "metadata": {},
     "output_type": "display_data"
    }
   ],
   "source": [
    "# Fit pipeline\n",
    "lrModel = pipeline.fit(df2)"
   ]
  },
  {
   "cell_type": "markdown",
   "id": "26fe1857",
   "metadata": {},
   "source": [
    "\"Test\" model on training data"
   ]
  },
  {
   "cell_type": "code",
   "execution_count": 6,
   "id": "610deaf9",
   "metadata": {},
   "outputs": [
    {
     "data": {
      "application/vnd.jupyter.widget-view+json": {
       "model_id": "f5fc0bc011374d84bd02e8627887cf0d",
       "version_major": 2,
       "version_minor": 0
      },
      "text/plain": [
       "VBox()"
      ]
     },
     "metadata": {},
     "output_type": "display_data"
    },
    {
     "data": {
      "application/vnd.jupyter.widget-view+json": {
       "model_id": "",
       "version_major": 2,
       "version_minor": 0
      },
      "text/plain": [
       "FloatProgress(value=0.0, bar_style='info', description='Progress:', layout=Layout(height='25px', width='50%'),…"
      ]
     },
     "metadata": {},
     "output_type": "display_data"
    }
   ],
   "source": [
    "df3 = lrModel.transform(df2)"
   ]
  },
  {
   "cell_type": "code",
   "execution_count": 7,
   "id": "b07c8b12",
   "metadata": {},
   "outputs": [
    {
     "data": {
      "application/vnd.jupyter.widget-view+json": {
       "model_id": "c63673181d7f4004883953549c43f957",
       "version_major": 2,
       "version_minor": 0
      },
      "text/plain": [
       "VBox()"
      ]
     },
     "metadata": {},
     "output_type": "display_data"
    },
    {
     "data": {
      "application/vnd.jupyter.widget-view+json": {
       "model_id": "",
       "version_major": 2,
       "version_minor": 0
      },
      "text/plain": [
       "FloatProgress(value=0.0, bar_style='info', description='Progress:', layout=Layout(height='25px', width='50%'),…"
      ]
     },
     "metadata": {},
     "output_type": "display_data"
    },
    {
     "name": "stdout",
     "output_type": "stream",
     "text": [
      "Row(Body=\"<p>I'd like to check if an uploaded file is an image file (e.g png, jpg, jpeg, gif, bmp) or another file. The problem is that I'm using Uploadify to upload the files, which changes the mime type and gives a 'text/octal' or something as the mime type, no matter which file type you upload.</p>\\n\\n<p>Is there a way to check if the uploaded file is an image apart from checking the file extension using PHP?</p>\\n\", Id=1, Tags='php image-processing file-upload upload mime-types', Title='How to check if an uploaded file is an image without mime type?', oneTag='php', words=['p', 'i', 'd', 'like', 'to', 'check', 'if', 'an', 'uploaded', 'file', 'is', 'an', 'image', 'file', 'e', 'g', 'png', 'jpg', 'jpeg', 'gif', 'bmp', 'or', 'another', 'file', 'the', 'problem', 'is', 'that', 'i', 'm', 'using', 'uploadify', 'to', 'upload', 'the', 'files', 'which', 'changes', 'the', 'mime', 'type', 'and', 'gives', 'a', 'text', 'octal', 'or', 'something', 'as', 'the', 'mime', 'type', 'no', 'matter', 'which', 'file', 'type', 'you', 'upload', 'p', 'p', 'is', 'there', 'a', 'way', 'to', 'check', 'if', 'the', 'uploaded', 'file', 'is', 'an', 'image', 'apart', 'from', 'checking', 'the', 'file', 'extension', 'using', 'php', 'p'], TF=SparseVector(10000, {0: 4.0, 1: 6.0, 2: 2.0, 3: 3.0, 5: 2.0, 8: 4.0, 9: 1.0, 15: 1.0, 21: 2.0, 28: 1.0, 31: 1.0, 35: 3.0, 36: 1.0, 43: 2.0, 45: 2.0, 48: 1.0, 51: 1.0, 57: 6.0, 61: 2.0, 71: 1.0, 78: 1.0, 84: 3.0, 86: 1.0, 94: 1.0, 97: 1.0, 99: 1.0, 100: 1.0, 115: 1.0, 147: 2.0, 152: 1.0, 169: 1.0, 241: 1.0, 283: 1.0, 306: 1.0, 350: 2.0, 490: 1.0, 578: 1.0, 759: 1.0, 832: 2.0, 1004: 1.0, 1257: 1.0, 1357: 1.0, 1484: 1.0, 2029: 2.0, 2413: 1.0, 2951: 1.0, 3140: 2.0, 3334: 1.0, 8656: 1.0}), features=SparseVector(10000, {0: 0.0026, 1: 0.7515, 2: 0.1374, 3: 0.3184, 5: 0.3823, 8: 1.0754, 9: 0.3344, 15: 0.5899, 21: 1.8551, 28: 1.1263, 31: 1.1113, 35: 3.3134, 36: 1.2545, 43: 2.3741, 45: 2.3753, 48: 1.2254, 51: 1.1879, 57: 11.0264, 61: 2.8957, 71: 2.1945, 78: 1.6947, 84: 6.5898, 86: 1.6136, 94: 2.3569, 97: 1.8218, 99: 2.6292, 100: 1.9206, 115: 2.3592, 147: 5.4841, 152: 2.1116, 169: 2.6328, 241: 2.5745, 283: 3.2325, 306: 3.2668, 350: 6.2367, 490: 3.8893, 578: 3.6182, 759: 3.7771, 832: 8.8964, 1004: 4.5612, 1257: 4.6607, 1357: 4.4742, 1484: 5.1482, 2029: 10.5298, 2413: 5.7509, 2951: 6.4825, 3140: 12.5744, 3334: 5.7667, 8656: 8.8739}), label=3.0, rawPrediction=DenseVector([4.8032, 3.636, 3.5545, 8.2667, 2.346, 2.7012, 0.8316, 1.0798, 3.5437, 1.1904, 2.3259, 1.2688, 3.0695, 0.932, 0.6873, 2.7326, 1.5567, 1.7913, 1.4663, 2.7817, 1.0293, 1.1441, 1.1119, 0.9701, 0.5126, 1.6143, 1.53, 1.4184, 1.4723, 0.8849, 0.4809, 0.8423, 1.3884, 0.645, 0.3661, 1.6687, 0.5303, 1.4132, 1.341, 1.1381, 0.9841, 1.4033, 1.2347, 0.9147, 0.6396, 0.876, 0.4996, 1.1511, 0.618, 0.8403, 0.7446, 1.0135, 0.443, 1.0205, 0.7741, 0.7679, 0.8152, -0.0092, 0.2596, -0.1459, 1.1012, 0.8809, 0.8432, 0.5301, 0.032, 0.5268, 0.9211, 0.8809, 0.425, 1.1094, 1.1284, 0.4454, 0.6559, 0.4965, 0.501, 0.9241, 0.423, 0.7395, 0.6913, 0.0284, 0.5205, 0.4365, 0.0651, 0.2312, 0.0552, 0.2902, 0.4096, 0.7631, 0.6597, 0.7253, 0.2186, 0.2675, 0.4526, 0.123, 0.0319, 0.3438, -0.2787, 0.4969, 0.216, 0.1414, 0.0674, 0.2133, 0.3273, 0.1815, 0.2472, -0.0354, -0.1729, 1.152, 0.0222, -0.1158, -0.0114, 0.4018, -0.304, 0.0511, -0.0825, -0.0989, -0.0539, 0.3247, 0.0172, -0.1096, 0.0453, 0.1166, 0.0505, 0.166, 0.0945, 0.3175, -0.0692, 0.4359, 0.0878, 0.0702, -0.2769, -0.0839, 0.1718, 0.3156, -0.3071, 0.7143, -0.032, -0.2964, -0.1022, -0.057, -0.2269, -0.06, 0.0836, -0.2425, -0.1329, -0.0734, -0.1854, -0.0979, -0.4269, -0.1081, -0.2311, -0.1155, -0.4053, -0.2998, -0.2101, -0.2392, -0.2135, -0.2819, -0.191, -0.3153, -0.1856, -0.3857, -0.2717, -0.4642, -0.3722, -0.2843, -0.4313, -0.3038, -0.1216, -0.5148, -0.2826, -0.5859, -0.3161, -0.3906, -0.3714, -0.4585, -0.4009, -0.3217, -0.4147, -0.3607, -0.3319, -0.2095, -0.5467, -0.4812, -0.3036, -0.495, -0.5136, -0.5377, -0.057, -0.6699, -0.4525, -0.4687, -0.58, -0.5044, -0.5352, -0.6076, -0.752, -0.4518, -0.4913, -0.5603, -0.363, -0.5903, -0.6191, -0.5074, -0.6006, -0.5363, -0.3126, -0.7484, -0.5885, -0.6468, -0.7041, -0.6553, -0.5456, -0.5893, -0.728, -0.6107, -0.6715, -0.588, -0.5153, -0.7926, -0.7054, -0.6932, -0.8551, -0.4357, -0.2934, -0.5965, -0.7084, -0.8185, -0.77, -0.8755, -0.9567, -0.8158, -0.8492, -0.8482, -0.7818, -0.7776, -0.895, -0.7873, -0.9038, -0.7648, -0.9117, -0.8578, -0.8454, -0.1095, -0.8312, -0.8019, -0.8426, -0.9207, -0.9768, -0.8979, -0.9123, -0.9285, -0.9304, -0.9826, -0.8663, -0.8717, -0.9409, -0.9846, -1.0175, -0.9626, -0.9215, -0.0734, -0.7248, -0.6076, -1.0063, -0.9019, -1.0546, -0.9334, -1.1027, -1.1085, -1.0954, -1.0573, -1.0029, -0.9488, -1.1396, -1.127, -1.0369, -0.9434, -1.0328, -1.0947, -0.5952, -1.082, -1.0753, -1.1744, -1.1456, -1.1313, -1.0855, -1.1233, -1.19, -1.1732, -1.1279, -1.2359, -1.2346, -1.0919, -1.3549, -1.4478, -1.3856, -1.4367, -1.5189, -1.4493, -1.575]), probability=DenseVector([0.0268, 0.0083, 0.0077, 0.8553, 0.0023, 0.0033, 0.0005, 0.0006, 0.0076, 0.0007, 0.0022, 0.0008, 0.0047, 0.0006, 0.0004, 0.0034, 0.001, 0.0013, 0.001, 0.0035, 0.0006, 0.0007, 0.0007, 0.0006, 0.0004, 0.0011, 0.001, 0.0009, 0.001, 0.0005, 0.0004, 0.0005, 0.0009, 0.0004, 0.0003, 0.0012, 0.0004, 0.0009, 0.0008, 0.0007, 0.0006, 0.0009, 0.0008, 0.0005, 0.0004, 0.0005, 0.0004, 0.0007, 0.0004, 0.0005, 0.0005, 0.0006, 0.0003, 0.0006, 0.0005, 0.0005, 0.0005, 0.0002, 0.0003, 0.0002, 0.0007, 0.0005, 0.0005, 0.0004, 0.0002, 0.0004, 0.0006, 0.0005, 0.0003, 0.0007, 0.0007, 0.0003, 0.0004, 0.0004, 0.0004, 0.0006, 0.0003, 0.0005, 0.0004, 0.0002, 0.0004, 0.0003, 0.0002, 0.0003, 0.0002, 0.0003, 0.0003, 0.0005, 0.0004, 0.0005, 0.0003, 0.0003, 0.0003, 0.0002, 0.0002, 0.0003, 0.0002, 0.0004, 0.0003, 0.0003, 0.0002, 0.0003, 0.0003, 0.0003, 0.0003, 0.0002, 0.0002, 0.0007, 0.0002, 0.0002, 0.0002, 0.0003, 0.0002, 0.0002, 0.0002, 0.0002, 0.0002, 0.0003, 0.0002, 0.0002, 0.0002, 0.0002, 0.0002, 0.0003, 0.0002, 0.0003, 0.0002, 0.0003, 0.0002, 0.0002, 0.0002, 0.0002, 0.0003, 0.0003, 0.0002, 0.0004, 0.0002, 0.0002, 0.0002, 0.0002, 0.0002, 0.0002, 0.0002, 0.0002, 0.0002, 0.0002, 0.0002, 0.0002, 0.0001, 0.0002, 0.0002, 0.0002, 0.0001, 0.0002, 0.0002, 0.0002, 0.0002, 0.0002, 0.0002, 0.0002, 0.0002, 0.0001, 0.0002, 0.0001, 0.0002, 0.0002, 0.0001, 0.0002, 0.0002, 0.0001, 0.0002, 0.0001, 0.0002, 0.0001, 0.0002, 0.0001, 0.0001, 0.0002, 0.0001, 0.0002, 0.0002, 0.0002, 0.0001, 0.0001, 0.0002, 0.0001, 0.0001, 0.0001, 0.0002, 0.0001, 0.0001, 0.0001, 0.0001, 0.0001, 0.0001, 0.0001, 0.0001, 0.0001, 0.0001, 0.0001, 0.0002, 0.0001, 0.0001, 0.0001, 0.0001, 0.0001, 0.0002, 0.0001, 0.0001, 0.0001, 0.0001, 0.0001, 0.0001, 0.0001, 0.0001, 0.0001, 0.0001, 0.0001, 0.0001, 0.0001, 0.0001, 0.0001, 0.0001, 0.0001, 0.0002, 0.0001, 0.0001, 0.0001, 0.0001, 0.0001, 0.0001, 0.0001, 0.0001, 0.0001, 0.0001, 0.0001, 0.0001, 0.0001, 0.0001, 0.0001, 0.0001, 0.0001, 0.0001, 0.0002, 0.0001, 0.0001, 0.0001, 0.0001, 0.0001, 0.0001, 0.0001, 0.0001, 0.0001, 0.0001, 0.0001, 0.0001, 0.0001, 0.0001, 0.0001, 0.0001, 0.0001, 0.0002, 0.0001, 0.0001, 0.0001, 0.0001, 0.0001, 0.0001, 0.0001, 0.0001, 0.0001, 0.0001, 0.0001, 0.0001, 0.0001, 0.0001, 0.0001, 0.0001, 0.0001, 0.0001, 0.0001, 0.0001, 0.0001, 0.0001, 0.0001, 0.0001, 0.0001, 0.0001, 0.0001, 0.0001, 0.0001, 0.0001, 0.0001, 0.0001, 0.0001, 0.0001, 0.0001, 0.0001, 0.0, 0.0001, 0.0]), prediction=3.0)"
     ]
    }
   ],
   "source": [
    "df3.head()"
   ]
  },
  {
   "cell_type": "code",
   "execution_count": 9,
   "id": "d5dd0261",
   "metadata": {},
   "outputs": [
    {
     "data": {
      "application/vnd.jupyter.widget-view+json": {
       "model_id": "0d95b49f90124d4384ba74ab0113b45f",
       "version_major": 2,
       "version_minor": 0
      },
      "text/plain": [
       "VBox()"
      ]
     },
     "metadata": {},
     "output_type": "display_data"
    },
    {
     "data": {
      "application/vnd.jupyter.widget-view+json": {
       "model_id": "",
       "version_major": 2,
       "version_minor": 0
      },
      "text/plain": [
       "FloatProgress(value=0.0, bar_style='info', description='Progress:', layout=Layout(height='25px', width='50%'),…"
      ]
     },
     "metadata": {},
     "output_type": "display_data"
    },
    {
     "name": "stdout",
     "output_type": "stream",
     "text": [
      "54615"
     ]
    }
   ],
   "source": [
    "df3.filter(df3.label == df3.prediction).count()"
   ]
  },
  {
   "cell_type": "code",
   "execution_count": 11,
   "id": "9b6fbf03",
   "metadata": {},
   "outputs": [
    {
     "data": {
      "application/vnd.jupyter.widget-view+json": {
       "model_id": "26a6eb8f8e404b498ad5287648e1b9fb",
       "version_major": 2,
       "version_minor": 0
      },
      "text/plain": [
       "VBox()"
      ]
     },
     "metadata": {},
     "output_type": "display_data"
    },
    {
     "data": {
      "application/vnd.jupyter.widget-view+json": {
       "model_id": "",
       "version_major": 2,
       "version_minor": 0
      },
      "text/plain": [
       "FloatProgress(value=0.0, bar_style='info', description='Progress:', layout=Layout(height='25px', width='50%'),…"
      ]
     },
     "metadata": {},
     "output_type": "display_data"
    },
    {
     "name": "stdout",
     "output_type": "stream",
     "text": [
      "100000"
     ]
    }
   ],
   "source": [
    "df3.count()"
   ]
  },
  {
   "cell_type": "markdown",
   "id": "352c254b",
   "metadata": {},
   "source": [
    "So we get correct results in ~ 54% cases"
   ]
  }
 ],
 "metadata": {
  "kernelspec": {
   "display_name": "Python 3",
   "language": "python",
   "name": "python3"
  },
  "language_info": {
   "codemirror_mode": {
    "name": "ipython",
    "version": 3
   },
   "file_extension": ".py",
   "mimetype": "text/x-python",
   "name": "python",
   "nbconvert_exporter": "python",
   "pygments_lexer": "ipython3",
   "version": "3.6.2"
  }
 },
 "nbformat": 4,
 "nbformat_minor": 5
}
