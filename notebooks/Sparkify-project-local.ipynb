{
 "cells": [
  {
   "cell_type": "markdown",
   "metadata": {},
   "source": [
    "# Sparkify Project - Local Mode\n",
    "\n",
    "This notebook contains code for the Capstopne project prepared for the Udacity Data Science Nanodegree.  \n",
    "The scope of the project is to use Spark to analyse data coming from a fictious music streaming service (\"Sparkify\") in order to predict when a user is going to \"churn\" i.e. cancel from the service. This prediction would allow preventive actions (like, for example, promotion offers or bespoke recommendations).\n",
    "\n",
    "In order to complete the project, the students were provided with a reduced dataset (128MB) that is used here for an analysis that can be conducted using Spark in local mode on a single machine, while for the full dataset (12GB), the same code would need to run on a more performing cluster.\n",
    "\n",
    "## Table of Contents\n",
    "\n",
    "1. [Load libraries ad start Spark session](#Load-Libraries)<br>\n",
    "2. [Load and Clean Dataset](#Load-and-Clean-Dataset)<br>\n",
    "3. [Exploratory Data Analysis](#Exploratory-Data-Analysis)<br>\n",
    "    3.1. [Time Spent/Number of Songs](#Time-Songs)<br>\n",
    "    3.2. [Add a Friend/Thumbs Up/Down](#Friends-Thumbs)<br>\n",
    "    3.3. [Submit an Upgrade/Downgrade request](#Upgrade-Downgrade)<br>\n",
    "    3.4. [Roll Advert](#Roll-Advert)<br>\n",
    "    3.5. [Demographics](#Demographics)<br>\n",
    "4. [Feature Engineering](#Feature-Engineering)<br>\n",
    "5. [Modeling](#Modeling)<br>\n",
    "    5.1. [Logistic Regression](#Logistic-Regression)<br>\n",
    "    5.2. [Gradient-Boosted Tree](#Gradient-Boosted-Tree)<br>\n",
    "    5.3. [Random Forest](#Random-Forest)<br>\n",
    "    5.4. [Linear-SVC](#Linear-SVC)<br>\n",
    "6. [Optimization](#Optimization)<br>\n",
    "    6.1. [Gradient-Boosted Tree](#Optimized-Gradient-Boosted-Tree)<br>\n",
    "    6.2. [Random Forest](#Optimized-Random-Forest)<br>"
   ]
  },
  {
   "cell_type": "markdown",
   "metadata": {},
   "source": [
    "## <a class=\"anchor\" id=\"Load-Libraries\">1. Load libraries and start Spark session</a>"
   ]
  },
  {
   "cell_type": "code",
   "execution_count": 1,
   "metadata": {
    "scrolled": false
   },
   "outputs": [],
   "source": [
    "# Import libraries\n",
    "import pyspark\n",
    "from pyspark import SparkConf\n",
    "from pyspark.sql import SparkSession\n",
    "\n",
    "from pyspark.sql import Window\n",
    "from pyspark.sql import functions as F\n",
    "from pyspark.sql.types import IntegerType, FloatType\n",
    "\n",
    "from pyspark.ml import Pipeline\n",
    "from pyspark.ml.classification import LogisticRegression, GBTClassifier, RandomForestClassifier, LinearSVC, NaiveBayes\n",
    "from pyspark.ml.evaluation import MulticlassClassificationEvaluator\n",
    "from pyspark.ml.feature import VectorAssembler, MinMaxScaler\n",
    "from pyspark.ml import Pipeline\n",
    "from pyspark.ml.tuning import CrossValidator, ParamGridBuilder\n",
    "\n",
    "import numpy as np\n",
    "\n",
    "from matplotlib import pyplot as plt\n",
    "%matplotlib inline"
   ]
  },
  {
   "cell_type": "code",
   "execution_count": 2,
   "metadata": {
    "scrolled": false
   },
   "outputs": [],
   "source": [
    "# Create a Spark session\n",
    "spark = SparkSession \\\n",
    "    .builder \\\n",
    "    .appName(\"Sparkify Project\") \\\n",
    "    .config(\"spark.driver.bindAddress\",\"localhost\")\\\n",
    "    .config(\"spark.ui.port\",\"4050\")\\\n",
    "    .getOrCreate()"
   ]
  },
  {
   "cell_type": "markdown",
   "metadata": {},
   "source": [
    "## <a class=\"anchor\" id=\"Load-and-Clean-Dataset\">2. Load and Clean Dataset</a>\n",
    "\n",
    "As said before, for this analysis the mini-dataset file used is `mini_sparkify_event_data.json`."
   ]
  },
  {
   "cell_type": "code",
   "execution_count": 3,
   "metadata": {
    "scrolled": false
   },
   "outputs": [],
   "source": [
    "# Load data\n",
    "# Mini dataset\n",
    "path = \"../data/mini_sparkify_event_data.json\"\n",
    "df_user_log = spark.read.json(path)"
   ]
  },
  {
   "cell_type": "code",
   "execution_count": 4,
   "metadata": {
    "scrolled": false
   },
   "outputs": [
    {
     "name": "stdout",
     "output_type": "stream",
     "text": [
      "root\n",
      " |-- artist: string (nullable = true)\n",
      " |-- auth: string (nullable = true)\n",
      " |-- firstName: string (nullable = true)\n",
      " |-- gender: string (nullable = true)\n",
      " |-- itemInSession: long (nullable = true)\n",
      " |-- lastName: string (nullable = true)\n",
      " |-- length: double (nullable = true)\n",
      " |-- level: string (nullable = true)\n",
      " |-- location: string (nullable = true)\n",
      " |-- method: string (nullable = true)\n",
      " |-- page: string (nullable = true)\n",
      " |-- registration: long (nullable = true)\n",
      " |-- sessionId: long (nullable = true)\n",
      " |-- song: string (nullable = true)\n",
      " |-- status: long (nullable = true)\n",
      " |-- ts: long (nullable = true)\n",
      " |-- userAgent: string (nullable = true)\n",
      " |-- userId: string (nullable = true)\n",
      "\n"
     ]
    }
   ],
   "source": [
    "# Check schema\n",
    "df_user_log.printSchema()"
   ]
  },
  {
   "cell_type": "code",
   "execution_count": 5,
   "metadata": {
    "scrolled": false
   },
   "outputs": [
    {
     "data": {
      "text/plain": [
       "Row(artist='Martha Tilston', auth='Logged In', firstName='Colin', gender='M', itemInSession=50, lastName='Freeman', length=277.89016, level='paid', location='Bakersfield, CA', method='PUT', page='NextSong', registration=1538173362000, sessionId=29, song='Rockpools', status=200, ts=1538352117000, userAgent='Mozilla/5.0 (Windows NT 6.1; WOW64; rv:31.0) Gecko/20100101 Firefox/31.0', userId='30')"
      ]
     },
     "execution_count": 5,
     "metadata": {},
     "output_type": "execute_result"
    }
   ],
   "source": [
    "# Show the first row\n",
    "df_user_log.head()"
   ]
  },
  {
   "cell_type": "code",
   "execution_count": 6,
   "metadata": {
    "scrolled": false
   },
   "outputs": [
    {
     "name": "stdout",
     "output_type": "stream",
     "text": [
      "Num. of rows in the dataset:  286500 ; Num. of columns:  18\n"
     ]
    }
   ],
   "source": [
    "# Check num of rows, columns\n",
    "print('Num. of rows in the dataset: ', df_user_log.count(), '; Num. of columns: ', len(df_user_log.columns))"
   ]
  },
  {
   "cell_type": "markdown",
   "metadata": {},
   "source": [
    "To clean the dataset, we can delete eventual `NaN` in the `userId` and `sessionId` field, and take care of the cases of missing users also:"
   ]
  },
  {
   "cell_type": "code",
   "execution_count": 7,
   "metadata": {
    "scrolled": false
   },
   "outputs": [],
   "source": [
    "# Drop NaN in userId and sessionId\n",
    "df_user_log_valid = df_user_log.dropna(how = \"any\", subset = [\"userId\", \"sessionId\"])\n",
    "\n",
    "# Drop NaN in gender and location\n",
    "df_user_log_valid = df_user_log.dropna(how = \"any\", subset = [\"gender\", \"location\"])\n",
    "\n",
    "# Drop empty users\n",
    "df_user_log_valid = df_user_log_valid.filter(df_user_log_valid[\"userId\"] != \"\")"
   ]
  },
  {
   "cell_type": "code",
   "execution_count": 8,
   "metadata": {
    "scrolled": false
   },
   "outputs": [
    {
     "name": "stdout",
     "output_type": "stream",
     "text": [
      "Num. of rows in the valid dataset:  278154\n"
     ]
    }
   ],
   "source": [
    "# Check num of rows remaining\n",
    "print('Num. of rows in the valid dataset: ', df_user_log_valid.count())"
   ]
  },
  {
   "cell_type": "markdown",
   "metadata": {},
   "source": [
    "## <a class=\"anchor\" id=\"Exploratory-Data-Analysis\">3. Exploratory Data Analysis</a>\n",
    "\n",
    "In this phase we'll mainly look at the data and try to get familiar with it, to see what kind of trends or interesting information might be available afterwards to work on feature engineering."
   ]
  },
  {
   "cell_type": "markdown",
   "metadata": {
    "scrolled": false
   },
   "source": [
    "A cell that seems to provide quite a bit of useful information is `page`, that documents the various pages visited by the users:"
   ]
  },
  {
   "cell_type": "code",
   "execution_count": 9,
   "metadata": {
    "scrolled": false
   },
   "outputs": [
    {
     "name": "stdout",
     "output_type": "stream",
     "text": [
      "+--------------------+\n",
      "|                page|\n",
      "+--------------------+\n",
      "|               About|\n",
      "|          Add Friend|\n",
      "|     Add to Playlist|\n",
      "|              Cancel|\n",
      "|Cancellation Conf...|\n",
      "|           Downgrade|\n",
      "|               Error|\n",
      "|                Help|\n",
      "|                Home|\n",
      "|              Logout|\n",
      "|            NextSong|\n",
      "|         Roll Advert|\n",
      "|       Save Settings|\n",
      "|            Settings|\n",
      "|    Submit Downgrade|\n",
      "|      Submit Upgrade|\n",
      "|         Thumbs Down|\n",
      "|           Thumbs Up|\n",
      "|             Upgrade|\n",
      "+--------------------+\n",
      "\n"
     ]
    }
   ],
   "source": [
    "# Check available pages\n",
    "df_user_log_valid.select(\"page\").dropDuplicates().sort(\"page\").show()"
   ]
  },
  {
   "cell_type": "markdown",
   "metadata": {},
   "source": [
    "Based on the type of information available in this column, we can define new variables identifying, for example, an actual churn (looking at when the users visits `Cancellation Confirmation`) or an Upgrade/Downgrade, but also events like the user giving a Thumbs Up or adding friends, or seeing a Rolling Advert.  \n",
    "We can also recontruct the time spent by the users with the system, making reference to the `registration` and `ts` columns."
   ]
  },
  {
   "cell_type": "code",
   "execution_count": 10,
   "metadata": {
    "scrolled": false
   },
   "outputs": [],
   "source": [
    "# Defining a churn variable based on the Cancellation Confirmation page\n",
    "cancellation = F.udf(lambda x: 1 if x == \"Cancellation Confirmation\" else 0, IntegerType())  \n",
    "df_user_log_valid = df_user_log_valid.withColumn(\"churn\", cancellation(\"page\"))"
   ]
  },
  {
   "cell_type": "code",
   "execution_count": 11,
   "metadata": {},
   "outputs": [],
   "source": [
    "# Defining a sub_dwg variable based on the Submit Downgrade page\n",
    "submit_dwg = F.udf(lambda x: 1 if x == \"Submit Downgrade\" else 0, IntegerType())\n",
    "df_user_log_valid = df_user_log_valid.withColumn(\"sub_dwg\", submit_dwg(\"page\"))"
   ]
  },
  {
   "cell_type": "code",
   "execution_count": 12,
   "metadata": {},
   "outputs": [],
   "source": [
    "# Defining a sub_upg variable based on the Submit Upgrade page\n",
    "submit_dwg = F.udf(lambda x: 1 if x == \"Submit Upgrade\" else 0, IntegerType())\n",
    "df_user_log_valid = df_user_log_valid.withColumn(\"sub_upg\", submit_dwg(\"page\"))"
   ]
  },
  {
   "cell_type": "code",
   "execution_count": 13,
   "metadata": {},
   "outputs": [],
   "source": [
    "# Getting UNIX time from miliseconds to seconds\n",
    "df_user_log_valid = df_user_log_valid.withColumn(\"ts\", df_user_log_valid.ts/1000)                        \n",
    "df_user_log_valid = df_user_log_valid.withColumn(\"registration\", df_user_log_valid.registration/1000)"
   ]
  },
  {
   "cell_type": "code",
   "execution_count": 14,
   "metadata": {},
   "outputs": [],
   "source": [
    "# Defining a first_ts/last_ts variable showing the timestamp of the first/last entry \n",
    "# (Can be used to filter with time, will be used to calculate total duration of the permanence)\n",
    "window = Window.partitionBy(\"userId\")\n",
    "df_user_log_valid = df_user_log_valid.withColumn(\"first_ts\", F.min(\"ts\").over(window))\n",
    "df_user_log_valid = df_user_log_valid.withColumn(\"last_ts\", F.max(\"ts\").over(window))"
   ]
  },
  {
   "cell_type": "code",
   "execution_count": 15,
   "metadata": {},
   "outputs": [],
   "source": [
    "# Defining a perm_days variable showing the (rounded) number of days a user has spent with the service so far\n",
    "df_user_log_valid = df_user_log_valid.withColumn(\"perm_days\", \\\n",
    "                                                 F.round((df_user_log_valid.last_ts - df_user_log_valid.registration)\\\n",
    "                                                 /(3600*24)))"
   ]
  },
  {
   "cell_type": "code",
   "execution_count": 16,
   "metadata": {},
   "outputs": [],
   "source": [
    "# Defining a data_days variable showing the (rounded) number of days of data available for a user\n",
    "df_user_log_valid = df_user_log_valid.withColumn(\"data_days\", \\\n",
    "                                                 F.round((df_user_log_valid.last_ts - df_user_log_valid.first_ts)\\\n",
    "                                                 /(3600*24)))"
   ]
  },
  {
   "cell_type": "code",
   "execution_count": 17,
   "metadata": {
    "scrolled": false
   },
   "outputs": [],
   "source": [
    "# Defining a roll_adv variable based on the Roll Advert page\n",
    "roll_adv = F.udf(lambda x: 1 if x == \"Roll Advert\" else 0, IntegerType())  \n",
    "df_user_log_valid = df_user_log_valid.withColumn(\"roll_adv\", roll_adv(\"page\"))"
   ]
  },
  {
   "cell_type": "code",
   "execution_count": 18,
   "metadata": {},
   "outputs": [],
   "source": [
    "# Defining a total_rolled_advert variable showing the total of the rolled advert events\n",
    "# (We reuse the window defined previously, grouping by users)\n",
    "df_user_log_valid= df_user_log_valid.withColumn(\"total_roll_adv\", F.sum(\"roll_adv\").over(window))"
   ]
  },
  {
   "cell_type": "code",
   "execution_count": 19,
   "metadata": {
    "scrolled": false
   },
   "outputs": [],
   "source": [
    "# Defining an add_friend variable based on the Add Friend page\n",
    "add_friend = F.udf(lambda x: 1 if x == \"Add Friend\" else 0, IntegerType())  \n",
    "df_user_log_valid = df_user_log_valid.withColumn(\"add_friend\", add_friend(\"page\"))"
   ]
  },
  {
   "cell_type": "code",
   "execution_count": 20,
   "metadata": {},
   "outputs": [],
   "source": [
    "# Defining a total_add_friend variable showing the total of the friends added\n",
    "# (We reuse the window defined previously, grouping by users)\n",
    "df_user_log_valid= df_user_log_valid.withColumn(\"total_add_friend\", F.sum(\"add_friend\").over(window))"
   ]
  },
  {
   "cell_type": "code",
   "execution_count": 21,
   "metadata": {},
   "outputs": [],
   "source": [
    "# Defining a thumbs_up variable based on the Thumbs Up page\n",
    "thumbs_up = F.udf(lambda x: 1 if x == \"Thumbs Up\" else 0, IntegerType())  \n",
    "df_user_log_valid = df_user_log_valid.withColumn(\"thumbs_up\", thumbs_up(\"page\"))"
   ]
  },
  {
   "cell_type": "code",
   "execution_count": 22,
   "metadata": {},
   "outputs": [],
   "source": [
    "# Defining a total_thumbs_up variable showing the total of the Thumbs Up given\n",
    "# (We reuse the window defined previously, grouping by users)\n",
    "df_user_log_valid= df_user_log_valid.withColumn(\"total_thumbs_up\", F.sum(\"thumbs_up\").over(window))"
   ]
  },
  {
   "cell_type": "code",
   "execution_count": 23,
   "metadata": {},
   "outputs": [],
   "source": [
    "# Defining a thumbs_dwm variable based on the Thumbs Down page\n",
    "thumbs_dwn = F.udf(lambda x: 1 if x == \"Thumbs Down\" else 0, IntegerType())  \n",
    "df_user_log_valid = df_user_log_valid.withColumn(\"thumbs_dwn\", thumbs_dwn(\"page\"))"
   ]
  },
  {
   "cell_type": "code",
   "execution_count": 24,
   "metadata": {},
   "outputs": [],
   "source": [
    "# Defining a total_thumbs_dwn variable showing the total of the Thumbs Down given\n",
    "# (We reuse the window defined previously, grouping by users)\n",
    "df_user_log_valid= df_user_log_valid.withColumn(\"total_thumbs_dwn\", F.sum(\"thumbs_dwn\").over(window))"
   ]
  },
  {
   "cell_type": "code",
   "execution_count": 25,
   "metadata": {
    "scrolled": false
   },
   "outputs": [
    {
     "data": {
      "text/plain": [
       "Row(artist='Sleeping With Sirens', auth='Logged In', firstName='Darianna', gender='F', itemInSession=0, lastName='Carpenter', length=202.97098, level='free', location='Bridgeport-Stamford-Norwalk, CT', method='PUT', page='NextSong', registration=1538016340.0, sessionId=31, song='Captain Tyin Knots VS Mr Walkway (No Way)', status=200, ts=1539003534.0, userAgent='\"Mozilla/5.0 (iPhone; CPU iPhone OS 7_1_2 like Mac OS X) AppleWebKit/537.51.2 (KHTML, like Gecko) Version/7.0 Mobile/11D257 Safari/9537.53\"', userId='100010', churn=0, sub_dwg=0, sub_upg=0, first_ts=1539003534.0, last_ts=1542823952.0, perm_days=56.0, data_days=44.0, roll_adv=0, total_roll_adv=52, add_friend=0, total_add_friend=4, thumbs_up=0, total_thumbs_up=17, thumbs_dwn=0, total_thumbs_dwn=5)"
      ]
     },
     "execution_count": 25,
     "metadata": {},
     "output_type": "execute_result"
    }
   ],
   "source": [
    "# Check columns\n",
    "df_user_log_valid.head()"
   ]
  },
  {
   "cell_type": "markdown",
   "metadata": {},
   "source": [
    "To gain significance, we can focus the analysis on users that have at least some contwnt to analyse, for example at least a week of data."
   ]
  },
  {
   "cell_type": "code",
   "execution_count": 26,
   "metadata": {},
   "outputs": [],
   "source": [
    "# We can remove from the dataframe users that have less than a week of data\n",
    "df_user_log_valid = df_user_log_valid.filter(df_user_log_valid.data_days >= 7)       "
   ]
  },
  {
   "cell_type": "code",
   "execution_count": 27,
   "metadata": {},
   "outputs": [
    {
     "name": "stdout",
     "output_type": "stream",
     "text": [
      "Num. of rows in the filtered dataset:  275924\n"
     ]
    }
   ],
   "source": [
    "# Check num of rows remaining\n",
    "print('Num. of rows in the filtered dataset: ', df_user_log_valid.count())"
   ]
  },
  {
   "cell_type": "markdown",
   "metadata": {},
   "source": [
    "We can build now two datasets, one with the users that left vs. the other with the users that are staying:"
   ]
  },
  {
   "cell_type": "code",
   "execution_count": 28,
   "metadata": {
    "scrolled": false
   },
   "outputs": [],
   "source": [
    "# Create a list of users that cancelled vs. users that stayed\n",
    "users_cancelled = df_user_log_valid.select([\"userId\"]).where(df_user_log_valid.churn == 1).dropDuplicates().collect()\n",
    "users_staying = df_user_log_valid.select([\"userId\"]).where(df_user_log_valid.churn == 0).dropDuplicates().collect()"
   ]
  },
  {
   "cell_type": "code",
   "execution_count": 29,
   "metadata": {
    "scrolled": false
   },
   "outputs": [
    {
     "name": "stdout",
     "output_type": "stream",
     "text": [
      "Num. of users that left:  41 ; Num. of users that are staying:  204\n"
     ]
    }
   ],
   "source": [
    "# Check num of users in both datasets\n",
    "print('Num. of users that left: ', len(users_cancelled), \\\n",
    "      '; Num. of users that are staying: ', len(users_staying))"
   ]
  },
  {
   "cell_type": "code",
   "execution_count": 30,
   "metadata": {
    "scrolled": false
   },
   "outputs": [],
   "source": [
    "# Select a subset of the dataframe with the users that left\n",
    "users_cancelled_list = [us_c[0] for us_c in users_cancelled]\n",
    "df_user_log_cancelled = df_user_log_valid.filter(df_user_log_valid.userId.isin(users_cancelled_list))"
   ]
  },
  {
   "cell_type": "code",
   "execution_count": 31,
   "metadata": {
    "scrolled": false
   },
   "outputs": [],
   "source": [
    "# Select a subset of the dataframe with the users that stayed\n",
    "users_staying_list = [us_s[0] for us_s in users_staying]\n",
    "df_user_log_staying = df_user_log_valid.filter(df_user_log_valid.userId.isin(users_staying_list))"
   ]
  },
  {
   "cell_type": "code",
   "execution_count": 32,
   "metadata": {},
   "outputs": [
    {
     "name": "stdout",
     "output_type": "stream",
     "text": [
      "Num. of rows in the dataset of users that cancelled:  43557\n",
      "Num. of rows in the dataset of users that are staying:  275924\n"
     ]
    }
   ],
   "source": [
    "# Check the size of the datasets\n",
    "print('Num. of rows in the dataset of users that cancelled: ', df_user_log_cancelled.count())\n",
    "print('Num. of rows in the dataset of users that are staying: ', df_user_log_staying.count())"
   ]
  },
  {
   "cell_type": "markdown",
   "metadata": {},
   "source": [
    "We can further refine, building datasets focusing on the last week of activity for the users, so to see wether or not there's a change for the users that churn as they approach the moment they would leave:"
   ]
  },
  {
   "cell_type": "code",
   "execution_count": 33,
   "metadata": {},
   "outputs": [],
   "source": [
    "# Select last week of users that cancelled\n",
    "df_user_log_cancelled_lweek = df_user_log_cancelled.filter((df_user_log_cancelled.last_ts - \\\n",
    "                                                            df_user_log_cancelled.ts) < (3600*24*7))"
   ]
  },
  {
   "cell_type": "code",
   "execution_count": 34,
   "metadata": {},
   "outputs": [],
   "source": [
    "# Select last week of users that stay\n",
    "df_user_log_staying_lweek = df_user_log_staying.filter((df_user_log_staying.last_ts - df_user_log_staying.ts) < \\\n",
    "                                                      (3600*24*7))"
   ]
  },
  {
   "cell_type": "code",
   "execution_count": 35,
   "metadata": {},
   "outputs": [
    {
     "name": "stdout",
     "output_type": "stream",
     "text": [
      "Num. of rows in the dataset of users that cancelled - last week data:  15287\n",
      "Num. of rows in the dataset of users that are staying - last week data:  57686\n"
     ]
    }
   ],
   "source": [
    "# Check the size of the datasets\n",
    "print('Num. of rows in the dataset of users that cancelled - last week data: ', df_user_log_cancelled_lweek.count())\n",
    "print('Num. of rows in the dataset of users that are staying - last week data: ', df_user_log_staying_lweek.count())"
   ]
  },
  {
   "cell_type": "code",
   "execution_count": 36,
   "metadata": {},
   "outputs": [],
   "source": [
    "# Create a list of users that cancelled vs. users that stayed in the last week\n",
    "users_cancelled_lweek = df_user_log_cancelled_lweek.select([\"userId\"]).dropDuplicates().collect()\n",
    "users_staying_lweek = df_user_log_staying_lweek.select([\"userId\"]).dropDuplicates().collect()"
   ]
  },
  {
   "cell_type": "code",
   "execution_count": 37,
   "metadata": {},
   "outputs": [
    {
     "name": "stdout",
     "output_type": "stream",
     "text": [
      "Num. of users that left - last week data:  41 ; Num. of users that are staying - last week data:  204\n"
     ]
    }
   ],
   "source": [
    "# Check num of users in both datasets\n",
    "print('Num. of users that left - last week data: ', len(users_cancelled_lweek), \\\n",
    "      '; Num. of users that are staying - last week data: ', len(users_staying_lweek))"
   ]
  },
  {
   "cell_type": "markdown",
   "metadata": {},
   "source": [
    "As expected, given that we have already filtered only users that have more than one week of data to analyse, we have data for all of them."
   ]
  },
  {
   "cell_type": "markdown",
   "metadata": {},
   "source": [
    "### <a class=\"anchor\" id=\"Time-Songs\">3.1. Time spent/Number of Songs</a>\n",
    "\n",
    "As a first step, we can look at the amount of time spent with the service and at the number of songs listened in a day, comparing the users that cancelled and those that are staying, both looking at the whole dataset and at the last week only."
   ]
  },
  {
   "cell_type": "code",
   "execution_count": 38,
   "metadata": {
    "scrolled": false
   },
   "outputs": [],
   "source": [
    "# Select, for every user that cancelled, the number of songs, the time they spent with the service and the time\n",
    "# window of tha analysis\n",
    "song_time_canc = df_user_log_cancelled.\\\n",
    "                filter(df_user_log_cancelled[\"song\"] != \"\").\\\n",
    "                groupBy(\"userId\").\\\n",
    "                agg(F.max(\"perm_days\"), F.max(\"data_days\"), F.countDistinct(\"song\")).\\\n",
    "                collect()"
   ]
  },
  {
   "cell_type": "code",
   "execution_count": 39,
   "metadata": {
    "scrolled": false
   },
   "outputs": [],
   "source": [
    "# Get the time \n",
    "delta_time_cancelled = [song_time[1] for song_time in song_time_canc]\n",
    "# Get the number of songs listened per day (on average)\n",
    "num_songs_cancelled = [song_time[3]/song_time[2] for song_time in song_time_canc]"
   ]
  },
  {
   "cell_type": "code",
   "execution_count": 40,
   "metadata": {
    "scrolled": false
   },
   "outputs": [],
   "source": [
    "# Select, for every user that stays, the number of songs, the time they spent with the service and the time\n",
    "# window of tha analysis\n",
    "song_time_stay = df_user_log_staying.\\\n",
    "                filter(df_user_log_staying[\"song\"] != \"\").\\\n",
    "                groupBy(\"userId\").\\\n",
    "                agg(F.max(\"perm_days\"), F.max(\"data_days\"), F.countDistinct(\"song\")).\\\n",
    "                collect()"
   ]
  },
  {
   "cell_type": "code",
   "execution_count": 41,
   "metadata": {
    "scrolled": false
   },
   "outputs": [],
   "source": [
    "# Get the time\n",
    "delta_time_staying = [song_time[1] for song_time in song_time_stay]\n",
    "# Get the number of songs listened per day (on average)\n",
    "num_songs_staying = [song_time[3]/song_time[2] for song_time in song_time_stay]"
   ]
  },
  {
   "cell_type": "code",
   "execution_count": 42,
   "metadata": {
    "scrolled": false
   },
   "outputs": [
    {
     "data": {
      "image/png": "[encoded data removed]",
      "text/plain": [
       "<Figure size 1080x504 with 2 Axes>"
      ]
     },
     "metadata": {
      "needs_background": "light"
     },
     "output_type": "display_data"
    }
   ],
   "source": [
    "# Plot histogram for time\n",
    "fig, (ax1, ax2) = plt.subplots(1, 2)\n",
    "\n",
    "fig.suptitle('Distribution of time spent by users ', fontsize=12, fontweight='bold')\n",
    "fig.set_figheight(7) \n",
    "fig.set_figwidth(15)\n",
    "\n",
    "ax1.hist(delta_time_cancelled, bins=50)\n",
    "ax1.set_xlabel('# of days spent with the service', fontsize=11)\n",
    "ax1.set_ylabel('# of users', fontsize=11)\n",
    "ax1.set_title('Cancelling Users', fontsize=11,fontweight='bold')\n",
    "\n",
    "ax2.hist(delta_time_staying, bins=50)\n",
    "ax2.set_xlabel('# of days spent with the service', fontsize=11)\n",
    "ax2.set_ylabel('# of users', fontsize=11)\n",
    "ax2.set_title('Staying Users', fontsize=11,fontweight='bold');"
   ]
  },
  {
   "cell_type": "code",
   "execution_count": 43,
   "metadata": {},
   "outputs": [
    {
     "name": "stdout",
     "output_type": "stream",
     "text": [
      "------------------------------------------------\n",
      "Time spent statistics for users that cancelled:\n",
      "Mean =  63.83 ; Std. Dev. =  36.85\n",
      "------------------------------------------------\n",
      "Time spent statistics for users that stay:\n",
      "Mean =  83.59 ; Std. Dev. =  36.20\n",
      "------------------------------------------------\n"
     ]
    }
   ],
   "source": [
    "# Look at the statistics\n",
    "stats_time_canc = spark.createDataFrame(delta_time_cancelled, FloatType()).describe().collect()\n",
    "stats_time_stay = spark.createDataFrame(delta_time_staying, FloatType()).describe().collect()\n",
    "\n",
    "print('------------------------------------------------')\n",
    "print('Time spent statistics for users that cancelled:')\n",
    "print('Mean = ', '{:.2f}'.format(float(stats_time_canc[1][1])), \\\n",
    "      '; Std. Dev. = ',  '{:.2f}'.format(float(stats_time_canc[2][1])))\n",
    "print('------------------------------------------------')\n",
    "print('Time spent statistics for users that stay:')\n",
    "print('Mean = ', '{:.2f}'.format(float(stats_time_stay[1][1])), \\\n",
    "      '; Std. Dev. = ',  '{:.2f}'.format(float(stats_time_stay[2][1])))\n",
    "print('------------------------------------------------')"
   ]
  },
  {
   "cell_type": "code",
   "execution_count": 44,
   "metadata": {
    "scrolled": false
   },
   "outputs": [
    {
     "data": {
      "image/png": "[encoded data removed]",
      "text/plain": [
       "<Figure size 1080x504 with 2 Axes>"
      ]
     },
     "metadata": {
      "needs_background": "light"
     },
     "output_type": "display_data"
    }
   ],
   "source": [
    "# Plot histogram for songs\n",
    "fig, (ax1, ax2) = plt.subplots(1, 2)\n",
    "\n",
    "fig.suptitle('Distribution of songs listened/day by users', fontsize=12, fontweight='bold')\n",
    "fig.set_figheight(7) \n",
    "fig.set_figwidth(15)\n",
    "\n",
    "ax1.hist(num_songs_cancelled, bins=50)\n",
    "ax1.set_xlabel('# of songs/day', fontsize=11)\n",
    "ax1.set_ylabel('# of users', fontsize=11)\n",
    "ax1.set_title('Cancelling Users', fontsize=11,fontweight='bold')\n",
    "\n",
    "ax2.hist(num_songs_staying, bins=50)\n",
    "ax2.set_xlabel('# of songs/day', fontsize=11)\n",
    "ax2.set_ylabel('# of users', fontsize=11)\n",
    "ax2.set_title('Staying Users', fontsize=11,fontweight='bold');"
   ]
  },
  {
   "cell_type": "code",
   "execution_count": 45,
   "metadata": {
    "scrolled": false
   },
   "outputs": [
    {
     "name": "stdout",
     "output_type": "stream",
     "text": [
      "---------------------------------------------------\n",
      "Songs per day statistics for users that cancelled:\n",
      "Mean =  30.73 ; Std. Dev. =  26.55\n",
      "---------------------------------------------------\n",
      "Songs per day statistics for users that stay:\n",
      "Mean =  21.65 ; Std. Dev. =  18.90\n",
      "---------------------------------------------------\n"
     ]
    }
   ],
   "source": [
    "# Look at the statistics\n",
    "stats_song_canc = spark.createDataFrame(num_songs_cancelled, FloatType()).describe().collect()\n",
    "stats_song_stay = spark.createDataFrame(num_songs_staying, FloatType()).describe().collect()\n",
    "\n",
    "print('---------------------------------------------------')\n",
    "print('Songs per day statistics for users that cancelled:')\n",
    "print('Mean = ', '{:.2f}'.format(float(stats_song_canc[1][1])), \\\n",
    "      '; Std. Dev. = ',  '{:.2f}'.format(float(stats_song_canc[2][1])))\n",
    "print('---------------------------------------------------')\n",
    "print('Songs per day statistics for users that stay:')\n",
    "print('Mean = ', '{:.2f}'.format(float(stats_song_stay[1][1])), \\\n",
    "      '; Std. Dev. = ',  '{:.2f}'.format(float(stats_song_stay[2][1])))\n",
    "print('---------------------------------------------------')"
   ]
  },
  {
   "cell_type": "markdown",
   "metadata": {},
   "source": [
    "We can see if anything changes in the last week of permanence:"
   ]
  },
  {
   "cell_type": "code",
   "execution_count": 46,
   "metadata": {
    "scrolled": false
   },
   "outputs": [],
   "source": [
    "# Select, for every user that cancelled, the number of songs they listened in the last week\n",
    "song_time_canc_lweek = df_user_log_cancelled_lweek.\\\n",
    "                filter(df_user_log_cancelled_lweek[\"song\"] != \"\").\\\n",
    "                groupBy(\"userId\").\\\n",
    "                agg(F.countDistinct(\"song\")).\\\n",
    "                collect()"
   ]
  },
  {
   "cell_type": "code",
   "execution_count": 47,
   "metadata": {
    "scrolled": false
   },
   "outputs": [],
   "source": [
    "# Get the number of songs listened per day (on average)\n",
    "num_songs_cancelled_lweek = [song_time[1]/7 for song_time in song_time_canc_lweek]"
   ]
  },
  {
   "cell_type": "code",
   "execution_count": 48,
   "metadata": {
    "scrolled": false
   },
   "outputs": [],
   "source": [
    "# Select, for every user that stays, the number of songs they listened in the last week\n",
    "song_time_stay_lweek = df_user_log_staying_lweek.\\\n",
    "                filter(df_user_log_staying_lweek[\"song\"] != \"\").\\\n",
    "                groupBy(\"userId\").\\\n",
    "                agg(F.countDistinct(\"song\")).\\\n",
    "                collect()"
   ]
  },
  {
   "cell_type": "code",
   "execution_count": 49,
   "metadata": {},
   "outputs": [],
   "source": [
    "# Get the number of songs listened per day (on average)\n",
    "num_songs_staying_lweek = [song_time[1]/7 for song_time in song_time_stay_lweek]"
   ]
  },
  {
   "cell_type": "code",
   "execution_count": 50,
   "metadata": {},
   "outputs": [
    {
     "data": {
      "image/png": "[encoded data removed]",
      "text/plain": [
       "<Figure size 1080x504 with 2 Axes>"
      ]
     },
     "metadata": {
      "needs_background": "light"
     },
     "output_type": "display_data"
    }
   ],
   "source": [
    "# Plot histogram for songs\n",
    "fig, (ax1, ax2) = plt.subplots(1, 2)\n",
    "\n",
    "fig.suptitle('Distribution of songs listened/day by users in the last week', fontsize=12, fontweight='bold')\n",
    "fig.set_figheight(7) \n",
    "fig.set_figwidth(15)\n",
    "\n",
    "ax1.hist(num_songs_cancelled_lweek, bins=50)\n",
    "ax1.set_xlabel('# of songs/day', fontsize=11)\n",
    "ax1.set_ylabel('# of users', fontsize=11)\n",
    "ax1.set_title('Cancelling Users', fontsize=11,fontweight='bold')\n",
    "\n",
    "ax2.hist(num_songs_staying_lweek, bins=50)\n",
    "ax2.set_xlabel('# of songs/day', fontsize=11)\n",
    "ax2.set_ylabel('# of users', fontsize=11)\n",
    "ax2.set_title('Staying Users', fontsize=11,fontweight='bold');"
   ]
  },
  {
   "cell_type": "code",
   "execution_count": 51,
   "metadata": {},
   "outputs": [
    {
     "name": "stdout",
     "output_type": "stream",
     "text": [
      "--------------------------------------------------------------\n",
      "Songs per day statistics for users that cancelled - last week:\n",
      "Mean =  41.52 ; Std. Dev. =  35.33\n",
      "--------------------------------------------------------------\n",
      "Songs per day statistics for users that stay - last week:\n",
      "Mean =  31.92 ; Std. Dev. =  29.37\n",
      "--------------------------------------------------------------\n"
     ]
    }
   ],
   "source": [
    "# Look at the statistics\n",
    "stats_song_canc_lweek = spark.createDataFrame(num_songs_cancelled_lweek, FloatType()).describe().collect()\n",
    "stats_song_stay_lweek = spark.createDataFrame(num_songs_staying_lweek, FloatType()).describe().collect()\n",
    "\n",
    "print('--------------------------------------------------------------')\n",
    "print('Songs per day statistics for users that cancelled - last week:')\n",
    "print('Mean = ', '{:.2f}'.format(float(stats_song_canc_lweek[1][1])), \\\n",
    "      '; Std. Dev. = ',  '{:.2f}'.format(float(stats_song_canc_lweek[2][1])))\n",
    "print('--------------------------------------------------------------')\n",
    "print('Songs per day statistics for users that stay - last week:')\n",
    "print('Mean = ', '{:.2f}'.format(float(stats_song_stay_lweek[1][1])), \\\n",
    "      '; Std. Dev. = ',  '{:.2f}'.format(float(stats_song_stay_lweek[2][1])))\n",
    "print('--------------------------------------------------------------')"
   ]
  },
  {
   "cell_type": "markdown",
   "metadata": {},
   "source": [
    "### <a class=\"anchor\" id=\"Friends-Thumbs\">3.2. Add a Friend/Thumbs Up/Down</a>\n",
    "\n",
    "As another area of interest, we could look into how do the users interact with the service, inviting friends or expressing preferences on songs."
   ]
  },
  {
   "cell_type": "markdown",
   "metadata": {},
   "source": [
    "#### 3.2.1. Add a friend"
   ]
  },
  {
   "cell_type": "code",
   "execution_count": 52,
   "metadata": {},
   "outputs": [],
   "source": [
    "# Select, for every user that cancelled, the number of added friends and the time window of the analysis\n",
    "added_friend_canc = df_user_log_cancelled.\\\n",
    "                groupBy(\"userId\").\\\n",
    "                agg(F.max(\"data_days\"), F.max(\"total_add_friend\")).collect()"
   ]
  },
  {
   "cell_type": "code",
   "execution_count": 53,
   "metadata": {},
   "outputs": [],
   "source": [
    "# Get the number of friends added per day, on average\n",
    "added_friend_day_canc = [added_friend[2]/added_friend[1] for added_friend in added_friend_canc]"
   ]
  },
  {
   "cell_type": "code",
   "execution_count": 54,
   "metadata": {},
   "outputs": [],
   "source": [
    "# Select, for every user that is staying, the number of added friends and the time window of the analysis\n",
    "added_friend_stay = df_user_log_staying.\\\n",
    "                groupBy(\"userId\").\\\n",
    "                agg(F.max(\"data_days\"), F.max(\"total_add_friend\")).collect()"
   ]
  },
  {
   "cell_type": "code",
   "execution_count": 55,
   "metadata": {},
   "outputs": [],
   "source": [
    "# Get the number of friends added per day, on average\n",
    "added_friend_day_stay = [added_friend[2]/added_friend[1] for added_friend in added_friend_stay]"
   ]
  },
  {
   "cell_type": "code",
   "execution_count": 56,
   "metadata": {},
   "outputs": [
    {
     "data": {
      "image/png": "[encoded data removed]",
      "text/plain": [
       "<Figure size 1080x504 with 2 Axes>"
      ]
     },
     "metadata": {
      "needs_background": "light"
     },
     "output_type": "display_data"
    }
   ],
   "source": [
    "# Plot histogram for added friends\n",
    "fig, (ax1, ax2) = plt.subplots(1, 2)\n",
    "\n",
    "fig.suptitle('Distribution of added friends/day by users', fontsize=12, fontweight='bold')\n",
    "fig.set_figheight(7) \n",
    "fig.set_figwidth(15)\n",
    "\n",
    "ax1.hist(added_friend_day_canc, bins=100)\n",
    "ax1.set_xlabel('# of added friends/day', fontsize=11)\n",
    "ax1.set_ylabel('# of users', fontsize=11)\n",
    "ax1.set_title('Cancelling Users', fontsize=11,fontweight='bold')\n",
    "\n",
    "ax2.hist(added_friend_day_stay, bins=100)\n",
    "ax2.set_xlabel('# of added friends/day', fontsize=11)\n",
    "ax2.set_ylabel('# of users', fontsize=11)\n",
    "ax2.set_title('Staying Users', fontsize=11,fontweight='bold');"
   ]
  },
  {
   "cell_type": "code",
   "execution_count": 57,
   "metadata": {},
   "outputs": [
    {
     "name": "stdout",
     "output_type": "stream",
     "text": [
      "---------------------------------------------------------\n",
      "Added friend per day statistics for users that cancelled:\n",
      "Mean =  0.60 ; Std. Dev. =  0.50\n",
      "---------------------------------------------------------\n",
      "Added friend per day statistics for users that stay:\n",
      "Mean =  0.46 ; Std. Dev. =  0.40\n",
      "---------------------------------------------------------\n"
     ]
    }
   ],
   "source": [
    "# Look at the statistics\n",
    "stats_added_friend_canc = spark.createDataFrame(added_friend_day_canc, FloatType()).describe().collect()\n",
    "stats_added_friend_stay = spark.createDataFrame(added_friend_day_stay, FloatType()).describe().collect()\n",
    "\n",
    "print('---------------------------------------------------------')\n",
    "print('Added friend per day statistics for users that cancelled:')\n",
    "print('Mean = ', '{:.2f}'.format(float(stats_added_friend_canc[1][1])), \\\n",
    "      '; Std. Dev. = ',  '{:.2f}'.format(float(stats_added_friend_canc[2][1])))\n",
    "print('---------------------------------------------------------')\n",
    "print('Added friend per day statistics for users that stay:')\n",
    "print('Mean = ', '{:.2f}'.format(float(stats_added_friend_stay[1][1])), \\\n",
    "      '; Std. Dev. = ',  '{:.2f}'.format(float(stats_added_friend_stay[2][1])))\n",
    "print('---------------------------------------------------------')"
   ]
  },
  {
   "cell_type": "markdown",
   "metadata": {},
   "source": [
    "We can check if anything changes during last week:"
   ]
  },
  {
   "cell_type": "code",
   "execution_count": 58,
   "metadata": {},
   "outputs": [],
   "source": [
    "# Select, for every user that cancelled, the number of added friends in the last week\n",
    "added_friend_canc_lweek = df_user_log_cancelled_lweek.\\\n",
    "                groupBy(\"userId\").\\\n",
    "                agg(F.sum(\"add_friend\")).collect()"
   ]
  },
  {
   "cell_type": "code",
   "execution_count": 59,
   "metadata": {},
   "outputs": [],
   "source": [
    "# Get the number of friends added per day, on average\n",
    "added_friend_day_canc_lweek = [added_friend[1]/7 for added_friend in added_friend_canc_lweek]"
   ]
  },
  {
   "cell_type": "code",
   "execution_count": 60,
   "metadata": {},
   "outputs": [],
   "source": [
    "# Select, for every user that is staying, the number of added friends in the last week\n",
    "added_friend_stay_lweek = df_user_log_staying_lweek.\\\n",
    "                groupBy(\"userId\").\\\n",
    "                agg(F.sum(\"add_friend\")).collect()"
   ]
  },
  {
   "cell_type": "code",
   "execution_count": 61,
   "metadata": {},
   "outputs": [],
   "source": [
    "# Get the number of friends added per day, on average\n",
    "added_friend_day_stay_lweek = [added_friend[1]/7 for added_friend in added_friend_stay_lweek]"
   ]
  },
  {
   "cell_type": "code",
   "execution_count": 62,
   "metadata": {},
   "outputs": [
    {
     "data": {
      "image/png": "[encoded data removed]",
      "text/plain": [
       "<Figure size 1080x504 with 2 Axes>"
      ]
     },
     "metadata": {
      "needs_background": "light"
     },
     "output_type": "display_data"
    }
   ],
   "source": [
    "# Plot histogram for added friends\n",
    "fig, (ax1, ax2) = plt.subplots(1, 2)\n",
    "\n",
    "fig.suptitle('Distribution of added friends/day by users in the last week', fontsize=12, fontweight='bold')\n",
    "fig.set_figheight(7) \n",
    "fig.set_figwidth(15)\n",
    "\n",
    "ax1.hist(added_friend_day_canc_lweek, bins=100)\n",
    "ax1.set_xlabel('# of added friends/day', fontsize=11)\n",
    "ax1.set_ylabel('# of users', fontsize=11)\n",
    "ax1.set_title('Cancelling Users', fontsize=11,fontweight='bold')\n",
    "\n",
    "ax2.hist(added_friend_day_stay_lweek, bins=100)\n",
    "ax2.set_xlabel('# of added friends/day', fontsize=11)\n",
    "ax2.set_ylabel('# of users', fontsize=11)\n",
    "ax2.set_title('Staying Users', fontsize=11,fontweight='bold');"
   ]
  },
  {
   "cell_type": "code",
   "execution_count": 63,
   "metadata": {},
   "outputs": [
    {
     "name": "stdout",
     "output_type": "stream",
     "text": [
      "---------------------------------------------------------------------\n",
      "Added friend per day statistics for users that cancelled - last week:\n",
      "Mean =  0.70 ; Std. Dev. =  0.65\n",
      "---------------------------------------------------------------------\n",
      "Added friend per day statistics for users that stay - last week:\n",
      "Mean =  0.65 ; Std. Dev. =  0.71\n",
      "---------------------------------------------------------------------\n"
     ]
    }
   ],
   "source": [
    "# Look at the statistics\n",
    "stats_added_friend_canc_lweek = spark.createDataFrame(added_friend_day_canc_lweek, FloatType()).describe().collect()\n",
    "stats_added_friend_stay_lweek = spark.createDataFrame(added_friend_day_stay_lweek, FloatType()).describe().collect()\n",
    "\n",
    "print('---------------------------------------------------------------------')\n",
    "print('Added friend per day statistics for users that cancelled - last week:')\n",
    "print('Mean = ', '{:.2f}'.format(float(stats_added_friend_canc_lweek[1][1])), \\\n",
    "      '; Std. Dev. = ',  '{:.2f}'.format(float(stats_added_friend_canc_lweek[2][1])))\n",
    "print('---------------------------------------------------------------------')\n",
    "print('Added friend per day statistics for users that stay - last week:')\n",
    "print('Mean = ', '{:.2f}'.format(float(stats_added_friend_stay_lweek[1][1])), \\\n",
    "      '; Std. Dev. = ',  '{:.2f}'.format(float(stats_added_friend_stay_lweek[2][1])))\n",
    "print('---------------------------------------------------------------------')"
   ]
  },
  {
   "cell_type": "markdown",
   "metadata": {},
   "source": [
    "#### 3.2.2. Thumbs up"
   ]
  },
  {
   "cell_type": "code",
   "execution_count": 64,
   "metadata": {},
   "outputs": [],
   "source": [
    "# Select, for every user that cancelled, the number of thumbs up given and the time window of the analysis\n",
    "thumbs_up_canc = df_user_log_cancelled.\\\n",
    "                groupBy(\"userId\").\\\n",
    "                agg(F.max(\"data_days\"), F.max(\"total_thumbs_up\")).collect()"
   ]
  },
  {
   "cell_type": "code",
   "execution_count": 65,
   "metadata": {},
   "outputs": [],
   "source": [
    "# Get the number of thumbs up given, on average\n",
    "thumbs_up_day_canc = [thumbs_given[2]/thumbs_given[1] for thumbs_given in thumbs_up_canc]"
   ]
  },
  {
   "cell_type": "code",
   "execution_count": 66,
   "metadata": {},
   "outputs": [],
   "source": [
    "# Select, for every user that is staying, the number of thumbs up given and the time window of the analysis\n",
    "thumbs_up_stay = df_user_log_staying.\\\n",
    "                groupBy(\"userId\").\\\n",
    "                agg(F.max(\"data_days\"), F.max(\"total_thumbs_up\")).collect()"
   ]
  },
  {
   "cell_type": "code",
   "execution_count": 67,
   "metadata": {},
   "outputs": [],
   "source": [
    "# Get the number of thumbs up given, on average\n",
    "thumbs_up_day_stay = [thumbs_given[2]/thumbs_given[1] for thumbs_given in thumbs_up_stay]"
   ]
  },
  {
   "cell_type": "code",
   "execution_count": 68,
   "metadata": {},
   "outputs": [
    {
     "data": {
      "image/png": "[encoded data removed]",
      "text/plain": [
       "<Figure size 1080x504 with 2 Axes>"
      ]
     },
     "metadata": {
      "needs_background": "light"
     },
     "output_type": "display_data"
    }
   ],
   "source": [
    "# Plot histogram for thumbs up\n",
    "fig, (ax1, ax2) = plt.subplots(1, 2)\n",
    "\n",
    "fig.suptitle('Distribution of thumbs up given/day by users', fontsize=12, fontweight='bold')\n",
    "fig.set_figheight(7) \n",
    "fig.set_figwidth(15)\n",
    "\n",
    "ax1.hist(thumbs_up_day_canc, bins=100)\n",
    "ax1.set_xlabel('# of thumbs up given/day', fontsize=11)\n",
    "ax1.set_ylabel('# of users', fontsize=11)\n",
    "ax1.set_title('Cancelling Users', fontsize=11,fontweight='bold')\n",
    "\n",
    "ax2.hist(thumbs_up_day_stay, bins=100)\n",
    "ax2.set_xlabel('# of thumbs up given/day', fontsize=11)\n",
    "ax2.set_ylabel('# of users', fontsize=11)\n",
    "ax2.set_title('Staying Users', fontsize=11,fontweight='bold');"
   ]
  },
  {
   "cell_type": "code",
   "execution_count": 69,
   "metadata": {},
   "outputs": [
    {
     "name": "stdout",
     "output_type": "stream",
     "text": [
      "------------------------------------------------------------\n",
      "Thumbs up given per day statistics for users that cancelled:\n",
      "Mean =  1.63 ; Std. Dev. =  1.51\n",
      "------------------------------------------------------------\n",
      "Thumbs up given per day statistics for users that stay:\n",
      "Mean =  1.30 ; Std. Dev. =  1.26\n",
      "------------------------------------------------------------\n"
     ]
    }
   ],
   "source": [
    "# Look at the statistics\n",
    "stats_thumbs_up_canc = spark.createDataFrame(thumbs_up_day_canc, FloatType()).describe().collect()\n",
    "stats_thumbs_up_stay = spark.createDataFrame(thumbs_up_day_stay, FloatType()).describe().collect()\n",
    "\n",
    "print('------------------------------------------------------------')\n",
    "print('Thumbs up given per day statistics for users that cancelled:')\n",
    "print('Mean = ', '{:.2f}'.format(float(stats_thumbs_up_canc[1][1])), \\\n",
    "      '; Std. Dev. = ',  '{:.2f}'.format(float(stats_thumbs_up_canc[2][1])))\n",
    "print('------------------------------------------------------------')\n",
    "print('Thumbs up given per day statistics for users that stay:')\n",
    "print('Mean = ', '{:.2f}'.format(float(stats_thumbs_up_stay[1][1])), \\\n",
    "      '; Std. Dev. = ',  '{:.2f}'.format(float(stats_thumbs_up_stay[2][1])))\n",
    "print('------------------------------------------------------------')"
   ]
  },
  {
   "cell_type": "markdown",
   "metadata": {},
   "source": [
    "We can check if anything changes during last week:"
   ]
  },
  {
   "cell_type": "code",
   "execution_count": 70,
   "metadata": {},
   "outputs": [],
   "source": [
    "# Select, for every user that cancelled, the number of thumbs up given in the last week\n",
    "thumbs_up_canc_lweek = df_user_log_cancelled_lweek.\\\n",
    "                groupBy(\"userId\").\\\n",
    "                agg(F.sum(\"thumbs_up\")).collect()"
   ]
  },
  {
   "cell_type": "code",
   "execution_count": 71,
   "metadata": {},
   "outputs": [],
   "source": [
    "# Get the number of thumbs up given per day, on average\n",
    "thumbs_up_day_canc_lweek = [thumbs_given[1]/7 for thumbs_given in thumbs_up_canc_lweek]"
   ]
  },
  {
   "cell_type": "code",
   "execution_count": 72,
   "metadata": {},
   "outputs": [],
   "source": [
    "# Select, for every user that is staying, the number of thumbs up given in the last week\n",
    "thumbs_up_stay_lweek = df_user_log_staying_lweek.\\\n",
    "                groupBy(\"userId\").\\\n",
    "                agg(F.sum(\"thumbs_up\")).collect()"
   ]
  },
  {
   "cell_type": "code",
   "execution_count": 73,
   "metadata": {},
   "outputs": [],
   "source": [
    "# Get the number of thumbs up given per day, on average\n",
    "thumbs_up_day_stay_lweek = [thumbs_given[1]/7 for thumbs_given in thumbs_up_stay_lweek]"
   ]
  },
  {
   "cell_type": "code",
   "execution_count": 74,
   "metadata": {},
   "outputs": [
    {
     "data": {
      "image/png": "[encoded data removed]",
      "text/plain": [
       "<Figure size 1080x504 with 2 Axes>"
      ]
     },
     "metadata": {
      "needs_background": "light"
     },
     "output_type": "display_data"
    }
   ],
   "source": [
    "# Plot histogram for thumbs up\n",
    "fig, (ax1, ax2) = plt.subplots(1, 2)\n",
    "\n",
    "fig.suptitle('Distribution of thumbs up given/day by users in the last week', fontsize=12, fontweight='bold')\n",
    "fig.set_figheight(7) \n",
    "fig.set_figwidth(15)\n",
    "\n",
    "ax1.hist(thumbs_up_day_canc_lweek, bins=100)\n",
    "ax1.set_xlabel('# of thumbs up given/day', fontsize=11)\n",
    "ax1.set_ylabel('# of users', fontsize=11)\n",
    "ax1.set_title('Cancelling Users', fontsize=11,fontweight='bold')\n",
    "\n",
    "ax2.hist(thumbs_up_day_stay_lweek, bins=100)\n",
    "ax2.set_xlabel('# of thumbs up given/day', fontsize=11)\n",
    "ax2.set_ylabel('# of users', fontsize=11)\n",
    "ax2.set_title('Staying Users', fontsize=11,fontweight='bold');"
   ]
  },
  {
   "cell_type": "code",
   "execution_count": 75,
   "metadata": {
    "scrolled": true
   },
   "outputs": [
    {
     "name": "stdout",
     "output_type": "stream",
     "text": [
      "------------------------------------------------------------------------\n",
      "Thumbs up given per day statistics for users that cancelled - last week:\n",
      "Mean =  2.32 ; Std. Dev. =  2.07\n",
      "------------------------------------------------------------------------\n",
      "Thumbs up given per day statistics for users that stay - last week:\n",
      "Mean =  1.82 ; Std. Dev. =  1.79\n",
      "------------------------------------------------------------------------\n"
     ]
    }
   ],
   "source": [
    "# Look at the statistics\n",
    "stats_thumbs_up_canc_lweek = spark.createDataFrame(thumbs_up_day_canc_lweek, FloatType()).describe().collect()\n",
    "stats_thumbs_up_stay_lweek = spark.createDataFrame(thumbs_up_day_stay_lweek, FloatType()).describe().collect()\n",
    "\n",
    "print('------------------------------------------------------------------------')\n",
    "print('Thumbs up given per day statistics for users that cancelled - last week:')\n",
    "print('Mean = ', '{:.2f}'.format(float(stats_thumbs_up_canc_lweek[1][1])), \\\n",
    "      '; Std. Dev. = ',  '{:.2f}'.format(float(stats_thumbs_up_canc_lweek[2][1])))\n",
    "print('------------------------------------------------------------------------')\n",
    "print('Thumbs up given per day statistics for users that stay - last week:')\n",
    "print('Mean = ', '{:.2f}'.format(float(stats_thumbs_up_stay_lweek[1][1])), \\\n",
    "      '; Std. Dev. = ',  '{:.2f}'.format(float(stats_thumbs_up_stay_lweek[2][1])))\n",
    "print('------------------------------------------------------------------------')"
   ]
  },
  {
   "cell_type": "markdown",
   "metadata": {},
   "source": [
    "#### 3.2.3. Thumbs down"
   ]
  },
  {
   "cell_type": "code",
   "execution_count": 76,
   "metadata": {},
   "outputs": [],
   "source": [
    "# Select, for every user that cancelled, the number of thumbs down given and the time window of the analysis\n",
    "thumbs_dwn_canc = df_user_log_cancelled.\\\n",
    "                groupBy(\"userId\").\\\n",
    "                agg(F.max(\"data_days\"), F.max(\"total_thumbs_dwn\")).collect()"
   ]
  },
  {
   "cell_type": "code",
   "execution_count": 77,
   "metadata": {},
   "outputs": [],
   "source": [
    "# Get the number of thumbs down given, on average\n",
    "thumbs_dwn_day_canc = [thumbs_given[2]/thumbs_given[1] for thumbs_given in thumbs_dwn_canc]"
   ]
  },
  {
   "cell_type": "code",
   "execution_count": 78,
   "metadata": {},
   "outputs": [],
   "source": [
    "# Select, for every user that is staying, the number of thumbs down given and the time window of the analysis\n",
    "thumbs_dwn_stay = df_user_log_staying.\\\n",
    "                groupBy(\"userId\").\\\n",
    "                agg(F.max(\"data_days\"), F.max(\"total_thumbs_dwn\")).collect()"
   ]
  },
  {
   "cell_type": "code",
   "execution_count": 79,
   "metadata": {},
   "outputs": [],
   "source": [
    "# Get the number of thumbs down given, on average\n",
    "thumbs_dwn_day_stay = [thumbs_given[2]/thumbs_given[1] for thumbs_given in thumbs_dwn_stay]"
   ]
  },
  {
   "cell_type": "code",
   "execution_count": 80,
   "metadata": {},
   "outputs": [
    {
     "data": {
      "image/png": "[encoded data removed]",
      "text/plain": [
       "<Figure size 1080x504 with 2 Axes>"
      ]
     },
     "metadata": {
      "needs_background": "light"
     },
     "output_type": "display_data"
    }
   ],
   "source": [
    "# Plot histogram for thumbs down\n",
    "fig, (ax1, ax2) = plt.subplots(1, 2)\n",
    "\n",
    "fig.suptitle('Distribution of thumbs down given/day by users', fontsize=12, fontweight='bold')\n",
    "fig.set_figheight(7) \n",
    "fig.set_figwidth(15)\n",
    "\n",
    "ax1.hist(thumbs_dwn_day_canc, bins=100)\n",
    "ax1.set_xlabel('# of thumbs down given/day', fontsize=11)\n",
    "ax1.set_ylabel('# of users', fontsize=11)\n",
    "ax1.set_title('Cancelling Users', fontsize=11,fontweight='bold')\n",
    "\n",
    "ax2.hist(thumbs_dwn_day_stay, bins=100)\n",
    "ax2.set_xlabel('# of thumbs down given/day', fontsize=11)\n",
    "ax2.set_ylabel('# of users', fontsize=11)\n",
    "ax2.set_title('Staying Users', fontsize=11,fontweight='bold');"
   ]
  },
  {
   "cell_type": "code",
   "execution_count": 81,
   "metadata": {},
   "outputs": [
    {
     "name": "stdout",
     "output_type": "stream",
     "text": [
      "--------------------------------------------------------------\n",
      "Thumbs down given per day statistics for users that cancelled:\n",
      "Mean =  0.44 ; Std. Dev. =  0.33\n",
      "--------------------------------------------------------------\n",
      "Thumbs down per day statistics for users that stay:\n",
      "Mean =  0.27 ; Std. Dev. =  0.27\n",
      "--------------------------------------------------------------\n"
     ]
    }
   ],
   "source": [
    "# Look at the statistics\n",
    "stats_thumbs_dwn_canc = spark.createDataFrame(thumbs_dwn_day_canc, FloatType()).describe().collect()\n",
    "stats_thumbs_dwn_stay = spark.createDataFrame(thumbs_dwn_day_stay, FloatType()).describe().collect()\n",
    "\n",
    "print('--------------------------------------------------------------')\n",
    "print('Thumbs down given per day statistics for users that cancelled:')\n",
    "print('Mean = ', '{:.2f}'.format(float(stats_thumbs_dwn_canc[1][1])), \\\n",
    "      '; Std. Dev. = ',  '{:.2f}'.format(float(stats_thumbs_dwn_canc[2][1])))\n",
    "print('--------------------------------------------------------------')\n",
    "print('Thumbs down per day statistics for users that stay:')\n",
    "print('Mean = ', '{:.2f}'.format(float(stats_thumbs_dwn_stay[1][1])), \\\n",
    "      '; Std. Dev. = ',  '{:.2f}'.format(float(stats_thumbs_dwn_stay[2][1])))\n",
    "print('--------------------------------------------------------------')"
   ]
  },
  {
   "cell_type": "markdown",
   "metadata": {},
   "source": [
    "We can check if anything changes during last week:"
   ]
  },
  {
   "cell_type": "code",
   "execution_count": 82,
   "metadata": {},
   "outputs": [],
   "source": [
    "# Select, for every user that cancelled, the number of thumbs down given in the last week\n",
    "thumbs_dwn_canc_lweek = df_user_log_cancelled_lweek.\\\n",
    "                groupBy(\"userId\").\\\n",
    "                agg(F.sum(\"thumbs_dwn\")).collect()"
   ]
  },
  {
   "cell_type": "code",
   "execution_count": 83,
   "metadata": {},
   "outputs": [],
   "source": [
    "# Get the number of thumbs down given per day, on average\n",
    "thumbs_dwn_day_canc_lweek = [thumbs_given[1]/7 for thumbs_given in thumbs_dwn_canc_lweek]"
   ]
  },
  {
   "cell_type": "code",
   "execution_count": 84,
   "metadata": {},
   "outputs": [],
   "source": [
    "# Select, for every user that is staying, the number of thumbs down given in the last week\n",
    "thumbs_dwn_stay_lweek = df_user_log_staying_lweek.\\\n",
    "                groupBy(\"userId\").\\\n",
    "                agg(F.sum(\"thumbs_dwn\")).collect()"
   ]
  },
  {
   "cell_type": "code",
   "execution_count": 85,
   "metadata": {},
   "outputs": [],
   "source": [
    "# Get the number of thumbs down given per day, on average\n",
    "thumbs_dwn_day_stay_lweek = [thumbs_given[1]/7 for thumbs_given in thumbs_dwn_stay_lweek]"
   ]
  },
  {
   "cell_type": "code",
   "execution_count": 86,
   "metadata": {},
   "outputs": [
    {
     "data": {
      "image/png": "[encoded data removed]",
      "text/plain": [
       "<Figure size 1080x504 with 2 Axes>"
      ]
     },
     "metadata": {
      "needs_background": "light"
     },
     "output_type": "display_data"
    }
   ],
   "source": [
    "# Plot histogram for thumbs down\n",
    "fig, (ax1, ax2) = plt.subplots(1, 2)\n",
    "\n",
    "fig.suptitle('Distribution of thumbs down given/day by users in the last week', fontsize=12, fontweight='bold')\n",
    "fig.set_figheight(7) \n",
    "fig.set_figwidth(15)\n",
    "\n",
    "ax1.hist(thumbs_dwn_day_canc_lweek, bins=100)\n",
    "ax1.set_xlabel('# of thumbs down given/day', fontsize=11)\n",
    "ax1.set_ylabel('# of users', fontsize=11)\n",
    "ax1.set_title('Cancelling Users', fontsize=11,fontweight='bold')\n",
    "\n",
    "ax2.hist(thumbs_dwn_day_stay_lweek, bins=100)\n",
    "ax2.set_xlabel('# of thumbs down given/day', fontsize=11)\n",
    "ax2.set_ylabel('# of users', fontsize=11)\n",
    "ax2.set_title('Staying Users', fontsize=11,fontweight='bold');"
   ]
  },
  {
   "cell_type": "code",
   "execution_count": 87,
   "metadata": {
    "scrolled": true
   },
   "outputs": [
    {
     "name": "stdout",
     "output_type": "stream",
     "text": [
      "--------------------------------------------------------------------------\n",
      "Thumbs down given per day statistics for users that cancelled - last week:\n",
      "Mean =  0.63 ; Std. Dev. =  0.54\n",
      "--------------------------------------------------------------------------\n",
      "Thumbs down given per day statistics for users that stay - last week:\n",
      "Mean =  0.39 ; Std. Dev. =  0.46\n",
      "--------------------------------------------------------------------------\n"
     ]
    }
   ],
   "source": [
    "# Look at the statistics\n",
    "stats_thumbs_dwn_canc_lweek = spark.createDataFrame(thumbs_dwn_day_canc_lweek, FloatType()).describe().collect()\n",
    "stats_thumbs_dwn_stay_lweek = spark.createDataFrame(thumbs_dwn_day_stay_lweek, FloatType()).describe().collect()\n",
    "\n",
    "print('--------------------------------------------------------------------------')\n",
    "print('Thumbs down given per day statistics for users that cancelled - last week:')\n",
    "print('Mean = ', '{:.2f}'.format(float(stats_thumbs_dwn_canc_lweek[1][1])), \\\n",
    "      '; Std. Dev. = ',  '{:.2f}'.format(float(stats_thumbs_dwn_canc_lweek[2][1])))\n",
    "print('--------------------------------------------------------------------------')\n",
    "print('Thumbs down given per day statistics for users that stay - last week:')\n",
    "print('Mean = ', '{:.2f}'.format(float(stats_thumbs_dwn_stay_lweek[1][1])), \\\n",
    "      '; Std. Dev. = ',  '{:.2f}'.format(float(stats_thumbs_dwn_stay_lweek[2][1])))\n",
    "print('--------------------------------------------------------------------------')"
   ]
  },
  {
   "cell_type": "markdown",
   "metadata": {},
   "source": [
    "### <a class=\"anchor\" id=\"Upgrade-Downgrade\">3.3. Submit an Upgrade/Downgrade request</a>"
   ]
  },
  {
   "cell_type": "markdown",
   "metadata": {},
   "source": [
    "We can also take a look at how many upgrade/downgrade request can be found in the various datasets, and compare that to the number of users."
   ]
  },
  {
   "cell_type": "code",
   "execution_count": 88,
   "metadata": {
    "scrolled": false
   },
   "outputs": [],
   "source": [
    "# Calculate number of downgrades/upgrades requests for the users that cancelled\n",
    "downgrade_canc = df_user_log_cancelled.select(F.sum(\"sub_dwg\")).collect()\n",
    "upgrade_canc = df_user_log_cancelled.select(F.sum(\"sub_upg\")).collect()"
   ]
  },
  {
   "cell_type": "code",
   "execution_count": 89,
   "metadata": {},
   "outputs": [],
   "source": [
    "# Calculate number of downgrades/upgrades requests for the users that are staying\n",
    "downgrade_stay = df_user_log_staying.select(F.sum(\"sub_dwg\")).collect()\n",
    "upgrade_stay = df_user_log_staying.select(F.sum(\"sub_upg\")).collect()"
   ]
  },
  {
   "cell_type": "code",
   "execution_count": 90,
   "metadata": {},
   "outputs": [
    {
     "name": "stdout",
     "output_type": "stream",
     "text": [
      "-------------------------------------------------------------\n",
      "Downgrades/Upgrades requests/number of users that cancelled:\n",
      "Absolute Downgrades =  9\n",
      "Absolute Upgrades =  31\n",
      "Downgrades/Num. of Users =  0.22\n",
      "Upgrades/Num. of Users =  0.76\n",
      "-------------------------------------------------------------\n",
      "Downgrades/Upgrades requests/number of users that stay:\n",
      "Absolute Downgrades =  63\n",
      "Absolute Upgrades =  158\n",
      "Downgrades/Num. of Users =  0.31\n",
      "Upgrades/Num. of Users =  0.77\n",
      "-------------------------------------------------------------\n"
     ]
    }
   ],
   "source": [
    "# Look at the values and the proportions\n",
    "print('-------------------------------------------------------------')\n",
    "print('Downgrades/Upgrades requests/number of users that cancelled:')\n",
    "print('Absolute Downgrades = ', downgrade_canc[0][0])\n",
    "print('Absolute Upgrades = ', upgrade_canc[0][0])\n",
    "print('Downgrades/Num. of Users = ', '{:.2f}'.format(downgrade_canc[0][0]/len(users_cancelled)))\n",
    "print('Upgrades/Num. of Users = ', '{:.2f}'.format(upgrade_canc[0][0]/len(users_cancelled)))\n",
    "print('-------------------------------------------------------------')\n",
    "print('Downgrades/Upgrades requests/number of users that stay:')\n",
    "print('Absolute Downgrades = ', downgrade_stay[0][0])\n",
    "print('Absolute Upgrades = ', upgrade_stay[0][0])\n",
    "print('Downgrades/Num. of Users = ', '{:.2f}'.format(downgrade_stay[0][0]/len(users_staying)))\n",
    "print('Upgrades/Num. of Users = ', '{:.2f}'.format(upgrade_stay[0][0]/len(users_staying)))\n",
    "print('-------------------------------------------------------------')"
   ]
  },
  {
   "cell_type": "markdown",
   "metadata": {},
   "source": [
    "Let's take a look at the last week:"
   ]
  },
  {
   "cell_type": "code",
   "execution_count": 91,
   "metadata": {
    "scrolled": false
   },
   "outputs": [],
   "source": [
    "# Calculate number of downgrades/upgrades requests for the users that cancelled - last week of data\n",
    "downgrade_canc_lweek = df_user_log_cancelled_lweek.select(F.sum(\"sub_dwg\")).collect()\n",
    "upgrade_canc_lweek = df_user_log_cancelled_lweek.select(F.sum(\"sub_upg\")).collect()"
   ]
  },
  {
   "cell_type": "code",
   "execution_count": 92,
   "metadata": {},
   "outputs": [],
   "source": [
    "# Calculate number of downgrades/upgrades requests for the users that are staying - last week of data\n",
    "downgrade_stay_lweek = df_user_log_staying_lweek.select(F.sum(\"sub_dwg\")).collect()\n",
    "upgrade_stay_lweek = df_user_log_staying_lweek.select(F.sum(\"sub_upg\")).collect()"
   ]
  },
  {
   "cell_type": "code",
   "execution_count": 93,
   "metadata": {},
   "outputs": [
    {
     "name": "stdout",
     "output_type": "stream",
     "text": [
      "-----------------------------------------------------------------------------\n",
      "Downgrades/Upgrades requests for users that cancelled - last week data:\n",
      "Absolute Downgrades =  3\n",
      "Absolute Upgrades =  6\n",
      "Downgrades/Num. of Users =  0.07\n",
      "Upgrade/Num. of Users =  0.15\n",
      "-----------------------------------------------------------------------------\n",
      "Downgrades/Upgrades requests/number of users that stay - last week data:\n",
      "Absolute Downgrades =  10\n",
      "Absolute Upgrades =  20\n",
      "Downgrades/Num. of Users =  0.05\n",
      "Upgrade/Num. of Users =  0.10\n",
      "-----------------------------------------------------------------------------\n"
     ]
    }
   ],
   "source": [
    "# Look at the values and the proportions\n",
    "print('-----------------------------------------------------------------------------')\n",
    "print('Downgrades/Upgrades requests for users that cancelled - last week data:')\n",
    "print('Absolute Downgrades = ', downgrade_canc_lweek[0][0])\n",
    "print('Absolute Upgrades = ', upgrade_canc_lweek[0][0])\n",
    "print('Downgrades/Num. of Users = ', '{:.2f}'.format(downgrade_canc_lweek[0][0]/len(users_cancelled_lweek)))\n",
    "print('Upgrade/Num. of Users = ', '{:.2f}'.format(upgrade_canc_lweek[0][0]/len(users_cancelled_lweek)))\n",
    "print('-----------------------------------------------------------------------------')\n",
    "print('Downgrades/Upgrades requests/number of users that stay - last week data:')\n",
    "print('Absolute Downgrades = ', downgrade_stay_lweek[0][0])\n",
    "print('Absolute Upgrades = ', upgrade_stay_lweek[0][0])\n",
    "print('Downgrades/Num. of Users = ', '{:.2f}'.format(downgrade_stay_lweek[0][0]/len(users_staying_lweek)))\n",
    "print('Upgrade/Num. of Users = ', '{:.2f}'.format(upgrade_stay_lweek[0][0]/len(users_staying_lweek)))\n",
    "print('-----------------------------------------------------------------------------')"
   ]
  },
  {
   "cell_type": "markdown",
   "metadata": {},
   "source": [
    "### <a class=\"anchor\" id=\"Roll-Advert\">3.4. Roll Advert</a>"
   ]
  },
  {
   "cell_type": "code",
   "execution_count": 94,
   "metadata": {},
   "outputs": [],
   "source": [
    "# Select, for every user that cancelled, the number of rolled adverts and the time window of the analysis\n",
    "rolled_advert_canc = df_user_log_cancelled.\\\n",
    "                groupBy(\"userId\").\\\n",
    "                agg(F.max(\"data_days\"), F.max(\"total_roll_adv\")).collect()"
   ]
  },
  {
   "cell_type": "code",
   "execution_count": 95,
   "metadata": {},
   "outputs": [],
   "source": [
    "# Get the rolled advert per day, on average\n",
    "rolled_advert_day_canc = [rolled_advert[2]/rolled_advert[1] for rolled_advert in rolled_advert_canc]"
   ]
  },
  {
   "cell_type": "code",
   "execution_count": 96,
   "metadata": {},
   "outputs": [],
   "source": [
    "# Select, for every user that is staying, the number of rolled adverts and the time window of the analysis\n",
    "rolled_advert_stay = df_user_log_staying.\\\n",
    "                groupBy(\"userId\").\\\n",
    "                agg(F.max(\"data_days\"), F.max(\"total_roll_adv\")).collect()"
   ]
  },
  {
   "cell_type": "code",
   "execution_count": 97,
   "metadata": {},
   "outputs": [],
   "source": [
    "# Get the rolled advert per day, on average\n",
    "rolled_advert_day_stay = [rolled_advert[2]/rolled_advert[1] for rolled_advert in rolled_advert_stay]"
   ]
  },
  {
   "cell_type": "code",
   "execution_count": 98,
   "metadata": {},
   "outputs": [
    {
     "data": {
      "image/png": "[encoded data removed]",
      "text/plain": [
       "<Figure size 1080x504 with 2 Axes>"
      ]
     },
     "metadata": {
      "needs_background": "light"
     },
     "output_type": "display_data"
    }
   ],
   "source": [
    "# Plot histogram for rolled advert\n",
    "fig, (ax1, ax2) = plt.subplots(1, 2)\n",
    "\n",
    "fig.suptitle('Distribution of rolled adverts/day by users', fontsize=12, fontweight='bold')\n",
    "fig.set_figheight(7) \n",
    "fig.set_figwidth(15)\n",
    "\n",
    "ax1.hist(rolled_advert_day_canc, bins=100)\n",
    "ax1.set_xlabel('# of rolled adverts/day', fontsize=11)\n",
    "ax1.set_ylabel('# of users', fontsize=11)\n",
    "ax1.set_title('Cancelling Users', fontsize=11,fontweight='bold')\n",
    "\n",
    "ax2.hist(rolled_advert_day_stay, bins=100)\n",
    "ax2.set_xlabel('# of rolled adverts/day', fontsize=11)\n",
    "ax2.set_ylabel('# of users', fontsize=11)\n",
    "ax2.set_title('Staying Users', fontsize=11,fontweight='bold');"
   ]
  },
  {
   "cell_type": "code",
   "execution_count": 99,
   "metadata": {},
   "outputs": [
    {
     "name": "stdout",
     "output_type": "stream",
     "text": [
      "----------------------------------------------------------\n",
      "Rolled adverts per day statistics for users that cancelled:\n",
      "Mean =  0.76 ; Std. Dev. =  0.68\n",
      "----------------------------------------------------------\n",
      "Rolled adverts per day statistics for users that stay:\n",
      "Mean =  0.44 ; Std. Dev. =  0.49\n",
      "----------------------------------------------------------\n"
     ]
    }
   ],
   "source": [
    "# Look at the statistics\n",
    "stats_rolled_advert_day_canc = spark.createDataFrame(rolled_advert_day_canc, FloatType()).describe().collect()\n",
    "stats_rolled_advert_day_stay = spark.createDataFrame(rolled_advert_day_stay, FloatType()).describe().collect()\n",
    "\n",
    "print('----------------------------------------------------------')\n",
    "print('Rolled adverts per day statistics for users that cancelled:')\n",
    "print('Mean = ', '{:.2f}'.format(float(stats_rolled_advert_day_canc[1][1])), \\\n",
    "      '; Std. Dev. = ',  '{:.2f}'.format(float(stats_rolled_advert_day_canc[2][1])))\n",
    "print('----------------------------------------------------------')\n",
    "print('Rolled adverts per day statistics for users that stay:')\n",
    "print('Mean = ', '{:.2f}'.format(float(stats_rolled_advert_day_stay[1][1])), \\\n",
    "      '; Std. Dev. = ',  '{:.2f}'.format(float(stats_rolled_advert_day_stay[2][1])))\n",
    "print('----------------------------------------------------------')"
   ]
  },
  {
   "cell_type": "markdown",
   "metadata": {},
   "source": [
    "Here too, we can take a look at what happens focusing on the last week of data:"
   ]
  },
  {
   "cell_type": "code",
   "execution_count": 100,
   "metadata": {},
   "outputs": [],
   "source": [
    "# Select, for every user that cancelled, the number of rolled adverts in the last week of data\n",
    "rolled_advert_canc_lweek = df_user_log_cancelled_lweek.\\\n",
    "                groupBy(\"userId\").\\\n",
    "                agg(F.sum(\"roll_adv\")).collect()"
   ]
  },
  {
   "cell_type": "code",
   "execution_count": 101,
   "metadata": {},
   "outputs": [],
   "source": [
    "# Get the rolled advert per day, on average\n",
    "rolled_advert_day_canc_lweek = [rolled_advert[1]/7 for rolled_advert in rolled_advert_canc_lweek]"
   ]
  },
  {
   "cell_type": "code",
   "execution_count": 102,
   "metadata": {},
   "outputs": [],
   "source": [
    "# Select, for every user that is staying, the number of rolled adverts in the last week of data\n",
    "rolled_advert_stay_lweek = df_user_log_staying_lweek.\\\n",
    "                groupBy(\"userId\").\\\n",
    "                agg(F.sum(\"roll_adv\")).collect()"
   ]
  },
  {
   "cell_type": "code",
   "execution_count": 103,
   "metadata": {},
   "outputs": [],
   "source": [
    "# Get the rolled advert per day, on average\n",
    "rolled_advert_day_stay_lweek = [rolled_advert[1]/7 for rolled_advert in rolled_advert_stay_lweek]"
   ]
  },
  {
   "cell_type": "code",
   "execution_count": 104,
   "metadata": {},
   "outputs": [
    {
     "data": {
      "image/png": "[encoded data removed]",
      "text/plain": [
       "<Figure size 1080x504 with 2 Axes>"
      ]
     },
     "metadata": {
      "needs_background": "light"
     },
     "output_type": "display_data"
    }
   ],
   "source": [
    "# Plot histogram for rolled advert\n",
    "fig, (ax1, ax2) = plt.subplots(1, 2)\n",
    "\n",
    "fig.suptitle('Distribution of rolled adverts/day by users in the last week', fontsize=12, fontweight='bold')\n",
    "fig.set_figheight(7) \n",
    "fig.set_figwidth(15)\n",
    "\n",
    "ax1.hist(rolled_advert_day_canc_lweek, bins=100)\n",
    "ax1.set_xlabel('# of rolled adverts/day', fontsize=11)\n",
    "ax1.set_ylabel('# of users', fontsize=11)\n",
    "ax1.set_title('Cancelling Users', fontsize=11,fontweight='bold')\n",
    "\n",
    "ax2.hist(rolled_advert_day_stay_lweek, bins=100)\n",
    "ax2.set_xlabel('# of rolled adverts/day', fontsize=11)\n",
    "ax2.set_ylabel('# of users', fontsize=11)\n",
    "ax2.set_title('Staying Users', fontsize=11,fontweight='bold');"
   ]
  },
  {
   "cell_type": "code",
   "execution_count": 105,
   "metadata": {},
   "outputs": [
    {
     "name": "stdout",
     "output_type": "stream",
     "text": [
      "-----------------------------------------------------------------------\n",
      "Rolled adverts per day statistics for users that cancelled - last week:\n",
      "Mean =  0.76 ; Std. Dev. =  1.22\n",
      "-----------------------------------------------------------------------\n",
      "Rolled adverts per day statistics for users that stay - last week:\n",
      "Mean =  0.49 ; Std. Dev. =  1.00\n",
      "-----------------------------------------------------------------------\n"
     ]
    }
   ],
   "source": [
    "# Look at the statistics\n",
    "stats_rolled_advert_day_canc_lweek = spark.createDataFrame(rolled_advert_day_canc_lweek, FloatType()).describe().collect()\n",
    "stats_rolled_advert_day_stay_lweek = spark.createDataFrame(rolled_advert_day_stay_lweek, FloatType()).describe().collect()\n",
    "\n",
    "print('-----------------------------------------------------------------------')\n",
    "print('Rolled adverts per day statistics for users that cancelled - last week:')\n",
    "print('Mean = ', '{:.2f}'.format(float(stats_rolled_advert_day_canc_lweek[1][1])), \\\n",
    "      '; Std. Dev. = ',  '{:.2f}'.format(float(stats_rolled_advert_day_canc_lweek[2][1])))\n",
    "print('-----------------------------------------------------------------------')\n",
    "print('Rolled adverts per day statistics for users that stay - last week:')\n",
    "print('Mean = ', '{:.2f}'.format(float(stats_rolled_advert_day_stay_lweek[1][1])), \\\n",
    "      '; Std. Dev. = ',  '{:.2f}'.format(float(stats_rolled_advert_day_stay_lweek[2][1])))\n",
    "print('-----------------------------------------------------------------------')"
   ]
  },
  {
   "cell_type": "markdown",
   "metadata": {},
   "source": [
    "### <a class=\"anchor\" id=\"Demographics\">3.5. Demographics</a>"
   ]
  },
  {
   "cell_type": "markdown",
   "metadata": {},
   "source": [
    "As a final look at the data, we can explore the demographics of the users, in terms of gender or location:"
   ]
  },
  {
   "cell_type": "code",
   "execution_count": 106,
   "metadata": {},
   "outputs": [],
   "source": [
    "# Parse the cancelled users to collect their gender\n",
    "canc_user_gender = df_user_log_cancelled.\\\n",
    "                groupBy(\"userId\").\\\n",
    "                agg(F.first(\"gender\", True)).collect()\n",
    "\n",
    "# Convert to list\n",
    "canc_user_gender_list = [canc_user[1] for canc_user in canc_user_gender]\n",
    "\n",
    "# Count males/females\n",
    "num_canc_male_users = sum([user == 'M' for user in canc_user_gender_list])\n",
    "num_canc_female_users = sum([user == 'F' for user in canc_user_gender_list])"
   ]
  },
  {
   "cell_type": "code",
   "execution_count": 107,
   "metadata": {},
   "outputs": [],
   "source": [
    "# Parse the staying users to collect their gender\n",
    "staying_user_gender = df_user_log_staying.\\\n",
    "                groupBy(\"userId\").\\\n",
    "                agg(F.first(\"gender\", True)).collect()\n",
    "\n",
    "# Convert to list\n",
    "staying_user_gender_list = [canc_user[1] for canc_user in staying_user_gender]\n",
    "\n",
    "# Count males/females\n",
    "num_staying_male_users = sum([user == 'M' for user in staying_user_gender_list])\n",
    "num_staying_female_users = sum([user == 'F' for user in staying_user_gender_list])"
   ]
  },
  {
   "cell_type": "code",
   "execution_count": 108,
   "metadata": {},
   "outputs": [
    {
     "name": "stdout",
     "output_type": "stream",
     "text": [
      "-----------------------------------------------------------------------------\n",
      "Gender distribution for users that cancelled:\n",
      "Number of male users =  24\n",
      "Number of female users =  17\n",
      "Number of male users/Total Users =  0.59\n",
      "Number of female users/Total Users =  0.41\n",
      "-----------------------------------------------------------------------------\n",
      "Gender distribution for users that stay:\n",
      "Number of male users =  108\n",
      "Number of female users =  96\n",
      "Number of male users/Total Users =  0.53\n",
      "Number of female users/Total Users =  0.47\n",
      "-----------------------------------------------------------------------------\n"
     ]
    }
   ],
   "source": [
    "# Look at the values and the proportions\n",
    "print('-----------------------------------------------------------------------------')\n",
    "print('Gender distribution for users that cancelled:')\n",
    "print('Number of male users = ', num_canc_male_users)\n",
    "print('Number of female users = ', num_canc_female_users)\n",
    "print('Number of male users/Total Users = ', '{:.2f}'.format(num_canc_male_users/len(users_cancelled)))\n",
    "print('Number of female users/Total Users = ', '{:.2f}'.format(num_canc_female_users/len(users_cancelled_lweek)))\n",
    "print('-----------------------------------------------------------------------------')\n",
    "print('Gender distribution for users that stay:')\n",
    "print('Number of male users = ', num_staying_male_users)\n",
    "print('Number of female users = ', num_staying_female_users)\n",
    "print('Number of male users/Total Users = ', '{:.2f}'.format(num_staying_male_users/len(users_staying)))\n",
    "print('Number of female users/Total Users = ', '{:.2f}'.format(num_staying_female_users/len(users_staying)))\n",
    "print('-----------------------------------------------------------------------------')"
   ]
  },
  {
   "cell_type": "code",
   "execution_count": 109,
   "metadata": {},
   "outputs": [],
   "source": [
    "# Parse the cancelled users to collect their location\n",
    "canc_user_location = df_user_log_cancelled.\\\n",
    "                groupBy(\"userId\").\\\n",
    "                agg(F.first(\"location\", True)).collect()\n",
    "\n",
    "# Get the state only\n",
    "canc_user_state = [user_loc[1].split(', ')[1] for user_loc in canc_user_location]\n",
    "\n",
    "# Count the occurrences and store tham as 2D list\n",
    "canc_state_counts_list = [[x, canc_user_state.count(x)] for x in set(canc_user_state)] \n",
    "\n",
    "# Sort the states alphabetically\n",
    "canc_state_counts_list.sort(key=lambda l:l[0])\n",
    "\n",
    "# Convert to an array, for convenience in slicing\n",
    "canc_state_counts = np.array(canc_state_counts_list)"
   ]
  },
  {
   "cell_type": "code",
   "execution_count": 110,
   "metadata": {},
   "outputs": [],
   "source": [
    "# Parse the staying users to collect their location\n",
    "staying_user_location = df_user_log_staying.\\\n",
    "                groupBy(\"userId\").\\\n",
    "                agg(F.first(\"location\")).collect()\n",
    "\n",
    "# Get the state only\n",
    "stay_user_state = [user_loc[1].split(', ')[1] for user_loc in staying_user_location]\n",
    "\n",
    "# Count the occurrences and store tham as 2D list\n",
    "stay_state_counts_list = [[x, stay_user_state.count(x)] for x in set(stay_user_state)] \n",
    "\n",
    "# Sort the states alphabetically\n",
    "stay_state_counts_list.sort(key=lambda l:l[0])\n",
    "\n",
    "# Convert to an array, for convenience in slicing\n",
    "stay_state_counts = np.array(stay_state_counts_list)"
   ]
  },
  {
   "cell_type": "code",
   "execution_count": 111,
   "metadata": {
    "scrolled": false
   },
   "outputs": [
    {
     "data": {
      "image/png": "[encoded data removed]",
      "text/plain": [
       "<Figure size 1080x504 with 1 Axes>"
      ]
     },
     "metadata": {
      "needs_background": "light"
     },
     "output_type": "display_data"
    }
   ],
   "source": [
    "# Plot bar chart for state location (1/2)\n",
    "fig, ax = plt.subplots(1, 1)\n",
    "\n",
    "fig.suptitle('Distribution of states for cancelling users', fontsize=12, fontweight='bold')\n",
    "fig.set_figheight(7) \n",
    "fig.set_figwidth(15)\n",
    "\n",
    "x_coord = canc_state_counts[0:-1, 0].tolist()\n",
    "y_coord = [int(y_c) for y_c in canc_state_counts[0:-1, 1].tolist()]\n",
    "\n",
    "ax.bar(x_coord, y_coord)\n",
    "ax.set_xlabel('States', fontsize=11)\n",
    "ax.set_ylabel('# of users', fontsize=11)\n",
    "\n",
    "ax.tick_params(labelrotation = 90)\n",
    "ax.grid()"
   ]
  },
  {
   "cell_type": "code",
   "execution_count": 112,
   "metadata": {
    "scrolled": false
   },
   "outputs": [
    {
     "data": {
      "image/png": "[encoded data removed]",
      "text/plain": [
       "<Figure size 1080x504 with 1 Axes>"
      ]
     },
     "metadata": {
      "needs_background": "light"
     },
     "output_type": "display_data"
    }
   ],
   "source": [
    "# Plot bar chart for state location (2/2)\n",
    "fig, ax = plt.subplots(1, 1)\n",
    "\n",
    "fig.suptitle('Distribution of states for staying users', fontsize=12, fontweight='bold')\n",
    "fig.set_figheight(7) \n",
    "fig.set_figwidth(15)\n",
    "\n",
    "x_coord = stay_state_counts[0:-1, 0].tolist()\n",
    "y_coord = [int(y_c) for y_c in stay_state_counts[0:-1, 1].tolist()]\n",
    "\n",
    "ax.bar(x_coord, y_coord)\n",
    "ax.set_xlabel('States', fontsize=11)\n",
    "ax.set_ylabel('# of users', fontsize=11)\n",
    "ax.tick_params(labelrotation = 90)\n",
    "ax.grid()"
   ]
  },
  {
   "cell_type": "markdown",
   "metadata": {},
   "source": [
    "## <a class=\"anchor\" id=\"Feature-Engineering\">4. Feature Engineering</a>"
   ]
  },
  {
   "cell_type": "markdown",
   "metadata": {},
   "source": [
    "Based on the above analysis, I will consider as features to be used for the modeling phase:\n",
    "\n",
    "* The number of rolled adverts/day\n",
    "* The number of friends added/day\n",
    "* The number of thumbs down given/day\n",
    "* The number of songs listened/day\n",
    "* The time spent with the service\n",
    "\n",
    "\n",
    "The label will be the actual churning event.\n",
    "\n",
    "I couldn't see any evidence of a sgnificant difference in the behaviour of the users in the last week before churning vs. the behaviour before, so I will consider their full history.  \n",
    "All the features will be grouped by `userId`."
   ]
  },
  {
   "cell_type": "code",
   "execution_count": 113,
   "metadata": {},
   "outputs": [],
   "source": [
    "# Select the columns\n",
    "df_user_logs_red = df_user_log_valid.\\\n",
    "    select([\"userId\", \"total_roll_adv\", \"total_add_friend\", \"thumbs_dwn\", \"song\", \"data_days\", \"perm_days\", \"churn\"])"
   ]
  },
  {
   "cell_type": "code",
   "execution_count": 114,
   "metadata": {},
   "outputs": [],
   "source": [
    "# Group by users\n",
    "df_user_logs_group = df_user_logs_red.\\\n",
    "    groupby(\"userId\").\\\n",
    "    agg(F.max(\"total_roll_adv\")/F.max(\"data_days\"), \\\n",
    "        F.max(\"total_add_friend\")/F.max(\"data_days\"), \\\n",
    "        F.max(\"thumbs_dwn\")/F.max(\"data_days\"), \\\n",
    "        F.countDistinct(\"song\")/F.max(\"data_days\"), F.max(\"perm_days\"), F.max(\"churn\")).collect()"
   ]
  },
  {
   "cell_type": "code",
   "execution_count": 115,
   "metadata": {},
   "outputs": [],
   "source": [
    "# Introduce a schema, defining the churn colums as the label to identify\n",
    "schema = [\"id\",\"rolledAdvDay\",\"addedFriendDay\",\"thumbsDwnDay\",\"songsDay\",\"permanence\",\"label\"]"
   ]
  },
  {
   "cell_type": "code",
   "execution_count": 116,
   "metadata": {},
   "outputs": [],
   "source": [
    "# Create a dataframe\n",
    "df_user_logs_mod = spark.createDataFrame(data = df_user_logs_group, schema = schema)"
   ]
  },
  {
   "cell_type": "code",
   "execution_count": 117,
   "metadata": {},
   "outputs": [
    {
     "data": {
      "text/plain": [
       "Row(id='100010', rolledAdvDay=1.1818181818181819, addedFriendDay=0.09090909090909091, thumbsDwnDay=0.022727272727272728, songsDay=6.113636363636363, permanence=56.0, label=0)"
      ]
     },
     "execution_count": 117,
     "metadata": {},
     "output_type": "execute_result"
    }
   ],
   "source": [
    "# Check the data\n",
    "df_user_logs_mod.head()"
   ]
  },
  {
   "cell_type": "markdown",
   "metadata": {},
   "source": [
    "## <a class=\"anchor\" id=\"Modeling\">5. Modeling</a>"
   ]
  },
  {
   "cell_type": "markdown",
   "metadata": {},
   "source": [
    "Once created the dataframe, we can split between train and test:"
   ]
  },
  {
   "cell_type": "code",
   "execution_count": 118,
   "metadata": {},
   "outputs": [],
   "source": [
    "# 80/20 % split\n",
    "train, test = df_user_logs_mod.randomSplit([0.8, 0.2], seed=42)"
   ]
  },
  {
   "cell_type": "code",
   "execution_count": 119,
   "metadata": {},
   "outputs": [
    {
     "name": "stdout",
     "output_type": "stream",
     "text": [
      "Num. of samples in training dataset:  162\n",
      "Num. of samples in test dataset:  42\n"
     ]
    }
   ],
   "source": [
    "# Check size of the datasets\n",
    "print('Num. of samples in training dataset: ', train.count())\n",
    "print('Num. of samples in test dataset: ',  test.count())"
   ]
  },
  {
   "cell_type": "code",
   "execution_count": 120,
   "metadata": {},
   "outputs": [
    {
     "data": {
      "text/plain": [
       "Row(id='100010', rolledAdvDay=1.1818181818181819, addedFriendDay=0.09090909090909091, thumbsDwnDay=0.022727272727272728, songsDay=6.113636363636363, permanence=56.0, label=0)"
      ]
     },
     "execution_count": 120,
     "metadata": {},
     "output_type": "execute_result"
    }
   ],
   "source": [
    "# Check sample in train dataset\n",
    "train.head()"
   ]
  },
  {
   "cell_type": "code",
   "execution_count": 121,
   "metadata": {},
   "outputs": [
    {
     "data": {
      "text/plain": [
       "Row(id='100021', rolledAdvDay=0.6666666666666666, addedFriendDay=0.15555555555555556, thumbsDwnDay=0.022222222222222223, songsDay=5.022222222222222, permanence=65.0, label=1)"
      ]
     },
     "execution_count": 121,
     "metadata": {},
     "output_type": "execute_result"
    }
   ],
   "source": [
    "# Check sample in test dataset\n",
    "test.head()"
   ]
  },
  {
   "cell_type": "markdown",
   "metadata": {},
   "source": [
    "Once split the data we can building a ML training pipeline.  \n",
    "\n",
    "First, we will define a [VectorAssembler](https://spark.apache.org/docs/latest/ml-features#vectorassembler) to combine all the features of interest in a single vector:"
   ]
  },
  {
   "cell_type": "code",
   "execution_count": 122,
   "metadata": {},
   "outputs": [],
   "source": [
    "# Define VectorAssembler\n",
    "assembler = VectorAssembler(inputCols=[\"rolledAdvDay\",\\\n",
    "                                       \"addedFriendDay\",\\\n",
    "                                       \"thumbsDwnDay\",\\\n",
    "                                       \"songsDay\",\\\n",
    "                                       \"permanence\"], \\\n",
    "                            outputCol=\"inputFeatures\")"
   ]
  },
  {
   "cell_type": "markdown",
   "metadata": {},
   "source": [
    "Then we scale the data using a [Min-Max Scaler](https://spark.apache.org/docs/latest/ml-features#minmaxscaler). I opted for this given that the distributions of the various features (as seen in the data exploration section) are quite skewed and far from resembling the normal one."
   ]
  },
  {
   "cell_type": "code",
   "execution_count": 123,
   "metadata": {},
   "outputs": [],
   "source": [
    "# Define Scaler\n",
    "scaler = MinMaxScaler(inputCol=\"inputFeatures\", outputCol=\"features\")"
   ]
  },
  {
   "cell_type": "markdown",
   "metadata": {},
   "source": [
    "Finally we introduce the classifier.\n",
    "\n",
    "There are several possibilities in [Spark](https://spark.apache.org/docs/latest/ml-classification-regression.html). I picked a few to run in different pipelines to evaluate different results. "
   ]
  },
  {
   "cell_type": "code",
   "execution_count": 124,
   "metadata": {},
   "outputs": [],
   "source": [
    "# Classifiers/Pipelines\n",
    "\n",
    "# Logistic Regression \n",
    "lr = LogisticRegression()\n",
    "pipeline_lr = Pipeline(stages = [assembler, scaler, lr])\n",
    "\n",
    "# Gradient-Boosted Tree classifier\n",
    "gbt = GBTClassifier()\n",
    "pipeline_gbt = Pipeline(stages = [assembler, scaler, gbt])\n",
    "\n",
    "# Random Forest classifier\n",
    "# Note: setting the seed will ensure repeatability of the results\n",
    "rf = RandomForestClassifier(seed = 42)\n",
    "pipeline_rf = Pipeline(stages = [assembler, scaler, rf])\n",
    "\n",
    "# Linear Support Vector Machine classifier\n",
    "lsvc = LinearSVC()\n",
    "pipeline_svc = Pipeline(stages = [assembler, scaler, lsvc])"
   ]
  },
  {
   "cell_type": "markdown",
   "metadata": {},
   "source": [
    "For each of the previous pipeline we will see in the follow the fitting and evaluation steps making use of the f1-score, as an evaluation metric, given the imbalance between 0/1 in the data (there are much more users `not` churning than churning)."
   ]
  },
  {
   "cell_type": "code",
   "execution_count": 125,
   "metadata": {},
   "outputs": [],
   "source": [
    "# Evaluator - will be common for all the grids\n",
    "evaluator = MulticlassClassificationEvaluator(metricName=\"f1\")"
   ]
  },
  {
   "cell_type": "markdown",
   "metadata": {},
   "source": [
    "In the following cells we'll fit all the 4 pipeline with the default parameters, and see the various results."
   ]
  },
  {
   "cell_type": "markdown",
   "metadata": {},
   "source": [
    "### <a class=\"anchor\" id=\"Logistic-Regression\">5.1. Logistic Regression</a>"
   ]
  },
  {
   "cell_type": "code",
   "execution_count": 126,
   "metadata": {},
   "outputs": [],
   "source": [
    "paramgrid_lr = ParamGridBuilder()\\\n",
    "    .build()\n",
    "\n",
    "# Crossvalidator \n",
    "crossval_lr = CrossValidator(estimator = pipeline_lr, \\\n",
    "                             estimatorParamMaps = paramgrid_lr, \\\n",
    "                             evaluator = evaluator, \\\n",
    "                             numFolds = 3, \\\n",
    "                             seed = 4242)"
   ]
  },
  {
   "cell_type": "code",
   "execution_count": 127,
   "metadata": {},
   "outputs": [],
   "source": [
    "# Train\n",
    "cvModel_lr = crossval_lr.fit(train) "
   ]
  },
  {
   "cell_type": "code",
   "execution_count": 128,
   "metadata": {},
   "outputs": [
    {
     "name": "stdout",
     "output_type": "stream",
     "text": [
      "F1-score, Logistic Regression classifier:  0.8828\n"
     ]
    }
   ],
   "source": [
    "# Evaluate\n",
    "f1_Score_lr = evaluator.evaluate(cvModel_lr.transform(test))\n",
    "\n",
    "print('F1-score, Logistic Regression classifier: ','{:.4f}'.format(f1_Score_lr))"
   ]
  },
  {
   "cell_type": "markdown",
   "metadata": {},
   "source": [
    "### <a class=\"anchor\" id=\"Gradient-Boosted-Tree\">5.2. Gradient-Boosted Tree</a>"
   ]
  },
  {
   "cell_type": "code",
   "execution_count": 129,
   "metadata": {},
   "outputs": [],
   "source": [
    "# Parameter grid\n",
    "paramgrid_gbt = ParamGridBuilder()\\\n",
    "    .build()\n",
    "\n",
    "# Crossvalidator \n",
    "crossval_gbt = CrossValidator(estimator = pipeline_gbt, \\\n",
    "                              estimatorParamMaps = paramgrid_gbt, \\\n",
    "                              evaluator = evaluator, \\\n",
    "                              numFolds = 3, \\\n",
    "                              seed = 4242)"
   ]
  },
  {
   "cell_type": "code",
   "execution_count": 130,
   "metadata": {},
   "outputs": [],
   "source": [
    "# Train\n",
    "cvModel_gbt = crossval_gbt.fit(train) "
   ]
  },
  {
   "cell_type": "code",
   "execution_count": 131,
   "metadata": {},
   "outputs": [
    {
     "name": "stdout",
     "output_type": "stream",
     "text": [
      "F1-score, Gradient-Boosted Tree classifier:  0.8190\n"
     ]
    }
   ],
   "source": [
    "# Evaluate\n",
    "f1_Score_gbt = evaluator.evaluate(cvModel_gbt.transform(test))\n",
    "\n",
    "print('F1-score, Gradient-Boosted Tree classifier: ','{:.4f}'.format(f1_Score_gbt))"
   ]
  },
  {
   "cell_type": "markdown",
   "metadata": {},
   "source": [
    "### <a class=\"anchor\" id=\"Random-Forest\">5.3. Random Forest</a>"
   ]
  },
  {
   "cell_type": "code",
   "execution_count": 132,
   "metadata": {},
   "outputs": [],
   "source": [
    "# Parameter grid\n",
    "paramgrid_rf = ParamGridBuilder()\\\n",
    "    .build()\n",
    "\n",
    "# Crossvalidator \n",
    "crossval_rf = CrossValidator(estimator = pipeline_rf, \\\n",
    "                             estimatorParamMaps = paramgrid_rf, \\\n",
    "                             evaluator = evaluator, \\\n",
    "                             numFolds = 3, \\\n",
    "                             seed = 4242)"
   ]
  },
  {
   "cell_type": "code",
   "execution_count": 133,
   "metadata": {},
   "outputs": [],
   "source": [
    "# Train\n",
    "cvModel_rf = crossval_rf.fit(train) "
   ]
  },
  {
   "cell_type": "code",
   "execution_count": 134,
   "metadata": {},
   "outputs": [
    {
     "name": "stdout",
     "output_type": "stream",
     "text": [
      "F1-score, Random Forest classifier:  0.8095\n"
     ]
    }
   ],
   "source": [
    "# Evaluate\n",
    "f1_Score_rf = evaluator.evaluate(cvModel_rf.transform(test))\n",
    "\n",
    "print('F1-score, Random Forest classifier: ','{:.4f}'.format(f1_Score_rf))"
   ]
  },
  {
   "cell_type": "markdown",
   "metadata": {},
   "source": [
    "### <a class=\"anchor\" id=\"Linear-SVC\">5.4. Linear SVC</a>"
   ]
  },
  {
   "cell_type": "code",
   "execution_count": 135,
   "metadata": {},
   "outputs": [],
   "source": [
    "# Parameter grid\n",
    "paramgrid_svc = ParamGridBuilder()\\\n",
    "    .build()\n",
    "\n",
    "# Crossvalidator \n",
    "crossval_svc = CrossValidator(estimator = pipeline_svc, \\\n",
    "                              estimatorParamMaps = paramgrid_svc, \\\n",
    "                              evaluator = evaluator, \\\n",
    "                              numFolds = 3, \\\n",
    "                              seed = 4242)"
   ]
  },
  {
   "cell_type": "code",
   "execution_count": 136,
   "metadata": {},
   "outputs": [],
   "source": [
    "# Train\n",
    "cvModel_svc = crossval_svc.fit(train) "
   ]
  },
  {
   "cell_type": "code",
   "execution_count": 137,
   "metadata": {},
   "outputs": [
    {
     "name": "stdout",
     "output_type": "stream",
     "text": [
      "F1-score, Linear Support Vector Machine classifier:  0.8302\n"
     ]
    }
   ],
   "source": [
    "# Evaluate\n",
    "f1_Score_svc = evaluator.evaluate(cvModel_svc.transform(test))\n",
    "\n",
    "print('F1-score, Linear Support Vector Machine classifier: ','{:.4f}'.format(f1_Score_svc))"
   ]
  },
  {
   "cell_type": "markdown",
   "metadata": {},
   "source": [
    "## <a class=\"anchor\" id=\"Optimization\">6. Optimization</a>"
   ]
  },
  {
   "cell_type": "markdown",
   "metadata": {},
   "source": [
    "Given the previous results with the default parameters, we can now try to explore the parameters'grids to see whether or not the performances of the models can be improved.  \n",
    "In particular, I will define optimization grids for both the Gradient Boosted Tree and the Random Forest classifiers."
   ]
  },
  {
   "cell_type": "markdown",
   "metadata": {},
   "source": [
    "### <a class=\"anchor\" id=\"Optimized-Gradient-Boosted-Tree\">6.1. Gradient-Boosted Tree</a>"
   ]
  },
  {
   "cell_type": "code",
   "execution_count": 138,
   "metadata": {},
   "outputs": [],
   "source": [
    "# Parameter grid\n",
    "paramgrid_gbt_o = ParamGridBuilder()\\\n",
    "    .addGrid(gbt.stepSize, [0.1, 0.25, 0.5])\\\n",
    "    .addGrid(gbt.maxIter, [20, 40, 60])\\\n",
    "    .build()\n",
    "\n",
    "# Crossvalidator \n",
    "crossval_gbt_o = CrossValidator(estimator = pipeline_gbt, \\\n",
    "                                estimatorParamMaps = paramgrid_gbt_o, \\\n",
    "                                evaluator = evaluator, \\\n",
    "                                numFolds = 3, \\\n",
    "                                seed = 4242)"
   ]
  },
  {
   "cell_type": "code",
   "execution_count": 139,
   "metadata": {},
   "outputs": [],
   "source": [
    "# Train\n",
    "cvModel_gbt_o = crossval_gbt_o.fit(train) "
   ]
  },
  {
   "cell_type": "code",
   "execution_count": 140,
   "metadata": {},
   "outputs": [
    {
     "name": "stdout",
     "output_type": "stream",
     "text": [
      "F1-score, Gradient-Boosted Tree classifier:  0.8401\n"
     ]
    }
   ],
   "source": [
    "# Evaluate\n",
    "f1_Score_gbt = evaluator.evaluate(cvModel_gbt_o.transform(test))\n",
    "\n",
    "print('F1-score, Gradient-Boosted Tree classifier: ','{:.4f}'.format(f1_Score_gbt))"
   ]
  },
  {
   "cell_type": "markdown",
   "metadata": {},
   "source": [
    "Once optimized, we can take a look at the parameters actually chosen through the code here below:"
   ]
  },
  {
   "cell_type": "code",
   "execution_count": 141,
   "metadata": {},
   "outputs": [
    {
     "data": {
      "text/plain": [
       "{Param(parent='GBTClassifier_dcd290a558a7', name='cacheNodeIds', doc='If false, the algorithm will pass trees to executors to match instances with nodes. If true, the algorithm will cache node IDs for each instance. Caching can speed up training of deeper trees. Users can set how often should the cache be checkpointed or disable it by setting checkpointInterval.'): False,\n",
       " Param(parent='GBTClassifier_dcd290a558a7', name='checkpointInterval', doc='set checkpoint interval (>= 1) or disable checkpoint (-1). E.g. 10 means that the cache will get checkpointed every 10 iterations. Note: this setting will be ignored if the checkpoint directory is not set in the SparkContext.'): 10,\n",
       " Param(parent='GBTClassifier_dcd290a558a7', name='featureSubsetStrategy', doc=\"The number of features to consider for splits at each tree node. Supported options: 'auto' (choose automatically for task: If numTrees == 1, set to 'all'. If numTrees > 1 (forest), set to 'sqrt' for classification and to 'onethird' for regression), 'all' (use all features), 'onethird' (use 1/3 of the features), 'sqrt' (use sqrt(number of features)), 'log2' (use log2(number of features)), 'n' (when n is in the range (0, 1.0], use n * number of features. When n is in the range (1, number of features), use n features). default = 'auto'\"): 'all',\n",
       " Param(parent='GBTClassifier_dcd290a558a7', name='featuresCol', doc='features column name.'): 'features',\n",
       " Param(parent='GBTClassifier_dcd290a558a7', name='impurity', doc='Criterion used for information gain calculation (case-insensitive). Supported options: variance'): 'variance',\n",
       " Param(parent='GBTClassifier_dcd290a558a7', name='labelCol', doc='label column name.'): 'label',\n",
       " Param(parent='GBTClassifier_dcd290a558a7', name='leafCol', doc='Leaf indices column name. Predicted leaf index of each instance in each tree by preorder.'): '',\n",
       " Param(parent='GBTClassifier_dcd290a558a7', name='lossType', doc='Loss function which GBT tries to minimize (case-insensitive). Supported options: logistic'): 'logistic',\n",
       " Param(parent='GBTClassifier_dcd290a558a7', name='maxBins', doc='Max number of bins for discretizing continuous features.  Must be >=2 and >= number of categories for any categorical feature.'): 32,\n",
       " Param(parent='GBTClassifier_dcd290a558a7', name='maxDepth', doc='Maximum depth of the tree. (>= 0) E.g., depth 0 means 1 leaf node; depth 1 means 1 internal node + 2 leaf nodes.'): 5,\n",
       " Param(parent='GBTClassifier_dcd290a558a7', name='maxIter', doc='max number of iterations (>= 0).'): 20,\n",
       " Param(parent='GBTClassifier_dcd290a558a7', name='maxMemoryInMB', doc='Maximum memory in MB allocated to histogram aggregation. If too small, then 1 node will be split per iteration, and its aggregates may exceed this size.'): 256,\n",
       " Param(parent='GBTClassifier_dcd290a558a7', name='minInfoGain', doc='Minimum information gain for a split to be considered at a tree node.'): 0.0,\n",
       " Param(parent='GBTClassifier_dcd290a558a7', name='minInstancesPerNode', doc='Minimum number of instances each child must have after split. If a split causes the left or right child to have fewer than minInstancesPerNode, the split will be discarded as invalid. Should be >= 1.'): 1,\n",
       " Param(parent='GBTClassifier_dcd290a558a7', name='minWeightFractionPerNode', doc='Minimum fraction of the weighted sample count that each child must have after split. If a split causes the fraction of the total weight in the left or right child to be less than minWeightFractionPerNode, the split will be discarded as invalid. Should be in interval [0.0, 0.5).'): 0.0,\n",
       " Param(parent='GBTClassifier_dcd290a558a7', name='predictionCol', doc='prediction column name.'): 'prediction',\n",
       " Param(parent='GBTClassifier_dcd290a558a7', name='probabilityCol', doc='Column name for predicted class conditional probabilities. Note: Not all models output well-calibrated probability estimates! These probabilities should be treated as confidences, not precise probabilities.'): 'probability',\n",
       " Param(parent='GBTClassifier_dcd290a558a7', name='rawPredictionCol', doc='raw prediction (a.k.a. confidence) column name.'): 'rawPrediction',\n",
       " Param(parent='GBTClassifier_dcd290a558a7', name='seed', doc='random seed.'): -8286523301938642565,\n",
       " Param(parent='GBTClassifier_dcd290a558a7', name='stepSize', doc='Step size (a.k.a. learning rate) in interval (0, 1] for shrinking the contribution of each estimator.'): 0.25,\n",
       " Param(parent='GBTClassifier_dcd290a558a7', name='subsamplingRate', doc='Fraction of the training data used for learning each decision tree, in range (0, 1].'): 1.0,\n",
       " Param(parent='GBTClassifier_dcd290a558a7', name='validationTol', doc='Threshold for stopping early when fit with validation is used. If the error rate on the validation input changes by less than the validationTol, then learning will stop early (before `maxIter`). This parameter is ignored when fit without validation is used.'): 0.01}"
      ]
     },
     "execution_count": 141,
     "metadata": {},
     "output_type": "execute_result"
    }
   ],
   "source": [
    "bestGBTPipeline = cvModel_gbt_o.bestModel\n",
    "bestGBTModel = bestGBTPipeline.stages[2]\n",
    "bestGBTParams = bestGBTModel.extractParamMap()\n",
    "bestGBTParams"
   ]
  },
  {
   "cell_type": "markdown",
   "metadata": {},
   "source": [
    "### <a class=\"anchor\" id=\"Optimized-Random-Forest\">6.2. Random Forest</a>"
   ]
  },
  {
   "cell_type": "code",
   "execution_count": 142,
   "metadata": {},
   "outputs": [],
   "source": [
    "# Parameter grid\n",
    "paramgrid_rf_o = ParamGridBuilder()\\\n",
    "    .addGrid(rf.impurity, ['entropy', 'gini'])\\\n",
    "    .addGrid(rf.maxDepth, [5, 10])\\\n",
    "    .addGrid(rf.numTrees, [20, 40])\\\n",
    "    .build()\n",
    "\n",
    "# Crossvalidator \n",
    "crossval_rf_o = CrossValidator(estimator = pipeline_rf, \\\n",
    "                               estimatorParamMaps = paramgrid_rf_o, \\\n",
    "                               evaluator = evaluator, \\\n",
    "                               numFolds = 3, \\\n",
    "                               seed = 4242)"
   ]
  },
  {
   "cell_type": "code",
   "execution_count": 143,
   "metadata": {},
   "outputs": [],
   "source": [
    "# Train\n",
    "cvModel_rf_o = crossval_rf_o.fit(train) "
   ]
  },
  {
   "cell_type": "code",
   "execution_count": 144,
   "metadata": {},
   "outputs": [
    {
     "name": "stdout",
     "output_type": "stream",
     "text": [
      "F1-score, Random Forest classifier:  0.8302\n"
     ]
    }
   ],
   "source": [
    "# Evaluate\n",
    "f1_Score_rf = evaluator.evaluate(cvModel_rf_o.transform(test))\n",
    "\n",
    "print('F1-score, Random Forest classifier: ','{:.4f}'.format(f1_Score_rf))"
   ]
  },
  {
   "cell_type": "markdown",
   "metadata": {},
   "source": [
    "Also in this case we can take a look at the resulting optimized parameters:"
   ]
  },
  {
   "cell_type": "code",
   "execution_count": 145,
   "metadata": {},
   "outputs": [
    {
     "data": {
      "text/plain": [
       "{Param(parent='RandomForestClassifier_2c3ed5c65333', name='bootstrap', doc='Whether bootstrap samples are used when building trees.'): True,\n",
       " Param(parent='RandomForestClassifier_2c3ed5c65333', name='cacheNodeIds', doc='If false, the algorithm will pass trees to executors to match instances with nodes. If true, the algorithm will cache node IDs for each instance. Caching can speed up training of deeper trees. Users can set how often should the cache be checkpointed or disable it by setting checkpointInterval.'): False,\n",
       " Param(parent='RandomForestClassifier_2c3ed5c65333', name='checkpointInterval', doc='set checkpoint interval (>= 1) or disable checkpoint (-1). E.g. 10 means that the cache will get checkpointed every 10 iterations. Note: this setting will be ignored if the checkpoint directory is not set in the SparkContext.'): 10,\n",
       " Param(parent='RandomForestClassifier_2c3ed5c65333', name='featureSubsetStrategy', doc=\"The number of features to consider for splits at each tree node. Supported options: 'auto' (choose automatically for task: If numTrees == 1, set to 'all'. If numTrees > 1 (forest), set to 'sqrt' for classification and to 'onethird' for regression), 'all' (use all features), 'onethird' (use 1/3 of the features), 'sqrt' (use sqrt(number of features)), 'log2' (use log2(number of features)), 'n' (when n is in the range (0, 1.0], use n * number of features. When n is in the range (1, number of features), use n features). default = 'auto'\"): 'auto',\n",
       " Param(parent='RandomForestClassifier_2c3ed5c65333', name='featuresCol', doc='features column name.'): 'features',\n",
       " Param(parent='RandomForestClassifier_2c3ed5c65333', name='impurity', doc='Criterion used for information gain calculation (case-insensitive). Supported options: entropy, gini'): 'entropy',\n",
       " Param(parent='RandomForestClassifier_2c3ed5c65333', name='labelCol', doc='label column name.'): 'label',\n",
       " Param(parent='RandomForestClassifier_2c3ed5c65333', name='leafCol', doc='Leaf indices column name. Predicted leaf index of each instance in each tree by preorder.'): '',\n",
       " Param(parent='RandomForestClassifier_2c3ed5c65333', name='maxBins', doc='Max number of bins for discretizing continuous features.  Must be >=2 and >= number of categories for any categorical feature.'): 32,\n",
       " Param(parent='RandomForestClassifier_2c3ed5c65333', name='maxDepth', doc='Maximum depth of the tree. (>= 0) E.g., depth 0 means 1 leaf node; depth 1 means 1 internal node + 2 leaf nodes.'): 5,\n",
       " Param(parent='RandomForestClassifier_2c3ed5c65333', name='maxMemoryInMB', doc='Maximum memory in MB allocated to histogram aggregation. If too small, then 1 node will be split per iteration, and its aggregates may exceed this size.'): 256,\n",
       " Param(parent='RandomForestClassifier_2c3ed5c65333', name='minInfoGain', doc='Minimum information gain for a split to be considered at a tree node.'): 0.0,\n",
       " Param(parent='RandomForestClassifier_2c3ed5c65333', name='minInstancesPerNode', doc='Minimum number of instances each child must have after split. If a split causes the left or right child to have fewer than minInstancesPerNode, the split will be discarded as invalid. Should be >= 1.'): 1,\n",
       " Param(parent='RandomForestClassifier_2c3ed5c65333', name='minWeightFractionPerNode', doc='Minimum fraction of the weighted sample count that each child must have after split. If a split causes the fraction of the total weight in the left or right child to be less than minWeightFractionPerNode, the split will be discarded as invalid. Should be in interval [0.0, 0.5).'): 0.0,\n",
       " Param(parent='RandomForestClassifier_2c3ed5c65333', name='numTrees', doc='Number of trees to train (>= 1).'): 40,\n",
       " Param(parent='RandomForestClassifier_2c3ed5c65333', name='predictionCol', doc='prediction column name.'): 'prediction',\n",
       " Param(parent='RandomForestClassifier_2c3ed5c65333', name='probabilityCol', doc='Column name for predicted class conditional probabilities. Note: Not all models output well-calibrated probability estimates! These probabilities should be treated as confidences, not precise probabilities.'): 'probability',\n",
       " Param(parent='RandomForestClassifier_2c3ed5c65333', name='rawPredictionCol', doc='raw prediction (a.k.a. confidence) column name.'): 'rawPrediction',\n",
       " Param(parent='RandomForestClassifier_2c3ed5c65333', name='seed', doc='random seed.'): 42,\n",
       " Param(parent='RandomForestClassifier_2c3ed5c65333', name='subsamplingRate', doc='Fraction of the training data used for learning each decision tree, in range (0, 1].'): 1.0}"
      ]
     },
     "execution_count": 145,
     "metadata": {},
     "output_type": "execute_result"
    }
   ],
   "source": [
    "bestRFPipeline = cvModel_rf_o.bestModel\n",
    "bestRFModel = bestRFPipeline.stages[2]\n",
    "bestRFParams = bestRFModel.extractParamMap()\n",
    "bestRFParams"
   ]
  },
  {
   "cell_type": "code",
   "execution_count": null,
   "metadata": {},
   "outputs": [],
   "source": []
  },
  {
   "cell_type": "code",
   "execution_count": null,
   "metadata": {},
   "outputs": [],
   "source": []
  },
  {
   "cell_type": "code",
   "execution_count": null,
   "metadata": {},
   "outputs": [],
   "source": []
  },
  {
   "cell_type": "code",
   "execution_count": null,
   "metadata": {},
   "outputs": [],
   "source": []
  },
  {
   "cell_type": "code",
   "execution_count": null,
   "metadata": {},
   "outputs": [],
   "source": []
  },
  {
   "cell_type": "code",
   "execution_count": null,
   "metadata": {},
   "outputs": [],
   "source": []
  },
  {
   "cell_type": "markdown",
   "metadata": {},
   "source": [
    "## <a class=\"anchor\" id=\"Modeling\">6.1. Logistic Regression</a>"
   ]
  },
  {
   "cell_type": "code",
   "execution_count": null,
   "metadata": {},
   "outputs": [],
   "source": [
    "paramgrid_lr_o = ParamGridBuilder()\\\n",
    "    .addGrid(lr.regParam, [0.0, 0.5, 1.0])\\\n",
    "    .addGrid(lr.maxIter, [100, 250, 500])\\\n",
    "    .build()\n",
    "\n",
    "# Crossvalidator \n",
    "crossval_lr_o = CrossValidator(estimator = pipeline_lr, \\\n",
    "                               estimatorParamMaps = paramgrid_lr_o, \\\n",
    "                               evaluator = evaluator, \\\n",
    "                               numFolds = 3, \\\n",
    "                               seed = 4242)"
   ]
  },
  {
   "cell_type": "code",
   "execution_count": null,
   "metadata": {},
   "outputs": [],
   "source": [
    "# Train\n",
    "t0= time.clock()\n",
    "\n",
    "cvModel_lr_o = crossval_lr_o.fit(train) \n",
    "\n",
    "\n",
    "t1 = time.clock()\n",
    "# print('Done. Elapsed time = ', '{:.2f}'.format(t1))\n",
    "print('Done. Elapsed time = ', t1 - t0)\n",
    "print(t1, t0)"
   ]
  },
  {
   "cell_type": "code",
   "execution_count": null,
   "metadata": {},
   "outputs": [],
   "source": [
    "# Evaluate\n",
    "f1_Score_lr = evaluator.evaluate(cvModel_lr_o.transform(test))\n",
    "\n",
    "print('F1-score, Logistic Regression classifier: ','{:.4f}'.format(f1_Score_lr))"
   ]
  },
  {
   "cell_type": "code",
   "execution_count": null,
   "metadata": {},
   "outputs": [],
   "source": [
    "bestPipeline = cvModel_lr_o.bestModel\n",
    "bestLRModel = bestPipeline.stages[2]\n",
    "bestLRParams = bestLRModel.extractParamMap()"
   ]
  },
  {
   "cell_type": "code",
   "execution_count": null,
   "metadata": {},
   "outputs": [],
   "source": [
    "bestLRParams"
   ]
  },
  {
   "cell_type": "markdown",
   "metadata": {},
   "source": [
    "### <a class=\"anchor\" id=\"Linear-SVC\">6.4. Linear SVC</a>"
   ]
  },
  {
   "cell_type": "code",
   "execution_count": null,
   "metadata": {},
   "outputs": [],
   "source": [
    "# Parameter grid\n",
    "paramgrid_svc_o = ParamGridBuilder()\\\n",
    "    .addGrid(lsvc.regParam, [0.0, 0.5, 1.0])\\\n",
    "    .addGrid(lsvc.maxIter, [100, 250, 500])\\\n",
    "    .build()\n",
    "\n",
    "# Crossvalidator \n",
    "crossval_svc_o = CrossValidator(estimator = pipeline_svc, \\\n",
    "                                estimatorParamMaps = paramgrid_svc_o, \\\n",
    "                                evaluator = evaluator, \\\n",
    "                                numFolds = 3, \\\n",
    "                                seed = 4242)"
   ]
  },
  {
   "cell_type": "code",
   "execution_count": null,
   "metadata": {},
   "outputs": [],
   "source": [
    "# Train\n",
    "t0= time.clock()\n",
    "\n",
    "cvModel_svc_o = crossval_svc_o.fit(train) \n",
    "\n",
    "t1 = time.clock()\n",
    "# print('Done. Elapsed time = ', '{:.2f}'.format(t1))\n",
    "print('Done. Elapsed time = ', t1 - t0)\n",
    "print(t1, t0)"
   ]
  },
  {
   "cell_type": "code",
   "execution_count": null,
   "metadata": {},
   "outputs": [],
   "source": [
    "# Evaluate\n",
    "f1_Score_svc = evaluator.evaluate(cvModel_svc_o.transform(test))\n",
    "\n",
    "print('F1-score, Linear Support Vector Machine classifier: ','{:.4f}'.format(f1_Score_svc))"
   ]
  },
  {
   "cell_type": "code",
   "execution_count": null,
   "metadata": {},
   "outputs": [],
   "source": [
    "bestPipeline = cvModel_svc_o.bestModel\n",
    "bestSVCModel = bestPipeline.stages[2]\n",
    "bestSVCParams = bestSVCModel.extractParamMap()"
   ]
  },
  {
   "cell_type": "code",
   "execution_count": null,
   "metadata": {
    "scrolled": true
   },
   "outputs": [],
   "source": [
    "bestSVCParams"
   ]
  },
  {
   "cell_type": "code",
   "execution_count": null,
   "metadata": {},
   "outputs": [],
   "source": []
  },
  {
   "cell_type": "code",
   "execution_count": null,
   "metadata": {},
   "outputs": [],
   "source": []
  },
  {
   "cell_type": "code",
   "execution_count": null,
   "metadata": {},
   "outputs": [],
   "source": []
  },
  {
   "cell_type": "code",
   "execution_count": null,
   "metadata": {},
   "outputs": [],
   "source": []
  },
  {
   "cell_type": "code",
   "execution_count": null,
   "metadata": {},
   "outputs": [],
   "source": []
  },
  {
   "cell_type": "code",
   "execution_count": null,
   "metadata": {},
   "outputs": [],
   "source": [
    "train_tran = assembler.transform(train)"
   ]
  },
  {
   "cell_type": "code",
   "execution_count": null,
   "metadata": {},
   "outputs": [],
   "source": [
    "scaler2 = MinMaxScaler(inputCol=\"inputFeatures\", outputCol=\"features\")\n",
    "scaler_obj = scaler2.fit(train_tran)"
   ]
  },
  {
   "cell_type": "code",
   "execution_count": null,
   "metadata": {},
   "outputs": [],
   "source": [
    "scaler_obj.getMin(), scaler_obj.getMax()"
   ]
  },
  {
   "cell_type": "code",
   "execution_count": null,
   "metadata": {},
   "outputs": [],
   "source": [
    "train_scal = scaler_obj.transform(train_tran)"
   ]
  },
  {
   "cell_type": "code",
   "execution_count": null,
   "metadata": {},
   "outputs": [],
   "source": [
    "train_scal.head()"
   ]
  },
  {
   "cell_type": "code",
   "execution_count": null,
   "metadata": {},
   "outputs": [],
   "source": [
    "train_scal.select('features').head()"
   ]
  },
  {
   "cell_type": "code",
   "execution_count": null,
   "metadata": {},
   "outputs": [],
   "source": [
    "train_scal.agg({'songsDay': 'min'}).collect()[0][0]"
   ]
  },
  {
   "cell_type": "code",
   "execution_count": null,
   "metadata": {},
   "outputs": [],
   "source": [
    "train_scal_pd = train_scal.toPandas()\n",
    "train_scal_pd.head()"
   ]
  },
  {
   "cell_type": "code",
   "execution_count": null,
   "metadata": {},
   "outputs": [],
   "source": [
    "fts = train_scal_pd.features.loc[0].tolist()\n",
    "fts"
   ]
  },
  {
   "cell_type": "code",
   "execution_count": null,
   "metadata": {},
   "outputs": [],
   "source": [
    "any(ft < 0 for ft in fts)"
   ]
  },
  {
   "cell_type": "code",
   "execution_count": null,
   "metadata": {},
   "outputs": [],
   "source": [
    "for ii in range(train_scal_pd.shape[0]):\n",
    "    fts = train_scal_pd.features.loc[ii].tolist()\n",
    "    if any(ft < 0 for ft in fts):\n",
    "        print(\"Found\")\n",
    "        print(fts, ii)\n",
    "        break"
   ]
  },
  {
   "cell_type": "code",
   "execution_count": null,
   "metadata": {},
   "outputs": [],
   "source": [
    "for ii in range(train_scal_pd.shape[0]):\n",
    "    fts = train_scal_pd.features.loc[ii].tolist()\n",
    "    #0.03320158102766799,0.0877742946708464,0.0,-0.0011134383606826012,0.34728033472803344\n",
    "    if ((fts[0] > 0.033) & (fts[0]<0.034)):\n",
    "        print(fts, ii)"
   ]
  },
  {
   "cell_type": "code",
   "execution_count": null,
   "metadata": {},
   "outputs": [],
   "source": [
    "nb2 = NaiveBayes()"
   ]
  },
  {
   "cell_type": "code",
   "execution_count": null,
   "metadata": {},
   "outputs": [],
   "source": [
    "nb2.fit(train_scal)"
   ]
  },
  {
   "cell_type": "code",
   "execution_count": null,
   "metadata": {},
   "outputs": [],
   "source": [
    "nbModel2 = pipeline_nb.fit(train)"
   ]
  },
  {
   "cell_type": "code",
   "execution_count": null,
   "metadata": {
    "scrolled": false
   },
   "outputs": [],
   "source": [
    "# Check what happens to the first userID leaving\n",
    "# user_canc_0_lifecycle = df_user_log_valid.select([\"userId\", \"firstname\", \"page\", \"level\", \"ts\"]).\\\n",
    "#     where(df_user_log_valid.userId == users_cancelled[12][0]).collect()"
   ]
  },
  {
   "cell_type": "code",
   "execution_count": null,
   "metadata": {},
   "outputs": [],
   "source": [
    "# len(user_canc_0_lifecycle)"
   ]
  },
  {
   "cell_type": "code",
   "execution_count": null,
   "metadata": {
    "scrolled": false
   },
   "outputs": [],
   "source": [
    "# The beginning...\n",
    "# user_canc_0_lifecycle[:10]"
   ]
  },
  {
   "cell_type": "code",
   "execution_count": null,
   "metadata": {
    "scrolled": false
   },
   "outputs": [],
   "source": [
    "# ... the end\n",
    "# user_canc_0_lifecycle[400:450]"
   ]
  },
  {
   "cell_type": "markdown",
   "metadata": {},
   "source": [
    "As a variable of interest we can consider the amount of time spent with the service:"
   ]
  },
  {
   "cell_type": "code",
   "execution_count": null,
   "metadata": {
    "scrolled": false
   },
   "outputs": [],
   "source": [
    "# How much time did he/she spend with the service:\n",
    "# print('Example of a user leaving the service:')\n",
    "# print('Date when joining: ', datetime.fromtimestamp(user_canc_0_lifecycle[0][4]/1000))\n",
    "# print('Date when leaving: ', datetime.fromtimestamp(user_canc_0_lifecycle[-1][4]/1000))\n",
    "      \n",
    "# # Quantify that time in days...\n",
    "# print('Interval in days: ', '{:.3f}'.format((user_canc_0_lifecycle[-1][4]/1000 - user_canc_0_lifecycle[0][4]/1000)\\\n",
    "#                                             /(3600*24)))"
   ]
  },
  {
   "cell_type": "markdown",
   "metadata": {},
   "source": [
    "We can take a look at the same metric for a user that stayed with the service:"
   ]
  },
  {
   "cell_type": "code",
   "execution_count": null,
   "metadata": {
    "scrolled": false
   },
   "outputs": [],
   "source": [
    "# First userID staying\n",
    "# user_stay_0_lifecycle = user_log_valid.select([\"userId\", \"firstname\", \"page\", \"level\", \"ts\"]).\\\n",
    "#     where(user_log_valid.userId == users_staying[0][0]).collect()\n",
    "\n",
    "# # How much time did he/she spend with the service:\n",
    "# print('Example of a user staying with the service:')\n",
    "# print('Date when joining: ', datetime.fromtimestamp(user_stay_0_lifecycle[0][4]/1000))\n",
    "# print('Last date recorded: ', datetime.fromtimestamp(user_stay_0_lifecycle[-1][4]/1000))\n",
    "      \n",
    "# # Quantify that time in days...\n",
    "# print('Interval in days: ', '{:.3f}'.format((user_stay_0_lifecycle[-1][4]/1000 - user_stay_0_lifecycle[0][4]/1000)\\\n",
    "#                                             /(3600*24)))"
   ]
  },
  {
   "cell_type": "markdown",
   "metadata": {},
   "source": [
    "We can check the quantiles for the num of songs/day"
   ]
  },
  {
   "cell_type": "code",
   "execution_count": null,
   "metadata": {
    "scrolled": false
   },
   "outputs": [],
   "source": [
    "spark.createDataFrame(num_songs_cancelled, FloatType()).approxQuantile(\"value\", [0.25, 0.5, 0.75], 0.25)"
   ]
  },
  {
   "cell_type": "code",
   "execution_count": null,
   "metadata": {
    "scrolled": false
   },
   "outputs": [],
   "source": [
    "spark.createDataFrame(num_songs_staying, FloatType()).approxQuantile(\"value\", [0.25, 0.5, 0.75], 0.25)"
   ]
  },
  {
   "cell_type": "code",
   "execution_count": null,
   "metadata": {
    "scrolled": false
   },
   "outputs": [],
   "source": [
    "user_log_cancelled.head()"
   ]
  },
  {
   "cell_type": "code",
   "execution_count": null,
   "metadata": {
    "scrolled": false
   },
   "outputs": [],
   "source": [
    "user_log_staying.head()"
   ]
  },
  {
   "cell_type": "markdown",
   "metadata": {},
   "source": [
    "Added friend event:"
   ]
  },
  {
   "cell_type": "markdown",
   "metadata": {},
   "source": [
    "Rolled advert event:"
   ]
  },
  {
   "cell_type": "code",
   "execution_count": null,
   "metadata": {
    "scrolled": false
   },
   "outputs": [],
   "source": [
    "rolled_advert_canc = user_log_cancelled.\\\n",
    "                groupBy(\"userId\").\\\n",
    "                agg(min(\"ts\"), max(\"ts\"), Ssum(\"roll_adv\")).collect()"
   ]
  },
  {
   "cell_type": "code",
   "execution_count": null,
   "metadata": {
    "scrolled": false
   },
   "outputs": [],
   "source": [
    "rolled_advert_event_canc = [rolled_adv[3]/math.ceil((rolled_adv[2]/1000 - rolled_adv[1]/1000)/(3600*24))\\\n",
    "                            for rolled_adv in rolled_advert_canc]"
   ]
  },
  {
   "cell_type": "code",
   "execution_count": null,
   "metadata": {
    "scrolled": false
   },
   "outputs": [],
   "source": [
    "rolled_advert_stay = user_log_staying.\\\n",
    "                groupBy(\"userId\").\\\n",
    "                agg(min(\"ts\"), max(\"ts\"), Ssum(\"roll_adv\")).collect()"
   ]
  },
  {
   "cell_type": "code",
   "execution_count": null,
   "metadata": {
    "scrolled": false
   },
   "outputs": [],
   "source": [
    "rolled_advert_event_stay = [rolled_adv[3]/math.ceil((rolled_adv[2]/1000 - rolled_adv[1]/1000)/(3600*24)) \\\n",
    "                            for rolled_adv in rolled_advert_stay]"
   ]
  },
  {
   "cell_type": "code",
   "execution_count": null,
   "metadata": {},
   "outputs": [],
   "source": [
    "# Plot histogram for rolled advert\n",
    "fig, (ax1, ax2) = plt.subplots(1, 2)\n",
    "\n",
    "fig.suptitle('Distribution of rolled advert event', fontsize=12, fontweight='bold')\n",
    "fig.set_figheight(7) \n",
    "fig.set_figwidth(15)\n",
    "\n",
    "ax1.hist(rolled_advert_event_canc, bins=100)\n",
    "ax1.set_xlabel('# of rolled adverts/day', fontsize=11)\n",
    "ax1.set_ylabel('# of users', fontsize=11)\n",
    "ax1.set_title('Cancelling Users', fontsize=11,fontweight='bold')\n",
    "\n",
    "ax2.hist(rolled_advert_event_stay, bins=100)\n",
    "ax2.set_xlabel('# of rolled adverts/day', fontsize=11)\n",
    "ax2.set_ylabel('# of users', fontsize=11)\n",
    "ax2.set_title('Staying Users', fontsize=11,fontweight='bold');"
   ]
  },
  {
   "cell_type": "code",
   "execution_count": null,
   "metadata": {
    "scrolled": false
   },
   "outputs": [],
   "source": [
    "# Look at the statistics\n",
    "print('Statistics for rolled advert/day for users that cancelled:')\n",
    "spark.createDataFrame(rolled_advert_event_canc, FloatType()).describe().show()"
   ]
  },
  {
   "cell_type": "code",
   "execution_count": null,
   "metadata": {
    "scrolled": false
   },
   "outputs": [],
   "source": [
    "# Look at the statistics\n",
    "print('Statistics for rolled advert/day for users that stay:')\n",
    "spark.createDataFrame(rolled_advert_event_stay, FloatType()).describe().show()"
   ]
  },
  {
   "cell_type": "markdown",
   "metadata": {},
   "source": [
    "**Downgrade plan**"
   ]
  },
  {
   "cell_type": "code",
   "execution_count": null,
   "metadata": {},
   "outputs": [],
   "source": [
    "# Defining a dwg variable based on the the change of level from \"paid\" to \"free\""
   ]
  },
  {
   "cell_type": "code",
   "execution_count": null,
   "metadata": {},
   "outputs": [],
   "source": [
    "# Defining a sub_dwg variable based on the Submit Downgrade page\n",
    "sub_dwg = udf(lambda x: 1 if x == \"Submit Downgrade\" else 0, IntegerType())  \n",
    "\n",
    "user_log_cancelled = user_log_cancelled.withColumn(\"sub_dwg\", sub_dwg(\"page\"))\n",
    "user_log_staying = user_log_staying.withColumn(\"sub_dwg\", sub_dwg(\"page\"))"
   ]
  },
  {
   "cell_type": "code",
   "execution_count": null,
   "metadata": {},
   "outputs": [],
   "source": [
    "user_log_cancelled.head()"
   ]
  },
  {
   "cell_type": "code",
   "execution_count": null,
   "metadata": {},
   "outputs": [],
   "source": [
    "user_log_staying.head()"
   ]
  },
  {
   "cell_type": "code",
   "execution_count": null,
   "metadata": {},
   "outputs": [],
   "source": [
    "downgrade_canc[0][0], downgrade_stay[0][0]"
   ]
  },
  {
   "cell_type": "code",
   "execution_count": null,
   "metadata": {},
   "outputs": [],
   "source": [
    "# Defining a pay_plan variable based on the Level page\n",
    "pay_plan = udf(lambda x: 1 if x == \"paid\" else 0, IntegerType())  \n",
    "\n",
    "user_log_cancelled = user_log_cancelled.withColumn(\"pay_plan\", pay_plan(\"level\"))\n",
    "user_log_staying = user_log_staying.withColumn(\"pay_plan\", pay_plan(\"level\"))"
   ]
  },
  {
   "cell_type": "code",
   "execution_count": null,
   "metadata": {},
   "outputs": [],
   "source": [
    "user_log_cancelled.head()"
   ]
  },
  {
   "cell_type": "code",
   "execution_count": null,
   "metadata": {},
   "outputs": [],
   "source": [
    "user_log_staying.head()"
   ]
  },
  {
   "cell_type": "code",
   "execution_count": null,
   "metadata": {},
   "outputs": [],
   "source": [
    "pay_plan_canc = user_log_cancelled.\\\n",
    "                groupBy(\"userId\").\\\n",
    "                agg(max(\"pay_plan\")).collect()"
   ]
  },
  {
   "cell_type": "code",
   "execution_count": null,
   "metadata": {},
   "outputs": [],
   "source": [
    "pay_plan_canc_list = [pay_plan_status[1] for pay_plan_status in pay_plan_canc]"
   ]
  },
  {
   "cell_type": "code",
   "execution_count": null,
   "metadata": {},
   "outputs": [],
   "source": [
    "pay_plan_stay = user_log_staying.\\\n",
    "                groupBy(\"userId\").\\\n",
    "                agg(max(\"pay_plan\")).collect()"
   ]
  },
  {
   "cell_type": "code",
   "execution_count": null,
   "metadata": {},
   "outputs": [],
   "source": [
    "pay_plan_stay_list = [pay_plan_status[1] for pay_plan_status in pay_plan_stay]"
   ]
  },
  {
   "cell_type": "code",
   "execution_count": null,
   "metadata": {},
   "outputs": [],
   "source": [
    "sum(pay_plan_canc_list), sum(pay_plan_stay_list)"
   ]
  },
  {
   "cell_type": "code",
   "execution_count": null,
   "metadata": {},
   "outputs": [],
   "source": [
    "downgrade_canc[0][0]/sum(pay_plan_canc_list), downgrade_stay[0][0]/sum(pay_plan_stay_list)"
   ]
  },
  {
   "cell_type": "code",
   "execution_count": null,
   "metadata": {},
   "outputs": [],
   "source": []
  },
  {
   "cell_type": "code",
   "execution_count": null,
   "metadata": {},
   "outputs": [],
   "source": []
  },
  {
   "cell_type": "code",
   "execution_count": null,
   "metadata": {
    "scrolled": false
   },
   "outputs": [],
   "source": [
    "# window = Window.partitionBy(\"userId\").rangeBetween(Window.unboundedPreceding, Window.unboundedFollowing)\n",
    "# user_log_valid_2 = user_log_valid.withColumn(\"Schurn\", Ssum(\"churn\").over(window))"
   ]
  },
  {
   "cell_type": "code",
   "execution_count": null,
   "metadata": {
    "scrolled": false
   },
   "outputs": [],
   "source": [
    "# user_log_valid_2.head()"
   ]
  },
  {
   "cell_type": "code",
   "execution_count": null,
   "metadata": {
    "scrolled": false
   },
   "outputs": [],
   "source": [
    "# user_log_valid_2.tail(5)"
   ]
  },
  {
   "cell_type": "code",
   "execution_count": null,
   "metadata": {},
   "outputs": [],
   "source": [
    "# df_user_log_staying_lweek.head()"
   ]
  },
  {
   "cell_type": "code",
   "execution_count": null,
   "metadata": {
    "scrolled": false
   },
   "outputs": [],
   "source": [
    "# Check what happens to the first userID leaving\n",
    "# user_stay_0_lifecycle = df_user_log_staying_lweek.select([\"userId\", \"firstname\", \"page\", \"level\", \"ts\", \"last_ts\", \\\n",
    "#                                                           \"registration\", \"first_ts\", \"perm_days\", \"data_days\"]).\\\n",
    "#     where(df_user_log_staying_lweek.userId == users_staying_lweek[0][0]).collect()"
   ]
  },
  {
   "cell_type": "code",
   "execution_count": null,
   "metadata": {},
   "outputs": [],
   "source": [
    "# len(user_stay_0_lifecycle)"
   ]
  },
  {
   "cell_type": "code",
   "execution_count": null,
   "metadata": {
    "scrolled": false
   },
   "outputs": [],
   "source": [
    "# # The beginning...\n",
    "# user_stay_0_lifecycle[:10]"
   ]
  },
  {
   "cell_type": "code",
   "execution_count": null,
   "metadata": {
    "scrolled": false
   },
   "outputs": [],
   "source": [
    "# # ... the end\n",
    "# user_stay_0_lifecycle[-10:]"
   ]
  },
  {
   "cell_type": "code",
   "execution_count": null,
   "metadata": {},
   "outputs": [],
   "source": [
    "# user_stay_0_lifecycle[0][4], user_stay_0_lifecycle[-1][4],  \\\n",
    "# (user_stay_0_lifecycle[-1][4] - user_stay_0_lifecycle[0][4])/(3600*24)"
   ]
  },
  {
   "cell_type": "code",
   "execution_count": null,
   "metadata": {
    "scrolled": false
   },
   "outputs": [],
   "source": [
    "# # Check what happens to the first userID leaving\n",
    "# user_stay_0_lifecycle_2 = df_user_log_staying.select([\"userId\", \"firstname\", \"page\", \"level\", \"ts\", \"last_ts\", \\\n",
    "#                                                           \"registration\", \"first_ts\", \"perm_days\", \"data_days\"]).\\\n",
    "#     where(df_user_log_staying.userId == users_staying_lweek[0][0]).collect()"
   ]
  },
  {
   "cell_type": "code",
   "execution_count": null,
   "metadata": {},
   "outputs": [],
   "source": [
    "# len(user_stay_0_lifecycle_2)"
   ]
  },
  {
   "cell_type": "code",
   "execution_count": null,
   "metadata": {
    "scrolled": false
   },
   "outputs": [],
   "source": [
    "# The beginning...\n",
    "# user_stay_0_lifecycle_2[:10]"
   ]
  },
  {
   "cell_type": "code",
   "execution_count": null,
   "metadata": {
    "scrolled": false
   },
   "outputs": [],
   "source": [
    "# ... the end\n",
    "# user_stay_0_lifecycle_2[-35:]"
   ]
  },
  {
   "cell_type": "code",
   "execution_count": null,
   "metadata": {},
   "outputs": [],
   "source": [
    "# user_stay_0_lifecycle_2[0][4], user_stay_0_lifecycle_2[-1][4],  \\\n",
    "# (user_stay_0_lifecycle_2[-1][4] - user_stay_0_lifecycle_2[0][4])/(3600*24)"
   ]
  },
  {
   "cell_type": "code",
   "execution_count": null,
   "metadata": {},
   "outputs": [],
   "source": [
    "# (1542818132.0 - 1541750940.0)/(3600*24)"
   ]
  },
  {
   "cell_type": "code",
   "execution_count": null,
   "metadata": {
    "scrolled": false
   },
   "outputs": [],
   "source": [
    "# # Select, for every user that stays, the number of songs they listened in the last week\n",
    "# delta_time_stay_lweek = df_user_log_staying_lweek.\\\n",
    "#                 filter(df_user_log_staying_lweek[\"song\"] != \"\").\\\n",
    "#                 groupBy(\"userId\").\\\n",
    "#                 agg(F.min(\"ts\"), F.max(\"ts\")).\\\n",
    "#                 collect()"
   ]
  },
  {
   "cell_type": "code",
   "execution_count": null,
   "metadata": {},
   "outputs": [],
   "source": [
    "# delta_t = [delta[2] - delta[1] for delta in delta_time_stay_lweek]"
   ]
  },
  {
   "cell_type": "code",
   "execution_count": null,
   "metadata": {},
   "outputs": [],
   "source": [
    "# min(delta_t), delta_t.index(min(delta_t))"
   ]
  },
  {
   "cell_type": "code",
   "execution_count": null,
   "metadata": {},
   "outputs": [],
   "source": [
    "# delta_t[22], delta_time_stay_lweek[22]"
   ]
  },
  {
   "cell_type": "code",
   "execution_count": null,
   "metadata": {},
   "outputs": [],
   "source": [
    "# # Check what happens to the first userID leaving\n",
    "# user_stay_0_lifecycle_2 = df_user_log_staying_lweek.select([\"userId\", \"firstname\", \"page\", \"level\", \"ts\", \"last_ts\", \\\n",
    "#                                                           \"registration\", \"first_ts\", \"perm_days\", \"data_days\",\"song\"]).\\\n",
    "#     where(df_user_log_staying_lweek.userId == '200010').collect()"
   ]
  },
  {
   "cell_type": "code",
   "execution_count": null,
   "metadata": {},
   "outputs": [],
   "source": [
    "# len(user_stay_0_lifecycle_2)"
   ]
  },
  {
   "cell_type": "code",
   "execution_count": null,
   "metadata": {},
   "outputs": [],
   "source": [
    "# user_stay_0_lifecycle_2"
   ]
  },
  {
   "cell_type": "code",
   "execution_count": null,
   "metadata": {
    "scrolled": false
   },
   "outputs": [],
   "source": []
  },
  {
   "cell_type": "markdown",
   "metadata": {},
   "source": [
    "# Feature Engineering\n",
    "Once you've familiarized yourself with the data, build out the features you find promising to train your model on. To work with the full dataset, you can follow the following steps.\n",
    "- Write a script to extract the necessary features from the smaller subset of data\n",
    "- Ensure that your script is scalable, using the best practices discussed in Lesson 3\n",
    "- Try your script on the full data set, debugging your script if necessary\n",
    "\n",
    "If you are working in the classroom workspace, you can just extract features based on the small subset of data contained here. Be sure to transfer over this work to the larger dataset when you work on your Spark cluster."
   ]
  },
  {
   "cell_type": "code",
   "execution_count": null,
   "metadata": {
    "scrolled": false
   },
   "outputs": [],
   "source": []
  },
  {
   "cell_type": "markdown",
   "metadata": {},
   "source": [
    "# Modeling\n",
    "Split the full dataset into train, test, and validation sets. Test out several of the machine learning methods you learned. Evaluate the accuracy of the various models, tuning parameters as necessary. Determine your winning model based on test accuracy and report results on the validation set. Since the churned users are a fairly small subset, I suggest using F1 score as the metric to optimize."
   ]
  },
  {
   "cell_type": "code",
   "execution_count": null,
   "metadata": {
    "scrolled": false
   },
   "outputs": [],
   "source": []
  },
  {
   "cell_type": "markdown",
   "metadata": {},
   "source": [
    "# Final Steps\n",
    "Clean up your code, adding comments and renaming variables to make the code easier to read and maintain. Refer to the Spark Project Overview page and Data Scientist Capstone Project Rubric to make sure you are including all components of the capstone project and meet all expectations. Remember, this includes thorough documentation in a README file in a Github repository, as well as a web app or blog post."
   ]
  },
  {
   "cell_type": "code",
   "execution_count": null,
   "metadata": {
    "scrolled": false
   },
   "outputs": [],
   "source": []
  }
 ],
 "metadata": {
  "kernelspec": {
   "display_name": "Python 3",
   "language": "python",
   "name": "python3"
  },
  "language_info": {
   "codemirror_mode": {
    "name": "ipython",
    "version": 3
   },
   "file_extension": ".py",
   "mimetype": "text/x-python",
   "name": "python",
   "nbconvert_exporter": "python",
   "pygments_lexer": "ipython3",
   "version": "3.6.2"
  }
 },
 "nbformat": 4,
 "nbformat_minor": 2
}
