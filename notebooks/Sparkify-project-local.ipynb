{
 "cells": [
  {
   "cell_type": "markdown",
   "metadata": {},
   "source": [
    "# Sparkify Project Workspace\n",
    "This workspace contains a tiny subset (128MB) of the full dataset available (12GB). Feel free to use this workspace to build your project, or to explore a smaller subset with Spark before deploying your cluster on the cloud. Instructions for setting up your Spark cluster is included in the last lesson of the Extracurricular Spark Course content.\n",
    "\n",
    "You can follow the steps below to guide your data analysis and model building portion of this project."
   ]
  },
  {
   "cell_type": "code",
   "execution_count": 1,
   "metadata": {},
   "outputs": [],
   "source": [
    "# Import libraries\n",
    "import pyspark\n",
    "from pyspark import SparkConf\n",
    "from pyspark.sql import SparkSession\n",
    "\n",
    "# from pyspark.sql.functions import avg, col, concat, desc, explode, lit, min, max, split, udf\n",
    "from pyspark.sql.functions import udf, min, max\n",
    "# from pyspark.sql.functions import sum as Ssum\n",
    "from pyspark.sql.types import IntegerType, FloatType\n",
    "# from pyspark.sql import Window\n",
    "\n",
    "from pyspark.ml import Pipeline\n",
    "from pyspark.ml.classification import LogisticRegression\n",
    "from pyspark.ml.evaluation import MulticlassClassificationEvaluator\n",
    "from pyspark.ml.feature import CountVectorizer, IDF, Normalizer, PCA, RegexTokenizer, StandardScaler, StopWordsRemover, StringIndexer, VectorAssembler\n",
    "from pyspark.ml.regression import LinearRegression\n",
    "from pyspark.ml.tuning import CrossValidator, ParamGridBuilder\n",
    "\n",
    "import re\n",
    "import numpy as np\n",
    "\n",
    "from datetime import datetime\n",
    "\n",
    "from matplotlib import pyplot as plt\n",
    "%matplotlib inline"
   ]
  },
  {
   "cell_type": "code",
   "execution_count": 2,
   "metadata": {},
   "outputs": [],
   "source": [
    "# Create a Spark session\n",
    "spark = SparkSession \\\n",
    "    .builder \\\n",
    "    .appName(\"Sparkify Project\") \\\n",
    "    .config(\"spark.driver.bindAddress\",\"localhost\")\\\n",
    "    .config(\"spark.ui.port\",\"4050\")\\\n",
    "    .getOrCreate()"
   ]
  },
  {
   "cell_type": "code",
   "execution_count": null,
   "metadata": {},
   "outputs": [],
   "source": [
    "# Check config\n",
    "# spark.sparkContext.getConf().getAll()"
   ]
  },
  {
   "cell_type": "code",
   "execution_count": null,
   "metadata": {},
   "outputs": [],
   "source": [
    "# Check session\n",
    "# spark"
   ]
  },
  {
   "cell_type": "markdown",
   "metadata": {},
   "source": [
    "# Load and Clean Dataset\n",
    "In this workspace, the mini-dataset file is `mini_sparkify_event_data.json`. Load and clean the dataset, checking for invalid or missing data - for example, records without userids or sessionids. "
   ]
  },
  {
   "cell_type": "code",
   "execution_count": 3,
   "metadata": {},
   "outputs": [],
   "source": [
    "# Load data\n",
    "# Mini dataset\n",
    "path = \"../data/mini_sparkify_event_data.json\"\n",
    "# Full dataset\n",
    "# path =\"s3n://udacity-dsnd/sparkify/sparkify_event_data.json\"\n",
    "user_log = spark.read.json(path)"
   ]
  },
  {
   "cell_type": "code",
   "execution_count": 4,
   "metadata": {},
   "outputs": [
    {
     "name": "stdout",
     "output_type": "stream",
     "text": [
      "root\n",
      " |-- artist: string (nullable = true)\n",
      " |-- auth: string (nullable = true)\n",
      " |-- firstName: string (nullable = true)\n",
      " |-- gender: string (nullable = true)\n",
      " |-- itemInSession: long (nullable = true)\n",
      " |-- lastName: string (nullable = true)\n",
      " |-- length: double (nullable = true)\n",
      " |-- level: string (nullable = true)\n",
      " |-- location: string (nullable = true)\n",
      " |-- method: string (nullable = true)\n",
      " |-- page: string (nullable = true)\n",
      " |-- registration: long (nullable = true)\n",
      " |-- sessionId: long (nullable = true)\n",
      " |-- song: string (nullable = true)\n",
      " |-- status: long (nullable = true)\n",
      " |-- ts: long (nullable = true)\n",
      " |-- userAgent: string (nullable = true)\n",
      " |-- userId: string (nullable = true)\n",
      "\n"
     ]
    }
   ],
   "source": [
    "# check schema\n",
    "user_log.printSchema()"
   ]
  },
  {
   "cell_type": "code",
   "execution_count": 5,
   "metadata": {},
   "outputs": [
    {
     "data": {
      "text/plain": [
       "DataFrame[summary: string, artist: string, auth: string, firstName: string, gender: string, itemInSession: string, lastName: string, length: string, level: string, location: string, method: string, page: string, registration: string, sessionId: string, song: string, status: string, ts: string, userAgent: string, userId: string]"
      ]
     },
     "execution_count": 5,
     "metadata": {},
     "output_type": "execute_result"
    }
   ],
   "source": [
    "# Describe\n",
    "user_log.describe()"
   ]
  },
  {
   "cell_type": "code",
   "execution_count": 6,
   "metadata": {},
   "outputs": [
    {
     "data": {
      "text/plain": [
       "Row(artist='Martha Tilston', auth='Logged In', firstName='Colin', gender='M', itemInSession=50, lastName='Freeman', length=277.89016, level='paid', location='Bakersfield, CA', method='PUT', page='NextSong', registration=1538173362000, sessionId=29, song='Rockpools', status=200, ts=1538352117000, userAgent='Mozilla/5.0 (Windows NT 6.1; WOW64; rv:31.0) Gecko/20100101 Firefox/31.0', userId='30')"
      ]
     },
     "execution_count": 6,
     "metadata": {},
     "output_type": "execute_result"
    }
   ],
   "source": [
    "# Show 1 row\n",
    "# user_log.show(n=1)\n",
    "user_log.head()"
   ]
  },
  {
   "cell_type": "code",
   "execution_count": 7,
   "metadata": {},
   "outputs": [
    {
     "data": {
      "text/plain": [
       "(286500, 18)"
      ]
     },
     "execution_count": 7,
     "metadata": {},
     "output_type": "execute_result"
    }
   ],
   "source": [
    "# Check num of rows, columns\n",
    "user_log.count(), len(user_log.columns)"
   ]
  },
  {
   "cell_type": "markdown",
   "metadata": {},
   "source": [
    "We can delete eventual NaN and missing users:"
   ]
  },
  {
   "cell_type": "code",
   "execution_count": 8,
   "metadata": {},
   "outputs": [],
   "source": [
    "# Drop NaN\n",
    "user_log_valid = user_log.dropna(how = \"any\", subset = [\"userId\", \"sessionId\"])\n",
    "# Drop empty users\n",
    "user_log_valid = user_log_valid.filter(user_log[\"userId\"] != \"\")"
   ]
  },
  {
   "cell_type": "code",
   "execution_count": 9,
   "metadata": {},
   "outputs": [
    {
     "data": {
      "text/plain": [
       "278154"
      ]
     },
     "execution_count": 9,
     "metadata": {},
     "output_type": "execute_result"
    }
   ],
   "source": [
    "user_log_valid.count()"
   ]
  },
  {
   "cell_type": "markdown",
   "metadata": {},
   "source": [
    "# Exploratory Data Analysis\n",
    "When you're working with the full dataset, perform EDA by loading a small subset of the data and doing basic manipulations within Spark. In this workspace, you are already provided a small subset of data you can explore.\n",
    "\n",
    "### Define Churn\n",
    "\n",
    "Once you've done some preliminary analysis, create a column `Churn` to use as the label for your model. I suggest using the `Cancellation Confirmation` events to define your churn, which happen for both paid and free users. As a bonus task, you can also look into the `Downgrade` events.\n",
    "\n",
    "### Explore Data\n",
    "Once you've defined churn, perform some exploratory data analysis to observe the behavior for users who stayed vs users who churned. You can start by exploring aggregates on these two groups of users, observing how much of a specific action they experienced per a certain time unit or number of songs played."
   ]
  },
  {
   "cell_type": "code",
   "execution_count": null,
   "metadata": {},
   "outputs": [],
   "source": [
    "# Check available levels\n",
    "# user_log.select(\"level\").dropDuplicates().show()"
   ]
  },
  {
   "cell_type": "code",
   "execution_count": 10,
   "metadata": {},
   "outputs": [
    {
     "name": "stdout",
     "output_type": "stream",
     "text": [
      "+--------------------+\n",
      "|                page|\n",
      "+--------------------+\n",
      "|               About|\n",
      "|          Add Friend|\n",
      "|     Add to Playlist|\n",
      "|              Cancel|\n",
      "|Cancellation Conf...|\n",
      "|           Downgrade|\n",
      "|               Error|\n",
      "|                Help|\n",
      "|                Home|\n",
      "|               Login|\n",
      "|              Logout|\n",
      "|            NextSong|\n",
      "|            Register|\n",
      "|         Roll Advert|\n",
      "|       Save Settings|\n",
      "|            Settings|\n",
      "|    Submit Downgrade|\n",
      "| Submit Registration|\n",
      "|      Submit Upgrade|\n",
      "|         Thumbs Down|\n",
      "+--------------------+\n",
      "only showing top 20 rows\n",
      "\n"
     ]
    }
   ],
   "source": [
    "# Check available pages\n",
    "user_log.select(\"page\").dropDuplicates().sort(\"page\").show()"
   ]
  },
  {
   "cell_type": "code",
   "execution_count": 11,
   "metadata": {},
   "outputs": [],
   "source": [
    "# Defining a churn variable based on the Cancellation Confirmation page\n",
    "cancellation = udf(lambda x: 1 if x == \"Cancellation Confirmation\" else 0, IntegerType())  \n",
    "user_log_valid = user_log_valid.withColumn(\"churn\", cancellation(\"page\"))"
   ]
  },
  {
   "cell_type": "code",
   "execution_count": 12,
   "metadata": {},
   "outputs": [
    {
     "data": {
      "text/plain": [
       "Row(artist='Martha Tilston', auth='Logged In', firstName='Colin', gender='M', itemInSession=50, lastName='Freeman', length=277.89016, level='paid', location='Bakersfield, CA', method='PUT', page='NextSong', registration=1538173362000, sessionId=29, song='Rockpools', status=200, ts=1538352117000, userAgent='Mozilla/5.0 (Windows NT 6.1; WOW64; rv:31.0) Gecko/20100101 Firefox/31.0', userId='30', churn=0)"
      ]
     },
     "execution_count": 12,
     "metadata": {},
     "output_type": "execute_result"
    }
   ],
   "source": [
    "user_log_valid.head()"
   ]
  },
  {
   "cell_type": "code",
   "execution_count": 13,
   "metadata": {},
   "outputs": [],
   "source": [
    "# Create a list of users that cancelled vs. users that stayed\n",
    "users_cancelled = user_log_valid.select([\"userId\"]).where(user_log_valid.churn == 1).dropDuplicates().collect()\n",
    "users_staying = user_log_valid.select([\"userId\"]).where(user_log_valid.churn == 0).dropDuplicates().collect()"
   ]
  },
  {
   "cell_type": "code",
   "execution_count": 14,
   "metadata": {},
   "outputs": [
    {
     "data": {
      "text/plain": [
       "(52, 225)"
      ]
     },
     "execution_count": 14,
     "metadata": {},
     "output_type": "execute_result"
    }
   ],
   "source": [
    "len(users_cancelled), len(users_staying)"
   ]
  },
  {
   "cell_type": "code",
   "execution_count": 15,
   "metadata": {},
   "outputs": [],
   "source": [
    "# Check what happens to the first userID leaving\n",
    "user_canc_0_lifecycle = user_log_valid.select([\"userId\", \"firstname\", \"page\", \"level\", \"ts\"]).\\\n",
    "    where(user_log_valid.userId == users_cancelled[0][0]).collect()"
   ]
  },
  {
   "cell_type": "code",
   "execution_count": 16,
   "metadata": {},
   "outputs": [
    {
     "data": {
      "text/plain": [
       "[Row(userId='125', firstname='Mason', page='NextSong', level='free', ts=1539317144000),\n",
       " Row(userId='125', firstname='Mason', page='NextSong', level='free', ts=1539317481000),\n",
       " Row(userId='125', firstname='Mason', page='NextSong', level='free', ts=1539317711000),\n",
       " Row(userId='125', firstname='Mason', page='NextSong', level='free', ts=1539317914000),\n",
       " Row(userId='125', firstname='Mason', page='NextSong', level='free', ts=1539318124000),\n",
       " Row(userId='125', firstname='Mason', page='NextSong', level='free', ts=1539318515000),\n",
       " Row(userId='125', firstname='Mason', page='NextSong', level='free', ts=1539318728000),\n",
       " Row(userId='125', firstname='Mason', page='NextSong', level='free', ts=1539318906000),\n",
       " Row(userId='125', firstname='Mason', page='Roll Advert', level='free', ts=1539318917000),\n",
       " Row(userId='125', firstname='Mason', page='Cancel', level='free', ts=1539318918000)]"
      ]
     },
     "execution_count": 16,
     "metadata": {},
     "output_type": "execute_result"
    }
   ],
   "source": [
    "# The beginning...\n",
    "user_canc_0_lifecycle[:10]"
   ]
  },
  {
   "cell_type": "code",
   "execution_count": 17,
   "metadata": {},
   "outputs": [
    {
     "data": {
      "text/plain": [
       "[Row(userId='125', firstname='Mason', page='NextSong', level='free', ts=1539317481000),\n",
       " Row(userId='125', firstname='Mason', page='NextSong', level='free', ts=1539317711000),\n",
       " Row(userId='125', firstname='Mason', page='NextSong', level='free', ts=1539317914000),\n",
       " Row(userId='125', firstname='Mason', page='NextSong', level='free', ts=1539318124000),\n",
       " Row(userId='125', firstname='Mason', page='NextSong', level='free', ts=1539318515000),\n",
       " Row(userId='125', firstname='Mason', page='NextSong', level='free', ts=1539318728000),\n",
       " Row(userId='125', firstname='Mason', page='NextSong', level='free', ts=1539318906000),\n",
       " Row(userId='125', firstname='Mason', page='Roll Advert', level='free', ts=1539318917000),\n",
       " Row(userId='125', firstname='Mason', page='Cancel', level='free', ts=1539318918000),\n",
       " Row(userId='125', firstname='Mason', page='Cancellation Confirmation', level='free', ts=1539318918000)]"
      ]
     },
     "execution_count": 17,
     "metadata": {},
     "output_type": "execute_result"
    }
   ],
   "source": [
    "# ... the end\n",
    "user_canc_0_lifecycle[-10:]"
   ]
  },
  {
   "cell_type": "markdown",
   "metadata": {},
   "source": [
    "As a variable of interest we can consider the amount of time spent with the service:"
   ]
  },
  {
   "cell_type": "code",
   "execution_count": 18,
   "metadata": {},
   "outputs": [
    {
     "name": "stdout",
     "output_type": "stream",
     "text": [
      "Example of a user leaving the service:\n",
      "Date when joining:  2018-10-12 06:05:44\n",
      "Date when leaving:  2018-10-12 06:35:18\n",
      "Interval in days:  0.021\n"
     ]
    }
   ],
   "source": [
    "# How much time did he/she spend with the service:\n",
    "print('Example of a user leaving the service:')\n",
    "print('Date when joining: ', datetime.fromtimestamp(user_canc_0_lifecycle[0][4]/1000))\n",
    "print('Date when leaving: ', datetime.fromtimestamp(user_canc_0_lifecycle[-1][4]/1000))\n",
    "      \n",
    "# Quantify that time in days...\n",
    "print('Interval in days: ', '{:.3f}'.format((user_canc_0_lifecycle[-1][4]/1000 - user_canc_0_lifecycle[0][4]/1000)\\\n",
    "                                            /(3600*24)))"
   ]
  },
  {
   "cell_type": "markdown",
   "metadata": {},
   "source": [
    "We can take a look at the same metric for a user that stayed with the service:"
   ]
  },
  {
   "cell_type": "code",
   "execution_count": 19,
   "metadata": {},
   "outputs": [
    {
     "name": "stdout",
     "output_type": "stream",
     "text": [
      "Example of a user staying with the service:\n",
      "Date when joining:  2018-10-08 14:58:54\n",
      "Last date recorded:  2018-11-21 19:12:32\n",
      "Interval in days:  44.218\n"
     ]
    }
   ],
   "source": [
    "# First userID staying\n",
    "user_stay_0_lifecycle = user_log_valid.select([\"userId\", \"firstname\", \"page\", \"level\", \"ts\"]).\\\n",
    "    where(user_log_valid.userId == users_staying[0][0]).collect()\n",
    "\n",
    "# How much time did he/she spend with the service:\n",
    "print('Example of a user staying with the service:')\n",
    "print('Date when joining: ', datetime.fromtimestamp(user_stay_0_lifecycle[0][4]/1000))\n",
    "print('Last date recorded: ', datetime.fromtimestamp(user_stay_0_lifecycle[-1][4]/1000))\n",
    "      \n",
    "# Quantify that time in days...\n",
    "print('Interval in days: ', '{:.3f}'.format((user_stay_0_lifecycle[-1][4]/1000 - user_stay_0_lifecycle[0][4]/1000)\\\n",
    "                                            /(3600*24)))"
   ]
  },
  {
   "cell_type": "markdown",
   "metadata": {},
   "source": [
    "So we see a difference - is it consistent?"
   ]
  },
  {
   "cell_type": "code",
   "execution_count": 20,
   "metadata": {},
   "outputs": [],
   "source": [
    "# Select a subset of the dataframe with the users that left\n",
    "users_cancelled_list = [us_c[0] for us_c in users_cancelled]\n",
    "user_log_cancelled = user_log_valid.filter(user_log_valid.userId.isin(users_cancelled_list))"
   ]
  },
  {
   "cell_type": "code",
   "execution_count": 21,
   "metadata": {},
   "outputs": [],
   "source": [
    "# Select a subset of the dataframe with the users that stayed\n",
    "users_staying_list = [us_s[0] for us_s in users_staying]\n",
    "user_log_stayed = user_log_valid.filter(user_log_valid.userId.isin(users_staying_list))"
   ]
  },
  {
   "cell_type": "code",
   "execution_count": 22,
   "metadata": {},
   "outputs": [
    {
     "data": {
      "text/plain": [
       "(44864, 278154)"
      ]
     },
     "execution_count": 22,
     "metadata": {},
     "output_type": "execute_result"
    }
   ],
   "source": [
    "# Check dta frames sizes\n",
    "user_log_cancelled.count(), user_log_stayed.count()"
   ]
  },
  {
   "cell_type": "code",
   "execution_count": 35,
   "metadata": {},
   "outputs": [],
   "source": [
    "# Check how much time (in days) was spent by the users that cancelled\n",
    "# Collect time intervals\n",
    "time_int_canc = user_log_cancelled.groupBy(\"userId\").agg(min(\"ts\"), max(\"ts\")).collect()\n",
    "# Get the difference\n",
    "delta_time_cancelled = [(time_int[2]/1000 - time_int[1]/1000)/(3600*24) for time_int in time_int_canc]"
   ]
  },
  {
   "cell_type": "code",
   "execution_count": 36,
   "metadata": {
    "scrolled": true
   },
   "outputs": [
    {
     "data": {
      "image/png": "[encoded data removed]",
      "text/plain": [
       "<Figure size 504x288 with 1 Axes>"
      ]
     },
     "metadata": {
      "needs_background": "light"
     },
     "output_type": "display_data"
    }
   ],
   "source": [
    "# Plot histogram\n",
    "fig = plt.figure(figsize=(7, 4))\n",
    "fig.suptitle('Distribution of time spent for users that stay', fontsize=12, fontweight='bold')\n",
    "\n",
    "plt.hist(delta_time_cancelled, bins=50);\n",
    "plt.xlabel('# of days spent with the service', fontsize=11)\n",
    "plt.ylabel('# of users', fontsize=11);"
   ]
  },
  {
   "cell_type": "code",
   "execution_count": 37,
   "metadata": {},
   "outputs": [
    {
     "name": "stdout",
     "output_type": "stream",
     "text": [
      "Statistics for time spent with the service for users that stayed:\n",
      "+-------+------------------+\n",
      "|summary|             value|\n",
      "+-------+------------------+\n",
      "|  count|                52|\n",
      "|   mean|23.514647929356077|\n",
      "| stddev|16.684212433229213|\n",
      "|    min|       0.020532407|\n",
      "|    max|         58.177155|\n",
      "+-------+------------------+\n",
      "\n"
     ]
    }
   ],
   "source": [
    "# Look at the statistics\n",
    "print('Statistics for time spent with the service for users that stayed:')\n",
    "spark.createDataFrame(delta_time_cancelled, FloatType()).describe().show()"
   ]
  },
  {
   "cell_type": "code",
   "execution_count": 29,
   "metadata": {},
   "outputs": [],
   "source": [
    "# Check how much time (in days) was spent by the users that stayed\n",
    "# Collect time intervals\n",
    "time_int_stay = user_log_stayed.groupBy(\"userId\").agg(min(\"ts\"), max(\"ts\")).collect()\n",
    "# Get the difference\n",
    "delta_time_staying = [(time_int[2]/1000 - time_int[1]/1000)/(3600*24) for time_int in time_int_stay]"
   ]
  },
  {
   "cell_type": "code",
   "execution_count": 30,
   "metadata": {
    "scrolled": true
   },
   "outputs": [
    {
     "data": {
      "image/png": "[encoded data removed]",
      "text/plain": [
       "<Figure size 504x288 with 1 Axes>"
      ]
     },
     "metadata": {
      "needs_background": "light"
     },
     "output_type": "display_data"
    }
   ],
   "source": [
    "# Plot histogram\n",
    "fig = plt.figure(figsize=(7, 4))\n",
    "fig.suptitle('Distribution of time spent for users that stay', fontsize=12, fontweight='bold')\n",
    "\n",
    "plt.hist(delta_time_staying, bins=50);\n",
    "plt.xlabel('# of days spent with the service', fontsize=11)\n",
    "plt.ylabel('# of users', fontsize=11);"
   ]
  },
  {
   "cell_type": "code",
   "execution_count": 31,
   "metadata": {},
   "outputs": [
    {
     "name": "stdout",
     "output_type": "stream",
     "text": [
      "Statistics for time spent with the service for users that stayed:\n",
      "+-------+------------------+\n",
      "|summary|             value|\n",
      "+-------+------------------+\n",
      "|  count|               225|\n",
      "|   mean|41.565256722782635|\n",
      "| stddev| 19.01386569565174|\n",
      "|    min|      0.0048611113|\n",
      "|    max|          60.99772|\n",
      "+-------+------------------+\n",
      "\n"
     ]
    }
   ],
   "source": [
    "# Look at the statistics\n",
    "print('Statistics for time spent with the service for users that stayed:')\n",
    "spark.createDataFrame(delta_time_staying, FloatType()).describe().show()"
   ]
  },
  {
   "cell_type": "markdown",
   "metadata": {},
   "source": [
    "What about the # of songs they have listened?"
   ]
  },
  {
   "cell_type": "code",
   "execution_count": null,
   "metadata": {},
   "outputs": [],
   "source": [
    "user_canc_0_songs = user_log_valid.select([\"userId\", \"song\"]).\\\n",
    "    where((user_log_valid.userId == users_cancelled[0][0]) & (user_log_valid.song != \"\")).\\\n",
    "    dropDuplicates().collect()"
   ]
  },
  {
   "cell_type": "code",
   "execution_count": null,
   "metadata": {},
   "outputs": [],
   "source": [
    "len(user_canc_0_songs)"
   ]
  },
  {
   "cell_type": "code",
   "execution_count": null,
   "metadata": {},
   "outputs": [],
   "source": [
    "user_stay_0_songs = user_log_valid.select([\"userId\", \"song\"]).\\\n",
    "    where((user_log_valid.userId == users_staying[0][0]) & (user_log_valid.song != \"\")).\\\n",
    "    dropDuplicates().collect()"
   ]
  },
  {
   "cell_type": "code",
   "execution_count": null,
   "metadata": {},
   "outputs": [],
   "source": [
    "len(user_stay_0_songs)"
   ]
  },
  {
   "cell_type": "markdown",
   "metadata": {},
   "source": [
    "We can collect this info all for the users.\n",
    "In order o make it meaningful it will be better to actually see the average number per day, i.e. tha ratio between the number of songs listened and the time of permanence. "
   ]
  },
  {
   "cell_type": "code",
   "execution_count": null,
   "metadata": {},
   "outputs": [],
   "source": [
    "# Check how many songs were listened by the users that left\n",
    "songs_cancelled = []\n",
    "for i in range(len(users_cancelled_list)):\n",
    "    user_songs = user_log_cancelled.select([\"userId\", \"song\"]).\\\n",
    "    where((user_log_cancelled.userId == users_cancelled_list[i]) & (user_log_cancelled.song != \"\")).\\\n",
    "    dropDuplicates().collect()\n",
    "    songs_cancelled.append(len(user_songs)/delta_time_cancelled[i])"
   ]
  },
  {
   "cell_type": "code",
   "execution_count": null,
   "metadata": {},
   "outputs": [],
   "source": [
    "# Plot histogram\n",
    "fig = plt.figure(figsize=(7, 4))\n",
    "fig.suptitle('Distribution of songs listened/day for users that cancelled', fontsize=12, fontweight='bold')\n",
    "\n",
    "plt.hist(songs_cancelled, bins=50);\n",
    "plt.xlabel('# of songs/day', fontsize=11)\n",
    "plt.ylabel('# of users', fontsize=11);"
   ]
  },
  {
   "cell_type": "code",
   "execution_count": null,
   "metadata": {},
   "outputs": [],
   "source": [
    "# Look at the statistics\n",
    "print('Statistics for songs/day for users that cancelled:')\n",
    "spark.createDataFrame(songs_cancelled, FloatType()).describe().show()"
   ]
  },
  {
   "cell_type": "code",
   "execution_count": null,
   "metadata": {},
   "outputs": [],
   "source": [
    "spark.createDataFrame(songs_cancelled, FloatType()).approxQuantile(\"value\", [0.25, 0.5, 0.75], 0.25)"
   ]
  },
  {
   "cell_type": "code",
   "execution_count": null,
   "metadata": {},
   "outputs": [],
   "source": [
    "time_int_stay = user_log_stayed.groupBy(\"userId\").agg(min(\"ts\"), max(\"ts\")).collect()"
   ]
  },
  {
   "cell_type": "code",
   "execution_count": null,
   "metadata": {},
   "outputs": [],
   "source": [
    "time_int_stay[0][2] - time_int_stay[0][1]"
   ]
  },
  {
   "cell_type": "code",
   "execution_count": null,
   "metadata": {},
   "outputs": [],
   "source": []
  },
  {
   "cell_type": "code",
   "execution_count": null,
   "metadata": {},
   "outputs": [],
   "source": [
    "# Check how many songs were listened by the users that stay\n",
    "songs_staying = []\n",
    "for i in range(len(users_staying_list)):\n",
    "    user_songs = user_log_stayed.select([\"userId\", \"song\"]).\\\n",
    "    where((user_log_stayed.userId == users_staying_list[i]) & (user_log_stayed.song != \"\")).\\\n",
    "    dropDuplicates().collect()\n",
    "    songs_staying.append(len(user_songs)/delta_time_staying[i])"
   ]
  },
  {
   "cell_type": "code",
   "execution_count": null,
   "metadata": {},
   "outputs": [],
   "source": [
    "# Plot histogram\n",
    "fig = plt.figure(figsize=(7, 4))\n",
    "fig.suptitle('Distribution of songs listened/day for users that stay', fontsize=12, fontweight='bold')\n",
    "\n",
    "plt.hist(songs_staying, bins=50);\n",
    "plt.xlabel('# of songs/day', fontsize=11)\n",
    "plt.ylabel('# of users', fontsize=11);"
   ]
  },
  {
   "cell_type": "code",
   "execution_count": null,
   "metadata": {},
   "outputs": [],
   "source": [
    "# Look at the statistics\n",
    "print('Statistics for songs/day for users that stay:')\n",
    "spark.createDataFrame(songs_staying, FloatType()).describe().show()"
   ]
  },
  {
   "cell_type": "code",
   "execution_count": null,
   "metadata": {},
   "outputs": [],
   "source": [
    "spark.createDataFrame(songs_staying, FloatType()).approxQuantile(\"value\", [0.25, 0.5, 0.75], 0.25)"
   ]
  },
  {
   "cell_type": "code",
   "execution_count": null,
   "metadata": {},
   "outputs": [],
   "source": []
  },
  {
   "cell_type": "code",
   "execution_count": null,
   "metadata": {},
   "outputs": [],
   "source": []
  },
  {
   "cell_type": "code",
   "execution_count": null,
   "metadata": {},
   "outputs": [],
   "source": [
    "from operator import truediv\n",
    "\n",
    "song_per_day_cancelled = list(map(truediv, songs_cancelled, delta_time_cancelled))\n",
    "song_per_day_staying = list(map(truediv, songs_staying, delta_time_staying))"
   ]
  },
  {
   "cell_type": "code",
   "execution_count": null,
   "metadata": {},
   "outputs": [],
   "source": [
    "fig = plt.figure(figsize=(7, 4))\n",
    "plt.hist(song_per_day_cancelled, bins=50);"
   ]
  },
  {
   "cell_type": "code",
   "execution_count": null,
   "metadata": {},
   "outputs": [],
   "source": [
    "fig = plt.figure(figsize=(7, 4))\n",
    "plt.hist(song_per_day_staying, bins=50);"
   ]
  },
  {
   "cell_type": "code",
   "execution_count": null,
   "metadata": {},
   "outputs": [],
   "source": [
    "# window = Window.partitionBy(\"userId\").rangeBetween(Window.unboundedPreceding, Window.unboundedFollowing)\n",
    "# user_log_valid_2 = user_log_valid.withColumn(\"Schurn\", Ssum(\"churn\").over(window))"
   ]
  },
  {
   "cell_type": "code",
   "execution_count": null,
   "metadata": {},
   "outputs": [],
   "source": []
  },
  {
   "cell_type": "code",
   "execution_count": null,
   "metadata": {},
   "outputs": [],
   "source": [
    "# user_log_valid_2.head()"
   ]
  },
  {
   "cell_type": "code",
   "execution_count": null,
   "metadata": {},
   "outputs": [],
   "source": [
    "# user_log_valid_2.tail(5)"
   ]
  },
  {
   "cell_type": "code",
   "execution_count": null,
   "metadata": {},
   "outputs": [],
   "source": []
  },
  {
   "cell_type": "markdown",
   "metadata": {},
   "source": [
    "# Feature Engineering\n",
    "Once you've familiarized yourself with the data, build out the features you find promising to train your model on. To work with the full dataset, you can follow the following steps.\n",
    "- Write a script to extract the necessary features from the smaller subset of data\n",
    "- Ensure that your script is scalable, using the best practices discussed in Lesson 3\n",
    "- Try your script on the full data set, debugging your script if necessary\n",
    "\n",
    "If you are working in the classroom workspace, you can just extract features based on the small subset of data contained here. Be sure to transfer over this work to the larger dataset when you work on your Spark cluster."
   ]
  },
  {
   "cell_type": "code",
   "execution_count": null,
   "metadata": {},
   "outputs": [],
   "source": []
  },
  {
   "cell_type": "markdown",
   "metadata": {},
   "source": [
    "# Modeling\n",
    "Split the full dataset into train, test, and validation sets. Test out several of the machine learning methods you learned. Evaluate the accuracy of the various models, tuning parameters as necessary. Determine your winning model based on test accuracy and report results on the validation set. Since the churned users are a fairly small subset, I suggest using F1 score as the metric to optimize."
   ]
  },
  {
   "cell_type": "code",
   "execution_count": null,
   "metadata": {},
   "outputs": [],
   "source": []
  },
  {
   "cell_type": "markdown",
   "metadata": {},
   "source": [
    "# Final Steps\n",
    "Clean up your code, adding comments and renaming variables to make the code easier to read and maintain. Refer to the Spark Project Overview page and Data Scientist Capstone Project Rubric to make sure you are including all components of the capstone project and meet all expectations. Remember, this includes thorough documentation in a README file in a Github repository, as well as a web app or blog post."
   ]
  },
  {
   "cell_type": "code",
   "execution_count": null,
   "metadata": {},
   "outputs": [],
   "source": []
  }
 ],
 "metadata": {
  "kernelspec": {
   "display_name": "Python 3",
   "language": "python",
   "name": "python3"
  },
  "language_info": {
   "codemirror_mode": {
    "name": "ipython",
    "version": 3
   },
   "file_extension": ".py",
   "mimetype": "text/x-python",
   "name": "python",
   "nbconvert_exporter": "python",
   "pygments_lexer": "ipython3",
   "version": "3.6.2"
  }
 },
 "nbformat": 4,
 "nbformat_minor": 2
}
