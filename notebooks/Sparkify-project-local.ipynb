{
 "cells": [
  {
   "cell_type": "markdown",
   "metadata": {},
   "source": [
    "# Sparkify Project Workspace\n",
    "This workspace contains a tiny subset (128MB) of the full dataset available (12GB). Feel free to use this workspace to build your project, or to explore a smaller subset with Spark before deploying your cluster on the cloud. Instructions for setting up your Spark cluster is included in the last lesson of the Extracurricular Spark Course content.\n",
    "\n",
    "You can follow the steps below to guide your data analysis and model building portion of this project."
   ]
  },
  {
   "cell_type": "code",
   "execution_count": 1,
   "metadata": {
    "scrolled": false
   },
   "outputs": [],
   "source": [
    "# Import libraries\n",
    "import pyspark\n",
    "from pyspark import SparkConf\n",
    "from pyspark.sql import SparkSession\n",
    "\n",
    "# from pyspark.sql.functions import avg, col, concat, desc, explode, lit, min, max, split, udf\n",
    "from pyspark.sql.functions import udf, min, max, countDistinct\n",
    "from pyspark.sql.functions import sum as Ssum\n",
    "from pyspark.sql.types import IntegerType, FloatType\n",
    "# from pyspark.sql import Window\n",
    "\n",
    "from pyspark.ml import Pipeline\n",
    "from pyspark.ml.classification import LogisticRegression\n",
    "from pyspark.ml.evaluation import MulticlassClassificationEvaluator\n",
    "from pyspark.ml.feature import CountVectorizer, IDF, Normalizer, PCA, RegexTokenizer, StandardScaler, StopWordsRemover, StringIndexer, VectorAssembler\n",
    "from pyspark.ml.regression import LinearRegression\n",
    "from pyspark.ml.tuning import CrossValidator, ParamGridBuilder\n",
    "\n",
    "import re\n",
    "import numpy as np\n",
    "\n",
    "from datetime import datetime\n",
    "\n",
    "from matplotlib import pyplot as plt\n",
    "%matplotlib inline"
   ]
  },
  {
   "cell_type": "code",
   "execution_count": 2,
   "metadata": {
    "scrolled": false
   },
   "outputs": [],
   "source": [
    "# Create a Spark session\n",
    "spark = SparkSession \\\n",
    "    .builder \\\n",
    "    .appName(\"Sparkify Project\") \\\n",
    "    .config(\"spark.driver.bindAddress\",\"localhost\")\\\n",
    "    .config(\"spark.ui.port\",\"4050\")\\\n",
    "    .getOrCreate()"
   ]
  },
  {
   "cell_type": "code",
   "execution_count": null,
   "metadata": {
    "scrolled": false
   },
   "outputs": [],
   "source": [
    "# Check config\n",
    "# spark.sparkContext.getConf().getAll()"
   ]
  },
  {
   "cell_type": "code",
   "execution_count": null,
   "metadata": {
    "scrolled": false
   },
   "outputs": [],
   "source": [
    "# Check session\n",
    "# spark"
   ]
  },
  {
   "cell_type": "markdown",
   "metadata": {},
   "source": [
    "# Load and Clean Dataset\n",
    "In this workspace, the mini-dataset file is `mini_sparkify_event_data.json`. Load and clean the dataset, checking for invalid or missing data - for example, records without userids or sessionids. "
   ]
  },
  {
   "cell_type": "code",
   "execution_count": 3,
   "metadata": {
    "scrolled": false
   },
   "outputs": [],
   "source": [
    "# Load data\n",
    "# Mini dataset\n",
    "path = \"../data/mini_sparkify_event_data.json\"\n",
    "# Full dataset\n",
    "# path =\"s3n://udacity-dsnd/sparkify/sparkify_event_data.json\"\n",
    "user_log = spark.read.json(path)"
   ]
  },
  {
   "cell_type": "code",
   "execution_count": 4,
   "metadata": {
    "scrolled": false
   },
   "outputs": [
    {
     "name": "stdout",
     "output_type": "stream",
     "text": [
      "root\n",
      " |-- artist: string (nullable = true)\n",
      " |-- auth: string (nullable = true)\n",
      " |-- firstName: string (nullable = true)\n",
      " |-- gender: string (nullable = true)\n",
      " |-- itemInSession: long (nullable = true)\n",
      " |-- lastName: string (nullable = true)\n",
      " |-- length: double (nullable = true)\n",
      " |-- level: string (nullable = true)\n",
      " |-- location: string (nullable = true)\n",
      " |-- method: string (nullable = true)\n",
      " |-- page: string (nullable = true)\n",
      " |-- registration: long (nullable = true)\n",
      " |-- sessionId: long (nullable = true)\n",
      " |-- song: string (nullable = true)\n",
      " |-- status: long (nullable = true)\n",
      " |-- ts: long (nullable = true)\n",
      " |-- userAgent: string (nullable = true)\n",
      " |-- userId: string (nullable = true)\n",
      "\n"
     ]
    }
   ],
   "source": [
    "# check schema\n",
    "user_log.printSchema()"
   ]
  },
  {
   "cell_type": "code",
   "execution_count": 5,
   "metadata": {
    "scrolled": false
   },
   "outputs": [],
   "source": [
    "# Describe\n",
    "# user_log.describe()"
   ]
  },
  {
   "cell_type": "code",
   "execution_count": 6,
   "metadata": {
    "scrolled": false
   },
   "outputs": [
    {
     "data": {
      "text/plain": [
       "Row(artist='Martha Tilston', auth='Logged In', firstName='Colin', gender='M', itemInSession=50, lastName='Freeman', length=277.89016, level='paid', location='Bakersfield, CA', method='PUT', page='NextSong', registration=1538173362000, sessionId=29, song='Rockpools', status=200, ts=1538352117000, userAgent='Mozilla/5.0 (Windows NT 6.1; WOW64; rv:31.0) Gecko/20100101 Firefox/31.0', userId='30')"
      ]
     },
     "execution_count": 6,
     "metadata": {},
     "output_type": "execute_result"
    }
   ],
   "source": [
    "# Show 1 row\n",
    "# user_log.show(n=1)\n",
    "user_log.head()"
   ]
  },
  {
   "cell_type": "code",
   "execution_count": 7,
   "metadata": {
    "scrolled": false
   },
   "outputs": [
    {
     "data": {
      "text/plain": [
       "(286500, 18)"
      ]
     },
     "execution_count": 7,
     "metadata": {},
     "output_type": "execute_result"
    }
   ],
   "source": [
    "# Check num of rows, columns\n",
    "user_log.count(), len(user_log.columns)"
   ]
  },
  {
   "cell_type": "markdown",
   "metadata": {},
   "source": [
    "We can delete eventual NaN and missing users:"
   ]
  },
  {
   "cell_type": "code",
   "execution_count": 8,
   "metadata": {
    "scrolled": false
   },
   "outputs": [],
   "source": [
    "# Drop NaN\n",
    "user_log_valid = user_log.dropna(how = \"any\", subset = [\"userId\", \"sessionId\"])\n",
    "# Drop empty users\n",
    "user_log_valid = user_log_valid.filter(user_log[\"userId\"] != \"\")"
   ]
  },
  {
   "cell_type": "code",
   "execution_count": 9,
   "metadata": {
    "scrolled": false
   },
   "outputs": [
    {
     "data": {
      "text/plain": [
       "278154"
      ]
     },
     "execution_count": 9,
     "metadata": {},
     "output_type": "execute_result"
    }
   ],
   "source": [
    "user_log_valid.count()"
   ]
  },
  {
   "cell_type": "markdown",
   "metadata": {},
   "source": [
    "# Exploratory Data Analysis\n",
    "When you're working with the full dataset, perform EDA by loading a small subset of the data and doing basic manipulations within Spark. In this workspace, you are already provided a small subset of data you can explore.\n",
    "\n",
    "### Define Churn\n",
    "\n",
    "Once you've done some preliminary analysis, create a column `Churn` to use as the label for your model. I suggest using the `Cancellation Confirmation` events to define your churn, which happen for both paid and free users. As a bonus task, you can also look into the `Downgrade` events.\n",
    "\n",
    "### Explore Data\n",
    "Once you've defined churn, perform some exploratory data analysis to observe the behavior for users who stayed vs users who churned. You can start by exploring aggregates on these two groups of users, observing how much of a specific action they experienced per a certain time unit or number of songs played."
   ]
  },
  {
   "cell_type": "code",
   "execution_count": null,
   "metadata": {
    "scrolled": false
   },
   "outputs": [],
   "source": [
    "# Check available levels\n",
    "# user_log.select(\"level\").dropDuplicates().show()"
   ]
  },
  {
   "cell_type": "code",
   "execution_count": 10,
   "metadata": {
    "scrolled": false
   },
   "outputs": [
    {
     "name": "stdout",
     "output_type": "stream",
     "text": [
      "+--------------------+\n",
      "|                page|\n",
      "+--------------------+\n",
      "|               About|\n",
      "|          Add Friend|\n",
      "|     Add to Playlist|\n",
      "|              Cancel|\n",
      "|Cancellation Conf...|\n",
      "|           Downgrade|\n",
      "|               Error|\n",
      "|                Help|\n",
      "|                Home|\n",
      "|               Login|\n",
      "|              Logout|\n",
      "|            NextSong|\n",
      "|            Register|\n",
      "|         Roll Advert|\n",
      "|       Save Settings|\n",
      "|            Settings|\n",
      "|    Submit Downgrade|\n",
      "| Submit Registration|\n",
      "|      Submit Upgrade|\n",
      "|         Thumbs Down|\n",
      "+--------------------+\n",
      "only showing top 20 rows\n",
      "\n"
     ]
    }
   ],
   "source": [
    "# Check available pages\n",
    "user_log.select(\"page\").dropDuplicates().sort(\"page\").show()"
   ]
  },
  {
   "cell_type": "code",
   "execution_count": 11,
   "metadata": {
    "scrolled": false
   },
   "outputs": [],
   "source": [
    "# Defining a churn variable based on the Cancellation Confirmation page\n",
    "cancellation = udf(lambda x: 1 if x == \"Cancellation Confirmation\" else 0, IntegerType())  \n",
    "user_log_valid = user_log_valid.withColumn(\"churn\", cancellation(\"page\"))"
   ]
  },
  {
   "cell_type": "code",
   "execution_count": 12,
   "metadata": {
    "scrolled": false
   },
   "outputs": [
    {
     "data": {
      "text/plain": [
       "Row(artist='Martha Tilston', auth='Logged In', firstName='Colin', gender='M', itemInSession=50, lastName='Freeman', length=277.89016, level='paid', location='Bakersfield, CA', method='PUT', page='NextSong', registration=1538173362000, sessionId=29, song='Rockpools', status=200, ts=1538352117000, userAgent='Mozilla/5.0 (Windows NT 6.1; WOW64; rv:31.0) Gecko/20100101 Firefox/31.0', userId='30', churn=0)"
      ]
     },
     "execution_count": 12,
     "metadata": {},
     "output_type": "execute_result"
    }
   ],
   "source": [
    "user_log_valid.head()"
   ]
  },
  {
   "cell_type": "code",
   "execution_count": 13,
   "metadata": {
    "scrolled": false
   },
   "outputs": [],
   "source": [
    "# Create a list of users that cancelled vs. users that stayed\n",
    "users_cancelled = user_log_valid.select([\"userId\"]).where(user_log_valid.churn == 1).dropDuplicates().collect()\n",
    "users_staying = user_log_valid.select([\"userId\"]).where(user_log_valid.churn == 0).dropDuplicates().collect()"
   ]
  },
  {
   "cell_type": "code",
   "execution_count": 14,
   "metadata": {
    "scrolled": false
   },
   "outputs": [
    {
     "data": {
      "text/plain": [
       "(52, 225)"
      ]
     },
     "execution_count": 14,
     "metadata": {},
     "output_type": "execute_result"
    }
   ],
   "source": [
    "len(users_cancelled), len(users_staying)"
   ]
  },
  {
   "cell_type": "code",
   "execution_count": null,
   "metadata": {
    "scrolled": false
   },
   "outputs": [],
   "source": [
    "# Check what happens to the first userID leaving\n",
    "# user_canc_0_lifecycle = user_log_valid.select([\"userId\", \"firstname\", \"page\", \"level\", \"ts\"]).\\\n",
    "#     where(user_log_valid.userId == users_cancelled[0][0]).collect()"
   ]
  },
  {
   "cell_type": "code",
   "execution_count": null,
   "metadata": {
    "scrolled": false
   },
   "outputs": [],
   "source": [
    "# The beginning...\n",
    "# user_canc_0_lifecycle[:10]"
   ]
  },
  {
   "cell_type": "code",
   "execution_count": null,
   "metadata": {
    "scrolled": false
   },
   "outputs": [],
   "source": [
    "# ... the end\n",
    "# user_canc_0_lifecycle[-10:]"
   ]
  },
  {
   "cell_type": "markdown",
   "metadata": {},
   "source": [
    "As a variable of interest we can consider the amount of time spent with the service:"
   ]
  },
  {
   "cell_type": "code",
   "execution_count": null,
   "metadata": {
    "scrolled": false
   },
   "outputs": [],
   "source": [
    "# How much time did he/she spend with the service:\n",
    "# print('Example of a user leaving the service:')\n",
    "# print('Date when joining: ', datetime.fromtimestamp(user_canc_0_lifecycle[0][4]/1000))\n",
    "# print('Date when leaving: ', datetime.fromtimestamp(user_canc_0_lifecycle[-1][4]/1000))\n",
    "      \n",
    "# # Quantify that time in days...\n",
    "# print('Interval in days: ', '{:.3f}'.format((user_canc_0_lifecycle[-1][4]/1000 - user_canc_0_lifecycle[0][4]/1000)\\\n",
    "#                                             /(3600*24)))"
   ]
  },
  {
   "cell_type": "markdown",
   "metadata": {},
   "source": [
    "We can take a look at the same metric for a user that stayed with the service:"
   ]
  },
  {
   "cell_type": "code",
   "execution_count": null,
   "metadata": {
    "scrolled": false
   },
   "outputs": [],
   "source": [
    "# First userID staying\n",
    "# user_stay_0_lifecycle = user_log_valid.select([\"userId\", \"firstname\", \"page\", \"level\", \"ts\"]).\\\n",
    "#     where(user_log_valid.userId == users_staying[0][0]).collect()\n",
    "\n",
    "# # How much time did he/she spend with the service:\n",
    "# print('Example of a user staying with the service:')\n",
    "# print('Date when joining: ', datetime.fromtimestamp(user_stay_0_lifecycle[0][4]/1000))\n",
    "# print('Last date recorded: ', datetime.fromtimestamp(user_stay_0_lifecycle[-1][4]/1000))\n",
    "      \n",
    "# # Quantify that time in days...\n",
    "# print('Interval in days: ', '{:.3f}'.format((user_stay_0_lifecycle[-1][4]/1000 - user_stay_0_lifecycle[0][4]/1000)\\\n",
    "#                                             /(3600*24)))"
   ]
  },
  {
   "cell_type": "markdown",
   "metadata": {},
   "source": [
    "**Time spent/numer of songs**"
   ]
  },
  {
   "cell_type": "code",
   "execution_count": 15,
   "metadata": {
    "scrolled": false
   },
   "outputs": [],
   "source": [
    "# Select a subset of the dataframe with the users that left\n",
    "users_cancelled_list = [us_c[0] for us_c in users_cancelled]\n",
    "user_log_cancelled = user_log_valid.filter(user_log_valid.userId.isin(users_cancelled_list))"
   ]
  },
  {
   "cell_type": "code",
   "execution_count": 16,
   "metadata": {
    "scrolled": false
   },
   "outputs": [],
   "source": [
    "# Select a subset of the dataframe with the users that stayed\n",
    "users_staying_list = [us_s[0] for us_s in users_staying]\n",
    "user_log_staying = user_log_valid.filter(user_log_valid.userId.isin(users_staying_list))"
   ]
  },
  {
   "cell_type": "code",
   "execution_count": 17,
   "metadata": {
    "scrolled": false
   },
   "outputs": [
    {
     "data": {
      "text/plain": [
       "(44864, 278154)"
      ]
     },
     "execution_count": 17,
     "metadata": {},
     "output_type": "execute_result"
    }
   ],
   "source": [
    "# Check dta frames sizes\n",
    "user_log_cancelled.count(), user_log_staying.count()"
   ]
  },
  {
   "cell_type": "code",
   "execution_count": 18,
   "metadata": {
    "scrolled": false
   },
   "outputs": [],
   "source": [
    "# Select, for every user that cancelled, the number of songs and the time span they spent with the service\n",
    "song_time_canc = user_log_cancelled.\\\n",
    "                filter(user_log_cancelled[\"song\"] != \"\").\\\n",
    "                groupBy(\"userId\").\\\n",
    "                agg(min(\"ts\"), max(\"ts\"), countDistinct(\"song\")).\\\n",
    "                collect()"
   ]
  },
  {
   "cell_type": "code",
   "execution_count": 19,
   "metadata": {
    "scrolled": false
   },
   "outputs": [],
   "source": [
    "# Get the time difference\n",
    "delta_time_cancelled = [(song_time[2]/1000 - song_time[1]/1000)/(3600*24) for song_time in song_time_canc]\n",
    "# Get the number of songs listened per day day (on average)\n",
    "num_songs_cancelled = [song_time[3]/((song_time[2]/1000 - song_time[1]/1000)/(3600*24)) for song_time in song_time_canc]"
   ]
  },
  {
   "cell_type": "code",
   "execution_count": 20,
   "metadata": {
    "scrolled": false
   },
   "outputs": [],
   "source": [
    "# Select, for every user that stays, the number of songs and the time span they spent with the service\n",
    "song_time_stay = user_log_staying.\\\n",
    "                filter(user_log_staying[\"song\"] != \"\").\\\n",
    "                groupBy(\"userId\").\\\n",
    "                agg(min(\"ts\"), max(\"ts\"), countDistinct(\"song\")).\\\n",
    "                collect()"
   ]
  },
  {
   "cell_type": "code",
   "execution_count": 21,
   "metadata": {
    "scrolled": false
   },
   "outputs": [],
   "source": [
    "# Get the time difference\n",
    "delta_time_staying = [(song_time[2]/1000 - song_time[1]/1000)/(3600*24) for song_time in song_time_stay]\n",
    "# Get the number of songs listened per day day (on average)\n",
    "num_songs_staying = [song_time[3]/((song_time[2]/1000 - song_time[1]/1000)/(3600*24)) for song_time in song_time_stay]"
   ]
  },
  {
   "cell_type": "code",
   "execution_count": 23,
   "metadata": {
    "scrolled": false
   },
   "outputs": [
    {
     "data": {
      "image/png": "[encoded data removed]",
      "text/plain": [
       "<Figure size 1080x504 with 2 Axes>"
      ]
     },
     "metadata": {
      "needs_background": "light"
     },
     "output_type": "display_data"
    }
   ],
   "source": [
    "# Plot histogram for time\n",
    "fig, (ax1, ax2) = plt.subplots(1, 2)\n",
    "\n",
    "fig.suptitle('Distribution of time spent by users ', fontsize=12, fontweight='bold')\n",
    "fig.set_figheight(7) \n",
    "fig.set_figwidth(15)\n",
    "\n",
    "ax1.hist(delta_time_cancelled, bins=50)\n",
    "ax1.set_xlabel('# of days spent with the service', fontsize=11)\n",
    "ax1.set_ylabel('# of users', fontsize=11)\n",
    "ax1.set_title('Cancelling Users', fontsize=11,fontweight='bold')\n",
    "\n",
    "ax2.hist(delta_time_staying, bins=50)\n",
    "ax2.set_xlabel('# of days spent with the service', fontsize=11)\n",
    "ax2.set_ylabel('# of users', fontsize=11)\n",
    "ax2.set_title('Staying Users', fontsize=11,fontweight='bold');"
   ]
  },
  {
   "cell_type": "code",
   "execution_count": 24,
   "metadata": {
    "scrolled": false
   },
   "outputs": [
    {
     "name": "stdout",
     "output_type": "stream",
     "text": [
      "Statistics for time spent with the service for users that cancelled:\n",
      "+-------+------------------+\n",
      "|summary|             value|\n",
      "+-------+------------------+\n",
      "|  count|                52|\n",
      "|   mean|23.311283854087097|\n",
      "| stddev|16.811958428031076|\n",
      "|    min|       0.020393519|\n",
      "|    max|          58.17678|\n",
      "+-------+------------------+\n",
      "\n"
     ]
    }
   ],
   "source": [
    "# Look at the statistics\n",
    "print('Statistics for time spent with the service for users that cancelled:')\n",
    "spark.createDataFrame(delta_time_cancelled, FloatType()).describe().show()"
   ]
  },
  {
   "cell_type": "code",
   "execution_count": 25,
   "metadata": {
    "scrolled": false
   },
   "outputs": [
    {
     "name": "stdout",
     "output_type": "stream",
     "text": [
      "Statistics for time spent with the service for users that stayed:\n",
      "+-------+------------------+\n",
      "|summary|             value|\n",
      "+-------+------------------+\n",
      "|  count|               225|\n",
      "|   mean| 41.27362795350452|\n",
      "| stddev|19.127569947419758|\n",
      "|    min|       0.004837963|\n",
      "|    max|         60.997337|\n",
      "+-------+------------------+\n",
      "\n"
     ]
    }
   ],
   "source": [
    "# Look at the statistics\n",
    "print('Statistics for time spent with the service for users that stayed:')\n",
    "spark.createDataFrame(delta_time_staying, FloatType()).describe().show()"
   ]
  },
  {
   "cell_type": "code",
   "execution_count": 27,
   "metadata": {
    "scrolled": false
   },
   "outputs": [
    {
     "data": {
      "image/png": "[encoded data removed]",
      "text/plain": [
       "<Figure size 1080x504 with 2 Axes>"
      ]
     },
     "metadata": {
      "needs_background": "light"
     },
     "output_type": "display_data"
    }
   ],
   "source": [
    "# Plot histogram for songs\n",
    "fig, (ax1, ax2) = plt.subplots(1, 2)\n",
    "\n",
    "fig.suptitle('Distribution of songs listened/day by users', fontsize=12, fontweight='bold')\n",
    "fig.set_figheight(7) \n",
    "fig.set_figwidth(15)\n",
    "\n",
    "ax1.hist(num_songs_cancelled, bins=50)\n",
    "ax1.set_xlabel('# of songs/day', fontsize=11)\n",
    "ax1.set_ylabel('# of users', fontsize=11)\n",
    "ax1.set_title('Cancelling Users', fontsize=11,fontweight='bold')\n",
    "\n",
    "ax2.hist(num_songs_staying, bins=50)\n",
    "ax2.set_xlabel('# of songs/day', fontsize=11)\n",
    "ax2.set_ylabel('# of users', fontsize=11)\n",
    "ax2.set_title('Staying Users', fontsize=11,fontweight='bold');"
   ]
  },
  {
   "cell_type": "code",
   "execution_count": 28,
   "metadata": {
    "scrolled": false
   },
   "outputs": [
    {
     "name": "stdout",
     "output_type": "stream",
     "text": [
      "Statistics for songs/day for users that cancelled:\n",
      "+-------+------------------+\n",
      "|summary|             value|\n",
      "+-------+------------------+\n",
      "|  count|                52|\n",
      "|   mean| 72.82569125523933|\n",
      "| stddev|114.11595391972978|\n",
      "|    min|         3.9875815|\n",
      "|    max|          401.4296|\n",
      "+-------+------------------+\n",
      "\n"
     ]
    }
   ],
   "source": [
    "# Look at the statistics\n",
    "print('Statistics for songs/day for users that cancelled:')\n",
    "spark.createDataFrame(num_songs_cancelled, FloatType()).describe().show()"
   ]
  },
  {
   "cell_type": "code",
   "execution_count": 29,
   "metadata": {
    "scrolled": false
   },
   "outputs": [
    {
     "name": "stdout",
     "output_type": "stream",
     "text": [
      "Statistics for songs/day for users that stay:\n",
      "+-------+------------------+\n",
      "|summary|             value|\n",
      "+-------+------------------+\n",
      "|  count|               225|\n",
      "|   mean|45.927462125354346|\n",
      "| stddev| 92.03630452378215|\n",
      "|    min|        0.65271604|\n",
      "|    max|          620.0957|\n",
      "+-------+------------------+\n",
      "\n"
     ]
    }
   ],
   "source": [
    "# Look at the statistics\n",
    "print('Statistics for songs/day for users that stay:')\n",
    "spark.createDataFrame(num_songs_staying, FloatType()).describe().show()"
   ]
  },
  {
   "cell_type": "markdown",
   "metadata": {},
   "source": [
    "We can check the quantiles for the num of songs/day"
   ]
  },
  {
   "cell_type": "code",
   "execution_count": 30,
   "metadata": {
    "scrolled": false
   },
   "outputs": [
    {
     "data": {
      "text/plain": [
       "[3.987581491470337, 14.047821044921875, 401.4295959472656]"
      ]
     },
     "execution_count": 30,
     "metadata": {},
     "output_type": "execute_result"
    }
   ],
   "source": [
    "spark.createDataFrame(num_songs_cancelled, FloatType()).approxQuantile(\"value\", [0.25, 0.5, 0.75], 0.25)"
   ]
  },
  {
   "cell_type": "code",
   "execution_count": 31,
   "metadata": {
    "scrolled": false
   },
   "outputs": [
    {
     "data": {
      "text/plain": [
       "[0.6527160406112671, 14.75526237487793, 620.095703125]"
      ]
     },
     "execution_count": 31,
     "metadata": {},
     "output_type": "execute_result"
    }
   ],
   "source": [
    "spark.createDataFrame(num_songs_staying, FloatType()).approxQuantile(\"value\", [0.25, 0.5, 0.75], 0.25)"
   ]
  },
  {
   "cell_type": "markdown",
   "metadata": {},
   "source": [
    "**Roll advert/Add friend**"
   ]
  },
  {
   "cell_type": "markdown",
   "metadata": {},
   "source": [
    "Other maybe useful pages are thoe marked as `Roll Advert` or `Add Friend`"
   ]
  },
  {
   "cell_type": "code",
   "execution_count": 32,
   "metadata": {
    "scrolled": false
   },
   "outputs": [],
   "source": [
    "# Defining a roll_adv variable based on the Roll Advert page\n",
    "roll_adv = udf(lambda x: 1 if x == \"Roll Advert\" else 0, IntegerType())  \n",
    "\n",
    "user_log_cancelled = user_log_cancelled.withColumn(\"roll_adv\", roll_adv(\"page\"))\n",
    "user_log_staying = user_log_staying.withColumn(\"roll_adv\", roll_adv(\"page\"))"
   ]
  },
  {
   "cell_type": "code",
   "execution_count": 33,
   "metadata": {
    "scrolled": false
   },
   "outputs": [],
   "source": [
    "# Defining an add_friend variable based on the Add Friend page\n",
    "add_friend = udf(lambda x: 1 if x == \"Add Friend\" else 0, IntegerType())  \n",
    "\n",
    "user_log_cancelled = user_log_cancelled.withColumn(\"add_friend\", add_friend(\"page\"))\n",
    "user_log_staying = user_log_staying.withColumn(\"add_friend\", add_friend(\"page\"))"
   ]
  },
  {
   "cell_type": "code",
   "execution_count": 34,
   "metadata": {
    "scrolled": false
   },
   "outputs": [
    {
     "data": {
      "text/plain": [
       "Row(artist='Modjo', auth='Logged In', firstName='Alexi', gender='F', itemInSession=0, lastName='Warren', length=250.93179, level='paid', location='Spokane-Spokane Valley, WA', method='PUT', page='NextSong', registration=1532482662000, sessionId=53, song='What I Mean', status=200, ts=1538353930000, userAgent='Mozilla/5.0 (Windows NT 6.1; WOW64; rv:32.0) Gecko/20100101 Firefox/32.0', userId='54', churn=0, roll_adv=0, add_friend=0)"
      ]
     },
     "execution_count": 34,
     "metadata": {},
     "output_type": "execute_result"
    }
   ],
   "source": [
    "user_log_cancelled.head()"
   ]
  },
  {
   "cell_type": "code",
   "execution_count": 35,
   "metadata": {
    "scrolled": false
   },
   "outputs": [
    {
     "data": {
      "text/plain": [
       "Row(artist='Martha Tilston', auth='Logged In', firstName='Colin', gender='M', itemInSession=50, lastName='Freeman', length=277.89016, level='paid', location='Bakersfield, CA', method='PUT', page='NextSong', registration=1538173362000, sessionId=29, song='Rockpools', status=200, ts=1538352117000, userAgent='Mozilla/5.0 (Windows NT 6.1; WOW64; rv:31.0) Gecko/20100101 Firefox/31.0', userId='30', churn=0, roll_adv=0, add_friend=0)"
      ]
     },
     "execution_count": 35,
     "metadata": {},
     "output_type": "execute_result"
    }
   ],
   "source": [
    "user_log_staying.head()"
   ]
  },
  {
   "cell_type": "markdown",
   "metadata": {},
   "source": [
    "Added friend event:"
   ]
  },
  {
   "cell_type": "code",
   "execution_count": 36,
   "metadata": {
    "scrolled": false
   },
   "outputs": [],
   "source": [
    "added_friend_canc = user_log_cancelled.\\\n",
    "                groupBy(\"userId\").\\\n",
    "                agg(min(\"ts\"), max(\"ts\"), Ssum(\"add_friend\")).collect()"
   ]
  },
  {
   "cell_type": "code",
   "execution_count": 37,
   "metadata": {
    "scrolled": false
   },
   "outputs": [],
   "source": [
    "added_friend_event_canc = [added_friend[3]/((added_friend[2]/1000 - added_friend[1]/1000)/(3600*24))\\\n",
    "                           for added_friend in added_friend_canc]"
   ]
  },
  {
   "cell_type": "code",
   "execution_count": 38,
   "metadata": {
    "scrolled": false
   },
   "outputs": [],
   "source": [
    "added_friend_stay = user_log_staying.\\\n",
    "                groupBy(\"userId\").\\\n",
    "                agg(min(\"ts\"), max(\"ts\"), Ssum(\"add_friend\")).collect()"
   ]
  },
  {
   "cell_type": "code",
   "execution_count": 40,
   "metadata": {
    "scrolled": false
   },
   "outputs": [],
   "source": [
    "added_friend_event_stay = [added_friend[3]/((added_friend[2]/1000 - added_friend[1]/1000)/(3600*24))\\\n",
    "                           for added_friend in added_friend_stay]"
   ]
  },
  {
   "cell_type": "code",
   "execution_count": 41,
   "metadata": {},
   "outputs": [
    {
     "data": {
      "image/png": "[encoded data removed]",
      "text/plain": [
       "<Figure size 1080x504 with 2 Axes>"
      ]
     },
     "metadata": {
      "needs_background": "light"
     },
     "output_type": "display_data"
    }
   ],
   "source": [
    "# Plot histogram for added friends\n",
    "fig, (ax1, ax2) = plt.subplots(1, 2)\n",
    "\n",
    "fig.suptitle('Distribution of added friends/day by users', fontsize=12, fontweight='bold')\n",
    "fig.set_figheight(7) \n",
    "fig.set_figwidth(15)\n",
    "\n",
    "ax1.hist(added_friend_event_canc, bins=100)\n",
    "ax1.set_xlabel('# of added friends/day', fontsize=11)\n",
    "ax1.set_ylabel('# of users', fontsize=11)\n",
    "ax1.set_title('Cancelling Users', fontsize=11,fontweight='bold')\n",
    "\n",
    "ax2.hist(added_friend_event_stay, bins=100)\n",
    "ax2.set_xlabel('# of added friends/day', fontsize=11)\n",
    "ax2.set_ylabel('# of users', fontsize=11)\n",
    "ax2.set_title('Staying Users', fontsize=11,fontweight='bold');"
   ]
  },
  {
   "cell_type": "code",
   "execution_count": 42,
   "metadata": {
    "scrolled": false
   },
   "outputs": [
    {
     "name": "stdout",
     "output_type": "stream",
     "text": [
      "Statistics for added friend/day for users that cancelled:\n",
      "+-------+------------------+\n",
      "|summary|             value|\n",
      "+-------+------------------+\n",
      "|  count|                52|\n",
      "|   mean|1.9894198149872513|\n",
      "| stddev| 8.610375595583342|\n",
      "|    min|               0.0|\n",
      "|    max|         61.648235|\n",
      "+-------+------------------+\n",
      "\n"
     ]
    }
   ],
   "source": [
    "# Look at the statistics\n",
    "print('Statistics for added friend/day for users that cancelled:')\n",
    "spark.createDataFrame(added_friend_event_canc, FloatType()).describe().show()"
   ]
  },
  {
   "cell_type": "code",
   "execution_count": 43,
   "metadata": {
    "scrolled": false
   },
   "outputs": [
    {
     "name": "stdout",
     "output_type": "stream",
     "text": [
      "Statistics for added friend/day for users that stay:\n",
      "+-------+------------------+\n",
      "|summary|             value|\n",
      "+-------+------------------+\n",
      "|  count|               225|\n",
      "|   mean|0.9585381639252106|\n",
      "| stddev| 4.344325798874727|\n",
      "|    min|               0.0|\n",
      "|    max|         61.648235|\n",
      "+-------+------------------+\n",
      "\n"
     ]
    }
   ],
   "source": [
    "# Look at the statistics\n",
    "print('Statistics for added friend/day for users that stay:')\n",
    "spark.createDataFrame(added_friend_event_stay, FloatType()).describe().show()"
   ]
  },
  {
   "cell_type": "markdown",
   "metadata": {},
   "source": [
    "Rolled advert event:"
   ]
  },
  {
   "cell_type": "code",
   "execution_count": 44,
   "metadata": {
    "scrolled": false
   },
   "outputs": [],
   "source": [
    "rolled_advert_canc = user_log_cancelled.\\\n",
    "                groupBy(\"userId\").\\\n",
    "                agg(min(\"ts\"), max(\"ts\"), Ssum(\"roll_adv\")).collect()"
   ]
  },
  {
   "cell_type": "code",
   "execution_count": 45,
   "metadata": {
    "scrolled": false
   },
   "outputs": [],
   "source": [
    "rolled_advert_event_canc = [rolled_adv[3]/((rolled_adv[2]/1000 - rolled_adv[1]/1000)/(3600*24))\\\n",
    "                            for rolled_adv in rolled_advert_canc]"
   ]
  },
  {
   "cell_type": "code",
   "execution_count": 46,
   "metadata": {
    "scrolled": false
   },
   "outputs": [],
   "source": [
    "rolled_advert_stay = user_log_staying.\\\n",
    "                groupBy(\"userId\").\\\n",
    "                agg(min(\"ts\"), max(\"ts\"), Ssum(\"roll_adv\")).collect()"
   ]
  },
  {
   "cell_type": "code",
   "execution_count": 50,
   "metadata": {
    "scrolled": false
   },
   "outputs": [],
   "source": [
    "rolled_advert_event_stay = [rolled_adv[3]/((rolled_adv[2]/1000 - rolled_adv[1]/1000)/(3600*24)) \\\n",
    "                            for rolled_adv in rolled_advert_stay]"
   ]
  },
  {
   "cell_type": "code",
   "execution_count": 52,
   "metadata": {},
   "outputs": [
    {
     "data": {
      "image/png": "[encoded data removed]",
      "text/plain": [
       "<Figure size 1080x504 with 2 Axes>"
      ]
     },
     "metadata": {
      "needs_background": "light"
     },
     "output_type": "display_data"
    }
   ],
   "source": [
    "# Plot histogram for rolled advert\n",
    "fig, (ax1, ax2) = plt.subplots(1, 2)\n",
    "\n",
    "fig.suptitle('Distribution of rolled advert event', fontsize=12, fontweight='bold')\n",
    "fig.set_figheight(7) \n",
    "fig.set_figwidth(15)\n",
    "\n",
    "ax1.hist(rolled_advert_event_canc, bins=100)\n",
    "ax1.set_xlabel('# of rolled adverts/day', fontsize=11)\n",
    "ax1.set_ylabel('# of users', fontsize=11)\n",
    "ax1.set_title('Cancelling Users', fontsize=11,fontweight='bold')\n",
    "\n",
    "ax2.hist(rolled_advert_event_stay, bins=100)\n",
    "ax2.set_xlabel('# of rolled adverts/day', fontsize=11)\n",
    "ax2.set_ylabel('# of users', fontsize=11)\n",
    "ax2.set_title('Staying Users', fontsize=11,fontweight='bold');"
   ]
  },
  {
   "cell_type": "code",
   "execution_count": 53,
   "metadata": {
    "scrolled": false
   },
   "outputs": [
    {
     "name": "stdout",
     "output_type": "stream",
     "text": [
      "Statistics for rolled advert/day for users that cancelled:\n",
      "+-------+-----------------+\n",
      "|summary|            value|\n",
      "+-------+-----------------+\n",
      "|  count|               52|\n",
      "|   mean|7.135766555841726|\n",
      "| stddev|19.36559533092526|\n",
      "|    min|              0.0|\n",
      "|    max|        101.17096|\n",
      "+-------+-----------------+\n",
      "\n"
     ]
    }
   ],
   "source": [
    "# Look at the statistics\n",
    "print('Statistics for rolled advert/day for users that cancelled:')\n",
    "spark.createDataFrame(rolled_advert_event_canc, FloatType()).describe().show()"
   ]
  },
  {
   "cell_type": "code",
   "execution_count": 54,
   "metadata": {
    "scrolled": false
   },
   "outputs": [
    {
     "name": "stdout",
     "output_type": "stream",
     "text": [
      "Statistics for rolled advert/day for users that stay:\n",
      "+-------+------------------+\n",
      "|summary|             value|\n",
      "+-------+------------------+\n",
      "|  count|               225|\n",
      "|   mean|3.2695160126272174|\n",
      "| stddev|17.004836496580893|\n",
      "|    min|               0.0|\n",
      "|    max|         205.71428|\n",
      "+-------+------------------+\n",
      "\n"
     ]
    }
   ],
   "source": [
    "# Look at the statistics\n",
    "print('Statistics for rolled advert/day for users that stay:')\n",
    "spark.createDataFrame(rolled_advert_event_stay, FloatType()).describe().show()"
   ]
  },
  {
   "cell_type": "markdown",
   "metadata": {},
   "source": [
    "**Downgrade plan**"
   ]
  },
  {
   "cell_type": "code",
   "execution_count": 55,
   "metadata": {},
   "outputs": [],
   "source": [
    "# Defining a sub_dwg variable based on the Submit Downgrade page\n",
    "sub_dwg = udf(lambda x: 1 if x == \"Submit Downgrade\" else 0, IntegerType())  \n",
    "\n",
    "user_log_cancelled = user_log_cancelled.withColumn(\"sub_dwg\", sub_dwg(\"page\"))\n",
    "user_log_staying = user_log_staying.withColumn(\"sub_dwg\", sub_dwg(\"page\"))"
   ]
  },
  {
   "cell_type": "code",
   "execution_count": 56,
   "metadata": {},
   "outputs": [
    {
     "data": {
      "text/plain": [
       "Row(artist='Modjo', auth='Logged In', firstName='Alexi', gender='F', itemInSession=0, lastName='Warren', length=250.93179, level='paid', location='Spokane-Spokane Valley, WA', method='PUT', page='NextSong', registration=1532482662000, sessionId=53, song='What I Mean', status=200, ts=1538353930000, userAgent='Mozilla/5.0 (Windows NT 6.1; WOW64; rv:32.0) Gecko/20100101 Firefox/32.0', userId='54', churn=0, roll_adv=0, add_friend=0, sub_dwg=0)"
      ]
     },
     "execution_count": 56,
     "metadata": {},
     "output_type": "execute_result"
    }
   ],
   "source": [
    "user_log_cancelled.head()"
   ]
  },
  {
   "cell_type": "code",
   "execution_count": 57,
   "metadata": {},
   "outputs": [
    {
     "data": {
      "text/plain": [
       "Row(artist='Martha Tilston', auth='Logged In', firstName='Colin', gender='M', itemInSession=50, lastName='Freeman', length=277.89016, level='paid', location='Bakersfield, CA', method='PUT', page='NextSong', registration=1538173362000, sessionId=29, song='Rockpools', status=200, ts=1538352117000, userAgent='Mozilla/5.0 (Windows NT 6.1; WOW64; rv:31.0) Gecko/20100101 Firefox/31.0', userId='30', churn=0, roll_adv=0, add_friend=0, sub_dwg=0)"
      ]
     },
     "execution_count": 57,
     "metadata": {},
     "output_type": "execute_result"
    }
   ],
   "source": [
    "user_log_staying.head()"
   ]
  },
  {
   "cell_type": "code",
   "execution_count": 73,
   "metadata": {
    "scrolled": false
   },
   "outputs": [],
   "source": [
    "downgrade_canc = user_log_cancelled.groupBy(\"sub_dwg\").agg(Ssum(\"sub_dwg\")).collect()"
   ]
  },
  {
   "cell_type": "code",
   "execution_count": 81,
   "metadata": {},
   "outputs": [],
   "source": [
    "downgrade_canc_perc = (downgrade_canc[0][0]/len(users_cancelled))*100"
   ]
  },
  {
   "cell_type": "code",
   "execution_count": 82,
   "metadata": {},
   "outputs": [],
   "source": [
    "downgrade_stay = user_log_staying.groupBy(\"sub_dwg\").agg(Ssum(\"sub_dwg\")).collect()"
   ]
  },
  {
   "cell_type": "code",
   "execution_count": 83,
   "metadata": {},
   "outputs": [],
   "source": [
    "downgrade_stay_perc = (downgrade_stay[0][0]/len(users_staying))*100"
   ]
  },
  {
   "cell_type": "code",
   "execution_count": 84,
   "metadata": {},
   "outputs": [
    {
     "data": {
      "text/plain": [
       "(17.307692307692307, 0.4444444444444444)"
      ]
     },
     "execution_count": 84,
     "metadata": {},
     "output_type": "execute_result"
    }
   ],
   "source": [
    "downgrade_canc_perc, downgrade_stay_perc"
   ]
  },
  {
   "cell_type": "code",
   "execution_count": null,
   "metadata": {},
   "outputs": [],
   "source": []
  },
  {
   "cell_type": "code",
   "execution_count": 45,
   "metadata": {
    "scrolled": false
   },
   "outputs": [],
   "source": [
    "downgrade_event_canc = [downgrade_[1] for downgrade_ in rolled_advert_canc]"
   ]
  },
  {
   "cell_type": "code",
   "execution_count": 46,
   "metadata": {
    "scrolled": false
   },
   "outputs": [],
   "source": [
    "rolled_advert_stay = user_log_staying.\\\n",
    "                groupBy(\"userId\").\\\n",
    "                agg(min(\"ts\"), max(\"ts\"), Ssum(\"roll_adv\")).collect()"
   ]
  },
  {
   "cell_type": "code",
   "execution_count": 50,
   "metadata": {
    "scrolled": false
   },
   "outputs": [],
   "source": [
    "rolled_advert_event_stay = [rolled_adv[3]/((rolled_adv[2]/1000 - rolled_adv[1]/1000)/(3600*24)) \\\n",
    "                            for rolled_adv in rolled_advert_stay]"
   ]
  },
  {
   "cell_type": "code",
   "execution_count": null,
   "metadata": {},
   "outputs": [],
   "source": []
  },
  {
   "cell_type": "code",
   "execution_count": null,
   "metadata": {},
   "outputs": [],
   "source": []
  },
  {
   "cell_type": "code",
   "execution_count": null,
   "metadata": {},
   "outputs": [],
   "source": []
  },
  {
   "cell_type": "code",
   "execution_count": null,
   "metadata": {
    "scrolled": false
   },
   "outputs": [],
   "source": [
    "# window = Window.partitionBy(\"userId\").rangeBetween(Window.unboundedPreceding, Window.unboundedFollowing)\n",
    "# user_log_valid_2 = user_log_valid.withColumn(\"Schurn\", Ssum(\"churn\").over(window))"
   ]
  },
  {
   "cell_type": "code",
   "execution_count": null,
   "metadata": {
    "scrolled": false
   },
   "outputs": [],
   "source": [
    "# user_log_valid_2.head()"
   ]
  },
  {
   "cell_type": "code",
   "execution_count": null,
   "metadata": {
    "scrolled": false
   },
   "outputs": [],
   "source": [
    "# user_log_valid_2.tail(5)"
   ]
  },
  {
   "cell_type": "code",
   "execution_count": null,
   "metadata": {
    "scrolled": false
   },
   "outputs": [],
   "source": []
  },
  {
   "cell_type": "markdown",
   "metadata": {},
   "source": [
    "# Feature Engineering\n",
    "Once you've familiarized yourself with the data, build out the features you find promising to train your model on. To work with the full dataset, you can follow the following steps.\n",
    "- Write a script to extract the necessary features from the smaller subset of data\n",
    "- Ensure that your script is scalable, using the best practices discussed in Lesson 3\n",
    "- Try your script on the full data set, debugging your script if necessary\n",
    "\n",
    "If you are working in the classroom workspace, you can just extract features based on the small subset of data contained here. Be sure to transfer over this work to the larger dataset when you work on your Spark cluster."
   ]
  },
  {
   "cell_type": "code",
   "execution_count": null,
   "metadata": {
    "scrolled": false
   },
   "outputs": [],
   "source": []
  },
  {
   "cell_type": "markdown",
   "metadata": {},
   "source": [
    "# Modeling\n",
    "Split the full dataset into train, test, and validation sets. Test out several of the machine learning methods you learned. Evaluate the accuracy of the various models, tuning parameters as necessary. Determine your winning model based on test accuracy and report results on the validation set. Since the churned users are a fairly small subset, I suggest using F1 score as the metric to optimize."
   ]
  },
  {
   "cell_type": "code",
   "execution_count": null,
   "metadata": {
    "scrolled": false
   },
   "outputs": [],
   "source": []
  },
  {
   "cell_type": "markdown",
   "metadata": {},
   "source": [
    "# Final Steps\n",
    "Clean up your code, adding comments and renaming variables to make the code easier to read and maintain. Refer to the Spark Project Overview page and Data Scientist Capstone Project Rubric to make sure you are including all components of the capstone project and meet all expectations. Remember, this includes thorough documentation in a README file in a Github repository, as well as a web app or blog post."
   ]
  },
  {
   "cell_type": "code",
   "execution_count": null,
   "metadata": {
    "scrolled": false
   },
   "outputs": [],
   "source": []
  }
 ],
 "metadata": {
  "kernelspec": {
   "display_name": "Python 3",
   "language": "python",
   "name": "python3"
  },
  "language_info": {
   "codemirror_mode": {
    "name": "ipython",
    "version": 3
   },
   "file_extension": ".py",
   "mimetype": "text/x-python",
   "name": "python",
   "nbconvert_exporter": "python",
   "pygments_lexer": "ipython3",
   "version": "3.6.2"
  }
 },
 "nbformat": 4,
 "nbformat_minor": 2
}
